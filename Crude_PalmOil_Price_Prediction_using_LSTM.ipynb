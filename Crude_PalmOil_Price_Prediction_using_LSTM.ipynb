{
  "nbformat": 4,
  "nbformat_minor": 0,
  "metadata": {
    "colab": {
      "name": "Crude PalmOil Price Prediction using LSTM",
      "provenance": []
    },
    "kernelspec": {
      "name": "python3",
      "display_name": "Python 3"
    },
    "language_info": {
      "name": "python"
    }
  },
  "cells": [
    {
      "cell_type": "markdown",
      "metadata": {
        "id": "iWwNhi1OVu1A"
      },
      "source": [
        "### Objective\n",
        "The objective of this python notebook is to use LSTM to predict monthly crude palm oil prices.\n",
        "\n"
      ]
    },
    {
      "cell_type": "markdown",
      "metadata": {
        "id": "CNQWlNb6WL8U"
      },
      "source": [
        "#### Data\n",
        "The dataset is available at the following links:https://www.indexmundi.com/commodities/?commodity=palm-oil&months=300."
      ]
    },
    {
      "cell_type": "markdown",
      "metadata": {
        "id": "2GQVxw0SWoNy"
      },
      "source": [
        "#### Mount Google Drive to Google Colab Notebook"
      ]
    },
    {
      "cell_type": "code",
      "metadata": {
        "colab": {
          "base_uri": "https://localhost:8080/"
        },
        "id": "f3AoYU4GVWgZ",
        "outputId": "0782d7ea-9e06-49d1-94b2-9ae3a674fa7b"
      },
      "source": [
        "from google.colab import drive\n",
        "drive.mount('/content/gdrive')"
      ],
      "execution_count": 1,
      "outputs": [
        {
          "output_type": "stream",
          "name": "stdout",
          "text": [
            "Mounted at /content/gdrive\n"
          ]
        }
      ]
    },
    {
      "cell_type": "markdown",
      "metadata": {
        "id": "81PSdWfNYigs"
      },
      "source": [
        "#### Use pip to install required packages: sklearn"
      ]
    },
    {
      "cell_type": "code",
      "metadata": {
        "colab": {
          "base_uri": "https://localhost:8080/"
        },
        "id": "MAH35QSf6eQW",
        "outputId": "1fbfbd91-ddf2-4888-d111-e409db4fb6ad"
      },
      "source": [
        "!pip install sklearn"
      ],
      "execution_count": 2,
      "outputs": [
        {
          "output_type": "stream",
          "name": "stdout",
          "text": [
            "Requirement already satisfied: sklearn in /usr/local/lib/python3.7/dist-packages (0.0)\n",
            "Requirement already satisfied: scikit-learn in /usr/local/lib/python3.7/dist-packages (from sklearn) (0.22.2.post1)\n",
            "Requirement already satisfied: scipy>=0.17.0 in /usr/local/lib/python3.7/dist-packages (from scikit-learn->sklearn) (1.4.1)\n",
            "Requirement already satisfied: joblib>=0.11 in /usr/local/lib/python3.7/dist-packages (from scikit-learn->sklearn) (1.0.1)\n",
            "Requirement already satisfied: numpy>=1.11.0 in /usr/local/lib/python3.7/dist-packages (from scikit-learn->sklearn) (1.19.5)\n"
          ]
        }
      ]
    },
    {
      "cell_type": "markdown",
      "metadata": {
        "id": "9mTKzynC2-XY"
      },
      "source": [
        "#### Import the required libraries"
      ]
    },
    {
      "cell_type": "code",
      "metadata": {
        "id": "h9FkOpFvjjrE"
      },
      "source": [
        "import numpy as np\n",
        "import pandas as pd \n",
        "import matplotlib.pyplot as plt\n",
        "from pandas import read_csv\n",
        "import math\n",
        "from keras.models import Sequential\n",
        "from keras.layers import Dense\n",
        "from keras.layers import LSTM\n",
        "from sklearn.preprocessing import MinMaxScaler\n",
        "from sklearn.metrics import mean_squared_error\n",
        "from sklearn.model_selection import train_test_split"
      ],
      "execution_count": 170,
      "outputs": []
    },
    {
      "cell_type": "markdown",
      "metadata": {
        "id": "Zq3I0tZg48xK"
      },
      "source": [
        "#### Load the dataset using the following code:"
      ]
    },
    {
      "cell_type": "code",
      "metadata": {
        "id": "DFUBsSnKjjvB"
      },
      "source": [
        "data = pd.read_csv(\"/content/gdrive/MyDrive/Univariate Crude Palm Oil Price Prediction/Data/crude_palmoil_price.csv\")"
      ],
      "execution_count": 214,
      "outputs": []
    },
    {
      "cell_type": "code",
      "metadata": {
        "colab": {
          "base_uri": "https://localhost:8080/",
          "height": 204
        },
        "id": "_eNC2n9m2Dlo",
        "outputId": "062c6e91-5b74-4b56-c049-ad4786de474d"
      },
      "source": [
        "data.head()"
      ],
      "execution_count": 149,
      "outputs": [
        {
          "output_type": "execute_result",
          "data": {
            "text/html": [
              "<div>\n",
              "<style scoped>\n",
              "    .dataframe tbody tr th:only-of-type {\n",
              "        vertical-align: middle;\n",
              "    }\n",
              "\n",
              "    .dataframe tbody tr th {\n",
              "        vertical-align: top;\n",
              "    }\n",
              "\n",
              "    .dataframe thead th {\n",
              "        text-align: right;\n",
              "    }\n",
              "</style>\n",
              "<table border=\"1\" class=\"dataframe\">\n",
              "  <thead>\n",
              "    <tr style=\"text-align: right;\">\n",
              "      <th></th>\n",
              "      <th>Month</th>\n",
              "      <th>cpo_pri</th>\n",
              "    </tr>\n",
              "  </thead>\n",
              "  <tbody>\n",
              "    <tr>\n",
              "      <th>0</th>\n",
              "      <td>1990-05</td>\n",
              "      <td>281</td>\n",
              "    </tr>\n",
              "    <tr>\n",
              "      <th>1</th>\n",
              "      <td>1990-06</td>\n",
              "      <td>272</td>\n",
              "    </tr>\n",
              "    <tr>\n",
              "      <th>2</th>\n",
              "      <td>1990-07</td>\n",
              "      <td>279</td>\n",
              "    </tr>\n",
              "    <tr>\n",
              "      <th>3</th>\n",
              "      <td>1990-08</td>\n",
              "      <td>291</td>\n",
              "    </tr>\n",
              "    <tr>\n",
              "      <th>4</th>\n",
              "      <td>1990-09</td>\n",
              "      <td>284</td>\n",
              "    </tr>\n",
              "  </tbody>\n",
              "</table>\n",
              "</div>"
            ],
            "text/plain": [
              "     Month  cpo_pri\n",
              "0  1990-05      281\n",
              "1  1990-06      272\n",
              "2  1990-07      279\n",
              "3  1990-08      291\n",
              "4  1990-09      284"
            ]
          },
          "metadata": {},
          "execution_count": 149
        }
      ]
    },
    {
      "cell_type": "markdown",
      "metadata": {
        "id": "44jW3Mj5uR9E"
      },
      "source": [
        "#### Pull out the time-series"
      ]
    },
    {
      "cell_type": "code",
      "metadata": {
        "id": "WZ6PS2dyuo-r"
      },
      "source": [
        "data_ts = data['cpo_pri']"
      ],
      "execution_count": 215,
      "outputs": []
    },
    {
      "cell_type": "markdown",
      "metadata": {
        "id": "1u4kXeiTzVzs"
      },
      "source": [
        "#### Plot the crude palm oil data\n"
      ]
    },
    {
      "cell_type": "code",
      "metadata": {
        "colab": {
          "base_uri": "https://localhost:8080/",
          "height": 295
        },
        "id": "IRWR_dActfpC",
        "outputId": "5110f1b1-1b88-4b29-b178-0d9e0bbb9be8"
      },
      "source": [
        "data = data.iloc[:,1].values\n",
        "plt.plot(data)\n",
        "plt.xlabel('time')\n",
        "plt.ylabel('monthly price of crude oil')\n",
        "plt.title('monthly price of crude oil to production')\n",
        "plt.show()"
      ],
      "execution_count": 216,
      "outputs": [
        {
          "output_type": "display_data",
          "data": {
            "image/png": "[encoded data removed]",
            "text/plain": [
              "<Figure size 432x288 with 1 Axes>"
            ]
          },
          "metadata": {
            "needs_background": "light"
          }
        }
      ]
    },
    {
      "cell_type": "markdown",
      "metadata": {
        "id": "GyJVf0rfuVZp"
      },
      "source": [
        "#### Data preprocessing"
      ]
    },
    {
      "cell_type": "code",
      "metadata": {
        "colab": {
          "base_uri": "https://localhost:8080/"
        },
        "id": "BejFqYKHv5Xg",
        "outputId": "bac22181-7b5d-4653-a78b-287f94c87633"
      },
      "source": [
        "data = data.reshape(-1,1)\n",
        "data = data.astype('float32')\n",
        "data.shape"
      ],
      "execution_count": 217,
      "outputs": [
        {
          "output_type": "execute_result",
          "data": {
            "text/plain": [
              "(360, 1)"
            ]
          },
          "metadata": {},
          "execution_count": 217
        }
      ]
    },
    {
      "cell_type": "markdown",
      "metadata": {
        "id": "B4ObbVtG7Nd9"
      },
      "source": [
        "#### Normalize the dataset"
      ]
    },
    {
      "cell_type": "code",
      "metadata": {
        "id": "OoJ-kOLl7Y0U"
      },
      "source": [
        "scaler = MinMaxScaler(feature_range=(0,1))\n",
        "data = scaler.fit_transform(data)"
      ],
      "execution_count": 218,
      "outputs": []
    },
    {
      "cell_type": "markdown",
      "metadata": {
        "id": "2bwCFhj8SzI9"
      },
      "source": [
        "#### Split the dataset into test and train sets."
      ]
    },
    {
      "cell_type": "code",
      "metadata": {
        "colab": {
          "base_uri": "https://localhost:8080/"
        },
        "id": "CKpyKrHa7qjy",
        "outputId": "c1e2f69a-33d5-4beb-be85-e8572620f993"
      },
      "source": [
        "train_size = int(len(data)*0.67)\n",
        "test_size = len(data) - train_size\n",
        "train = data[0:train_size,:]\n",
        "test = data[train_size:len(data),:]\n",
        "print('train_size : {}, test_size : {}'.format(len(train),len(test)))"
      ],
      "execution_count": 219,
      "outputs": [
        {
          "output_type": "stream",
          "name": "stdout",
          "text": [
            "train_size : 241, test_size : 119\n"
          ]
        }
      ]
    },
    {
      "cell_type": "markdown",
      "metadata": {
        "id": "Bi8KR1uE8sxa"
      },
      "source": [
        "#### Set the number of past timesteps that are needed to learn or predict the next timestep:\n"
      ]
    },
    {
      "cell_type": "code",
      "metadata": {
        "id": "H4arnAQj9mZm"
      },
      "source": [
        "timestamp=10\n",
        "dataX = []\n",
        "dataY = []\n",
        "for i in range(len(train)-timestamp-1):\n",
        "    a = train[i:(i+timestamp),0]\n",
        "    dataX.append(a)\n",
        "    dataY.append(train[i+timestamp,0])\n",
        "trainX = np.array(dataX)\n",
        "trainY = np.array(dataY)"
      ],
      "execution_count": 220,
      "outputs": []
    },
    {
      "cell_type": "code",
      "metadata": {
        "id": "5lt1NsTe-HaG"
      },
      "source": [
        "timestep=10\n",
        "dataX = []\n",
        "dataY = []\n",
        "for i in range(len(test)-timestamp-1):\n",
        "    a = test[i:(i+timestamp),0]\n",
        "    dataX.append(a)\n",
        "    dataY.append(test[i+timestamp,0])\n",
        "testX = np.array(dataX)\n",
        "testY = np.array(dataY)"
      ],
      "execution_count": 221,
      "outputs": []
    },
    {
      "cell_type": "code",
      "metadata": {
        "id": "bk-HCYgCILkT"
      },
      "source": [
        "trainX = np.reshape(trainX,(trainX.shape[0],1,trainX.shape[1]))\n",
        "testX = np.reshape(testX,(testX.shape[0],1,testX.shape[1]))"
      ],
      "execution_count": 222,
      "outputs": []
    },
    {
      "cell_type": "markdown",
      "metadata": {
        "id": "OVpj_k-6-Z48"
      },
      "source": [
        "#### Build, compile and train the LSTM model:"
      ]
    },
    {
      "cell_type": "code",
      "metadata": {
        "colab": {
          "base_uri": "https://localhost:8080/"
        },
        "id": "G5f2TxQV-eBQ",
        "outputId": "690f3a1f-b062-4cc2-d381-67ac130e9520"
      },
      "source": [
        "from tensorflow import keras\n",
        "model = Sequential()\n",
        "model.add(LSTM(10, input_shape=(1, timestamp)))\n",
        "model.add(Dense(1))\n",
        "model.compile(loss='mean_squared_error', optimizer='adam')\n",
        "model.fit(trainX, trainY, epochs=50, batch_size=1)"
      ],
      "execution_count": 223,
      "outputs": [
        {
          "output_type": "stream",
          "name": "stdout",
          "text": [
            "Epoch 1/50\n",
            "230/230 [==============================] - 2s 2ms/step - loss: 0.0208\n",
            "Epoch 2/50\n",
            "230/230 [==============================] - 0s 1ms/step - loss: 0.0095\n",
            "Epoch 3/50\n",
            "230/230 [==============================] - 0s 1ms/step - loss: 0.0075\n",
            "Epoch 4/50\n",
            "230/230 [==============================] - 0s 1ms/step - loss: 0.0059\n",
            "Epoch 5/50\n",
            "230/230 [==============================] - 0s 1ms/step - loss: 0.0047\n",
            "Epoch 6/50\n",
            "230/230 [==============================] - 0s 1ms/step - loss: 0.0041\n",
            "Epoch 7/50\n",
            "230/230 [==============================] - 0s 1ms/step - loss: 0.0034\n",
            "Epoch 8/50\n",
            "230/230 [==============================] - 0s 1ms/step - loss: 0.0029\n",
            "Epoch 9/50\n",
            "230/230 [==============================] - 0s 2ms/step - loss: 0.0028\n",
            "Epoch 10/50\n",
            "230/230 [==============================] - 0s 1ms/step - loss: 0.0026\n",
            "Epoch 11/50\n",
            "230/230 [==============================] - 0s 2ms/step - loss: 0.0022\n",
            "Epoch 12/50\n",
            "230/230 [==============================] - 0s 1ms/step - loss: 0.0021\n",
            "Epoch 13/50\n",
            "230/230 [==============================] - 0s 2ms/step - loss: 0.0020\n",
            "Epoch 14/50\n",
            "230/230 [==============================] - 0s 1ms/step - loss: 0.0021\n",
            "Epoch 15/50\n",
            "230/230 [==============================] - 0s 1ms/step - loss: 0.0020\n",
            "Epoch 16/50\n",
            "230/230 [==============================] - 0s 1ms/step - loss: 0.0019\n",
            "Epoch 17/50\n",
            "230/230 [==============================] - 0s 2ms/step - loss: 0.0020\n",
            "Epoch 18/50\n",
            "230/230 [==============================] - 0s 2ms/step - loss: 0.0019\n",
            "Epoch 19/50\n",
            "230/230 [==============================] - 0s 1ms/step - loss: 0.0018\n",
            "Epoch 20/50\n",
            "230/230 [==============================] - 0s 1ms/step - loss: 0.0018\n",
            "Epoch 21/50\n",
            "230/230 [==============================] - 0s 2ms/step - loss: 0.0017\n",
            "Epoch 22/50\n",
            "230/230 [==============================] - 0s 1ms/step - loss: 0.0018\n",
            "Epoch 23/50\n",
            "230/230 [==============================] - 0s 1ms/step - loss: 0.0019\n",
            "Epoch 24/50\n",
            "230/230 [==============================] - 0s 2ms/step - loss: 0.0018\n",
            "Epoch 25/50\n",
            "230/230 [==============================] - 0s 1ms/step - loss: 0.0017\n",
            "Epoch 26/50\n",
            "230/230 [==============================] - 0s 1ms/step - loss: 0.0016\n",
            "Epoch 27/50\n",
            "230/230 [==============================] - 0s 2ms/step - loss: 0.0016\n",
            "Epoch 28/50\n",
            "230/230 [==============================] - 0s 1ms/step - loss: 0.0015\n",
            "Epoch 29/50\n",
            "230/230 [==============================] - 0s 2ms/step - loss: 0.0016\n",
            "Epoch 30/50\n",
            "230/230 [==============================] - 0s 1ms/step - loss: 0.0016\n",
            "Epoch 31/50\n",
            "230/230 [==============================] - 0s 1ms/step - loss: 0.0016\n",
            "Epoch 32/50\n",
            "230/230 [==============================] - 0s 1ms/step - loss: 0.0015\n",
            "Epoch 33/50\n",
            "230/230 [==============================] - 0s 1ms/step - loss: 0.0015\n",
            "Epoch 34/50\n",
            "230/230 [==============================] - 0s 1ms/step - loss: 0.0015\n",
            "Epoch 35/50\n",
            "230/230 [==============================] - 0s 1ms/step - loss: 0.0015\n",
            "Epoch 36/50\n",
            "230/230 [==============================] - 0s 2ms/step - loss: 0.0014\n",
            "Epoch 37/50\n",
            "230/230 [==============================] - 0s 2ms/step - loss: 0.0017\n",
            "Epoch 38/50\n",
            "230/230 [==============================] - 0s 1ms/step - loss: 0.0016\n",
            "Epoch 39/50\n",
            "230/230 [==============================] - 0s 2ms/step - loss: 0.0015\n",
            "Epoch 40/50\n",
            "230/230 [==============================] - 0s 1ms/step - loss: 0.0015\n",
            "Epoch 41/50\n",
            "230/230 [==============================] - 0s 1ms/step - loss: 0.0015\n",
            "Epoch 42/50\n",
            "230/230 [==============================] - 0s 1ms/step - loss: 0.0015\n",
            "Epoch 43/50\n",
            "230/230 [==============================] - 0s 1ms/step - loss: 0.0013\n",
            "Epoch 44/50\n",
            "230/230 [==============================] - 0s 1ms/step - loss: 0.0014\n",
            "Epoch 45/50\n",
            "230/230 [==============================] - 0s 2ms/step - loss: 0.0013\n",
            "Epoch 46/50\n",
            "230/230 [==============================] - 0s 1ms/step - loss: 0.0015\n",
            "Epoch 47/50\n",
            "230/230 [==============================] - 0s 2ms/step - loss: 0.0015\n",
            "Epoch 48/50\n",
            "230/230 [==============================] - 0s 1ms/step - loss: 0.0015\n",
            "Epoch 49/50\n",
            "230/230 [==============================] - 0s 1ms/step - loss: 0.0014\n",
            "Epoch 50/50\n",
            "230/230 [==============================] - 0s 1ms/step - loss: 0.0015\n"
          ]
        },
        {
          "output_type": "execute_result",
          "data": {
            "text/plain": [
              "<keras.callbacks.History at 0x7fa56b2c6d10>"
            ]
          },
          "metadata": {},
          "execution_count": 223
        }
      ]
    },
    {
      "cell_type": "markdown",
      "metadata": {
        "id": "wDKnJqkg_obU"
      },
      "source": [
        "#### Evaluate the model and print the Mean Square Error (MSE) and the Root Mean Square Error (RMSE):"
      ]
    },
    {
      "cell_type": "code",
      "metadata": {
        "colab": {
          "base_uri": "https://localhost:8080/"
        },
        "id": "QjNwGjbB-mfm",
        "outputId": "8a994461-d5e1-4e61-ff82-0f0678b4c4ff"
      },
      "source": [
        "trainPredict = model.predict(trainX)\n",
        "testPredict = model.predict(testX)\n",
        "\n",
        "trainPredict = scaler.inverse_transform(trainPredict)\n",
        "trainY = scaler.inverse_transform([trainY])\n",
        "testPredict = scaler.inverse_transform(testPredict)\n",
        "testY = scaler.inverse_transform([testY])\n",
        "\n",
        "trainScore = math.sqrt(mean_squared_error(trainY[0], trainPredict[:,0]))\n",
        "print('Train Score: %.2f RMSE' % (trainScore))\n",
        "testScore = math.sqrt(mean_squared_error(testY[0], testPredict[:,0]))\n",
        "print('Test Score: %.2f RMSE' % (testScore))"
      ],
      "execution_count": 224,
      "outputs": [
        {
          "output_type": "stream",
          "name": "stdout",
          "text": [
            "Train Score: 36.04 RMSE\n",
            "Test Score: 52.47 RMSE\n"
          ]
        }
      ]
    },
    {
      "cell_type": "markdown",
      "metadata": {
        "id": "YIRgZjvr_bQY"
      },
      "source": [
        "#### Predict the values using the LSTM model and plot them, both for test and train datasets:"
      ]
    },
    {
      "cell_type": "code",
      "metadata": {
        "colab": {
          "base_uri": "https://localhost:8080/",
          "height": 483
        },
        "id": "ovlQosW6-r1m",
        "outputId": "0e8f4430-5d6e-4222-dc1e-9298c11bef64"
      },
      "source": [
        "trainPredictPlot = np.empty_like(data)\n",
        "trainPredictPlot[:, :] = np.nan\n",
        "trainPredictPlot[timestamp:len(trainPredict)+timestamp, :] = trainPredict\n",
        "\n",
        "testPredictPlot = np.empty_like(data)\n",
        "testPredictPlot[:, :] = np.nan\n",
        "testPredictPlot[len(trainPredict)+(timestamp*2)+1:len(data)-1, :] = testPredict\n",
        "\n",
        "plt.figure(figsize=(12, 8))\n",
        "plt.plot(scaler.inverse_transform(data))\n",
        "plt.plot(trainPredictPlot)\n",
        "plt.plot(testPredictPlot)\n",
        "plt.show()"
      ],
      "execution_count": 225,
      "outputs": [
        {
          "output_type": "display_data",
          "data": {
            "image/png": "[encoded data removed]",
            "text/plain": [
              "<Figure size 864x576 with 1 Axes>"
            ]
          },
          "metadata": {
            "needs_background": "light"
          }
        }
      ]
    }
  ]
}