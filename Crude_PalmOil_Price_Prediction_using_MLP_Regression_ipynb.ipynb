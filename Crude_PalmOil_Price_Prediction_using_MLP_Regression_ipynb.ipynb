{
  "nbformat": 4,
  "nbformat_minor": 0,
  "metadata": {
    "colab": {
      "provenance": [],
      "authorship_tag": "ABX9TyN3z+njPjc8RwM6jefQCOXB",
      "include_colab_link": true
    },
    "kernelspec": {
      "name": "python3",
      "display_name": "Python 3"
    },
    "language_info": {
      "name": "python"
    }
  },
  "cells": [
    {
      "cell_type": "markdown",
      "metadata": {
        "id": "view-in-github",
        "colab_type": "text"
      },
      "source": [
        "<a href=\"https://colab.research.google.com/github/mofuoku417/Univariate_Crude_Palm_Oil_Price_Prediction/blob/main/Crude_PalmOil_Price_Prediction_using_MLP_Regression_ipynb.ipynb\" target=\"_parent\"><img src=\"https://colab.research.google.com/assets/colab-badge.svg\" alt=\"Open In Colab\"/></a>"
      ]
    },
    {
      "cell_type": "markdown",
      "source": [
        "\n",
        "> **Predict Monthly Crude Palm Oil Price  with   Deep Learning (Multi-layer Perception Univariate Time series)**\n",
        "\n",
        "\n",
        "> Project Objective:\n",
        "\n",
        "> Design and Build an MLP in tensorflow to predict Monthly Crude Palm Oil Price\n",
        "\n",
        "\n",
        "  * Data range: 1993 - 2022\n",
        "\n",
        "  The dataset is a CSV format with:\n",
        "\n",
        "  1. Monthly timestamp\n",
        "  2. Monthly Crude Palm Oil Prices\n",
        "\n",
        "'''\n",
        "\n",
        "\n",
        "1. Project Overview and Import Libraries\n",
        "2. Load and Inspect Monthly Crude Oil Price History\n",
        "1. Data Preprocessing\n",
        "2. Build the MLP model\n",
        "1. Train the MLP\n",
        "2. Plot Metrics and Evaluate the Model\n",
        "2. Monthly Crude Palm Oil Prices\n",
        "2. Visualize the predictions\n",
        "\n",
        "'''"
      ],
      "metadata": {
        "id": "0zxfRiW7u7fU"
      }
    },
    {
      "cell_type": "markdown",
      "source": [
        "###Load the Required Libraries"
      ],
      "metadata": {
        "id": "1U0x9s_Qkzym"
      }
    },
    {
      "cell_type": "code",
      "execution_count": 42,
      "metadata": {
        "id": "v-ZYvdYfYyXU",
        "outputId": "9a2e85c6-cce4-440f-9ac9-ae6d257df6ed",
        "colab": {
          "base_uri": "https://localhost:8080/"
        }
      },
      "outputs": [
        {
          "output_type": "stream",
          "name": "stdout",
          "text": [
            "Looking in indexes: https://pypi.org/simple, https://us-python.pkg.dev/colab-wheels/public/simple/\n",
            "Requirement already satisfied: scikeras in /usr/local/lib/python3.10/dist-packages (0.11.0)\n",
            "Requirement already satisfied: packaging>=0.21 in /usr/local/lib/python3.10/dist-packages (from scikeras) (23.1)\n",
            "Requirement already satisfied: scikit-learn>=1.0.0 in /usr/local/lib/python3.10/dist-packages (from scikeras) (1.2.2)\n",
            "Requirement already satisfied: numpy>=1.17.3 in /usr/local/lib/python3.10/dist-packages (from scikit-learn>=1.0.0->scikeras) (1.22.4)\n",
            "Requirement already satisfied: scipy>=1.3.2 in /usr/local/lib/python3.10/dist-packages (from scikit-learn>=1.0.0->scikeras) (1.10.1)\n",
            "Requirement already satisfied: joblib>=1.1.1 in /usr/local/lib/python3.10/dist-packages (from scikit-learn>=1.0.0->scikeras) (1.2.0)\n",
            "Requirement already satisfied: threadpoolctl>=2.0.0 in /usr/local/lib/python3.10/dist-packages (from scikit-learn>=1.0.0->scikeras) (3.1.0)\n"
          ]
        }
      ],
      "source": [
        "!pip install scikeras\n",
        "import math\n",
        "import numpy as np # Python's fundamental package for scientific computing\n",
        "import pandas as pd # For data analysis and manipulation\n",
        "from datetime import date, timedelta # Date Operations\n",
        "import matplotlib.pyplot as plt # To aid in visualizing\n",
        "%matplotlib inline\n",
        "import seaborn as sns\n",
        "import matplotlib.dates as mdates # Date formatting\n",
        "from sklearn.metrics import mean_absolute_error, mean_squared_error # To assess model performance error computation\n",
        "from sklearn.preprocessing import MinMaxScaler # to standardize the crude palm oil price data\n",
        "from tensorflow.keras.models import Sequential # Deep learning library, that is used in neural networks\n",
        "#from tensorflow.keras.layers import LSTM, Dense # Deep learning classes for densely linked recurrent and regular layers\n",
        "import tensorflow as tf\n",
        "from keras.layers import Dropout\n",
        "from keras.wrappers.scikit_learn import KerasRegressor\n",
        "from scikeras.wrappers import KerasRegressor\n",
        "from sklearn.neural_network import MLPRegressor\n",
        "from tensorflow.keras.constraints import MaxNorm\n",
        "from sklearn.model_selection import RandomizedSearchCV, GridSearchCV, train_test_split\n",
        "from sklearn.metrics import mean_squared_log_error\n",
        "from tensorflow.keras import Sequential\n",
        "from tensorflow.keras.layers import Dense\n",
        "from keras.layers import Activation, Dense\n",
        "from sklearn.metrics import r2_score\n",
        "from sklearn.metrics import mean_squared_error\n",
        "from pandas import read_csv\n",
        "import seaborn as sns\n",
        "sns.set_style('white', { 'axes.spines.right': False, 'axes.spines.top': False})\n",
        "import random\n",
        "random.seed(1) #Making this script reproducible"
      ]
    },
    {
      "cell_type": "code",
      "source": [
        "# Establishing a timetable for data extraction\n",
        "today = date.today()\n",
        "end_date = today.strftime(\"%Y-%m\")\n",
        "start_date = '1993-03'\n",
        "\n",
        "featurename = 'Price'\n",
        "\n",
        "#Load dataset\n",
        "path = 'https://raw.githubusercontent.com/mofuoku417/Univariate_Crude_Palm_Oil_Price_Prediction/main/Data/data.csv'\n",
        "df = read_csv(path, parse_dates=True)"
      ],
      "metadata": {
        "id": "D3xS2kEJ1qAO"
      },
      "execution_count": 2,
      "outputs": []
    },
    {
      "cell_type": "code",
      "source": [
        "# Examining the dataset's structure\n",
        "print(df.shape)\n",
        "df.head(5)"
      ],
      "metadata": {
        "colab": {
          "base_uri": "https://localhost:8080/",
          "height": 221
        },
        "id": "JA1ABCqN91N7",
        "outputId": "6bd790bb-15a4-4c77-d732-28c1f4311e00"
      },
      "execution_count": 3,
      "outputs": [
        {
          "output_type": "stream",
          "name": "stdout",
          "text": [
            "(361, 3)\n"
          ]
        },
        {
          "output_type": "execute_result",
          "data": {
            "text/plain": [
              "     Month Price  Change\n",
              "0  1993-03   408       -\n",
              "1  1993-04   392  -3.92%\n",
              "2  1993-05   371  -5.36%\n",
              "3  1993-06   356  -4.04%\n",
              "4  1993-07   362   1.69%"
            ],
            "text/html": [
              "\n",
              "  <div id=\"df-4e74d50a-e899-4140-8e3c-4aceb31a0c71\">\n",
              "    <div class=\"colab-df-container\">\n",
              "      <div>\n",
              "<style scoped>\n",
              "    .dataframe tbody tr th:only-of-type {\n",
              "        vertical-align: middle;\n",
              "    }\n",
              "\n",
              "    .dataframe tbody tr th {\n",
              "        vertical-align: top;\n",
              "    }\n",
              "\n",
              "    .dataframe thead th {\n",
              "        text-align: right;\n",
              "    }\n",
              "</style>\n",
              "<table border=\"1\" class=\"dataframe\">\n",
              "  <thead>\n",
              "    <tr style=\"text-align: right;\">\n",
              "      <th></th>\n",
              "      <th>Month</th>\n",
              "      <th>Price</th>\n",
              "      <th>Change</th>\n",
              "    </tr>\n",
              "  </thead>\n",
              "  <tbody>\n",
              "    <tr>\n",
              "      <th>0</th>\n",
              "      <td>1993-03</td>\n",
              "      <td>408</td>\n",
              "      <td>-</td>\n",
              "    </tr>\n",
              "    <tr>\n",
              "      <th>1</th>\n",
              "      <td>1993-04</td>\n",
              "      <td>392</td>\n",
              "      <td>-3.92%</td>\n",
              "    </tr>\n",
              "    <tr>\n",
              "      <th>2</th>\n",
              "      <td>1993-05</td>\n",
              "      <td>371</td>\n",
              "      <td>-5.36%</td>\n",
              "    </tr>\n",
              "    <tr>\n",
              "      <th>3</th>\n",
              "      <td>1993-06</td>\n",
              "      <td>356</td>\n",
              "      <td>-4.04%</td>\n",
              "    </tr>\n",
              "    <tr>\n",
              "      <th>4</th>\n",
              "      <td>1993-07</td>\n",
              "      <td>362</td>\n",
              "      <td>1.69%</td>\n",
              "    </tr>\n",
              "  </tbody>\n",
              "</table>\n",
              "</div>\n",
              "      <button class=\"colab-df-convert\" onclick=\"convertToInteractive('df-4e74d50a-e899-4140-8e3c-4aceb31a0c71')\"\n",
              "              title=\"Convert this dataframe to an interactive table.\"\n",
              "              style=\"display:none;\">\n",
              "        \n",
              "  <svg xmlns=\"http://www.w3.org/2000/svg\" height=\"24px\"viewBox=\"0 0 24 24\"\n",
              "       width=\"24px\">\n",
              "    <path d=\"M0 0h24v24H0V0z\" fill=\"none\"/>\n",
              "    <path d=\"M18.56 5.44l.94 2.06.94-2.06 2.06-.94-2.06-.94-.94-2.06-.94 2.06-2.06.94zm-11 1L8.5 8.5l.94-2.06 2.06-.94-2.06-.94L8.5 2.5l-.94 2.06-2.06.94zm10 10l.94 2.06.94-2.06 2.06-.94-2.06-.94-.94-2.06-.94 2.06-2.06.94z\"/><path d=\"M17.41 7.96l-1.37-1.37c-.4-.4-.92-.59-1.43-.59-.52 0-1.04.2-1.43.59L10.3 9.45l-7.72 7.72c-.78.78-.78 2.05 0 2.83L4 21.41c.39.39.9.59 1.41.59.51 0 1.02-.2 1.41-.59l7.78-7.78 2.81-2.81c.8-.78.8-2.07 0-2.86zM5.41 20L4 18.59l7.72-7.72 1.47 1.35L5.41 20z\"/>\n",
              "  </svg>\n",
              "      </button>\n",
              "      \n",
              "  <style>\n",
              "    .colab-df-container {\n",
              "      display:flex;\n",
              "      flex-wrap:wrap;\n",
              "      gap: 12px;\n",
              "    }\n",
              "\n",
              "    .colab-df-convert {\n",
              "      background-color: #E8F0FE;\n",
              "      border: none;\n",
              "      border-radius: 50%;\n",
              "      cursor: pointer;\n",
              "      display: none;\n",
              "      fill: #1967D2;\n",
              "      height: 32px;\n",
              "      padding: 0 0 0 0;\n",
              "      width: 32px;\n",
              "    }\n",
              "\n",
              "    .colab-df-convert:hover {\n",
              "      background-color: #E2EBFA;\n",
              "      box-shadow: 0px 1px 2px rgba(60, 64, 67, 0.3), 0px 1px 3px 1px rgba(60, 64, 67, 0.15);\n",
              "      fill: #174EA6;\n",
              "    }\n",
              "\n",
              "    [theme=dark] .colab-df-convert {\n",
              "      background-color: #3B4455;\n",
              "      fill: #D2E3FC;\n",
              "    }\n",
              "\n",
              "    [theme=dark] .colab-df-convert:hover {\n",
              "      background-color: #434B5C;\n",
              "      box-shadow: 0px 1px 3px 1px rgba(0, 0, 0, 0.15);\n",
              "      filter: drop-shadow(0px 1px 2px rgba(0, 0, 0, 0.3));\n",
              "      fill: #FFFFFF;\n",
              "    }\n",
              "  </style>\n",
              "\n",
              "      <script>\n",
              "        const buttonEl =\n",
              "          document.querySelector('#df-4e74d50a-e899-4140-8e3c-4aceb31a0c71 button.colab-df-convert');\n",
              "        buttonEl.style.display =\n",
              "          google.colab.kernel.accessAllowed ? 'block' : 'none';\n",
              "\n",
              "        async function convertToInteractive(key) {\n",
              "          const element = document.querySelector('#df-4e74d50a-e899-4140-8e3c-4aceb31a0c71');\n",
              "          const dataTable =\n",
              "            await google.colab.kernel.invokeFunction('convertToInteractive',\n",
              "                                                     [key], {});\n",
              "          if (!dataTable) return;\n",
              "\n",
              "          const docLinkHtml = 'Like what you see? Visit the ' +\n",
              "            '<a target=\"_blank\" href=https://colab.research.google.com/notebooks/data_table.ipynb>data table notebook</a>'\n",
              "            + ' to learn more about interactive tables.';\n",
              "          element.innerHTML = '';\n",
              "          dataTable['output_type'] = 'display_data';\n",
              "          await google.colab.output.renderOutput(dataTable, element);\n",
              "          const docLink = document.createElement('div');\n",
              "          docLink.innerHTML = docLinkHtml;\n",
              "          element.appendChild(docLink);\n",
              "        }\n",
              "      </script>\n",
              "    </div>\n",
              "  </div>\n",
              "  "
            ]
          },
          "metadata": {},
          "execution_count": 3
        }
      ]
    },
    {
      "cell_type": "code",
      "source": [
        "#Removing the change since it is not needed\n",
        "del df['Change']\n",
        "df.head(5)"
      ],
      "metadata": {
        "colab": {
          "base_uri": "https://localhost:8080/",
          "height": 204
        },
        "id": "p77mbj8L97i8",
        "outputId": "4e4ae2f7-37e8-429e-b8d4-9cbce84be649"
      },
      "execution_count": 4,
      "outputs": [
        {
          "output_type": "execute_result",
          "data": {
            "text/plain": [
              "     Month Price\n",
              "0  1993-03   408\n",
              "1  1993-04   392\n",
              "2  1993-05   371\n",
              "3  1993-06   356\n",
              "4  1993-07   362"
            ],
            "text/html": [
              "\n",
              "  <div id=\"df-18e0ad5f-623b-4545-9b7c-4a3d37d3f367\">\n",
              "    <div class=\"colab-df-container\">\n",
              "      <div>\n",
              "<style scoped>\n",
              "    .dataframe tbody tr th:only-of-type {\n",
              "        vertical-align: middle;\n",
              "    }\n",
              "\n",
              "    .dataframe tbody tr th {\n",
              "        vertical-align: top;\n",
              "    }\n",
              "\n",
              "    .dataframe thead th {\n",
              "        text-align: right;\n",
              "    }\n",
              "</style>\n",
              "<table border=\"1\" class=\"dataframe\">\n",
              "  <thead>\n",
              "    <tr style=\"text-align: right;\">\n",
              "      <th></th>\n",
              "      <th>Month</th>\n",
              "      <th>Price</th>\n",
              "    </tr>\n",
              "  </thead>\n",
              "  <tbody>\n",
              "    <tr>\n",
              "      <th>0</th>\n",
              "      <td>1993-03</td>\n",
              "      <td>408</td>\n",
              "    </tr>\n",
              "    <tr>\n",
              "      <th>1</th>\n",
              "      <td>1993-04</td>\n",
              "      <td>392</td>\n",
              "    </tr>\n",
              "    <tr>\n",
              "      <th>2</th>\n",
              "      <td>1993-05</td>\n",
              "      <td>371</td>\n",
              "    </tr>\n",
              "    <tr>\n",
              "      <th>3</th>\n",
              "      <td>1993-06</td>\n",
              "      <td>356</td>\n",
              "    </tr>\n",
              "    <tr>\n",
              "      <th>4</th>\n",
              "      <td>1993-07</td>\n",
              "      <td>362</td>\n",
              "    </tr>\n",
              "  </tbody>\n",
              "</table>\n",
              "</div>\n",
              "      <button class=\"colab-df-convert\" onclick=\"convertToInteractive('df-18e0ad5f-623b-4545-9b7c-4a3d37d3f367')\"\n",
              "              title=\"Convert this dataframe to an interactive table.\"\n",
              "              style=\"display:none;\">\n",
              "        \n",
              "  <svg xmlns=\"http://www.w3.org/2000/svg\" height=\"24px\"viewBox=\"0 0 24 24\"\n",
              "       width=\"24px\">\n",
              "    <path d=\"M0 0h24v24H0V0z\" fill=\"none\"/>\n",
              "    <path d=\"M18.56 5.44l.94 2.06.94-2.06 2.06-.94-2.06-.94-.94-2.06-.94 2.06-2.06.94zm-11 1L8.5 8.5l.94-2.06 2.06-.94-2.06-.94L8.5 2.5l-.94 2.06-2.06.94zm10 10l.94 2.06.94-2.06 2.06-.94-2.06-.94-.94-2.06-.94 2.06-2.06.94z\"/><path d=\"M17.41 7.96l-1.37-1.37c-.4-.4-.92-.59-1.43-.59-.52 0-1.04.2-1.43.59L10.3 9.45l-7.72 7.72c-.78.78-.78 2.05 0 2.83L4 21.41c.39.39.9.59 1.41.59.51 0 1.02-.2 1.41-.59l7.78-7.78 2.81-2.81c.8-.78.8-2.07 0-2.86zM5.41 20L4 18.59l7.72-7.72 1.47 1.35L5.41 20z\"/>\n",
              "  </svg>\n",
              "      </button>\n",
              "      \n",
              "  <style>\n",
              "    .colab-df-container {\n",
              "      display:flex;\n",
              "      flex-wrap:wrap;\n",
              "      gap: 12px;\n",
              "    }\n",
              "\n",
              "    .colab-df-convert {\n",
              "      background-color: #E8F0FE;\n",
              "      border: none;\n",
              "      border-radius: 50%;\n",
              "      cursor: pointer;\n",
              "      display: none;\n",
              "      fill: #1967D2;\n",
              "      height: 32px;\n",
              "      padding: 0 0 0 0;\n",
              "      width: 32px;\n",
              "    }\n",
              "\n",
              "    .colab-df-convert:hover {\n",
              "      background-color: #E2EBFA;\n",
              "      box-shadow: 0px 1px 2px rgba(60, 64, 67, 0.3), 0px 1px 3px 1px rgba(60, 64, 67, 0.15);\n",
              "      fill: #174EA6;\n",
              "    }\n",
              "\n",
              "    [theme=dark] .colab-df-convert {\n",
              "      background-color: #3B4455;\n",
              "      fill: #D2E3FC;\n",
              "    }\n",
              "\n",
              "    [theme=dark] .colab-df-convert:hover {\n",
              "      background-color: #434B5C;\n",
              "      box-shadow: 0px 1px 3px 1px rgba(0, 0, 0, 0.15);\n",
              "      filter: drop-shadow(0px 1px 2px rgba(0, 0, 0, 0.3));\n",
              "      fill: #FFFFFF;\n",
              "    }\n",
              "  </style>\n",
              "\n",
              "      <script>\n",
              "        const buttonEl =\n",
              "          document.querySelector('#df-18e0ad5f-623b-4545-9b7c-4a3d37d3f367 button.colab-df-convert');\n",
              "        buttonEl.style.display =\n",
              "          google.colab.kernel.accessAllowed ? 'block' : 'none';\n",
              "\n",
              "        async function convertToInteractive(key) {\n",
              "          const element = document.querySelector('#df-18e0ad5f-623b-4545-9b7c-4a3d37d3f367');\n",
              "          const dataTable =\n",
              "            await google.colab.kernel.invokeFunction('convertToInteractive',\n",
              "                                                     [key], {});\n",
              "          if (!dataTable) return;\n",
              "\n",
              "          const docLinkHtml = 'Like what you see? Visit the ' +\n",
              "            '<a target=\"_blank\" href=https://colab.research.google.com/notebooks/data_table.ipynb>data table notebook</a>'\n",
              "            + ' to learn more about interactive tables.';\n",
              "          element.innerHTML = '';\n",
              "          dataTable['output_type'] = 'display_data';\n",
              "          await google.colab.output.renderOutput(dataTable, element);\n",
              "          const docLink = document.createElement('div');\n",
              "          docLink.innerHTML = docLinkHtml;\n",
              "          element.appendChild(docLink);\n",
              "        }\n",
              "      </script>\n",
              "    </div>\n",
              "  </div>\n",
              "  "
            ]
          },
          "metadata": {},
          "execution_count": 4
        }
      ]
    },
    {
      "cell_type": "code",
      "source": [
        "#Checking data types\n",
        "df.dtypes"
      ],
      "metadata": {
        "colab": {
          "base_uri": "https://localhost:8080/"
        },
        "id": "hmaS3MRh-cLP",
        "outputId": "04414c6c-1ebb-4322-f8dd-9a17c125523d"
      },
      "execution_count": 5,
      "outputs": [
        {
          "output_type": "execute_result",
          "data": {
            "text/plain": [
              "Month    object\n",
              "Price    object\n",
              "dtype: object"
            ]
          },
          "metadata": {},
          "execution_count": 5
        }
      ]
    },
    {
      "cell_type": "code",
      "source": [
        "#Renaming Price to cpo_pri (Crude palm oil price)\n",
        "df.rename({'Price': 'cpo_pri', 'Month': 'date'}, axis=1, inplace=True)\n",
        "df"
      ],
      "metadata": {
        "colab": {
          "base_uri": "https://localhost:8080/",
          "height": 419
        },
        "id": "jS4mirru-9Xt",
        "outputId": "56dcc6d7-e7b4-43dc-c87b-f2e6c5802328"
      },
      "execution_count": 6,
      "outputs": [
        {
          "output_type": "execute_result",
          "data": {
            "text/plain": [
              "        date cpo_pri\n",
              "0    1993-03     408\n",
              "1    1993-04     392\n",
              "2    1993-05     371\n",
              "3    1993-06     356\n",
              "4    1993-07     362\n",
              "..       ...     ...\n",
              "356  2022-11  945.74\n",
              "357  2022-12  940.39\n",
              "358  2023-01  941.97\n",
              "359  2023-02  949.98\n",
              "360  2023-03  972.06\n",
              "\n",
              "[361 rows x 2 columns]"
            ],
            "text/html": [
              "\n",
              "  <div id=\"df-9c0d2d00-3a53-40cf-8299-9f1b9f9f778e\">\n",
              "    <div class=\"colab-df-container\">\n",
              "      <div>\n",
              "<style scoped>\n",
              "    .dataframe tbody tr th:only-of-type {\n",
              "        vertical-align: middle;\n",
              "    }\n",
              "\n",
              "    .dataframe tbody tr th {\n",
              "        vertical-align: top;\n",
              "    }\n",
              "\n",
              "    .dataframe thead th {\n",
              "        text-align: right;\n",
              "    }\n",
              "</style>\n",
              "<table border=\"1\" class=\"dataframe\">\n",
              "  <thead>\n",
              "    <tr style=\"text-align: right;\">\n",
              "      <th></th>\n",
              "      <th>date</th>\n",
              "      <th>cpo_pri</th>\n",
              "    </tr>\n",
              "  </thead>\n",
              "  <tbody>\n",
              "    <tr>\n",
              "      <th>0</th>\n",
              "      <td>1993-03</td>\n",
              "      <td>408</td>\n",
              "    </tr>\n",
              "    <tr>\n",
              "      <th>1</th>\n",
              "      <td>1993-04</td>\n",
              "      <td>392</td>\n",
              "    </tr>\n",
              "    <tr>\n",
              "      <th>2</th>\n",
              "      <td>1993-05</td>\n",
              "      <td>371</td>\n",
              "    </tr>\n",
              "    <tr>\n",
              "      <th>3</th>\n",
              "      <td>1993-06</td>\n",
              "      <td>356</td>\n",
              "    </tr>\n",
              "    <tr>\n",
              "      <th>4</th>\n",
              "      <td>1993-07</td>\n",
              "      <td>362</td>\n",
              "    </tr>\n",
              "    <tr>\n",
              "      <th>...</th>\n",
              "      <td>...</td>\n",
              "      <td>...</td>\n",
              "    </tr>\n",
              "    <tr>\n",
              "      <th>356</th>\n",
              "      <td>2022-11</td>\n",
              "      <td>945.74</td>\n",
              "    </tr>\n",
              "    <tr>\n",
              "      <th>357</th>\n",
              "      <td>2022-12</td>\n",
              "      <td>940.39</td>\n",
              "    </tr>\n",
              "    <tr>\n",
              "      <th>358</th>\n",
              "      <td>2023-01</td>\n",
              "      <td>941.97</td>\n",
              "    </tr>\n",
              "    <tr>\n",
              "      <th>359</th>\n",
              "      <td>2023-02</td>\n",
              "      <td>949.98</td>\n",
              "    </tr>\n",
              "    <tr>\n",
              "      <th>360</th>\n",
              "      <td>2023-03</td>\n",
              "      <td>972.06</td>\n",
              "    </tr>\n",
              "  </tbody>\n",
              "</table>\n",
              "<p>361 rows × 2 columns</p>\n",
              "</div>\n",
              "      <button class=\"colab-df-convert\" onclick=\"convertToInteractive('df-9c0d2d00-3a53-40cf-8299-9f1b9f9f778e')\"\n",
              "              title=\"Convert this dataframe to an interactive table.\"\n",
              "              style=\"display:none;\">\n",
              "        \n",
              "  <svg xmlns=\"http://www.w3.org/2000/svg\" height=\"24px\"viewBox=\"0 0 24 24\"\n",
              "       width=\"24px\">\n",
              "    <path d=\"M0 0h24v24H0V0z\" fill=\"none\"/>\n",
              "    <path d=\"M18.56 5.44l.94 2.06.94-2.06 2.06-.94-2.06-.94-.94-2.06-.94 2.06-2.06.94zm-11 1L8.5 8.5l.94-2.06 2.06-.94-2.06-.94L8.5 2.5l-.94 2.06-2.06.94zm10 10l.94 2.06.94-2.06 2.06-.94-2.06-.94-.94-2.06-.94 2.06-2.06.94z\"/><path d=\"M17.41 7.96l-1.37-1.37c-.4-.4-.92-.59-1.43-.59-.52 0-1.04.2-1.43.59L10.3 9.45l-7.72 7.72c-.78.78-.78 2.05 0 2.83L4 21.41c.39.39.9.59 1.41.59.51 0 1.02-.2 1.41-.59l7.78-7.78 2.81-2.81c.8-.78.8-2.07 0-2.86zM5.41 20L4 18.59l7.72-7.72 1.47 1.35L5.41 20z\"/>\n",
              "  </svg>\n",
              "      </button>\n",
              "      \n",
              "  <style>\n",
              "    .colab-df-container {\n",
              "      display:flex;\n",
              "      flex-wrap:wrap;\n",
              "      gap: 12px;\n",
              "    }\n",
              "\n",
              "    .colab-df-convert {\n",
              "      background-color: #E8F0FE;\n",
              "      border: none;\n",
              "      border-radius: 50%;\n",
              "      cursor: pointer;\n",
              "      display: none;\n",
              "      fill: #1967D2;\n",
              "      height: 32px;\n",
              "      padding: 0 0 0 0;\n",
              "      width: 32px;\n",
              "    }\n",
              "\n",
              "    .colab-df-convert:hover {\n",
              "      background-color: #E2EBFA;\n",
              "      box-shadow: 0px 1px 2px rgba(60, 64, 67, 0.3), 0px 1px 3px 1px rgba(60, 64, 67, 0.15);\n",
              "      fill: #174EA6;\n",
              "    }\n",
              "\n",
              "    [theme=dark] .colab-df-convert {\n",
              "      background-color: #3B4455;\n",
              "      fill: #D2E3FC;\n",
              "    }\n",
              "\n",
              "    [theme=dark] .colab-df-convert:hover {\n",
              "      background-color: #434B5C;\n",
              "      box-shadow: 0px 1px 3px 1px rgba(0, 0, 0, 0.15);\n",
              "      filter: drop-shadow(0px 1px 2px rgba(0, 0, 0, 0.3));\n",
              "      fill: #FFFFFF;\n",
              "    }\n",
              "  </style>\n",
              "\n",
              "      <script>\n",
              "        const buttonEl =\n",
              "          document.querySelector('#df-9c0d2d00-3a53-40cf-8299-9f1b9f9f778e button.colab-df-convert');\n",
              "        buttonEl.style.display =\n",
              "          google.colab.kernel.accessAllowed ? 'block' : 'none';\n",
              "\n",
              "        async function convertToInteractive(key) {\n",
              "          const element = document.querySelector('#df-9c0d2d00-3a53-40cf-8299-9f1b9f9f778e');\n",
              "          const dataTable =\n",
              "            await google.colab.kernel.invokeFunction('convertToInteractive',\n",
              "                                                     [key], {});\n",
              "          if (!dataTable) return;\n",
              "\n",
              "          const docLinkHtml = 'Like what you see? Visit the ' +\n",
              "            '<a target=\"_blank\" href=https://colab.research.google.com/notebooks/data_table.ipynb>data table notebook</a>'\n",
              "            + ' to learn more about interactive tables.';\n",
              "          element.innerHTML = '';\n",
              "          dataTable['output_type'] = 'display_data';\n",
              "          await google.colab.output.renderOutput(dataTable, element);\n",
              "          const docLink = document.createElement('div');\n",
              "          docLink.innerHTML = docLinkHtml;\n",
              "          element.appendChild(docLink);\n",
              "        }\n",
              "      </script>\n",
              "    </div>\n",
              "  </div>\n",
              "  "
            ]
          },
          "metadata": {},
          "execution_count": 6
        }
      ]
    },
    {
      "cell_type": "code",
      "source": [
        "# converting column \"Price\" of the DataFrame to numeric\n",
        "#df[\"cpo_pri\"] = pd.to_numeric('cpo_pri', errors='coerce')\n",
        "\n",
        "#df.dtypes"
      ],
      "metadata": {
        "id": "pYroShZ--9cF"
      },
      "execution_count": 7,
      "outputs": []
    },
    {
      "cell_type": "code",
      "source": [
        "df.head(5)"
      ],
      "metadata": {
        "colab": {
          "base_uri": "https://localhost:8080/",
          "height": 204
        },
        "id": "-W3JbCdBCZ3Y",
        "outputId": "edb981c1-2c85-4a82-d138-05cf661f8445"
      },
      "execution_count": 8,
      "outputs": [
        {
          "output_type": "execute_result",
          "data": {
            "text/plain": [
              "      date cpo_pri\n",
              "0  1993-03     408\n",
              "1  1993-04     392\n",
              "2  1993-05     371\n",
              "3  1993-06     356\n",
              "4  1993-07     362"
            ],
            "text/html": [
              "\n",
              "  <div id=\"df-6963cc7e-1e8f-41f6-b9ce-03e9c7e92cbc\">\n",
              "    <div class=\"colab-df-container\">\n",
              "      <div>\n",
              "<style scoped>\n",
              "    .dataframe tbody tr th:only-of-type {\n",
              "        vertical-align: middle;\n",
              "    }\n",
              "\n",
              "    .dataframe tbody tr th {\n",
              "        vertical-align: top;\n",
              "    }\n",
              "\n",
              "    .dataframe thead th {\n",
              "        text-align: right;\n",
              "    }\n",
              "</style>\n",
              "<table border=\"1\" class=\"dataframe\">\n",
              "  <thead>\n",
              "    <tr style=\"text-align: right;\">\n",
              "      <th></th>\n",
              "      <th>date</th>\n",
              "      <th>cpo_pri</th>\n",
              "    </tr>\n",
              "  </thead>\n",
              "  <tbody>\n",
              "    <tr>\n",
              "      <th>0</th>\n",
              "      <td>1993-03</td>\n",
              "      <td>408</td>\n",
              "    </tr>\n",
              "    <tr>\n",
              "      <th>1</th>\n",
              "      <td>1993-04</td>\n",
              "      <td>392</td>\n",
              "    </tr>\n",
              "    <tr>\n",
              "      <th>2</th>\n",
              "      <td>1993-05</td>\n",
              "      <td>371</td>\n",
              "    </tr>\n",
              "    <tr>\n",
              "      <th>3</th>\n",
              "      <td>1993-06</td>\n",
              "      <td>356</td>\n",
              "    </tr>\n",
              "    <tr>\n",
              "      <th>4</th>\n",
              "      <td>1993-07</td>\n",
              "      <td>362</td>\n",
              "    </tr>\n",
              "  </tbody>\n",
              "</table>\n",
              "</div>\n",
              "      <button class=\"colab-df-convert\" onclick=\"convertToInteractive('df-6963cc7e-1e8f-41f6-b9ce-03e9c7e92cbc')\"\n",
              "              title=\"Convert this dataframe to an interactive table.\"\n",
              "              style=\"display:none;\">\n",
              "        \n",
              "  <svg xmlns=\"http://www.w3.org/2000/svg\" height=\"24px\"viewBox=\"0 0 24 24\"\n",
              "       width=\"24px\">\n",
              "    <path d=\"M0 0h24v24H0V0z\" fill=\"none\"/>\n",
              "    <path d=\"M18.56 5.44l.94 2.06.94-2.06 2.06-.94-2.06-.94-.94-2.06-.94 2.06-2.06.94zm-11 1L8.5 8.5l.94-2.06 2.06-.94-2.06-.94L8.5 2.5l-.94 2.06-2.06.94zm10 10l.94 2.06.94-2.06 2.06-.94-2.06-.94-.94-2.06-.94 2.06-2.06.94z\"/><path d=\"M17.41 7.96l-1.37-1.37c-.4-.4-.92-.59-1.43-.59-.52 0-1.04.2-1.43.59L10.3 9.45l-7.72 7.72c-.78.78-.78 2.05 0 2.83L4 21.41c.39.39.9.59 1.41.59.51 0 1.02-.2 1.41-.59l7.78-7.78 2.81-2.81c.8-.78.8-2.07 0-2.86zM5.41 20L4 18.59l7.72-7.72 1.47 1.35L5.41 20z\"/>\n",
              "  </svg>\n",
              "      </button>\n",
              "      \n",
              "  <style>\n",
              "    .colab-df-container {\n",
              "      display:flex;\n",
              "      flex-wrap:wrap;\n",
              "      gap: 12px;\n",
              "    }\n",
              "\n",
              "    .colab-df-convert {\n",
              "      background-color: #E8F0FE;\n",
              "      border: none;\n",
              "      border-radius: 50%;\n",
              "      cursor: pointer;\n",
              "      display: none;\n",
              "      fill: #1967D2;\n",
              "      height: 32px;\n",
              "      padding: 0 0 0 0;\n",
              "      width: 32px;\n",
              "    }\n",
              "\n",
              "    .colab-df-convert:hover {\n",
              "      background-color: #E2EBFA;\n",
              "      box-shadow: 0px 1px 2px rgba(60, 64, 67, 0.3), 0px 1px 3px 1px rgba(60, 64, 67, 0.15);\n",
              "      fill: #174EA6;\n",
              "    }\n",
              "\n",
              "    [theme=dark] .colab-df-convert {\n",
              "      background-color: #3B4455;\n",
              "      fill: #D2E3FC;\n",
              "    }\n",
              "\n",
              "    [theme=dark] .colab-df-convert:hover {\n",
              "      background-color: #434B5C;\n",
              "      box-shadow: 0px 1px 3px 1px rgba(0, 0, 0, 0.15);\n",
              "      filter: drop-shadow(0px 1px 2px rgba(0, 0, 0, 0.3));\n",
              "      fill: #FFFFFF;\n",
              "    }\n",
              "  </style>\n",
              "\n",
              "      <script>\n",
              "        const buttonEl =\n",
              "          document.querySelector('#df-6963cc7e-1e8f-41f6-b9ce-03e9c7e92cbc button.colab-df-convert');\n",
              "        buttonEl.style.display =\n",
              "          google.colab.kernel.accessAllowed ? 'block' : 'none';\n",
              "\n",
              "        async function convertToInteractive(key) {\n",
              "          const element = document.querySelector('#df-6963cc7e-1e8f-41f6-b9ce-03e9c7e92cbc');\n",
              "          const dataTable =\n",
              "            await google.colab.kernel.invokeFunction('convertToInteractive',\n",
              "                                                     [key], {});\n",
              "          if (!dataTable) return;\n",
              "\n",
              "          const docLinkHtml = 'Like what you see? Visit the ' +\n",
              "            '<a target=\"_blank\" href=https://colab.research.google.com/notebooks/data_table.ipynb>data table notebook</a>'\n",
              "            + ' to learn more about interactive tables.';\n",
              "          element.innerHTML = '';\n",
              "          dataTable['output_type'] = 'display_data';\n",
              "          await google.colab.output.renderOutput(dataTable, element);\n",
              "          const docLink = document.createElement('div');\n",
              "          docLink.innerHTML = docLinkHtml;\n",
              "          element.appendChild(docLink);\n",
              "        }\n",
              "      </script>\n",
              "    </div>\n",
              "  </div>\n",
              "  "
            ]
          },
          "metadata": {},
          "execution_count": 8
        }
      ]
    },
    {
      "cell_type": "code",
      "source": [
        "# Converting date column from object to date format\n",
        "df['date'] = pd.to_datetime(df['date'].apply(lambda x: x.split()[0])) # Selecting only date\n",
        "df.set_index('date',drop=True,inplace=True) # Setting date column as index\n",
        "df.head()"
      ],
      "metadata": {
        "colab": {
          "base_uri": "https://localhost:8080/",
          "height": 235
        },
        "id": "h_GMO44reArG",
        "outputId": "d4f35dff-6e51-4ed3-98e6-181759f50bdf"
      },
      "execution_count": 9,
      "outputs": [
        {
          "output_type": "execute_result",
          "data": {
            "text/plain": [
              "           cpo_pri\n",
              "date              \n",
              "1993-03-01     408\n",
              "1993-04-01     392\n",
              "1993-05-01     371\n",
              "1993-06-01     356\n",
              "1993-07-01     362"
            ],
            "text/html": [
              "\n",
              "  <div id=\"df-43bb19ce-886e-4491-b4ca-346389cef912\">\n",
              "    <div class=\"colab-df-container\">\n",
              "      <div>\n",
              "<style scoped>\n",
              "    .dataframe tbody tr th:only-of-type {\n",
              "        vertical-align: middle;\n",
              "    }\n",
              "\n",
              "    .dataframe tbody tr th {\n",
              "        vertical-align: top;\n",
              "    }\n",
              "\n",
              "    .dataframe thead th {\n",
              "        text-align: right;\n",
              "    }\n",
              "</style>\n",
              "<table border=\"1\" class=\"dataframe\">\n",
              "  <thead>\n",
              "    <tr style=\"text-align: right;\">\n",
              "      <th></th>\n",
              "      <th>cpo_pri</th>\n",
              "    </tr>\n",
              "    <tr>\n",
              "      <th>date</th>\n",
              "      <th></th>\n",
              "    </tr>\n",
              "  </thead>\n",
              "  <tbody>\n",
              "    <tr>\n",
              "      <th>1993-03-01</th>\n",
              "      <td>408</td>\n",
              "    </tr>\n",
              "    <tr>\n",
              "      <th>1993-04-01</th>\n",
              "      <td>392</td>\n",
              "    </tr>\n",
              "    <tr>\n",
              "      <th>1993-05-01</th>\n",
              "      <td>371</td>\n",
              "    </tr>\n",
              "    <tr>\n",
              "      <th>1993-06-01</th>\n",
              "      <td>356</td>\n",
              "    </tr>\n",
              "    <tr>\n",
              "      <th>1993-07-01</th>\n",
              "      <td>362</td>\n",
              "    </tr>\n",
              "  </tbody>\n",
              "</table>\n",
              "</div>\n",
              "      <button class=\"colab-df-convert\" onclick=\"convertToInteractive('df-43bb19ce-886e-4491-b4ca-346389cef912')\"\n",
              "              title=\"Convert this dataframe to an interactive table.\"\n",
              "              style=\"display:none;\">\n",
              "        \n",
              "  <svg xmlns=\"http://www.w3.org/2000/svg\" height=\"24px\"viewBox=\"0 0 24 24\"\n",
              "       width=\"24px\">\n",
              "    <path d=\"M0 0h24v24H0V0z\" fill=\"none\"/>\n",
              "    <path d=\"M18.56 5.44l.94 2.06.94-2.06 2.06-.94-2.06-.94-.94-2.06-.94 2.06-2.06.94zm-11 1L8.5 8.5l.94-2.06 2.06-.94-2.06-.94L8.5 2.5l-.94 2.06-2.06.94zm10 10l.94 2.06.94-2.06 2.06-.94-2.06-.94-.94-2.06-.94 2.06-2.06.94z\"/><path d=\"M17.41 7.96l-1.37-1.37c-.4-.4-.92-.59-1.43-.59-.52 0-1.04.2-1.43.59L10.3 9.45l-7.72 7.72c-.78.78-.78 2.05 0 2.83L4 21.41c.39.39.9.59 1.41.59.51 0 1.02-.2 1.41-.59l7.78-7.78 2.81-2.81c.8-.78.8-2.07 0-2.86zM5.41 20L4 18.59l7.72-7.72 1.47 1.35L5.41 20z\"/>\n",
              "  </svg>\n",
              "      </button>\n",
              "      \n",
              "  <style>\n",
              "    .colab-df-container {\n",
              "      display:flex;\n",
              "      flex-wrap:wrap;\n",
              "      gap: 12px;\n",
              "    }\n",
              "\n",
              "    .colab-df-convert {\n",
              "      background-color: #E8F0FE;\n",
              "      border: none;\n",
              "      border-radius: 50%;\n",
              "      cursor: pointer;\n",
              "      display: none;\n",
              "      fill: #1967D2;\n",
              "      height: 32px;\n",
              "      padding: 0 0 0 0;\n",
              "      width: 32px;\n",
              "    }\n",
              "\n",
              "    .colab-df-convert:hover {\n",
              "      background-color: #E2EBFA;\n",
              "      box-shadow: 0px 1px 2px rgba(60, 64, 67, 0.3), 0px 1px 3px 1px rgba(60, 64, 67, 0.15);\n",
              "      fill: #174EA6;\n",
              "    }\n",
              "\n",
              "    [theme=dark] .colab-df-convert {\n",
              "      background-color: #3B4455;\n",
              "      fill: #D2E3FC;\n",
              "    }\n",
              "\n",
              "    [theme=dark] .colab-df-convert:hover {\n",
              "      background-color: #434B5C;\n",
              "      box-shadow: 0px 1px 3px 1px rgba(0, 0, 0, 0.15);\n",
              "      filter: drop-shadow(0px 1px 2px rgba(0, 0, 0, 0.3));\n",
              "      fill: #FFFFFF;\n",
              "    }\n",
              "  </style>\n",
              "\n",
              "      <script>\n",
              "        const buttonEl =\n",
              "          document.querySelector('#df-43bb19ce-886e-4491-b4ca-346389cef912 button.colab-df-convert');\n",
              "        buttonEl.style.display =\n",
              "          google.colab.kernel.accessAllowed ? 'block' : 'none';\n",
              "\n",
              "        async function convertToInteractive(key) {\n",
              "          const element = document.querySelector('#df-43bb19ce-886e-4491-b4ca-346389cef912');\n",
              "          const dataTable =\n",
              "            await google.colab.kernel.invokeFunction('convertToInteractive',\n",
              "                                                     [key], {});\n",
              "          if (!dataTable) return;\n",
              "\n",
              "          const docLinkHtml = 'Like what you see? Visit the ' +\n",
              "            '<a target=\"_blank\" href=https://colab.research.google.com/notebooks/data_table.ipynb>data table notebook</a>'\n",
              "            + ' to learn more about interactive tables.';\n",
              "          element.innerHTML = '';\n",
              "          dataTable['output_type'] = 'display_data';\n",
              "          await google.colab.output.renderOutput(dataTable, element);\n",
              "          const docLink = document.createElement('div');\n",
              "          docLink.innerHTML = docLinkHtml;\n",
              "          element.appendChild(docLink);\n",
              "        }\n",
              "      </script>\n",
              "    </div>\n",
              "  </div>\n",
              "  "
            ]
          },
          "metadata": {},
          "execution_count": 9
        }
      ]
    },
    {
      "cell_type": "code",
      "source": [
        "df['cpo_pri'] = df['cpo_pri'].apply(lambda x: float(x.split()[0].replace(',', '')))\n",
        "print(df.dtypes)"
      ],
      "metadata": {
        "colab": {
          "base_uri": "https://localhost:8080/"
        },
        "id": "ZlYv7Tu_FAPP",
        "outputId": "bf7b2c3b-8838-4839-c3d1-f1d28d693696"
      },
      "execution_count": 10,
      "outputs": [
        {
          "output_type": "stream",
          "name": "stdout",
          "text": [
            "cpo_pri    float64\n",
            "dtype: object\n"
          ]
        }
      ]
    },
    {
      "cell_type": "code",
      "source": [
        "# Constructing the Time-Series Lineplot\n",
        "years = mdates.YearLocator()\n",
        "fig, ax1 = plt.subplots(figsize=(16, 6))\n",
        "ax1.xaxis.set_major_locator(years)\n",
        "ax1.legend([featurename], fontsize=12)\n",
        "plt.title(featurename + ' from '+ start_date + ' to ' + end_date)\n",
        "sns.lineplot(data=df['cpo_pri'], label=featurename, linewidth=1.0)\n",
        "plt.ylabel('Monthly Crude Palm Oil Prices Per Metric Ton (US Dollars)')\n",
        "plt.show()"
      ],
      "metadata": {
        "colab": {
          "base_uri": "https://localhost:8080/",
          "height": 564
        },
        "id": "NaNguXEqDaDA",
        "outputId": "c7afb679-5a9c-4055-b977-1d05fd89dbb2"
      },
      "execution_count": 11,
      "outputs": [
        {
          "output_type": "display_data",
          "data": {
            "text/plain": [
              "<Figure size 1600x600 with 1 Axes>"
            ],
            "image/png": "[encoded data removed]"
          },
          "metadata": {}
        }
      ]
    },
    {
      "cell_type": "markdown",
      "source": [
        "### Checking for Duplicates"
      ],
      "metadata": {
        "id": "Z7q0ofdCLKeN"
      }
    },
    {
      "cell_type": "code",
      "source": [
        "# Check number of duplicates while ignoring the index feature\n",
        "n_duplicates = df.drop(labels=[\"cpo_pri\"], axis=1).duplicated().sum()\n",
        "print(f\"You seem to have {n_duplicates} duplicates in your database.\")"
      ],
      "metadata": {
        "colab": {
          "base_uri": "https://localhost:8080/"
        },
        "id": "RiCNCqCyKsEw",
        "outputId": "db77e65c-c222-40ed-9ca2-cb892e1ceb88"
      },
      "execution_count": 12,
      "outputs": [
        {
          "output_type": "stream",
          "name": "stdout",
          "text": [
            "You seem to have 0 duplicates in your database.\n"
          ]
        }
      ]
    },
    {
      "cell_type": "markdown",
      "source": [
        "###Checking for Missing values"
      ],
      "metadata": {
        "id": "1i0WEorbLa7a"
      }
    },
    {
      "cell_type": "code",
      "source": [
        "import matplotlib.pyplot as plt\n",
        "\n",
        "plt.figure(figsize=(10, 8))\n",
        "plt.imshow(df.isna(), aspect=\"auto\", interpolation=\"nearest\", cmap=\"gray\")\n",
        "plt.xlabel(\"Column Number\")\n",
        "plt.ylabel(\"Sample Number\");"
      ],
      "metadata": {
        "colab": {
          "base_uri": "https://localhost:8080/",
          "height": 700
        },
        "id": "J_lJ5HkxKsIb",
        "outputId": "80ba8a2d-ef0a-4bc0-ad0d-abf96a0e1f07"
      },
      "execution_count": 13,
      "outputs": [
        {
          "output_type": "display_data",
          "data": {
            "text/plain": [
              "<Figure size 1000x800 with 1 Axes>"
            ],
            "image/png": "[encoded data removed]"
          },
          "metadata": {}
        }
      ]
    },
    {
      "cell_type": "markdown",
      "source": [
        "This figure shows that there are no missing data"
      ],
      "metadata": {
        "id": "HrMQOFBALsG0"
      }
    },
    {
      "cell_type": "code",
      "source": [
        "# Plots the histogram for each numerical feature in a separate subplot\n",
        "df.hist(bins=25, figsize=(15, 5), edgecolor=\"black\")\n",
        "plt.tight_layout();"
      ],
      "metadata": {
        "colab": {
          "base_uri": "https://localhost:8080/",
          "height": 507
        },
        "id": "84RGYxb8KsM1",
        "outputId": "37c108af-a37e-49a1-c387-89532d8ad4f0"
      },
      "execution_count": 14,
      "outputs": [
        {
          "output_type": "display_data",
          "data": {
            "text/plain": [
              "<Figure size 1500x500 with 1 Axes>"
            ],
            "image/png": "[encoded data removed]"
          },
          "metadata": {}
        }
      ]
    },
    {
      "cell_type": "markdown",
      "source": [
        "###Checking for Outliers"
      ],
      "metadata": {
        "id": "FX6FdkMJMwnG"
      }
    },
    {
      "cell_type": "code",
      "source": [
        "#Computing the percentage of Outliers\n",
        "for k, v in df.items():\n",
        "        q1 = v.quantile(0.25)\n",
        "        q3 = v.quantile(0.75)\n",
        "        irq = q3 - q1\n",
        "        v_col = v[(v <= q1 - 1.5 * irq) | (v >= q3 + 1.5 * irq)]\n",
        "        perc = np.shape(v_col)[0] * 100.0 / np.shape(df)[1]\n",
        "        print(\"Column %s outliers = %.2f%%\" % (k, perc))"
      ],
      "metadata": {
        "colab": {
          "base_uri": "https://localhost:8080/"
        },
        "id": "4vwbQ4sKMV3k",
        "outputId": "86d32a42-6dcc-4b22-d46f-188fda17b521"
      },
      "execution_count": 15,
      "outputs": [
        {
          "output_type": "stream",
          "name": "stdout",
          "text": [
            "Column cpo_pri outliers = 500.00%\n"
          ]
        }
      ]
    },
    {
      "cell_type": "code",
      "source": [
        "#Ploting the boxplot of the Outliers\n",
        "sns.boxplot(df['cpo_pri'])\n",
        "plt.title('cpo_pri')\n",
        "plt.figure(figsize=(15,15))"
      ],
      "metadata": {
        "colab": {
          "base_uri": "https://localhost:8080/",
          "height": 486
        },
        "id": "lSggtXIrMWHs",
        "outputId": "23adad44-8bb7-41a1-9f90-609fd656a4e0"
      },
      "execution_count": 16,
      "outputs": [
        {
          "output_type": "execute_result",
          "data": {
            "text/plain": [
              "<Figure size 1500x1500 with 0 Axes>"
            ]
          },
          "metadata": {},
          "execution_count": 16
        },
        {
          "output_type": "display_data",
          "data": {
            "text/plain": [
              "<Figure size 640x480 with 1 Axes>"
            ],
            "image/png": "[encoded data removed]"
          },
          "metadata": {}
        },
        {
          "output_type": "display_data",
          "data": {
            "text/plain": [
              "<Figure size 1500x1500 with 0 Axes>"
            ]
          },
          "metadata": {}
        }
      ]
    },
    {
      "cell_type": "markdown",
      "source": [
        "###Removing the Outliers"
      ],
      "metadata": {
        "id": "Z8YyTtQ7N9NG"
      }
    },
    {
      "cell_type": "code",
      "source": [
        "IQR=df.cpo_pri.quantile(0.75)-df.cpo_pri.quantile(0.25)\n",
        "lower_bridge=df.cpo_pri.quantile(0.25)-(IQR*1.5)\n",
        "upper_bridge=df.cpo_pri.quantile(0.75)+(IQR*1.5)\n",
        "print(lower_bridge, upper_bridge)"
      ],
      "metadata": {
        "colab": {
          "base_uri": "https://localhost:8080/"
        },
        "id": "NjvXUVaTOAXy",
        "outputId": "179de379-8d52-4301-a97f-bd3015e90ae5"
      },
      "execution_count": 17,
      "outputs": [
        {
          "output_type": "stream",
          "name": "stdout",
          "text": [
            "-57.3449999999998 1385.495\n"
          ]
        }
      ]
    },
    {
      "cell_type": "code",
      "source": [
        "df.loc[df['cpo_pri']>= 1385.495,'cpo_pri']= 1385.495\n",
        "df.loc[df['cpo_pri']<= -57.3449999999998,'cpo_pri']= -57.3449999999998"
      ],
      "metadata": {
        "id": "cGOOHF_IOXM0"
      },
      "execution_count": 18,
      "outputs": []
    },
    {
      "cell_type": "markdown",
      "source": [
        "###Ploting of Target variable without Outliers"
      ],
      "metadata": {
        "id": "e-UOAmPZO_8J"
      }
    },
    {
      "cell_type": "code",
      "source": [
        "sns.boxplot(df['cpo_pri'])\n",
        "plt.title('cpo_pri')\n",
        "plt.figure(figsize=(10,10))"
      ],
      "metadata": {
        "colab": {
          "base_uri": "https://localhost:8080/",
          "height": 486
        },
        "id": "HfUVRkUJO5JO",
        "outputId": "76719cb9-39d6-4bf4-c2d3-c699b2df1ea0"
      },
      "execution_count": 19,
      "outputs": [
        {
          "output_type": "execute_result",
          "data": {
            "text/plain": [
              "<Figure size 1000x1000 with 0 Axes>"
            ]
          },
          "metadata": {},
          "execution_count": 19
        },
        {
          "output_type": "display_data",
          "data": {
            "text/plain": [
              "<Figure size 640x480 with 1 Axes>"
            ],
            "image/png": "[encoded data removed]"
          },
          "metadata": {}
        },
        {
          "output_type": "display_data",
          "data": {
            "text/plain": [
              "<Figure size 1000x1000 with 0 Axes>"
            ]
          },
          "metadata": {}
        }
      ]
    },
    {
      "cell_type": "code",
      "source": [
        "# Target Selection\n",
        "train_df = df.filter(['cpo_pri'])\n",
        "data_unsc = train_df.values # data_unscaled data\n",
        "\n",
        "# Compute the number of rows required to train the model on 80% of the data.\n",
        "train_data_len = math.ceil(len(data_unsc) * 0.7)\n",
        "\n",
        "# Scale the data\n",
        "mmscaler = MinMaxScaler(feature_range=(0, 1))\n",
        "np_data = mmscaler.fit_transform(data_unsc)"
      ],
      "metadata": {
        "id": "xA8Jt_OeZKvl"
      },
      "execution_count": 20,
      "outputs": []
    },
    {
      "cell_type": "code",
      "source": [
        "# Set the sequence len - the period for making a single forecast.\n",
        "sequence_len = 40\n",
        "\n",
        "# Index of Prediction\n",
        "index_cpo_pri = train_df.columns.get_loc(\"cpo_pri\")\n",
        "print(index_cpo_pri)\n",
        "# Divide the training data into train and train data sets.\n",
        "# In the first stage, we determine the number of rows required to train the model on 80% of the data.\n",
        "train_data_len = math.ceil(np_data.shape[0] * 0.8)\n",
        "\n",
        "# create training and test set\n",
        "train_data = np_data[0:train_data_len, :]\n",
        "test_data = np_data[train_data_len - sequence_len:, :]\n",
        "\n",
        "# The MLP model requires data in the following formats: [samples, time steps, features].\n",
        "def partition_dataset(sequence_len, train_df):\n",
        "    x, y = [], []\n",
        "    data_len = train_df.shape[0]\n",
        "    for i in range(sequence_len, data_len):\n",
        "        x.append(train_df[i-sequence_len:i,:])\n",
        "        y.append(train_df[i, index_cpo_pri])\n",
        "\n",
        "    # Convert the x and y variables to numpy arrays.\n",
        "    x = np.array(x)\n",
        "    y = np.array(y)\n",
        "    return x, y\n",
        "\n",
        "# Create training and testing data.\n",
        "X_train, y_train = partition_dataset(sequence_len, train_data)\n",
        "X_test, y_test = partition_dataset(sequence_len, test_data)\n",
        "\n",
        "print(X_train.shape, y_train.shape)\n",
        "print(X_test.shape, y_test.shape)\n",
        "\n",
        "# Verify that the prediction value and the input value match\n",
        "print(X_test[1][sequence_len-1][index_cpo_pri])\n",
        "print(y_test[0])"
      ],
      "metadata": {
        "colab": {
          "base_uri": "https://localhost:8080/"
        },
        "id": "nCXjnKjqZK0g",
        "outputId": "0af06df9-c2e6-4583-9c60-c32c96a9a007"
      },
      "execution_count": 21,
      "outputs": [
        {
          "output_type": "stream",
          "name": "stdout",
          "text": [
            "0\n",
            "(249, 40, 1) (249,)\n",
            "(72, 40, 1) (72,)\n",
            "0.44990208381278246\n",
            "0.44990208381278246\n"
          ]
        }
      ]
    },
    {
      "cell_type": "code",
      "source": [
        " # The architecture of the MLP\n",
        "cb = tf.keras.callbacks.EarlyStopping(monitor='val_loss', patience=10, restore_best_weights=True)\n",
        "mlp_model = Sequential()\n",
        "mlp_model.add(Dense(50, input_dim=sequence_len, activation='tanh'))\n",
        "mlp_model.add(Dense(50, input_dim=sequence_len, activation='tanh'))\n",
        "mlp_model.add(Dense(1))\n",
        "# Compiling the model\n",
        "mlp_model.compile(loss='mean_squared_error', optimizer='adam')\n",
        "# Fitting to the training set\n",
        "mlp_model.fit(X_train, y_train, epochs=200, batch_size=2, verbose=2)"
      ],
      "metadata": {
        "colab": {
          "base_uri": "https://localhost:8080/"
        },
        "id": "nMvEdcLqSjMm",
        "outputId": "3ab62033-5153-4d36-a4c0-d33a1c08f415"
      },
      "execution_count": 22,
      "outputs": [
        {
          "output_type": "stream",
          "name": "stdout",
          "text": [
            "Epoch 1/200\n",
            "125/125 - 1s - loss: 0.0376 - 1s/epoch - 8ms/step\n",
            "Epoch 2/200\n",
            "125/125 - 0s - loss: 0.0075 - 163ms/epoch - 1ms/step\n",
            "Epoch 3/200\n",
            "125/125 - 0s - loss: 0.0057 - 170ms/epoch - 1ms/step\n",
            "Epoch 4/200\n",
            "125/125 - 0s - loss: 0.0048 - 163ms/epoch - 1ms/step\n",
            "Epoch 5/200\n",
            "125/125 - 0s - loss: 0.0038 - 174ms/epoch - 1ms/step\n",
            "Epoch 6/200\n",
            "125/125 - 0s - loss: 0.0032 - 170ms/epoch - 1ms/step\n",
            "Epoch 7/200\n",
            "125/125 - 0s - loss: 0.0042 - 177ms/epoch - 1ms/step\n",
            "Epoch 8/200\n",
            "125/125 - 0s - loss: 0.0043 - 262ms/epoch - 2ms/step\n",
            "Epoch 9/200\n",
            "125/125 - 0s - loss: 0.0032 - 396ms/epoch - 3ms/step\n",
            "Epoch 10/200\n",
            "125/125 - 0s - loss: 0.0038 - 303ms/epoch - 2ms/step\n",
            "Epoch 11/200\n",
            "125/125 - 0s - loss: 0.0028 - 291ms/epoch - 2ms/step\n",
            "Epoch 12/200\n",
            "125/125 - 0s - loss: 0.0043 - 206ms/epoch - 2ms/step\n",
            "Epoch 13/200\n",
            "125/125 - 0s - loss: 0.0034 - 157ms/epoch - 1ms/step\n",
            "Epoch 14/200\n",
            "125/125 - 0s - loss: 0.0043 - 160ms/epoch - 1ms/step\n",
            "Epoch 15/200\n",
            "125/125 - 0s - loss: 0.0032 - 163ms/epoch - 1ms/step\n",
            "Epoch 16/200\n",
            "125/125 - 0s - loss: 0.0036 - 201ms/epoch - 2ms/step\n",
            "Epoch 17/200\n",
            "125/125 - 0s - loss: 0.0034 - 248ms/epoch - 2ms/step\n",
            "Epoch 18/200\n",
            "125/125 - 0s - loss: 0.0043 - 243ms/epoch - 2ms/step\n",
            "Epoch 19/200\n",
            "125/125 - 0s - loss: 0.0028 - 246ms/epoch - 2ms/step\n",
            "Epoch 20/200\n",
            "125/125 - 0s - loss: 0.0032 - 280ms/epoch - 2ms/step\n",
            "Epoch 21/200\n",
            "125/125 - 0s - loss: 0.0033 - 303ms/epoch - 2ms/step\n",
            "Epoch 22/200\n",
            "125/125 - 0s - loss: 0.0034 - 288ms/epoch - 2ms/step\n",
            "Epoch 23/200\n",
            "125/125 - 0s - loss: 0.0037 - 224ms/epoch - 2ms/step\n",
            "Epoch 24/200\n",
            "125/125 - 0s - loss: 0.0021 - 225ms/epoch - 2ms/step\n",
            "Epoch 25/200\n",
            "125/125 - 0s - loss: 0.0024 - 233ms/epoch - 2ms/step\n",
            "Epoch 26/200\n",
            "125/125 - 0s - loss: 0.0035 - 226ms/epoch - 2ms/step\n",
            "Epoch 27/200\n",
            "125/125 - 0s - loss: 0.0031 - 225ms/epoch - 2ms/step\n",
            "Epoch 28/200\n",
            "125/125 - 0s - loss: 0.0026 - 249ms/epoch - 2ms/step\n",
            "Epoch 29/200\n",
            "125/125 - 0s - loss: 0.0026 - 224ms/epoch - 2ms/step\n",
            "Epoch 30/200\n",
            "125/125 - 0s - loss: 0.0020 - 223ms/epoch - 2ms/step\n",
            "Epoch 31/200\n",
            "125/125 - 0s - loss: 0.0018 - 223ms/epoch - 2ms/step\n",
            "Epoch 32/200\n",
            "125/125 - 0s - loss: 0.0029 - 242ms/epoch - 2ms/step\n",
            "Epoch 33/200\n",
            "125/125 - 0s - loss: 0.0028 - 227ms/epoch - 2ms/step\n",
            "Epoch 34/200\n",
            "125/125 - 0s - loss: 0.0031 - 215ms/epoch - 2ms/step\n",
            "Epoch 35/200\n",
            "125/125 - 0s - loss: 0.0025 - 154ms/epoch - 1ms/step\n",
            "Epoch 36/200\n",
            "125/125 - 0s - loss: 0.0022 - 163ms/epoch - 1ms/step\n",
            "Epoch 37/200\n",
            "125/125 - 0s - loss: 0.0025 - 164ms/epoch - 1ms/step\n",
            "Epoch 38/200\n",
            "125/125 - 0s - loss: 0.0023 - 160ms/epoch - 1ms/step\n",
            "Epoch 39/200\n",
            "125/125 - 0s - loss: 0.0046 - 155ms/epoch - 1ms/step\n",
            "Epoch 40/200\n",
            "125/125 - 0s - loss: 0.0020 - 168ms/epoch - 1ms/step\n",
            "Epoch 41/200\n",
            "125/125 - 0s - loss: 0.0058 - 159ms/epoch - 1ms/step\n",
            "Epoch 42/200\n",
            "125/125 - 0s - loss: 0.0028 - 160ms/epoch - 1ms/step\n",
            "Epoch 43/200\n",
            "125/125 - 0s - loss: 0.0020 - 157ms/epoch - 1ms/step\n",
            "Epoch 44/200\n",
            "125/125 - 0s - loss: 0.0024 - 178ms/epoch - 1ms/step\n",
            "Epoch 45/200\n",
            "125/125 - 0s - loss: 0.0025 - 159ms/epoch - 1ms/step\n",
            "Epoch 46/200\n",
            "125/125 - 0s - loss: 0.0020 - 162ms/epoch - 1ms/step\n",
            "Epoch 47/200\n",
            "125/125 - 0s - loss: 0.0026 - 168ms/epoch - 1ms/step\n",
            "Epoch 48/200\n",
            "125/125 - 0s - loss: 0.0033 - 164ms/epoch - 1ms/step\n",
            "Epoch 49/200\n",
            "125/125 - 0s - loss: 0.0027 - 171ms/epoch - 1ms/step\n",
            "Epoch 50/200\n",
            "125/125 - 0s - loss: 0.0020 - 158ms/epoch - 1ms/step\n",
            "Epoch 51/200\n",
            "125/125 - 0s - loss: 0.0024 - 157ms/epoch - 1ms/step\n",
            "Epoch 52/200\n",
            "125/125 - 0s - loss: 0.0020 - 172ms/epoch - 1ms/step\n",
            "Epoch 53/200\n",
            "125/125 - 0s - loss: 0.0016 - 162ms/epoch - 1ms/step\n",
            "Epoch 54/200\n",
            "125/125 - 0s - loss: 0.0021 - 163ms/epoch - 1ms/step\n",
            "Epoch 55/200\n",
            "125/125 - 0s - loss: 0.0026 - 152ms/epoch - 1ms/step\n",
            "Epoch 56/200\n",
            "125/125 - 0s - loss: 0.0035 - 160ms/epoch - 1ms/step\n",
            "Epoch 57/200\n",
            "125/125 - 0s - loss: 0.0020 - 159ms/epoch - 1ms/step\n",
            "Epoch 58/200\n",
            "125/125 - 0s - loss: 0.0016 - 160ms/epoch - 1ms/step\n",
            "Epoch 59/200\n",
            "125/125 - 0s - loss: 0.0015 - 165ms/epoch - 1ms/step\n",
            "Epoch 60/200\n",
            "125/125 - 0s - loss: 0.0025 - 167ms/epoch - 1ms/step\n",
            "Epoch 61/200\n",
            "125/125 - 0s - loss: 0.0020 - 159ms/epoch - 1ms/step\n",
            "Epoch 62/200\n",
            "125/125 - 0s - loss: 0.0017 - 166ms/epoch - 1ms/step\n",
            "Epoch 63/200\n",
            "125/125 - 0s - loss: 0.0017 - 162ms/epoch - 1ms/step\n",
            "Epoch 64/200\n",
            "125/125 - 0s - loss: 0.0018 - 164ms/epoch - 1ms/step\n",
            "Epoch 65/200\n",
            "125/125 - 0s - loss: 0.0020 - 174ms/epoch - 1ms/step\n",
            "Epoch 66/200\n",
            "125/125 - 0s - loss: 0.0022 - 158ms/epoch - 1ms/step\n",
            "Epoch 67/200\n",
            "125/125 - 0s - loss: 0.0018 - 169ms/epoch - 1ms/step\n",
            "Epoch 68/200\n",
            "125/125 - 0s - loss: 0.0019 - 159ms/epoch - 1ms/step\n",
            "Epoch 69/200\n",
            "125/125 - 0s - loss: 0.0019 - 158ms/epoch - 1ms/step\n",
            "Epoch 70/200\n",
            "125/125 - 0s - loss: 0.0016 - 161ms/epoch - 1ms/step\n",
            "Epoch 71/200\n",
            "125/125 - 0s - loss: 0.0016 - 167ms/epoch - 1ms/step\n",
            "Epoch 72/200\n",
            "125/125 - 0s - loss: 0.0018 - 173ms/epoch - 1ms/step\n",
            "Epoch 73/200\n",
            "125/125 - 0s - loss: 0.0024 - 162ms/epoch - 1ms/step\n",
            "Epoch 74/200\n",
            "125/125 - 0s - loss: 0.0019 - 163ms/epoch - 1ms/step\n",
            "Epoch 75/200\n",
            "125/125 - 0s - loss: 0.0019 - 156ms/epoch - 1ms/step\n",
            "Epoch 76/200\n",
            "125/125 - 0s - loss: 0.0017 - 157ms/epoch - 1ms/step\n",
            "Epoch 77/200\n",
            "125/125 - 0s - loss: 0.0016 - 161ms/epoch - 1ms/step\n",
            "Epoch 78/200\n",
            "125/125 - 0s - loss: 0.0036 - 157ms/epoch - 1ms/step\n",
            "Epoch 79/200\n",
            "125/125 - 0s - loss: 0.0026 - 162ms/epoch - 1ms/step\n",
            "Epoch 80/200\n",
            "125/125 - 0s - loss: 0.0018 - 161ms/epoch - 1ms/step\n",
            "Epoch 81/200\n",
            "125/125 - 0s - loss: 0.0020 - 163ms/epoch - 1ms/step\n",
            "Epoch 82/200\n",
            "125/125 - 0s - loss: 0.0017 - 164ms/epoch - 1ms/step\n",
            "Epoch 83/200\n",
            "125/125 - 0s - loss: 0.0019 - 167ms/epoch - 1ms/step\n",
            "Epoch 84/200\n",
            "125/125 - 0s - loss: 0.0021 - 164ms/epoch - 1ms/step\n",
            "Epoch 85/200\n",
            "125/125 - 0s - loss: 0.0019 - 168ms/epoch - 1ms/step\n",
            "Epoch 86/200\n",
            "125/125 - 0s - loss: 0.0014 - 162ms/epoch - 1ms/step\n",
            "Epoch 87/200\n",
            "125/125 - 0s - loss: 0.0016 - 166ms/epoch - 1ms/step\n",
            "Epoch 88/200\n",
            "125/125 - 0s - loss: 0.0015 - 164ms/epoch - 1ms/step\n",
            "Epoch 89/200\n",
            "125/125 - 0s - loss: 0.0013 - 171ms/epoch - 1ms/step\n",
            "Epoch 90/200\n",
            "125/125 - 0s - loss: 0.0019 - 168ms/epoch - 1ms/step\n",
            "Epoch 91/200\n",
            "125/125 - 0s - loss: 0.0016 - 172ms/epoch - 1ms/step\n",
            "Epoch 92/200\n",
            "125/125 - 0s - loss: 0.0019 - 163ms/epoch - 1ms/step\n",
            "Epoch 93/200\n",
            "125/125 - 0s - loss: 0.0022 - 162ms/epoch - 1ms/step\n",
            "Epoch 94/200\n",
            "125/125 - 0s - loss: 0.0015 - 171ms/epoch - 1ms/step\n",
            "Epoch 95/200\n",
            "125/125 - 0s - loss: 0.0022 - 241ms/epoch - 2ms/step\n",
            "Epoch 96/200\n",
            "125/125 - 0s - loss: 0.0014 - 235ms/epoch - 2ms/step\n",
            "Epoch 97/200\n",
            "125/125 - 0s - loss: 0.0015 - 221ms/epoch - 2ms/step\n",
            "Epoch 98/200\n",
            "125/125 - 0s - loss: 0.0017 - 229ms/epoch - 2ms/step\n",
            "Epoch 99/200\n",
            "125/125 - 0s - loss: 0.0016 - 229ms/epoch - 2ms/step\n",
            "Epoch 100/200\n",
            "125/125 - 0s - loss: 0.0014 - 240ms/epoch - 2ms/step\n",
            "Epoch 101/200\n",
            "125/125 - 0s - loss: 0.0014 - 233ms/epoch - 2ms/step\n",
            "Epoch 102/200\n",
            "125/125 - 0s - loss: 0.0018 - 224ms/epoch - 2ms/step\n",
            "Epoch 103/200\n",
            "125/125 - 0s - loss: 0.0019 - 224ms/epoch - 2ms/step\n",
            "Epoch 104/200\n",
            "125/125 - 0s - loss: 0.0031 - 221ms/epoch - 2ms/step\n",
            "Epoch 105/200\n",
            "125/125 - 0s - loss: 0.0018 - 229ms/epoch - 2ms/step\n",
            "Epoch 106/200\n",
            "125/125 - 0s - loss: 0.0017 - 210ms/epoch - 2ms/step\n",
            "Epoch 107/200\n",
            "125/125 - 0s - loss: 0.0019 - 159ms/epoch - 1ms/step\n",
            "Epoch 108/200\n",
            "125/125 - 0s - loss: 0.0015 - 150ms/epoch - 1ms/step\n",
            "Epoch 109/200\n",
            "125/125 - 0s - loss: 0.0015 - 169ms/epoch - 1ms/step\n",
            "Epoch 110/200\n",
            "125/125 - 0s - loss: 0.0014 - 166ms/epoch - 1ms/step\n",
            "Epoch 111/200\n",
            "125/125 - 0s - loss: 0.0013 - 160ms/epoch - 1ms/step\n",
            "Epoch 112/200\n",
            "125/125 - 0s - loss: 0.0015 - 153ms/epoch - 1ms/step\n",
            "Epoch 113/200\n",
            "125/125 - 0s - loss: 0.0019 - 162ms/epoch - 1ms/step\n",
            "Epoch 114/200\n",
            "125/125 - 0s - loss: 0.0016 - 161ms/epoch - 1ms/step\n",
            "Epoch 115/200\n",
            "125/125 - 0s - loss: 0.0014 - 163ms/epoch - 1ms/step\n",
            "Epoch 116/200\n",
            "125/125 - 0s - loss: 0.0015 - 171ms/epoch - 1ms/step\n",
            "Epoch 117/200\n",
            "125/125 - 0s - loss: 0.0017 - 163ms/epoch - 1ms/step\n",
            "Epoch 118/200\n",
            "125/125 - 0s - loss: 0.0014 - 162ms/epoch - 1ms/step\n",
            "Epoch 119/200\n",
            "125/125 - 0s - loss: 0.0014 - 160ms/epoch - 1ms/step\n",
            "Epoch 120/200\n",
            "125/125 - 0s - loss: 0.0013 - 162ms/epoch - 1ms/step\n",
            "Epoch 121/200\n",
            "125/125 - 0s - loss: 0.0016 - 160ms/epoch - 1ms/step\n",
            "Epoch 122/200\n",
            "125/125 - 0s - loss: 0.0015 - 164ms/epoch - 1ms/step\n",
            "Epoch 123/200\n",
            "125/125 - 0s - loss: 0.0016 - 151ms/epoch - 1ms/step\n",
            "Epoch 124/200\n",
            "125/125 - 0s - loss: 0.0022 - 163ms/epoch - 1ms/step\n",
            "Epoch 125/200\n",
            "125/125 - 0s - loss: 0.0018 - 157ms/epoch - 1ms/step\n",
            "Epoch 126/200\n",
            "125/125 - 0s - loss: 0.0016 - 157ms/epoch - 1ms/step\n",
            "Epoch 127/200\n",
            "125/125 - 0s - loss: 0.0014 - 166ms/epoch - 1ms/step\n",
            "Epoch 128/200\n",
            "125/125 - 0s - loss: 0.0010 - 176ms/epoch - 1ms/step\n",
            "Epoch 129/200\n",
            "125/125 - 0s - loss: 0.0015 - 162ms/epoch - 1ms/step\n",
            "Epoch 130/200\n",
            "125/125 - 0s - loss: 0.0019 - 156ms/epoch - 1ms/step\n",
            "Epoch 131/200\n",
            "125/125 - 0s - loss: 0.0012 - 164ms/epoch - 1ms/step\n",
            "Epoch 132/200\n",
            "125/125 - 0s - loss: 0.0013 - 160ms/epoch - 1ms/step\n",
            "Epoch 133/200\n",
            "125/125 - 0s - loss: 0.0016 - 159ms/epoch - 1ms/step\n",
            "Epoch 134/200\n",
            "125/125 - 0s - loss: 0.0016 - 173ms/epoch - 1ms/step\n",
            "Epoch 135/200\n",
            "125/125 - 0s - loss: 0.0014 - 163ms/epoch - 1ms/step\n",
            "Epoch 136/200\n",
            "125/125 - 0s - loss: 0.0013 - 173ms/epoch - 1ms/step\n",
            "Epoch 137/200\n",
            "125/125 - 0s - loss: 0.0012 - 163ms/epoch - 1ms/step\n",
            "Epoch 138/200\n",
            "125/125 - 0s - loss: 0.0015 - 160ms/epoch - 1ms/step\n",
            "Epoch 139/200\n",
            "125/125 - 0s - loss: 0.0014 - 161ms/epoch - 1ms/step\n",
            "Epoch 140/200\n",
            "125/125 - 0s - loss: 0.0012 - 179ms/epoch - 1ms/step\n",
            "Epoch 141/200\n",
            "125/125 - 0s - loss: 0.0014 - 165ms/epoch - 1ms/step\n",
            "Epoch 142/200\n",
            "125/125 - 0s - loss: 0.0013 - 159ms/epoch - 1ms/step\n",
            "Epoch 143/200\n",
            "125/125 - 0s - loss: 0.0013 - 165ms/epoch - 1ms/step\n",
            "Epoch 144/200\n",
            "125/125 - 0s - loss: 0.0012 - 163ms/epoch - 1ms/step\n",
            "Epoch 145/200\n",
            "125/125 - 0s - loss: 0.0014 - 160ms/epoch - 1ms/step\n",
            "Epoch 146/200\n",
            "125/125 - 0s - loss: 0.0013 - 168ms/epoch - 1ms/step\n",
            "Epoch 147/200\n",
            "125/125 - 0s - loss: 0.0013 - 164ms/epoch - 1ms/step\n",
            "Epoch 148/200\n",
            "125/125 - 0s - loss: 0.0015 - 168ms/epoch - 1ms/step\n",
            "Epoch 149/200\n",
            "125/125 - 0s - loss: 0.0014 - 157ms/epoch - 1ms/step\n",
            "Epoch 150/200\n",
            "125/125 - 0s - loss: 0.0012 - 158ms/epoch - 1ms/step\n",
            "Epoch 151/200\n",
            "125/125 - 0s - loss: 0.0012 - 162ms/epoch - 1ms/step\n",
            "Epoch 152/200\n",
            "125/125 - 0s - loss: 0.0011 - 168ms/epoch - 1ms/step\n",
            "Epoch 153/200\n",
            "125/125 - 0s - loss: 0.0015 - 176ms/epoch - 1ms/step\n",
            "Epoch 154/200\n",
            "125/125 - 0s - loss: 0.0015 - 166ms/epoch - 1ms/step\n",
            "Epoch 155/200\n",
            "125/125 - 0s - loss: 0.0012 - 169ms/epoch - 1ms/step\n",
            "Epoch 156/200\n",
            "125/125 - 0s - loss: 0.0012 - 157ms/epoch - 1ms/step\n",
            "Epoch 157/200\n",
            "125/125 - 0s - loss: 0.0012 - 166ms/epoch - 1ms/step\n",
            "Epoch 158/200\n",
            "125/125 - 0s - loss: 0.0012 - 177ms/epoch - 1ms/step\n",
            "Epoch 159/200\n",
            "125/125 - 0s - loss: 0.0017 - 168ms/epoch - 1ms/step\n",
            "Epoch 160/200\n",
            "125/125 - 0s - loss: 0.0013 - 165ms/epoch - 1ms/step\n",
            "Epoch 161/200\n",
            "125/125 - 0s - loss: 0.0011 - 165ms/epoch - 1ms/step\n",
            "Epoch 162/200\n",
            "125/125 - 0s - loss: 0.0013 - 160ms/epoch - 1ms/step\n",
            "Epoch 163/200\n",
            "125/125 - 0s - loss: 0.0015 - 165ms/epoch - 1ms/step\n",
            "Epoch 164/200\n",
            "125/125 - 0s - loss: 0.0031 - 176ms/epoch - 1ms/step\n",
            "Epoch 165/200\n",
            "125/125 - 0s - loss: 0.0012 - 170ms/epoch - 1ms/step\n",
            "Epoch 166/200\n",
            "125/125 - 0s - loss: 0.0010 - 201ms/epoch - 2ms/step\n",
            "Epoch 167/200\n",
            "125/125 - 0s - loss: 0.0013 - 222ms/epoch - 2ms/step\n",
            "Epoch 168/200\n",
            "125/125 - 0s - loss: 0.0010 - 232ms/epoch - 2ms/step\n",
            "Epoch 169/200\n",
            "125/125 - 0s - loss: 0.0013 - 226ms/epoch - 2ms/step\n",
            "Epoch 170/200\n",
            "125/125 - 0s - loss: 0.0013 - 224ms/epoch - 2ms/step\n",
            "Epoch 171/200\n",
            "125/125 - 0s - loss: 0.0013 - 223ms/epoch - 2ms/step\n",
            "Epoch 172/200\n",
            "125/125 - 0s - loss: 0.0012 - 226ms/epoch - 2ms/step\n",
            "Epoch 173/200\n",
            "125/125 - 0s - loss: 0.0012 - 227ms/epoch - 2ms/step\n",
            "Epoch 174/200\n",
            "125/125 - 0s - loss: 0.0013 - 227ms/epoch - 2ms/step\n",
            "Epoch 175/200\n",
            "125/125 - 0s - loss: 0.0015 - 211ms/epoch - 2ms/step\n",
            "Epoch 176/200\n",
            "125/125 - 0s - loss: 0.0016 - 239ms/epoch - 2ms/step\n",
            "Epoch 177/200\n",
            "125/125 - 0s - loss: 0.0012 - 239ms/epoch - 2ms/step\n",
            "Epoch 178/200\n",
            "125/125 - 0s - loss: 0.0012 - 239ms/epoch - 2ms/step\n",
            "Epoch 179/200\n",
            "125/125 - 0s - loss: 0.0012 - 159ms/epoch - 1ms/step\n",
            "Epoch 180/200\n",
            "125/125 - 0s - loss: 0.0011 - 165ms/epoch - 1ms/step\n",
            "Epoch 181/200\n",
            "125/125 - 0s - loss: 0.0011 - 161ms/epoch - 1ms/step\n",
            "Epoch 182/200\n",
            "125/125 - 0s - loss: 0.0012 - 161ms/epoch - 1ms/step\n",
            "Epoch 183/200\n",
            "125/125 - 0s - loss: 0.0018 - 166ms/epoch - 1ms/step\n",
            "Epoch 184/200\n",
            "125/125 - 0s - loss: 0.0012 - 179ms/epoch - 1ms/step\n",
            "Epoch 185/200\n",
            "125/125 - 0s - loss: 9.6942e-04 - 158ms/epoch - 1ms/step\n",
            "Epoch 186/200\n",
            "125/125 - 0s - loss: 0.0011 - 154ms/epoch - 1ms/step\n",
            "Epoch 187/200\n",
            "125/125 - 0s - loss: 0.0010 - 158ms/epoch - 1ms/step\n",
            "Epoch 188/200\n",
            "125/125 - 0s - loss: 0.0010 - 162ms/epoch - 1ms/step\n",
            "Epoch 189/200\n",
            "125/125 - 0s - loss: 0.0015 - 162ms/epoch - 1ms/step\n",
            "Epoch 190/200\n",
            "125/125 - 0s - loss: 0.0013 - 172ms/epoch - 1ms/step\n",
            "Epoch 191/200\n",
            "125/125 - 0s - loss: 0.0010 - 167ms/epoch - 1ms/step\n",
            "Epoch 192/200\n",
            "125/125 - 0s - loss: 0.0011 - 158ms/epoch - 1ms/step\n",
            "Epoch 193/200\n",
            "125/125 - 0s - loss: 0.0012 - 166ms/epoch - 1ms/step\n",
            "Epoch 194/200\n",
            "125/125 - 0s - loss: 0.0012 - 166ms/epoch - 1ms/step\n",
            "Epoch 195/200\n",
            "125/125 - 0s - loss: 0.0011 - 160ms/epoch - 1ms/step\n",
            "Epoch 196/200\n",
            "125/125 - 0s - loss: 0.0016 - 159ms/epoch - 1ms/step\n",
            "Epoch 197/200\n",
            "125/125 - 0s - loss: 9.6632e-04 - 161ms/epoch - 1ms/step\n",
            "Epoch 198/200\n",
            "125/125 - 0s - loss: 0.0013 - 153ms/epoch - 1ms/step\n",
            "Epoch 199/200\n",
            "125/125 - 0s - loss: 0.0012 - 161ms/epoch - 1ms/step\n",
            "Epoch 200/200\n",
            "125/125 - 0s - loss: 0.0013 - 154ms/epoch - 1ms/step\n"
          ]
        },
        {
          "output_type": "execute_result",
          "data": {
            "text/plain": [
              "<keras.callbacks.History at 0x7f23d71d9300>"
            ]
          },
          "metadata": {},
          "execution_count": 22
        }
      ]
    },
    {
      "cell_type": "code",
      "source": [
        "history = mlp_model.fit(X_train,y_train,validation_data=(X_test,y_test),epochs=200,batch_size=2,verbose=1, callbacks=[cb])"
      ],
      "metadata": {
        "colab": {
          "base_uri": "https://localhost:8080/"
        },
        "id": "w4Z0B90jU9Qj",
        "outputId": "039e53d4-9a30-4084-b5fb-b5a0def6dc87"
      },
      "execution_count": 23,
      "outputs": [
        {
          "output_type": "stream",
          "name": "stdout",
          "text": [
            "Epoch 1/200\n",
            "125/125 [==============================] - 0s 3ms/step - loss: 0.0014 - val_loss: 0.0034\n",
            "Epoch 2/200\n",
            "125/125 [==============================] - 0s 2ms/step - loss: 0.0010 - val_loss: 0.0029\n",
            "Epoch 3/200\n",
            "125/125 [==============================] - 0s 2ms/step - loss: 0.0015 - val_loss: 0.0032\n",
            "Epoch 4/200\n",
            "125/125 [==============================] - 0s 2ms/step - loss: 0.0014 - val_loss: 0.0052\n",
            "Epoch 5/200\n",
            "125/125 [==============================] - 0s 2ms/step - loss: 0.0010 - val_loss: 0.0029\n",
            "Epoch 6/200\n",
            "125/125 [==============================] - 0s 2ms/step - loss: 0.0011 - val_loss: 0.0036\n",
            "Epoch 7/200\n",
            "125/125 [==============================] - 0s 2ms/step - loss: 9.8719e-04 - val_loss: 0.0030\n",
            "Epoch 8/200\n",
            "125/125 [==============================] - 0s 2ms/step - loss: 9.8793e-04 - val_loss: 0.0030\n",
            "Epoch 9/200\n",
            "125/125 [==============================] - 0s 2ms/step - loss: 9.9676e-04 - val_loss: 0.0030\n",
            "Epoch 10/200\n",
            "125/125 [==============================] - 0s 2ms/step - loss: 0.0013 - val_loss: 0.0029\n",
            "Epoch 11/200\n",
            "125/125 [==============================] - 0s 2ms/step - loss: 0.0011 - val_loss: 0.0031\n",
            "Epoch 12/200\n",
            "125/125 [==============================] - 0s 2ms/step - loss: 0.0012 - val_loss: 0.0035\n",
            "Epoch 13/200\n",
            "125/125 [==============================] - 0s 2ms/step - loss: 9.8109e-04 - val_loss: 0.0040\n",
            "Epoch 14/200\n",
            "125/125 [==============================] - 0s 2ms/step - loss: 0.0011 - val_loss: 0.0061\n",
            "Epoch 15/200\n",
            "125/125 [==============================] - 0s 2ms/step - loss: 0.0012 - val_loss: 0.0043\n",
            "Epoch 16/200\n",
            "125/125 [==============================] - 0s 2ms/step - loss: 0.0013 - val_loss: 0.0039\n",
            "Epoch 17/200\n",
            "125/125 [==============================] - 0s 2ms/step - loss: 9.8357e-04 - val_loss: 0.0036\n",
            "Epoch 18/200\n",
            "125/125 [==============================] - 0s 2ms/step - loss: 0.0011 - val_loss: 0.0033\n",
            "Epoch 19/200\n",
            "125/125 [==============================] - 0s 2ms/step - loss: 0.0013 - val_loss: 0.0031\n",
            "Epoch 20/200\n",
            "125/125 [==============================] - 0s 2ms/step - loss: 9.4739e-04 - val_loss: 0.0045\n"
          ]
        }
      ]
    },
    {
      "cell_type": "code",
      "source": [
        "plt.figure(figsize=(6, 4))\n",
        "plt.plot(history.history[\"loss\"], label=\"Train\")\n",
        "plt.plot(history.history[\"val_loss\"], label=\"Test\")\n",
        "plt.title(\"Loss over epoch\")\n",
        "plt.xlabel(\"Epoch\")\n",
        "plt.ylabel(\"Loss\")\n",
        "plt.legend()\n",
        "plt.show()"
      ],
      "metadata": {
        "colab": {
          "base_uri": "https://localhost:8080/",
          "height": 410
        },
        "id": "1y8222iPUcQR",
        "outputId": "83baca54-9d1e-4981-e025-64dfaf902e7e"
      },
      "execution_count": 24,
      "outputs": [
        {
          "output_type": "display_data",
          "data": {
            "text/plain": [
              "<Figure size 600x400 with 1 Axes>"
            ],
            "image/png": "[encoded data removed]"
          },
          "metadata": {}
        }
      ]
    },
    {
      "cell_type": "code",
      "source": [
        "# Obtain the predicted values\n",
        "mlp_pred_scaled = mlp_model.predict(X_test)\n",
        "mlp_pred = mmscaler.inverse_transform(mlp_pred_scaled)\n",
        "y_test_unsc = mmscaler.inverse_transform(y_test.reshape(-1, 1))"
      ],
      "metadata": {
        "colab": {
          "base_uri": "https://localhost:8080/"
        },
        "id": "xBXsspWfZK47",
        "outputId": "c920679d-f1bf-4873-e8ee-1b82991c92f1"
      },
      "execution_count": 25,
      "outputs": [
        {
          "output_type": "stream",
          "name": "stdout",
          "text": [
            "3/3 [==============================] - 0s 3ms/step\n"
          ]
        }
      ]
    },
    {
      "cell_type": "code",
      "source": [
        "# Mean Absolute Error (MAE)\n",
        "mlp_MAE = mean_absolute_error(y_test_unsc, mlp_pred)\n",
        "print(f'Median Absolute Error (MAE): {np.round(mlp_MAE, 2)}')\n",
        "\n",
        "# Mean Absolute Percentage Error (MAPE)\n",
        "mlp_MAPE = np.mean((np.abs(np.subtract(y_test_unsc, mlp_pred)/ y_test_unsc))) * 100\n",
        "print(f'Mean Absolute Percentage Error (MAPE): {np.round(mlp_MAPE, 2)} %')\n",
        "\n",
        "# Root Mean Squared Error (RMSE)\n",
        "mlp_RMSE = mean_squared_error(y_test_unsc, mlp_pred) ** 0.5\n",
        "print(f'Root Mean Squared Error (RMSE): {np.round(mlp_RMSE, 2)} %')\n",
        "\n",
        "# Mean Squared Error (MSE)\n",
        "mlp_MSE = mean_squared_error(y_test_unsc, mlp_pred)\n",
        "print('MSE value of the MLP Model:', mlp_MSE )\n",
        "\n",
        "# r2_score\n",
        "mlp_r2 = r2_score(y_test_unsc, mlp_pred)\n",
        "print(f'R^2 Score: {np.round(mlp_r2, 2)} %')"
      ],
      "metadata": {
        "colab": {
          "base_uri": "https://localhost:8080/"
        },
        "id": "XqpifbnIZtju",
        "outputId": "17785d91-2cc6-4362-a41a-1b466725095a"
      },
      "execution_count": 26,
      "outputs": [
        {
          "output_type": "stream",
          "name": "stdout",
          "text": [
            "Median Absolute Error (MAE): 47.35\n",
            "Mean Absolute Percentage Error (MAPE): 5.76 %\n",
            "Root Mean Squared Error (RMSE): 61.72 %\n",
            "MSE value of the MLP Model: 3809.552385649791\n",
            "R^2 Score: 0.94 %\n"
          ]
        }
      ]
    },
    {
      "cell_type": "code",
      "source": [
        "train = pd.DataFrame(train_df[:train_data_len + 1]).rename(columns={'cpo_pri': 'X_train'})\n",
        "train"
      ],
      "metadata": {
        "colab": {
          "base_uri": "https://localhost:8080/",
          "height": 450
        },
        "id": "1o6Zdk51ZtoH",
        "outputId": "6999a190-f611-414f-cead-2abc5d003ada"
      },
      "execution_count": 27,
      "outputs": [
        {
          "output_type": "execute_result",
          "data": {
            "text/plain": [
              "            X_train\n",
              "date               \n",
              "1993-03-01   408.00\n",
              "1993-04-01   392.00\n",
              "1993-05-01   371.00\n",
              "1993-06-01   356.00\n",
              "1993-07-01   362.00\n",
              "...             ...\n",
              "2016-12-01   811.38\n",
              "2017-01-01   825.00\n",
              "2017-02-01   808.61\n",
              "2017-03-01   778.70\n",
              "2017-04-01   752.06\n",
              "\n",
              "[290 rows x 1 columns]"
            ],
            "text/html": [
              "\n",
              "  <div id=\"df-835068d7-6d8c-4ffa-a52b-2d97304dc5a1\">\n",
              "    <div class=\"colab-df-container\">\n",
              "      <div>\n",
              "<style scoped>\n",
              "    .dataframe tbody tr th:only-of-type {\n",
              "        vertical-align: middle;\n",
              "    }\n",
              "\n",
              "    .dataframe tbody tr th {\n",
              "        vertical-align: top;\n",
              "    }\n",
              "\n",
              "    .dataframe thead th {\n",
              "        text-align: right;\n",
              "    }\n",
              "</style>\n",
              "<table border=\"1\" class=\"dataframe\">\n",
              "  <thead>\n",
              "    <tr style=\"text-align: right;\">\n",
              "      <th></th>\n",
              "      <th>X_train</th>\n",
              "    </tr>\n",
              "    <tr>\n",
              "      <th>date</th>\n",
              "      <th></th>\n",
              "    </tr>\n",
              "  </thead>\n",
              "  <tbody>\n",
              "    <tr>\n",
              "      <th>1993-03-01</th>\n",
              "      <td>408.00</td>\n",
              "    </tr>\n",
              "    <tr>\n",
              "      <th>1993-04-01</th>\n",
              "      <td>392.00</td>\n",
              "    </tr>\n",
              "    <tr>\n",
              "      <th>1993-05-01</th>\n",
              "      <td>371.00</td>\n",
              "    </tr>\n",
              "    <tr>\n",
              "      <th>1993-06-01</th>\n",
              "      <td>356.00</td>\n",
              "    </tr>\n",
              "    <tr>\n",
              "      <th>1993-07-01</th>\n",
              "      <td>362.00</td>\n",
              "    </tr>\n",
              "    <tr>\n",
              "      <th>...</th>\n",
              "      <td>...</td>\n",
              "    </tr>\n",
              "    <tr>\n",
              "      <th>2016-12-01</th>\n",
              "      <td>811.38</td>\n",
              "    </tr>\n",
              "    <tr>\n",
              "      <th>2017-01-01</th>\n",
              "      <td>825.00</td>\n",
              "    </tr>\n",
              "    <tr>\n",
              "      <th>2017-02-01</th>\n",
              "      <td>808.61</td>\n",
              "    </tr>\n",
              "    <tr>\n",
              "      <th>2017-03-01</th>\n",
              "      <td>778.70</td>\n",
              "    </tr>\n",
              "    <tr>\n",
              "      <th>2017-04-01</th>\n",
              "      <td>752.06</td>\n",
              "    </tr>\n",
              "  </tbody>\n",
              "</table>\n",
              "<p>290 rows × 1 columns</p>\n",
              "</div>\n",
              "      <button class=\"colab-df-convert\" onclick=\"convertToInteractive('df-835068d7-6d8c-4ffa-a52b-2d97304dc5a1')\"\n",
              "              title=\"Convert this dataframe to an interactive table.\"\n",
              "              style=\"display:none;\">\n",
              "        \n",
              "  <svg xmlns=\"http://www.w3.org/2000/svg\" height=\"24px\"viewBox=\"0 0 24 24\"\n",
              "       width=\"24px\">\n",
              "    <path d=\"M0 0h24v24H0V0z\" fill=\"none\"/>\n",
              "    <path d=\"M18.56 5.44l.94 2.06.94-2.06 2.06-.94-2.06-.94-.94-2.06-.94 2.06-2.06.94zm-11 1L8.5 8.5l.94-2.06 2.06-.94-2.06-.94L8.5 2.5l-.94 2.06-2.06.94zm10 10l.94 2.06.94-2.06 2.06-.94-2.06-.94-.94-2.06-.94 2.06-2.06.94z\"/><path d=\"M17.41 7.96l-1.37-1.37c-.4-.4-.92-.59-1.43-.59-.52 0-1.04.2-1.43.59L10.3 9.45l-7.72 7.72c-.78.78-.78 2.05 0 2.83L4 21.41c.39.39.9.59 1.41.59.51 0 1.02-.2 1.41-.59l7.78-7.78 2.81-2.81c.8-.78.8-2.07 0-2.86zM5.41 20L4 18.59l7.72-7.72 1.47 1.35L5.41 20z\"/>\n",
              "  </svg>\n",
              "      </button>\n",
              "      \n",
              "  <style>\n",
              "    .colab-df-container {\n",
              "      display:flex;\n",
              "      flex-wrap:wrap;\n",
              "      gap: 12px;\n",
              "    }\n",
              "\n",
              "    .colab-df-convert {\n",
              "      background-color: #E8F0FE;\n",
              "      border: none;\n",
              "      border-radius: 50%;\n",
              "      cursor: pointer;\n",
              "      display: none;\n",
              "      fill: #1967D2;\n",
              "      height: 32px;\n",
              "      padding: 0 0 0 0;\n",
              "      width: 32px;\n",
              "    }\n",
              "\n",
              "    .colab-df-convert:hover {\n",
              "      background-color: #E2EBFA;\n",
              "      box-shadow: 0px 1px 2px rgba(60, 64, 67, 0.3), 0px 1px 3px 1px rgba(60, 64, 67, 0.15);\n",
              "      fill: #174EA6;\n",
              "    }\n",
              "\n",
              "    [theme=dark] .colab-df-convert {\n",
              "      background-color: #3B4455;\n",
              "      fill: #D2E3FC;\n",
              "    }\n",
              "\n",
              "    [theme=dark] .colab-df-convert:hover {\n",
              "      background-color: #434B5C;\n",
              "      box-shadow: 0px 1px 3px 1px rgba(0, 0, 0, 0.15);\n",
              "      filter: drop-shadow(0px 1px 2px rgba(0, 0, 0, 0.3));\n",
              "      fill: #FFFFFF;\n",
              "    }\n",
              "  </style>\n",
              "\n",
              "      <script>\n",
              "        const buttonEl =\n",
              "          document.querySelector('#df-835068d7-6d8c-4ffa-a52b-2d97304dc5a1 button.colab-df-convert');\n",
              "        buttonEl.style.display =\n",
              "          google.colab.kernel.accessAllowed ? 'block' : 'none';\n",
              "\n",
              "        async function convertToInteractive(key) {\n",
              "          const element = document.querySelector('#df-835068d7-6d8c-4ffa-a52b-2d97304dc5a1');\n",
              "          const dataTable =\n",
              "            await google.colab.kernel.invokeFunction('convertToInteractive',\n",
              "                                                     [key], {});\n",
              "          if (!dataTable) return;\n",
              "\n",
              "          const docLinkHtml = 'Like what you see? Visit the ' +\n",
              "            '<a target=\"_blank\" href=https://colab.research.google.com/notebooks/data_table.ipynb>data table notebook</a>'\n",
              "            + ' to learn more about interactive tables.';\n",
              "          element.innerHTML = '';\n",
              "          dataTable['output_type'] = 'display_data';\n",
              "          await google.colab.output.renderOutput(dataTable, element);\n",
              "          const docLink = document.createElement('div');\n",
              "          docLink.innerHTML = docLinkHtml;\n",
              "          element.appendChild(docLink);\n",
              "        }\n",
              "      </script>\n",
              "    </div>\n",
              "  </div>\n",
              "  "
            ]
          },
          "metadata": {},
          "execution_count": 27
        }
      ]
    },
    {
      "cell_type": "code",
      "source": [
        "# The date starting from which the date is presented\n",
        "display_start_date = \"2010-12\"\n",
        "\n",
        "#\n",
        "train = pd.DataFrame(train_df[:train_data_len + 1]).rename(columns={'cpo_pri': 'y_train'})\n",
        "valid = pd.DataFrame(train_df[train_data_len:]).rename(columns={'cpo_pri': 'y_test'})\n",
        "valid.insert(1, \"mlp_pred\", mlp_pred, True)\n",
        "valid.insert(1, \"residuals\", valid[\"mlp_pred\"] - valid[\"y_test\"], True)\n",
        "df_union = pd.concat([train, valid])\n",
        "\n",
        "# Zoom in on a specific timeframe.\n",
        "df_union_zoom = df_union[df_union.index > display_start_date]\n",
        "\n",
        "# Create the lineplot\n",
        "fig, ax1 = plt.subplots(figsize=(16, 8), sharex=True)\n",
        "plt.title(\"MLP Predictions vs Actual\")\n",
        "sns.set_palette([\"#090364\", \"#1960EF\", \"#EF5919\"])\n",
        "plt.ylabel(featurename, fontsize=18)\n",
        "sns.lineplot(data=df_union_zoom[['y_train', 'mlp_pred', 'y_test']], linewidth=1.0, dashes=False, ax=ax1)"
      ],
      "metadata": {
        "colab": {
          "base_uri": "https://localhost:8080/",
          "height": 735
        },
        "id": "UP-WFBgTZtsB",
        "outputId": "55a6f1c8-7d7a-4bc0-e652-ea22c333c7b2"
      },
      "execution_count": 28,
      "outputs": [
        {
          "output_type": "execute_result",
          "data": {
            "text/plain": [
              "<Axes: title={'center': 'MLP Predictions vs Actual'}, xlabel='date', ylabel='Price'>"
            ]
          },
          "metadata": {},
          "execution_count": 28
        },
        {
          "output_type": "display_data",
          "data": {
            "text/plain": [
              "<Figure size 1600x800 with 1 Axes>"
            ],
            "image/png": "[encoded data removed]"
          },
          "metadata": {}
        }
      ]
    },
    {
      "cell_type": "code",
      "source": [
        "input_dim = sequence_len"
      ],
      "metadata": {
        "id": "vLr-9O52eHit"
      },
      "execution_count": 33,
      "outputs": []
    },
    {
      "cell_type": "markdown",
      "source": [
        "###Performing Grid Search Operation"
      ],
      "metadata": {
        "id": "GM99t2LUQt7z"
      }
    },
    {
      "cell_type": "markdown",
      "source": [
        "#### Tuning the Batch Size and Number of Epochs"
      ],
      "metadata": {
        "id": "kUqvUj3xIFnq"
      }
    },
    {
      "cell_type": "code",
      "source": [
        "from scikeras.wrappers import KerasRegressor\n",
        "# Function to create model\n",
        "def create_model():\n",
        " # create model\n",
        " model = Sequential()\n",
        " model.add(Dense(12, input_dim=input_dim, activation='relu'))\n",
        " model.add(Dense(1, activation='sigmoid'))\n",
        " # Compile model\n",
        " model.compile(loss='mse', optimizer='adam', metrics=['accuracy'])\n",
        " return model\n",
        "\n",
        "# create model\n",
        "model = KerasRegressor(model=create_model, verbose=0)\n",
        "# define the grid search parameters\n",
        "batch_size = [10, 20, 40, 60, 80, 100]\n",
        "epochs = [10, 50, 100, 150, 200]\n",
        "param_grid = dict(batch_size=batch_size, epochs=epochs)\n",
        "grid = GridSearchCV(estimator=model, param_grid=param_grid, n_jobs=-1, cv=3)\n",
        "grid_result = grid.fit(X_train, y_train)\n",
        "\n",
        "# summarize results\n",
        "print(\"Best: %f using %s\" % (grid.best_score_, grid.best_params_))\n",
        "means = grid.cv_results_['mean_test_score']\n",
        "stds = grid.cv_results_['std_test_score']\n",
        "params = grid.cv_results_['params']\n",
        "for mean, stdev, param in zip(means, stds, params):\n",
        "    print(\"%f (%f) with: %r\" % (mean, stdev, param))\n",
        "# Best: 0.660034 using {'batch_size': 10, 'epochs': 100}"
      ],
      "metadata": {
        "colab": {
          "base_uri": "https://localhost:8080/"
        },
        "id": "I4m_n3nwIKpL",
        "outputId": "1d8c1ec9-29d1-47d7-c513-dbc73f89df6c"
      },
      "execution_count": 34,
      "outputs": [
        {
          "output_type": "stream",
          "name": "stdout",
          "text": [
            "Best: 0.660034 using {'batch_size': 10, 'epochs': 100}\n",
            "-3.806982 (2.711220) with: {'batch_size': 10, 'epochs': 10}\n",
            "-0.371873 (0.758674) with: {'batch_size': 10, 'epochs': 50}\n",
            "0.660034 (0.045309) with: {'batch_size': 10, 'epochs': 100}\n",
            "-4.409683 (3.224397) with: {'batch_size': 20, 'epochs': 10}\n",
            "-1.053588 (1.292450) with: {'batch_size': 20, 'epochs': 50}\n",
            "-0.321181 (1.283072) with: {'batch_size': 20, 'epochs': 100}\n",
            "-4.869103 (3.244922) with: {'batch_size': 40, 'epochs': 10}\n",
            "-2.511198 (2.053349) with: {'batch_size': 40, 'epochs': 50}\n",
            "-0.976495 (1.546245) with: {'batch_size': 40, 'epochs': 100}\n",
            "-3.648768 (2.612212) with: {'batch_size': 60, 'epochs': 10}\n",
            "-3.419965 (2.575887) with: {'batch_size': 60, 'epochs': 50}\n",
            "-2.148212 (2.089329) with: {'batch_size': 60, 'epochs': 100}\n",
            "-3.815472 (3.474393) with: {'batch_size': 80, 'epochs': 10}\n",
            "-4.068971 (2.798028) with: {'batch_size': 80, 'epochs': 50}\n",
            "-2.195263 (1.719028) with: {'batch_size': 80, 'epochs': 100}\n",
            "-3.686759 (2.839154) with: {'batch_size': 100, 'epochs': 10}\n",
            "-3.459312 (2.395009) with: {'batch_size': 100, 'epochs': 50}\n",
            "-2.818319 (2.060063) with: {'batch_size': 100, 'epochs': 100}\n"
          ]
        }
      ]
    },
    {
      "cell_type": "code",
      "source": [
        "'''\n",
        "# Importing the Keras libraries and packages\n",
        "from keras.models import Sequential\n",
        "from keras.layers import Dense\n",
        "from keras.layers import LSTM\n",
        "from keras.layers import Dropout\n",
        "from keras.wrappers.scikit_learn import KerasRegressor\n",
        "from sklearn.model_selection import RandomizedSearchCV, GridSearchCV, train_test_split\n",
        "from sklearn.metrics import mean_squared_log_error\n",
        "\n",
        "def create_model():\n",
        "\n",
        "    model = Sequential(optimizer='rmsprop', neurons=16, learning_rate=0.001)\n",
        "     # Adding the input layer and the first hidden layer\n",
        "    model.add(Dense(12, input_dim=input_dim, activation='relu'))\n",
        "    # Adding the output layer\n",
        "    model.add(Dense(1, activation='sigmoid'))\n",
        "    model.compile(loss='mse', optimizer='adam', metrics=['accuracy'])\n",
        "    return(model)\n",
        "\n",
        "batch_size = [10, 20]\n",
        "epochs = [10, 100]\n",
        "lr_values = [0.001, 0.01, 0.1, 0.2, 0.3]\n",
        "optimizers = ['rmsprop', 'adam', 'SGD']\n",
        "neuron_list = [16, 32, 64, 128, 256]\n",
        "\n",
        "param_grid = dict(batch_size=batch_size, epochs=epochs, learning_rate=lr_values)\n",
        "\n",
        "model1 = KerasRegressor(build_fn=create_model, verbose=0)\n",
        "grid1 = GridSearchCV(estimator=model1, param_grid=param_grid, cv = 2, n_jobs=-1, verbose=1)\n",
        "grid1.fit(X_train,y_train)\n",
        "\n",
        "#optimizer=SGD(lr, momentum)\n",
        "# optimizer = ['SGD', 'RMSprop', 'Adagrad', 'Adadelta', 'Adam', 'Adamax', 'Nadam']\n",
        "\n",
        "print(\" These are the results from Grid Search \" )\n",
        "print(\"\\n The best estimator overall in the searched params:\\n\",grid1.best_estimator_)\n",
        "print(\"\\n The best score overall in the searched params:\\n\",grid1.best_score_)\n",
        "print(\"\\n The best parameters overall in the searched params:\\n\",grid1.best_params_)\n",
        "\n",
        "train_pred = grid1.predict(X_train)\n",
        "print('rmsle: ', np.sqrt(mean_squared_log_error(y_train, train_pred)))\n",
        "print('rmse: ', np.sqrt(mean_squared_error(X_train, np.expm1(train_pred))))\n",
        "print('mae: ', mean_absolute_error(train_data.cpo_pri, np.expm1(train_pred)))\n",
        "# Reshaping X_train for efficient modelling\n",
        "'''"
      ],
      "metadata": {
        "id": "7wge4hAf5tlc",
        "colab": {
          "base_uri": "https://localhost:8080/",
          "height": 120
        },
        "outputId": "ecbd2e23-0a1f-4e08-90c8-ef93f52b8f10"
      },
      "execution_count": null,
      "outputs": [
        {
          "output_type": "execute_result",
          "data": {
            "text/plain": [
              "'\\n# Importing the Keras libraries and packages\\nfrom keras.models import Sequential\\nfrom keras.layers import Dense\\nfrom keras.layers import LSTM\\nfrom keras.layers import Dropout\\nfrom keras.wrappers.scikit_learn import KerasRegressor\\nfrom sklearn.model_selection import RandomizedSearchCV, GridSearchCV, train_test_split\\nfrom sklearn.metrics import mean_squared_log_error\\n\\ndef create_model():\\n\\n    model = Sequential(optimizer=\\'rmsprop\\', neurons=16, learning_rate=0.001)\\n     # Adding the input layer and the first hidden layer\\n    model.add(Dense(12, input_dim=input_dim, activation=\\'relu\\'))\\n    # Adding the output layer\\n    model.add(Dense(1, activation=\\'sigmoid\\'))\\n    model.compile(loss=\\'mse\\', optimizer=\\'adam\\', metrics=[\\'accuracy\\'])\\n    return(model)\\n\\nbatch_size = [10, 20]\\nepochs = [10, 100]\\nlr_values = [0.001, 0.01, 0.1, 0.2, 0.3]\\noptimizers = [\\'rmsprop\\', \\'adam\\', \\'SGD\\']\\nneuron_list = [16, 32, 64, 128, 256]\\n\\nparam_grid = dict(batch_size=batch_size, epochs=epochs, learning_rate=lr_values)\\n\\nmodel1 = KerasRegressor(build_fn=create_model, verbose=0)\\ngrid1 = GridSearchCV(estimator=model1, param_grid=param_grid, cv = 2, n_jobs=-1, verbose=1)\\ngrid1.fit(X_train,y_train)\\n\\n#optimizer=SGD(lr, momentum)\\n# optimizer = [\\'SGD\\', \\'RMSprop\\', \\'Adagrad\\', \\'Adadelta\\', \\'Adam\\', \\'Adamax\\', \\'Nadam\\']\\n\\nprint(\" These are the results from Grid Search \" )\\nprint(\"\\n The best estimator overall in the searched params:\\n\",grid1.best_estimator_)\\nprint(\"\\n The best score overall in the searched params:\\n\",grid1.best_score_)\\nprint(\"\\n The best parameters overall in the searched params:\\n\",grid1.best_params_)\\n\\ntrain_pred = grid1.predict(X_train)\\nprint(\\'rmsle: \\', np.sqrt(mean_squared_log_error(y_train, train_pred)))\\nprint(\\'rmse: \\', np.sqrt(mean_squared_error(X_train, np.expm1(train_pred))))\\nprint(\\'mae: \\', mean_absolute_error(train_data.cpo_pri, np.expm1(train_pred)))\\n# Reshaping X_train for efficient modelling\\n'"
            ],
            "application/vnd.google.colaboratory.intrinsic+json": {
              "type": "string"
            }
          },
          "metadata": {},
          "execution_count": 242
        }
      ]
    },
    {
      "cell_type": "markdown",
      "source": [
        "#### Grid searching for Network Weight Initialization"
      ],
      "metadata": {
        "id": "KBbWtCt50hTq"
      }
    },
    {
      "cell_type": "code",
      "source": [
        "# Function to create the MLP model.\n",
        "def create_model(init_mode='uniform'):\n",
        " model = Sequential()\n",
        " model.add(Dense(12, input_dim = input_dim, kernel_initializer=init_mode, activation='relu'))\n",
        " model.add(Dense(1, kernel_initializer=init_mode, activation='sigmoid'))\n",
        " # Compile model\n",
        " model.compile(loss='mse', optimizer='adam', metrics=['accuracy'])\n",
        " return model\n",
        "\n",
        "# create model\n",
        "model = KerasRegressor(model=create_model, epochs=100, batch_size=10, verbose=0)\n",
        "# define the grid search parameters\n",
        "init_mode = ['uniform', 'lecun_uniform', 'normal', 'zero', 'glorot_normal', 'glorot_uniform', 'he_normal', 'he_uniform']\n",
        "param_grid = dict(model__init_mode=init_mode)\n",
        "grid = GridSearchCV(estimator=model, param_grid=param_grid, n_jobs=-1, cv=3)\n",
        "grid_result = grid.fit(X_train, y_train)\n",
        "# summarize results\n",
        "print(\"Best: %f using %s\" % (grid_result.best_score_, grid_result.best_params_))\n",
        "means = grid_result.cv_results_['mean_test_score']\n",
        "stds = grid_result.cv_results_['std_test_score']\n",
        "params = grid_result.cv_results_['params']\n",
        "for mean, stdev, param in zip(means, stds, params):\n",
        "    print(\"%f (%f) with: %r\" % (mean, stdev, param))\n",
        "\n",
        "# summarize results\n",
        "print(\"Best: %f using %s\" % (grid.best_score_, grid.best_params_))\n",
        "means = grid.cv_results_['mean_test_score']\n",
        "stds = grid.cv_results_['std_test_score']\n",
        "params = grid.cv_results_['params']\n",
        "for mean, stdev, param in zip(means, stds, params):\n",
        "    print(\"%f (%f) with: %r\" % (mean, stdev, param))\n",
        "# Best: 0.880143 using {'model__init_mode': 'glorot_normal'}"
      ],
      "metadata": {
        "colab": {
          "base_uri": "https://localhost:8080/"
        },
        "id": "HqjOwzXR0oBI",
        "outputId": "2a375561-606e-4e67-dd44-b8f2be8f31c2"
      },
      "execution_count": 35,
      "outputs": [
        {
          "output_type": "stream",
          "name": "stdout",
          "text": [
            "Best: 0.714379 using {'model__init_mode': 'glorot_normal'}\n",
            "0.367289 (0.440376) with: {'model__init_mode': 'uniform'}\n",
            "0.514104 (0.336416) with: {'model__init_mode': 'lecun_uniform'}\n",
            "0.310830 (0.475963) with: {'model__init_mode': 'normal'}\n",
            "-2.960894 (2.471735) with: {'model__init_mode': 'zero'}\n",
            "0.714379 (0.044029) with: {'model__init_mode': 'glorot_normal'}\n",
            "0.600100 (0.076231) with: {'model__init_mode': 'glorot_uniform'}\n",
            "0.609390 (0.213475) with: {'model__init_mode': 'he_normal'}\n",
            "0.691139 (0.240219) with: {'model__init_mode': 'he_uniform'}\n",
            "Best: 0.714379 using {'model__init_mode': 'glorot_normal'}\n",
            "0.367289 (0.440376) with: {'model__init_mode': 'uniform'}\n",
            "0.514104 (0.336416) with: {'model__init_mode': 'lecun_uniform'}\n",
            "0.310830 (0.475963) with: {'model__init_mode': 'normal'}\n",
            "-2.960894 (2.471735) with: {'model__init_mode': 'zero'}\n",
            "0.714379 (0.044029) with: {'model__init_mode': 'glorot_normal'}\n",
            "0.600100 (0.076231) with: {'model__init_mode': 'glorot_uniform'}\n",
            "0.609390 (0.213475) with: {'model__init_mode': 'he_normal'}\n",
            "0.691139 (0.240219) with: {'model__init_mode': 'he_uniform'}\n"
          ]
        }
      ]
    },
    {
      "cell_type": "markdown",
      "source": [
        "#### Grid Searching for Neuron Activation Function"
      ],
      "metadata": {
        "id": "0_ojdZEtw8eM"
      }
    },
    {
      "cell_type": "code",
      "source": [
        "def create_model(activation='relu'):\n",
        " # create model\n",
        " model = Sequential()\n",
        " model.add(Dense(12, input_dim = input_dim, kernel_initializer='uniform', activation=activation))\n",
        " model.add(Dense(1, kernel_initializer='uniform', activation='sigmoid'))\n",
        " # Compile model\n",
        " model.compile(loss='mse', optimizer='adam', metrics=['accuracy'])\n",
        " return model\n",
        "# fix random seed for reproducibility\n",
        "seed = 7\n",
        "tf.random.set_seed(seed)\n",
        "\n",
        "# create model\n",
        "model = KerasRegressor(model=create_model, epochs=100, batch_size=10, verbose=0)\n",
        "# define the grid search parameters\n",
        "activation = ['softmax', 'softplus', 'softsign', 'relu', 'tanh', 'sigmoid', 'hard_sigmoid', 'linear']\n",
        "param_grid = dict(model__activation=activation)\n",
        "grid = GridSearchCV(estimator=model, param_grid=param_grid, n_jobs=-1, cv=3)\n",
        "grid_result = grid.fit(X_train, y_train)\n",
        "# summarize results\n",
        "print(\"Best: %f using %s\" % (grid_result.best_score_, grid_result.best_params_))\n",
        "means = grid_result.cv_results_['mean_test_score']\n",
        "stds = grid_result.cv_results_['std_test_score']\n",
        "params = grid_result.cv_results_['params']\n",
        "for mean, stdev, param in zip(means, stds, params):\n",
        "    print(\"%f (%f) with: %r\" % (mean, stdev, param))\n",
        "\n",
        "# summarize results\n",
        "print(\"Best: %f using %s\" % (grid.best_score_, grid.best_params_))\n",
        "means = grid.cv_results_['mean_test_score']\n",
        "stds = grid.cv_results_['std_test_score']\n",
        "params = grid.cv_results_['params']\n",
        "for mean, stdev, param in zip(means, stds, params):\n",
        "    print(\"%f (%f) with: %r\" % (mean, stdev, param))\n",
        "\n",
        "# Best: 0.811305 using {'model__activation': 'linear'}"
      ],
      "metadata": {
        "colab": {
          "base_uri": "https://localhost:8080/"
        },
        "id": "CDj-k762xCWD",
        "outputId": "ad9921a6-1b7d-4e05-9ef9-f4c4bc3cbddc"
      },
      "execution_count": 36,
      "outputs": [
        {
          "output_type": "stream",
          "name": "stdout",
          "text": [
            "Best: 0.811305 using {'model__activation': 'linear'}\n",
            "-0.120665 (0.610461) with: {'model__activation': 'softmax'}\n",
            "0.423754 (0.369238) with: {'model__activation': 'softplus'}\n",
            "0.732765 (0.052409) with: {'model__activation': 'softsign'}\n",
            "0.717310 (0.095503) with: {'model__activation': 'relu'}\n",
            "0.766791 (0.040225) with: {'model__activation': 'tanh'}\n",
            "0.376513 (0.404642) with: {'model__activation': 'sigmoid'}\n",
            "0.396346 (0.272018) with: {'model__activation': 'hard_sigmoid'}\n",
            "0.811305 (0.033547) with: {'model__activation': 'linear'}\n",
            "Best: 0.811305 using {'model__activation': 'linear'}\n",
            "-0.120665 (0.610461) with: {'model__activation': 'softmax'}\n",
            "0.423754 (0.369238) with: {'model__activation': 'softplus'}\n",
            "0.732765 (0.052409) with: {'model__activation': 'softsign'}\n",
            "0.717310 (0.095503) with: {'model__activation': 'relu'}\n",
            "0.766791 (0.040225) with: {'model__activation': 'tanh'}\n",
            "0.376513 (0.404642) with: {'model__activation': 'sigmoid'}\n",
            "0.396346 (0.272018) with: {'model__activation': 'hard_sigmoid'}\n",
            "0.811305 (0.033547) with: {'model__activation': 'linear'}\n"
          ]
        }
      ]
    },
    {
      "cell_type": "markdown",
      "source": [
        "#### Grid Searching Learning Rate and Momentum"
      ],
      "metadata": {
        "id": "4hp6cL8zjyL4"
      }
    },
    {
      "cell_type": "code",
      "source": [
        "def create_model():\n",
        " # create model\n",
        " model = Sequential()\n",
        " model.add(Dense(12, input_dim=input_dim, activation='relu'))\n",
        " model.add(Dense(1, activation='sigmoid'))\n",
        " return model\n",
        "\n",
        "model = KerasRegressor(model=create_model, loss=\"mse\", optimizer=\"SGD\", epochs=100, batch_size=10, verbose=0)\n",
        "# define the grid search parameters\n",
        "learn_rate = [0.001, 0.01, 0.1, 0.2, 0.3]\n",
        "momentum = [0.0, 0.2, 0.4, 0.6, 0.8, 0.9]\n",
        "param_grid = dict(optimizer__learning_rate=learn_rate, optimizer__momentum=momentum)\n",
        "grid = GridSearchCV(estimator=model, param_grid=param_grid, n_jobs=-1, cv=3)\n",
        "grid_result = grid.fit(X_train, y_train)\n",
        "\n",
        "# summarize results\n",
        "print(\"Best: %f using %s\" % (grid.best_score_, grid.best_params_))\n",
        "means = grid.cv_results_['mean_test_score']\n",
        "stds = grid.cv_results_['std_test_score']\n",
        "params = grid.cv_results_['params']\n",
        "for mean, stdev, param in zip(means, stds, params):\n",
        "    print(\"%f (%f) with: %r\" % (mean, stdev, param))\n",
        "# Best: 0.831320 using {'optimizer__learning_rate': 0.3, 'optimizer__momentum': 0.2}"
      ],
      "metadata": {
        "id": "Rj4XKGtTZiwp",
        "outputId": "683dc352-a654-4e8e-8f89-671aed0ba88a",
        "colab": {
          "base_uri": "https://localhost:8080/"
        }
      },
      "execution_count": 37,
      "outputs": [
        {
          "output_type": "stream",
          "name": "stdout",
          "text": [
            "Best: 0.831320 using {'optimizer__learning_rate': 0.3, 'optimizer__momentum': 0.2}\n",
            "-2.937693 (2.901382) with: {'optimizer__learning_rate': 0.001, 'optimizer__momentum': 0.0}\n",
            "-3.058722 (2.911165) with: {'optimizer__learning_rate': 0.001, 'optimizer__momentum': 0.2}\n",
            "-3.097848 (3.189768) with: {'optimizer__learning_rate': 0.001, 'optimizer__momentum': 0.4}\n",
            "-2.798180 (2.768077) with: {'optimizer__learning_rate': 0.001, 'optimizer__momentum': 0.6}\n",
            "-2.123294 (1.722098) with: {'optimizer__learning_rate': 0.001, 'optimizer__momentum': 0.8}\n",
            "-2.303982 (1.932376) with: {'optimizer__learning_rate': 0.001, 'optimizer__momentum': 0.9}\n",
            "-2.088894 (1.801603) with: {'optimizer__learning_rate': 0.01, 'optimizer__momentum': 0.0}\n",
            "-1.219125 (1.252403) with: {'optimizer__learning_rate': 0.01, 'optimizer__momentum': 0.2}\n",
            "-1.978263 (1.771028) with: {'optimizer__learning_rate': 0.01, 'optimizer__momentum': 0.4}\n",
            "-0.612661 (0.965314) with: {'optimizer__learning_rate': 0.01, 'optimizer__momentum': 0.6}\n",
            "0.428185 (0.191219) with: {'optimizer__learning_rate': 0.01, 'optimizer__momentum': 0.8}\n",
            "0.710294 (0.061459) with: {'optimizer__learning_rate': 0.01, 'optimizer__momentum': 0.9}\n",
            "0.578143 (0.201410) with: {'optimizer__learning_rate': 0.1, 'optimizer__momentum': 0.0}\n",
            "0.495286 (0.321216) with: {'optimizer__learning_rate': 0.1, 'optimizer__momentum': 0.2}\n",
            "0.756134 (0.064363) with: {'optimizer__learning_rate': 0.1, 'optimizer__momentum': 0.4}\n",
            "0.791912 (0.075447) with: {'optimizer__learning_rate': 0.1, 'optimizer__momentum': 0.6}\n",
            "0.769476 (0.064047) with: {'optimizer__learning_rate': 0.1, 'optimizer__momentum': 0.8}\n",
            "0.777449 (0.087246) with: {'optimizer__learning_rate': 0.1, 'optimizer__momentum': 0.9}\n",
            "0.605399 (0.278757) with: {'optimizer__learning_rate': 0.2, 'optimizer__momentum': 0.0}\n",
            "0.798734 (0.039215) with: {'optimizer__learning_rate': 0.2, 'optimizer__momentum': 0.2}\n",
            "0.666348 (0.065595) with: {'optimizer__learning_rate': 0.2, 'optimizer__momentum': 0.4}\n",
            "0.773939 (0.025155) with: {'optimizer__learning_rate': 0.2, 'optimizer__momentum': 0.6}\n",
            "0.739557 (0.170556) with: {'optimizer__learning_rate': 0.2, 'optimizer__momentum': 0.8}\n",
            "0.680816 (0.267917) with: {'optimizer__learning_rate': 0.2, 'optimizer__momentum': 0.9}\n",
            "0.722262 (0.073268) with: {'optimizer__learning_rate': 0.3, 'optimizer__momentum': 0.0}\n",
            "0.831320 (0.033171) with: {'optimizer__learning_rate': 0.3, 'optimizer__momentum': 0.2}\n",
            "0.784785 (0.069191) with: {'optimizer__learning_rate': 0.3, 'optimizer__momentum': 0.4}\n",
            "0.772361 (0.130248) with: {'optimizer__learning_rate': 0.3, 'optimizer__momentum': 0.6}\n",
            "0.718403 (0.118973) with: {'optimizer__learning_rate': 0.3, 'optimizer__momentum': 0.8}\n",
            "0.788432 (0.149850) with: {'optimizer__learning_rate': 0.3, 'optimizer__momentum': 0.9}\n"
          ]
        }
      ]
    },
    {
      "cell_type": "markdown",
      "source": [
        "#### Grid Searching the Number of Neurons in the Hidden Layer"
      ],
      "metadata": {
        "id": "IsTvpuolj99l"
      }
    },
    {
      "cell_type": "code",
      "source": [
        "def create_model(neurons):\n",
        " # create model\n",
        " model = Sequential()\n",
        " model.add(Dense(neurons, input_dim = input_dim, kernel_initializer='uniform', activation='linear', kernel_constraint=MaxNorm(4)))\n",
        " model.add(Dropout(0.2))\n",
        " model.add(Dense(1, kernel_initializer='uniform', activation='sigmoid'))\n",
        " # Compile model\n",
        " model.compile(loss='mse', optimizer='adam', metrics=['accuracy'])\n",
        " return model\n",
        "\n",
        "# create model\n",
        "model = KerasRegressor(model=create_model, epochs=100, batch_size=10, verbose=0)\n",
        "# define the grid search parameters\n",
        "neurons = [1, 5, 10, 15, 20, 25, 30]\n",
        "param_grid = dict(model__neurons=neurons)\n",
        "grid = GridSearchCV(estimator=model, param_grid=param_grid, n_jobs=-1, cv=3)\n",
        "grid_result = grid.fit(X_train, y_train)\n",
        "# summarize results\n",
        "print(\"Best: %f using %s\" % (grid_result.best_score_, grid_result.best_params_))\n",
        "means = grid_result.cv_results_['mean_test_score']\n",
        "stds = grid_result.cv_results_['std_test_score']\n",
        "params = grid_result.cv_results_['params']\n",
        "for mean, stdev, param in zip(means, stds, params):\n",
        "    print(\"%f (%f) with: %r\" % (mean, stdev, param))\n",
        "# Best: 0.831356 using {'model__neurons': 30}"
      ],
      "metadata": {
        "id": "Sc2bRt_TwlBy",
        "outputId": "d3fb310a-9e68-4df4-da61-8d77e39dd3d2",
        "colab": {
          "base_uri": "https://localhost:8080/"
        }
      },
      "execution_count": 43,
      "outputs": [
        {
          "output_type": "stream",
          "name": "stdout",
          "text": [
            "Best: 0.831356 using {'model__neurons': 30}\n",
            "-0.598759 (1.044286) with: {'model__neurons': 1}\n",
            "0.628020 (0.113167) with: {'model__neurons': 5}\n",
            "0.785020 (0.015288) with: {'model__neurons': 10}\n",
            "0.815602 (0.040162) with: {'model__neurons': 15}\n",
            "0.816506 (0.042609) with: {'model__neurons': 20}\n",
            "0.826775 (0.033953) with: {'model__neurons': 25}\n",
            "0.831356 (0.039824) with: {'model__neurons': 30}\n"
          ]
        }
      ]
    },
    {
      "cell_type": "markdown",
      "source": [
        "#### Grid Searching the Dropout Regularization"
      ],
      "metadata": {
        "id": "64Sb6XWIsLc3"
      }
    },
    {
      "cell_type": "code",
      "source": [
        "def create_model(dropout_rate, weight_constraint):\n",
        " model = Sequential()\n",
        " model.add(Dense(12, input_dim=input_dim, kernel_initializer='uniform', activation='linear', kernel_constraint=MaxNorm(weight_constraint)))\n",
        " model.add(Dropout(dropout_rate))\n",
        " model.add(Dense(1, kernel_initializer='uniform', activation='sigmoid'))\n",
        " # Compile model\n",
        " model.compile(loss='mse', optimizer='adam', metrics=['accuracy'])\n",
        " return model\n",
        "\n",
        "# create model\n",
        "model = KerasRegressor(model=create_model, epochs=100, batch_size=10, verbose=0)\n",
        "# define the grid search parameters\n",
        "weight_constraint = [1.0, 2.0, 3.0, 4.0, 5.0]\n",
        "dropout_rate = [0.0, 0.1, 0.2, 0.3, 0.4, 0.5, 0.6, 0.7, 0.8, 0.9]\n",
        "param_grid = dict(model__dropout_rate=dropout_rate, model__weight_constraint=weight_constraint)\n",
        "#param_grid = dict(model__dropout_rate=dropout_rate)\n",
        "grid = GridSearchCV(estimator=model, param_grid=param_grid, n_jobs=-1, cv=3)\n",
        "grid_result = grid.fit(X_train, y_train)\n",
        "\n",
        "# summarize results\n",
        "print(\"Best: %f using %s\" % (grid.best_score_, grid.best_params_))\n",
        "means = grid.cv_results_['mean_test_score']\n",
        "stds = grid.cv_results_['std_test_score']\n",
        "params = grid.cv_results_['params']\n",
        "for mean, stdev, param in zip(means, stds, params):\n",
        "    print(\"%f (%f) with: %r\" % (mean, stdev, param))\n",
        "# Best: 0.874012 using {'model__dropout_rate': 0.0, 'model__weight_constraint': 2.0}"
      ],
      "metadata": {
        "colab": {
          "base_uri": "https://localhost:8080/"
        },
        "id": "vjGFnqacssZ8",
        "outputId": "ab0be034-5b4b-4668-9300-20149bd29b84"
      },
      "execution_count": 44,
      "outputs": [
        {
          "output_type": "stream",
          "name": "stdout",
          "text": [
            "Best: 0.813301 using {'model__dropout_rate': 0.1, 'model__weight_constraint': 1.0}\n",
            "0.800939 (0.022703) with: {'model__dropout_rate': 0.0, 'model__weight_constraint': 1.0}\n",
            "0.809476 (0.044893) with: {'model__dropout_rate': 0.0, 'model__weight_constraint': 2.0}\n",
            "0.801371 (0.015572) with: {'model__dropout_rate': 0.0, 'model__weight_constraint': 3.0}\n",
            "0.806582 (0.012858) with: {'model__dropout_rate': 0.0, 'model__weight_constraint': 4.0}\n",
            "0.805014 (0.042733) with: {'model__dropout_rate': 0.0, 'model__weight_constraint': 5.0}\n",
            "0.813301 (0.036879) with: {'model__dropout_rate': 0.1, 'model__weight_constraint': 1.0}\n",
            "0.795358 (0.047911) with: {'model__dropout_rate': 0.1, 'model__weight_constraint': 2.0}\n",
            "0.803838 (0.028893) with: {'model__dropout_rate': 0.1, 'model__weight_constraint': 3.0}\n",
            "0.802709 (0.050642) with: {'model__dropout_rate': 0.1, 'model__weight_constraint': 4.0}\n",
            "0.796650 (0.059810) with: {'model__dropout_rate': 0.1, 'model__weight_constraint': 5.0}\n",
            "0.808421 (0.023590) with: {'model__dropout_rate': 0.2, 'model__weight_constraint': 1.0}\n",
            "0.788299 (0.021571) with: {'model__dropout_rate': 0.2, 'model__weight_constraint': 2.0}\n",
            "0.800785 (0.032451) with: {'model__dropout_rate': 0.2, 'model__weight_constraint': 3.0}\n",
            "0.802565 (0.049483) with: {'model__dropout_rate': 0.2, 'model__weight_constraint': 4.0}\n",
            "0.792628 (0.039305) with: {'model__dropout_rate': 0.2, 'model__weight_constraint': 5.0}\n",
            "0.801535 (0.016252) with: {'model__dropout_rate': 0.3, 'model__weight_constraint': 1.0}\n",
            "0.808495 (0.039237) with: {'model__dropout_rate': 0.3, 'model__weight_constraint': 2.0}\n",
            "0.796358 (0.039554) with: {'model__dropout_rate': 0.3, 'model__weight_constraint': 3.0}\n",
            "0.786924 (0.046001) with: {'model__dropout_rate': 0.3, 'model__weight_constraint': 4.0}\n",
            "0.798836 (0.015626) with: {'model__dropout_rate': 0.3, 'model__weight_constraint': 5.0}\n",
            "0.770158 (0.040084) with: {'model__dropout_rate': 0.4, 'model__weight_constraint': 1.0}\n",
            "0.772944 (0.021297) with: {'model__dropout_rate': 0.4, 'model__weight_constraint': 2.0}\n",
            "0.781990 (0.046633) with: {'model__dropout_rate': 0.4, 'model__weight_constraint': 3.0}\n",
            "0.780869 (0.030711) with: {'model__dropout_rate': 0.4, 'model__weight_constraint': 4.0}\n",
            "0.800474 (0.039423) with: {'model__dropout_rate': 0.4, 'model__weight_constraint': 5.0}\n",
            "0.727959 (0.042222) with: {'model__dropout_rate': 0.5, 'model__weight_constraint': 1.0}\n",
            "0.754823 (0.017531) with: {'model__dropout_rate': 0.5, 'model__weight_constraint': 2.0}\n",
            "0.769843 (0.039649) with: {'model__dropout_rate': 0.5, 'model__weight_constraint': 3.0}\n",
            "0.771518 (0.040729) with: {'model__dropout_rate': 0.5, 'model__weight_constraint': 4.0}\n",
            "0.754351 (0.018220) with: {'model__dropout_rate': 0.5, 'model__weight_constraint': 5.0}\n",
            "0.714242 (0.031873) with: {'model__dropout_rate': 0.6, 'model__weight_constraint': 1.0}\n",
            "0.696458 (0.042287) with: {'model__dropout_rate': 0.6, 'model__weight_constraint': 2.0}\n",
            "0.698018 (0.029305) with: {'model__dropout_rate': 0.6, 'model__weight_constraint': 3.0}\n",
            "0.726716 (0.027046) with: {'model__dropout_rate': 0.6, 'model__weight_constraint': 4.0}\n",
            "0.704570 (0.035147) with: {'model__dropout_rate': 0.6, 'model__weight_constraint': 5.0}\n",
            "0.659222 (0.046095) with: {'model__dropout_rate': 0.7, 'model__weight_constraint': 1.0}\n",
            "0.583188 (0.117082) with: {'model__dropout_rate': 0.7, 'model__weight_constraint': 2.0}\n",
            "0.599394 (0.104084) with: {'model__dropout_rate': 0.7, 'model__weight_constraint': 3.0}\n",
            "0.638304 (0.076712) with: {'model__dropout_rate': 0.7, 'model__weight_constraint': 4.0}\n",
            "0.675873 (0.046148) with: {'model__dropout_rate': 0.7, 'model__weight_constraint': 5.0}\n",
            "0.384578 (0.271488) with: {'model__dropout_rate': 0.8, 'model__weight_constraint': 1.0}\n",
            "0.439503 (0.207631) with: {'model__dropout_rate': 0.8, 'model__weight_constraint': 2.0}\n",
            "0.439137 (0.208582) with: {'model__dropout_rate': 0.8, 'model__weight_constraint': 3.0}\n",
            "0.441334 (0.179945) with: {'model__dropout_rate': 0.8, 'model__weight_constraint': 4.0}\n",
            "0.471918 (0.180310) with: {'model__dropout_rate': 0.8, 'model__weight_constraint': 5.0}\n",
            "-0.202808 (0.635580) with: {'model__dropout_rate': 0.9, 'model__weight_constraint': 1.0}\n",
            "-0.146376 (0.577093) with: {'model__dropout_rate': 0.9, 'model__weight_constraint': 2.0}\n",
            "-0.306301 (0.709818) with: {'model__dropout_rate': 0.9, 'model__weight_constraint': 3.0}\n",
            "-0.148676 (0.598644) with: {'model__dropout_rate': 0.9, 'model__weight_constraint': 4.0}\n",
            "-0.246595 (0.658542) with: {'model__dropout_rate': 0.9, 'model__weight_constraint': 5.0}\n"
          ]
        }
      ]
    },
    {
      "cell_type": "markdown",
      "source": [
        "#### Grid searching for Training Optimization"
      ],
      "metadata": {
        "id": "EWftRQ9bOPEo"
      }
    },
    {
      "cell_type": "code",
      "source": [
        "#import time\n",
        "#%time\n",
        "def create_model():\n",
        " model = Sequential()\n",
        " model.add(Dense(12, input_dim=input_dim, activation='relu'))\n",
        " model.add(Dense(1, activation='sigmoid'))\n",
        " return model\n",
        "\n",
        "# create model\n",
        "model = KerasRegressor(model=create_model, loss=\"mse\", epochs=100, batch_size=10, verbose=0)\n",
        "# define the grid search parameters\n",
        "optimizer = ['SGD', 'RMSprop', 'Adagrad', 'Adadelta', 'Adam', 'Adamax', 'Nadam']\n",
        "param_grid = dict(optimizer=optimizer)\n",
        "grid = GridSearchCV(estimator=model, param_grid=param_grid, n_jobs=-1, cv=3)\n",
        "grid_result = grid.fit(X_train, y_train)\n",
        "# summarize results\n",
        "print(\"Best: %f using %s\" % (grid_result.best_score_, grid_result.best_params_))\n",
        "means = grid_result.cv_results_['mean_test_score']\n",
        "stds = grid_result.cv_results_['std_test_score']\n",
        "params = grid_result.cv_results_['params']\n",
        "for mean, stdev, param in zip(means, stds, params):\n",
        "    print(\"%f (%f) with: %r\" % (mean, stdev, param))\n",
        "# Best: 0.864805 using {'optimizer': 'Nadam'}"
      ],
      "metadata": {
        "colab": {
          "base_uri": "https://localhost:8080/"
        },
        "id": "EGmUwKDWOOLW",
        "outputId": "df7078dd-76e5-45a4-864b-882c50794a39"
      },
      "execution_count": null,
      "outputs": [
        {
          "output_type": "stream",
          "name": "stdout",
          "text": [
            "CPU times: user 5 µs, sys: 0 ns, total: 5 µs\n",
            "Wall time: 13.1 µs\n",
            "Best: 0.864805 using {'optimizer': 'Nadam'}\n",
            "-1.024778 (0.843313) with: {'optimizer': 'SGD'}\n",
            "0.846145 (0.030875) with: {'optimizer': 'RMSprop'}\n",
            "-2.576708 (1.549857) with: {'optimizer': 'Adagrad'}\n",
            "-1.953666 (2.327512) with: {'optimizer': 'Adadelta'}\n",
            "0.855693 (0.047866) with: {'optimizer': 'Adam'}\n",
            "-0.198660 (1.066232) with: {'optimizer': 'Adamax'}\n",
            "0.864805 (0.039096) with: {'optimizer': 'Nadam'}\n"
          ]
        }
      ]
    },
    {
      "cell_type": "code",
      "source": [
        "'''\n",
        "def create_model(optimizer = 'rmsprop', units = 16, learning_rate = 0.001):\n",
        "    ann = Sequential() # Initialising ANN\n",
        "    ann.add(tf.keras.layers.Dense(units = units, activation = \"relu\")) # Adding First Hidden Layer\n",
        "    ann.add(tf.keras.layers.Dense(units = units, activation = \"relu\")) # Adding Second Hidden Layer\n",
        "    ann.add(tf.keras.layers.Dense(units = units, activation = \"relu\")) # Adding Third Hidden Layer\n",
        "    ann.add(tf.keras.layers.Dense(units = 1)) # Adding Output Layer\n",
        "    ann.compile(optimizer = optimizer, loss = 'mean_absolute_error') # Compiling ANN\n",
        "    return ann\n",
        "\n",
        "ann = KerasRegressor(model = create_model,\n",
        "                     verbose = 0,\n",
        "                     learning_rate = 0.001,\n",
        "                     units = 16\n",
        "                     )\n",
        "\n",
        "optimizers = ['rmsprop', 'adam', 'SGD']\n",
        "epoch_values = [10, 25, 50, 100, 150, 200]\n",
        "batches = [10, 20, 30, 40, 50, 100, 1000]\n",
        "units = [16, 32, 64, 128, 256]\n",
        "lr_values = [0.001, 0.01, 0.1, 0.2, 0.3]\n",
        "\n",
        "hyperparameters = dict(optimizer = optimizers,\n",
        "                        epochs = epoch_values,\n",
        "                        batch_size = batches,\n",
        "                        units = units,\n",
        "                        learning_rate = lr_values\n",
        "                        )\n",
        "\n",
        "grid = GridSearchCV(estimator = ann, cv = 5, param_grid = hyperparameters)\n",
        "\n",
        "history = grid.fit(X_train,\n",
        "                   Y_train,\n",
        "                   batch_size = 32,\n",
        "                   validation_data = (X_test, Y_test),\n",
        "                   epochs = 100\n",
        "                   ) # Fitting ANN\n",
        "'''"
      ],
      "metadata": {
        "id": "u0qUFyxRcihw"
      },
      "execution_count": null,
      "outputs": []
    },
    {
      "cell_type": "code",
      "source": [],
      "metadata": {
        "id": "AVgnqnbYcilS"
      },
      "execution_count": null,
      "outputs": []
    },
    {
      "cell_type": "code",
      "source": [],
      "metadata": {
        "id": "9NmIajvwcio-"
      },
      "execution_count": null,
      "outputs": []
    }
  ]
}