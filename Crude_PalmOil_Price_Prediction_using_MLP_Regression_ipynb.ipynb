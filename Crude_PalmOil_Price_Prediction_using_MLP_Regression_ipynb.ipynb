{
  "nbformat": 4,
  "nbformat_minor": 0,
  "metadata": {
    "colab": {
      "provenance": [],
      "authorship_tag": "ABX9TyMACtbBNC5l8N3cRc3il3yr",
      "include_colab_link": true
    },
    "kernelspec": {
      "name": "python3",
      "display_name": "Python 3"
    },
    "language_info": {
      "name": "python"
    }
  },
  "cells": [
    {
      "cell_type": "markdown",
      "metadata": {
        "id": "view-in-github",
        "colab_type": "text"
      },
      "source": [
        "<a href=\"https://colab.research.google.com/github/mofuoku417/Univariate_Crude_Palm_Oil_Price_Prediction/blob/main/Crude_PalmOil_Price_Prediction_using_MLP_Regression_ipynb.ipynb\" target=\"_parent\"><img src=\"https://colab.research.google.com/assets/colab-badge.svg\" alt=\"Open In Colab\"/></a>"
      ]
    },
    {
      "cell_type": "markdown",
      "source": [
        "\n",
        "> **Predict Monthly Crude Palm Oil Price  with   Deep Learning (Multi-layer Perception Univariate Time series)**\n",
        "\n",
        "\n",
        "> Project Objective:\n",
        "\n",
        "> Design and Build an MLP in tensorflow to predict Monthly Crude Palm Oil Price\n",
        "\n",
        "\n",
        "  * Data range: 1993 - 2022\n",
        "\n",
        "  The dataset is a CSV format with:\n",
        "\n",
        "  1. Monthly timestamp\n",
        "  2. Monthly Crude Palm Oil Prices\n",
        "\n",
        "'''\n",
        "\n",
        "\n",
        "1. Project Overview and Import Libraries\n",
        "2. Load and Inspect Monthly Crude Oil Price History\n",
        "1. Data Preprocessing\n",
        "2. Build the MLP model\n",
        "1. Train the MLP\n",
        "2. Plot Metrics and Evaluate the Model\n",
        "2. Monthly Crude Palm Oil Prices\n",
        "2. Visualize the predictions\n",
        "\n",
        "'''"
      ],
      "metadata": {
        "id": "0zxfRiW7u7fU"
      }
    },
    {
      "cell_type": "markdown",
      "source": [
        "###Load the Required Libraries"
      ],
      "metadata": {
        "id": "1U0x9s_Qkzym"
      }
    },
    {
      "cell_type": "code",
      "execution_count": 207,
      "metadata": {
        "id": "v-ZYvdYfYyXU"
      },
      "outputs": [],
      "source": [
        "!pip install scikeras\n",
        "import math\n",
        "import numpy as np # Python's fundamental package for scientific computing\n",
        "import pandas as pd # For data analysis and manipulation\n",
        "from datetime import date, timedelta # Date Operations\n",
        "import matplotlib.pyplot as plt # To aid in visualizing\n",
        "%matplotlib inline\n",
        "import seaborn as sns\n",
        "import matplotlib.dates as mdates # Date formatting\n",
        "from sklearn.metrics import mean_absolute_error, mean_squared_error # To assess model performance error computation\n",
        "from sklearn.preprocessing import MinMaxScaler # to standardize the crude palm oil price data\n",
        "from tensorflow.keras.models import Sequential # Deep learning library, that is used in neural networks\n",
        "#from tensorflow.keras.layers import LSTM, Dense # Deep learning classes for densely linked recurrent and regular layers\n",
        "import tensorflow as tf\n",
        "from keras.layers import Dropout\n",
        "from keras.wrappers.scikit_learn import KerasRegressor\n",
        "from sklearn.neural_network import MLPRegressor\n",
        "from sklearn.model_selection import RandomizedSearchCV, GridSearchCV, train_test_split\n",
        "from sklearn.metrics import mean_squared_log_error\n",
        "from tensorflow.keras import Sequential\n",
        "from tensorflow.keras.layers import Dense\n",
        "from keras.layers import Activation, Dense\n",
        "from sklearn.metrics import r2_score\n",
        "from sklearn.metrics import mean_squared_error\n",
        "from pandas import read_csv\n",
        "import seaborn as sns\n",
        "sns.set_style('white', { 'axes.spines.right': False, 'axes.spines.top': False})\n",
        "import random\n",
        "random.seed(1) #Making this script reproducible"
      ]
    },
    {
      "cell_type": "code",
      "source": [
        "# Establishing a timetable for data extraction\n",
        "today = date.today()\n",
        "end_date = today.strftime(\"%Y-%m\")\n",
        "start_date = '1993-03'\n",
        "\n",
        "featurename = 'Price'\n",
        "\n",
        "#Load dataset\n",
        "path = 'https://raw.githubusercontent.com/mofuoku417/Univariate_Crude_Palm_Oil_Price_Prediction/main/Data/data.csv'\n",
        "df = read_csv(path, parse_dates=True)"
      ],
      "metadata": {
        "id": "D3xS2kEJ1qAO"
      },
      "execution_count": 208,
      "outputs": []
    },
    {
      "cell_type": "code",
      "source": [
        "# Examining the dataset's structure\n",
        "print(df.shape)\n",
        "df.head(5)"
      ],
      "metadata": {
        "colab": {
          "base_uri": "https://localhost:8080/",
          "height": 221
        },
        "id": "JA1ABCqN91N7",
        "outputId": "6f5dd1d4-3119-47e1-b2ba-85128933a3db"
      },
      "execution_count": 209,
      "outputs": [
        {
          "output_type": "stream",
          "name": "stdout",
          "text": [
            "(361, 3)\n"
          ]
        },
        {
          "output_type": "execute_result",
          "data": {
            "text/plain": [
              "     Month Price  Change\n",
              "0  1993-03   408       -\n",
              "1  1993-04   392  -3.92%\n",
              "2  1993-05   371  -5.36%\n",
              "3  1993-06   356  -4.04%\n",
              "4  1993-07   362   1.69%"
            ],
            "text/html": [
              "\n",
              "  <div id=\"df-49ddc99e-fead-4da9-9c44-ba7144af6b66\">\n",
              "    <div class=\"colab-df-container\">\n",
              "      <div>\n",
              "<style scoped>\n",
              "    .dataframe tbody tr th:only-of-type {\n",
              "        vertical-align: middle;\n",
              "    }\n",
              "\n",
              "    .dataframe tbody tr th {\n",
              "        vertical-align: top;\n",
              "    }\n",
              "\n",
              "    .dataframe thead th {\n",
              "        text-align: right;\n",
              "    }\n",
              "</style>\n",
              "<table border=\"1\" class=\"dataframe\">\n",
              "  <thead>\n",
              "    <tr style=\"text-align: right;\">\n",
              "      <th></th>\n",
              "      <th>Month</th>\n",
              "      <th>Price</th>\n",
              "      <th>Change</th>\n",
              "    </tr>\n",
              "  </thead>\n",
              "  <tbody>\n",
              "    <tr>\n",
              "      <th>0</th>\n",
              "      <td>1993-03</td>\n",
              "      <td>408</td>\n",
              "      <td>-</td>\n",
              "    </tr>\n",
              "    <tr>\n",
              "      <th>1</th>\n",
              "      <td>1993-04</td>\n",
              "      <td>392</td>\n",
              "      <td>-3.92%</td>\n",
              "    </tr>\n",
              "    <tr>\n",
              "      <th>2</th>\n",
              "      <td>1993-05</td>\n",
              "      <td>371</td>\n",
              "      <td>-5.36%</td>\n",
              "    </tr>\n",
              "    <tr>\n",
              "      <th>3</th>\n",
              "      <td>1993-06</td>\n",
              "      <td>356</td>\n",
              "      <td>-4.04%</td>\n",
              "    </tr>\n",
              "    <tr>\n",
              "      <th>4</th>\n",
              "      <td>1993-07</td>\n",
              "      <td>362</td>\n",
              "      <td>1.69%</td>\n",
              "    </tr>\n",
              "  </tbody>\n",
              "</table>\n",
              "</div>\n",
              "      <button class=\"colab-df-convert\" onclick=\"convertToInteractive('df-49ddc99e-fead-4da9-9c44-ba7144af6b66')\"\n",
              "              title=\"Convert this dataframe to an interactive table.\"\n",
              "              style=\"display:none;\">\n",
              "        \n",
              "  <svg xmlns=\"http://www.w3.org/2000/svg\" height=\"24px\"viewBox=\"0 0 24 24\"\n",
              "       width=\"24px\">\n",
              "    <path d=\"M0 0h24v24H0V0z\" fill=\"none\"/>\n",
              "    <path d=\"M18.56 5.44l.94 2.06.94-2.06 2.06-.94-2.06-.94-.94-2.06-.94 2.06-2.06.94zm-11 1L8.5 8.5l.94-2.06 2.06-.94-2.06-.94L8.5 2.5l-.94 2.06-2.06.94zm10 10l.94 2.06.94-2.06 2.06-.94-2.06-.94-.94-2.06-.94 2.06-2.06.94z\"/><path d=\"M17.41 7.96l-1.37-1.37c-.4-.4-.92-.59-1.43-.59-.52 0-1.04.2-1.43.59L10.3 9.45l-7.72 7.72c-.78.78-.78 2.05 0 2.83L4 21.41c.39.39.9.59 1.41.59.51 0 1.02-.2 1.41-.59l7.78-7.78 2.81-2.81c.8-.78.8-2.07 0-2.86zM5.41 20L4 18.59l7.72-7.72 1.47 1.35L5.41 20z\"/>\n",
              "  </svg>\n",
              "      </button>\n",
              "      \n",
              "  <style>\n",
              "    .colab-df-container {\n",
              "      display:flex;\n",
              "      flex-wrap:wrap;\n",
              "      gap: 12px;\n",
              "    }\n",
              "\n",
              "    .colab-df-convert {\n",
              "      background-color: #E8F0FE;\n",
              "      border: none;\n",
              "      border-radius: 50%;\n",
              "      cursor: pointer;\n",
              "      display: none;\n",
              "      fill: #1967D2;\n",
              "      height: 32px;\n",
              "      padding: 0 0 0 0;\n",
              "      width: 32px;\n",
              "    }\n",
              "\n",
              "    .colab-df-convert:hover {\n",
              "      background-color: #E2EBFA;\n",
              "      box-shadow: 0px 1px 2px rgba(60, 64, 67, 0.3), 0px 1px 3px 1px rgba(60, 64, 67, 0.15);\n",
              "      fill: #174EA6;\n",
              "    }\n",
              "\n",
              "    [theme=dark] .colab-df-convert {\n",
              "      background-color: #3B4455;\n",
              "      fill: #D2E3FC;\n",
              "    }\n",
              "\n",
              "    [theme=dark] .colab-df-convert:hover {\n",
              "      background-color: #434B5C;\n",
              "      box-shadow: 0px 1px 3px 1px rgba(0, 0, 0, 0.15);\n",
              "      filter: drop-shadow(0px 1px 2px rgba(0, 0, 0, 0.3));\n",
              "      fill: #FFFFFF;\n",
              "    }\n",
              "  </style>\n",
              "\n",
              "      <script>\n",
              "        const buttonEl =\n",
              "          document.querySelector('#df-49ddc99e-fead-4da9-9c44-ba7144af6b66 button.colab-df-convert');\n",
              "        buttonEl.style.display =\n",
              "          google.colab.kernel.accessAllowed ? 'block' : 'none';\n",
              "\n",
              "        async function convertToInteractive(key) {\n",
              "          const element = document.querySelector('#df-49ddc99e-fead-4da9-9c44-ba7144af6b66');\n",
              "          const dataTable =\n",
              "            await google.colab.kernel.invokeFunction('convertToInteractive',\n",
              "                                                     [key], {});\n",
              "          if (!dataTable) return;\n",
              "\n",
              "          const docLinkHtml = 'Like what you see? Visit the ' +\n",
              "            '<a target=\"_blank\" href=https://colab.research.google.com/notebooks/data_table.ipynb>data table notebook</a>'\n",
              "            + ' to learn more about interactive tables.';\n",
              "          element.innerHTML = '';\n",
              "          dataTable['output_type'] = 'display_data';\n",
              "          await google.colab.output.renderOutput(dataTable, element);\n",
              "          const docLink = document.createElement('div');\n",
              "          docLink.innerHTML = docLinkHtml;\n",
              "          element.appendChild(docLink);\n",
              "        }\n",
              "      </script>\n",
              "    </div>\n",
              "  </div>\n",
              "  "
            ]
          },
          "metadata": {},
          "execution_count": 209
        }
      ]
    },
    {
      "cell_type": "code",
      "source": [
        "#Removing the change since it is not needed\n",
        "del df['Change']\n",
        "df.head(5)"
      ],
      "metadata": {
        "colab": {
          "base_uri": "https://localhost:8080/",
          "height": 204
        },
        "id": "p77mbj8L97i8",
        "outputId": "493c9be6-af5c-4a9e-d27b-4281ae1e16ff"
      },
      "execution_count": 210,
      "outputs": [
        {
          "output_type": "execute_result",
          "data": {
            "text/plain": [
              "     Month Price\n",
              "0  1993-03   408\n",
              "1  1993-04   392\n",
              "2  1993-05   371\n",
              "3  1993-06   356\n",
              "4  1993-07   362"
            ],
            "text/html": [
              "\n",
              "  <div id=\"df-d6238dd8-ac62-41fa-b4b4-0ac4bcb3fef5\">\n",
              "    <div class=\"colab-df-container\">\n",
              "      <div>\n",
              "<style scoped>\n",
              "    .dataframe tbody tr th:only-of-type {\n",
              "        vertical-align: middle;\n",
              "    }\n",
              "\n",
              "    .dataframe tbody tr th {\n",
              "        vertical-align: top;\n",
              "    }\n",
              "\n",
              "    .dataframe thead th {\n",
              "        text-align: right;\n",
              "    }\n",
              "</style>\n",
              "<table border=\"1\" class=\"dataframe\">\n",
              "  <thead>\n",
              "    <tr style=\"text-align: right;\">\n",
              "      <th></th>\n",
              "      <th>Month</th>\n",
              "      <th>Price</th>\n",
              "    </tr>\n",
              "  </thead>\n",
              "  <tbody>\n",
              "    <tr>\n",
              "      <th>0</th>\n",
              "      <td>1993-03</td>\n",
              "      <td>408</td>\n",
              "    </tr>\n",
              "    <tr>\n",
              "      <th>1</th>\n",
              "      <td>1993-04</td>\n",
              "      <td>392</td>\n",
              "    </tr>\n",
              "    <tr>\n",
              "      <th>2</th>\n",
              "      <td>1993-05</td>\n",
              "      <td>371</td>\n",
              "    </tr>\n",
              "    <tr>\n",
              "      <th>3</th>\n",
              "      <td>1993-06</td>\n",
              "      <td>356</td>\n",
              "    </tr>\n",
              "    <tr>\n",
              "      <th>4</th>\n",
              "      <td>1993-07</td>\n",
              "      <td>362</td>\n",
              "    </tr>\n",
              "  </tbody>\n",
              "</table>\n",
              "</div>\n",
              "      <button class=\"colab-df-convert\" onclick=\"convertToInteractive('df-d6238dd8-ac62-41fa-b4b4-0ac4bcb3fef5')\"\n",
              "              title=\"Convert this dataframe to an interactive table.\"\n",
              "              style=\"display:none;\">\n",
              "        \n",
              "  <svg xmlns=\"http://www.w3.org/2000/svg\" height=\"24px\"viewBox=\"0 0 24 24\"\n",
              "       width=\"24px\">\n",
              "    <path d=\"M0 0h24v24H0V0z\" fill=\"none\"/>\n",
              "    <path d=\"M18.56 5.44l.94 2.06.94-2.06 2.06-.94-2.06-.94-.94-2.06-.94 2.06-2.06.94zm-11 1L8.5 8.5l.94-2.06 2.06-.94-2.06-.94L8.5 2.5l-.94 2.06-2.06.94zm10 10l.94 2.06.94-2.06 2.06-.94-2.06-.94-.94-2.06-.94 2.06-2.06.94z\"/><path d=\"M17.41 7.96l-1.37-1.37c-.4-.4-.92-.59-1.43-.59-.52 0-1.04.2-1.43.59L10.3 9.45l-7.72 7.72c-.78.78-.78 2.05 0 2.83L4 21.41c.39.39.9.59 1.41.59.51 0 1.02-.2 1.41-.59l7.78-7.78 2.81-2.81c.8-.78.8-2.07 0-2.86zM5.41 20L4 18.59l7.72-7.72 1.47 1.35L5.41 20z\"/>\n",
              "  </svg>\n",
              "      </button>\n",
              "      \n",
              "  <style>\n",
              "    .colab-df-container {\n",
              "      display:flex;\n",
              "      flex-wrap:wrap;\n",
              "      gap: 12px;\n",
              "    }\n",
              "\n",
              "    .colab-df-convert {\n",
              "      background-color: #E8F0FE;\n",
              "      border: none;\n",
              "      border-radius: 50%;\n",
              "      cursor: pointer;\n",
              "      display: none;\n",
              "      fill: #1967D2;\n",
              "      height: 32px;\n",
              "      padding: 0 0 0 0;\n",
              "      width: 32px;\n",
              "    }\n",
              "\n",
              "    .colab-df-convert:hover {\n",
              "      background-color: #E2EBFA;\n",
              "      box-shadow: 0px 1px 2px rgba(60, 64, 67, 0.3), 0px 1px 3px 1px rgba(60, 64, 67, 0.15);\n",
              "      fill: #174EA6;\n",
              "    }\n",
              "\n",
              "    [theme=dark] .colab-df-convert {\n",
              "      background-color: #3B4455;\n",
              "      fill: #D2E3FC;\n",
              "    }\n",
              "\n",
              "    [theme=dark] .colab-df-convert:hover {\n",
              "      background-color: #434B5C;\n",
              "      box-shadow: 0px 1px 3px 1px rgba(0, 0, 0, 0.15);\n",
              "      filter: drop-shadow(0px 1px 2px rgba(0, 0, 0, 0.3));\n",
              "      fill: #FFFFFF;\n",
              "    }\n",
              "  </style>\n",
              "\n",
              "      <script>\n",
              "        const buttonEl =\n",
              "          document.querySelector('#df-d6238dd8-ac62-41fa-b4b4-0ac4bcb3fef5 button.colab-df-convert');\n",
              "        buttonEl.style.display =\n",
              "          google.colab.kernel.accessAllowed ? 'block' : 'none';\n",
              "\n",
              "        async function convertToInteractive(key) {\n",
              "          const element = document.querySelector('#df-d6238dd8-ac62-41fa-b4b4-0ac4bcb3fef5');\n",
              "          const dataTable =\n",
              "            await google.colab.kernel.invokeFunction('convertToInteractive',\n",
              "                                                     [key], {});\n",
              "          if (!dataTable) return;\n",
              "\n",
              "          const docLinkHtml = 'Like what you see? Visit the ' +\n",
              "            '<a target=\"_blank\" href=https://colab.research.google.com/notebooks/data_table.ipynb>data table notebook</a>'\n",
              "            + ' to learn more about interactive tables.';\n",
              "          element.innerHTML = '';\n",
              "          dataTable['output_type'] = 'display_data';\n",
              "          await google.colab.output.renderOutput(dataTable, element);\n",
              "          const docLink = document.createElement('div');\n",
              "          docLink.innerHTML = docLinkHtml;\n",
              "          element.appendChild(docLink);\n",
              "        }\n",
              "      </script>\n",
              "    </div>\n",
              "  </div>\n",
              "  "
            ]
          },
          "metadata": {},
          "execution_count": 210
        }
      ]
    },
    {
      "cell_type": "code",
      "source": [
        "#Checking data types\n",
        "df.dtypes"
      ],
      "metadata": {
        "colab": {
          "base_uri": "https://localhost:8080/"
        },
        "id": "hmaS3MRh-cLP",
        "outputId": "44b9d171-b773-4818-e1ae-668867ea2926"
      },
      "execution_count": 211,
      "outputs": [
        {
          "output_type": "execute_result",
          "data": {
            "text/plain": [
              "Month    object\n",
              "Price    object\n",
              "dtype: object"
            ]
          },
          "metadata": {},
          "execution_count": 211
        }
      ]
    },
    {
      "cell_type": "code",
      "source": [
        "#Renaming Price to cpo_pri (Crude palm oil price)\n",
        "df.rename({'Price': 'cpo_pri', 'Month': 'date'}, axis=1, inplace=True)\n",
        "df"
      ],
      "metadata": {
        "colab": {
          "base_uri": "https://localhost:8080/",
          "height": 419
        },
        "id": "jS4mirru-9Xt",
        "outputId": "f689cfbd-c21b-499a-d88b-586c936d7931"
      },
      "execution_count": 212,
      "outputs": [
        {
          "output_type": "execute_result",
          "data": {
            "text/plain": [
              "        date cpo_pri\n",
              "0    1993-03     408\n",
              "1    1993-04     392\n",
              "2    1993-05     371\n",
              "3    1993-06     356\n",
              "4    1993-07     362\n",
              "..       ...     ...\n",
              "356  2022-11  945.74\n",
              "357  2022-12  940.39\n",
              "358  2023-01  941.97\n",
              "359  2023-02  949.98\n",
              "360  2023-03  972.06\n",
              "\n",
              "[361 rows x 2 columns]"
            ],
            "text/html": [
              "\n",
              "  <div id=\"df-ee3b353d-89be-4d57-b91b-577810e00b8d\">\n",
              "    <div class=\"colab-df-container\">\n",
              "      <div>\n",
              "<style scoped>\n",
              "    .dataframe tbody tr th:only-of-type {\n",
              "        vertical-align: middle;\n",
              "    }\n",
              "\n",
              "    .dataframe tbody tr th {\n",
              "        vertical-align: top;\n",
              "    }\n",
              "\n",
              "    .dataframe thead th {\n",
              "        text-align: right;\n",
              "    }\n",
              "</style>\n",
              "<table border=\"1\" class=\"dataframe\">\n",
              "  <thead>\n",
              "    <tr style=\"text-align: right;\">\n",
              "      <th></th>\n",
              "      <th>date</th>\n",
              "      <th>cpo_pri</th>\n",
              "    </tr>\n",
              "  </thead>\n",
              "  <tbody>\n",
              "    <tr>\n",
              "      <th>0</th>\n",
              "      <td>1993-03</td>\n",
              "      <td>408</td>\n",
              "    </tr>\n",
              "    <tr>\n",
              "      <th>1</th>\n",
              "      <td>1993-04</td>\n",
              "      <td>392</td>\n",
              "    </tr>\n",
              "    <tr>\n",
              "      <th>2</th>\n",
              "      <td>1993-05</td>\n",
              "      <td>371</td>\n",
              "    </tr>\n",
              "    <tr>\n",
              "      <th>3</th>\n",
              "      <td>1993-06</td>\n",
              "      <td>356</td>\n",
              "    </tr>\n",
              "    <tr>\n",
              "      <th>4</th>\n",
              "      <td>1993-07</td>\n",
              "      <td>362</td>\n",
              "    </tr>\n",
              "    <tr>\n",
              "      <th>...</th>\n",
              "      <td>...</td>\n",
              "      <td>...</td>\n",
              "    </tr>\n",
              "    <tr>\n",
              "      <th>356</th>\n",
              "      <td>2022-11</td>\n",
              "      <td>945.74</td>\n",
              "    </tr>\n",
              "    <tr>\n",
              "      <th>357</th>\n",
              "      <td>2022-12</td>\n",
              "      <td>940.39</td>\n",
              "    </tr>\n",
              "    <tr>\n",
              "      <th>358</th>\n",
              "      <td>2023-01</td>\n",
              "      <td>941.97</td>\n",
              "    </tr>\n",
              "    <tr>\n",
              "      <th>359</th>\n",
              "      <td>2023-02</td>\n",
              "      <td>949.98</td>\n",
              "    </tr>\n",
              "    <tr>\n",
              "      <th>360</th>\n",
              "      <td>2023-03</td>\n",
              "      <td>972.06</td>\n",
              "    </tr>\n",
              "  </tbody>\n",
              "</table>\n",
              "<p>361 rows × 2 columns</p>\n",
              "</div>\n",
              "      <button class=\"colab-df-convert\" onclick=\"convertToInteractive('df-ee3b353d-89be-4d57-b91b-577810e00b8d')\"\n",
              "              title=\"Convert this dataframe to an interactive table.\"\n",
              "              style=\"display:none;\">\n",
              "        \n",
              "  <svg xmlns=\"http://www.w3.org/2000/svg\" height=\"24px\"viewBox=\"0 0 24 24\"\n",
              "       width=\"24px\">\n",
              "    <path d=\"M0 0h24v24H0V0z\" fill=\"none\"/>\n",
              "    <path d=\"M18.56 5.44l.94 2.06.94-2.06 2.06-.94-2.06-.94-.94-2.06-.94 2.06-2.06.94zm-11 1L8.5 8.5l.94-2.06 2.06-.94-2.06-.94L8.5 2.5l-.94 2.06-2.06.94zm10 10l.94 2.06.94-2.06 2.06-.94-2.06-.94-.94-2.06-.94 2.06-2.06.94z\"/><path d=\"M17.41 7.96l-1.37-1.37c-.4-.4-.92-.59-1.43-.59-.52 0-1.04.2-1.43.59L10.3 9.45l-7.72 7.72c-.78.78-.78 2.05 0 2.83L4 21.41c.39.39.9.59 1.41.59.51 0 1.02-.2 1.41-.59l7.78-7.78 2.81-2.81c.8-.78.8-2.07 0-2.86zM5.41 20L4 18.59l7.72-7.72 1.47 1.35L5.41 20z\"/>\n",
              "  </svg>\n",
              "      </button>\n",
              "      \n",
              "  <style>\n",
              "    .colab-df-container {\n",
              "      display:flex;\n",
              "      flex-wrap:wrap;\n",
              "      gap: 12px;\n",
              "    }\n",
              "\n",
              "    .colab-df-convert {\n",
              "      background-color: #E8F0FE;\n",
              "      border: none;\n",
              "      border-radius: 50%;\n",
              "      cursor: pointer;\n",
              "      display: none;\n",
              "      fill: #1967D2;\n",
              "      height: 32px;\n",
              "      padding: 0 0 0 0;\n",
              "      width: 32px;\n",
              "    }\n",
              "\n",
              "    .colab-df-convert:hover {\n",
              "      background-color: #E2EBFA;\n",
              "      box-shadow: 0px 1px 2px rgba(60, 64, 67, 0.3), 0px 1px 3px 1px rgba(60, 64, 67, 0.15);\n",
              "      fill: #174EA6;\n",
              "    }\n",
              "\n",
              "    [theme=dark] .colab-df-convert {\n",
              "      background-color: #3B4455;\n",
              "      fill: #D2E3FC;\n",
              "    }\n",
              "\n",
              "    [theme=dark] .colab-df-convert:hover {\n",
              "      background-color: #434B5C;\n",
              "      box-shadow: 0px 1px 3px 1px rgba(0, 0, 0, 0.15);\n",
              "      filter: drop-shadow(0px 1px 2px rgba(0, 0, 0, 0.3));\n",
              "      fill: #FFFFFF;\n",
              "    }\n",
              "  </style>\n",
              "\n",
              "      <script>\n",
              "        const buttonEl =\n",
              "          document.querySelector('#df-ee3b353d-89be-4d57-b91b-577810e00b8d button.colab-df-convert');\n",
              "        buttonEl.style.display =\n",
              "          google.colab.kernel.accessAllowed ? 'block' : 'none';\n",
              "\n",
              "        async function convertToInteractive(key) {\n",
              "          const element = document.querySelector('#df-ee3b353d-89be-4d57-b91b-577810e00b8d');\n",
              "          const dataTable =\n",
              "            await google.colab.kernel.invokeFunction('convertToInteractive',\n",
              "                                                     [key], {});\n",
              "          if (!dataTable) return;\n",
              "\n",
              "          const docLinkHtml = 'Like what you see? Visit the ' +\n",
              "            '<a target=\"_blank\" href=https://colab.research.google.com/notebooks/data_table.ipynb>data table notebook</a>'\n",
              "            + ' to learn more about interactive tables.';\n",
              "          element.innerHTML = '';\n",
              "          dataTable['output_type'] = 'display_data';\n",
              "          await google.colab.output.renderOutput(dataTable, element);\n",
              "          const docLink = document.createElement('div');\n",
              "          docLink.innerHTML = docLinkHtml;\n",
              "          element.appendChild(docLink);\n",
              "        }\n",
              "      </script>\n",
              "    </div>\n",
              "  </div>\n",
              "  "
            ]
          },
          "metadata": {},
          "execution_count": 212
        }
      ]
    },
    {
      "cell_type": "code",
      "source": [
        "# converting column \"Price\" of the DataFrame to numeric\n",
        "#df[\"cpo_pri\"] = pd.to_numeric('cpo_pri', errors='coerce')\n",
        "\n",
        "#df.dtypes"
      ],
      "metadata": {
        "id": "pYroShZ--9cF"
      },
      "execution_count": null,
      "outputs": []
    },
    {
      "cell_type": "code",
      "source": [
        "df.head(5)"
      ],
      "metadata": {
        "colab": {
          "base_uri": "https://localhost:8080/",
          "height": 204
        },
        "id": "-W3JbCdBCZ3Y",
        "outputId": "a35b7223-e99d-493d-f1b5-ad71d514a1f1"
      },
      "execution_count": 213,
      "outputs": [
        {
          "output_type": "execute_result",
          "data": {
            "text/plain": [
              "      date cpo_pri\n",
              "0  1993-03     408\n",
              "1  1993-04     392\n",
              "2  1993-05     371\n",
              "3  1993-06     356\n",
              "4  1993-07     362"
            ],
            "text/html": [
              "\n",
              "  <div id=\"df-120db94b-7515-4d88-8c38-d07234bf72b1\">\n",
              "    <div class=\"colab-df-container\">\n",
              "      <div>\n",
              "<style scoped>\n",
              "    .dataframe tbody tr th:only-of-type {\n",
              "        vertical-align: middle;\n",
              "    }\n",
              "\n",
              "    .dataframe tbody tr th {\n",
              "        vertical-align: top;\n",
              "    }\n",
              "\n",
              "    .dataframe thead th {\n",
              "        text-align: right;\n",
              "    }\n",
              "</style>\n",
              "<table border=\"1\" class=\"dataframe\">\n",
              "  <thead>\n",
              "    <tr style=\"text-align: right;\">\n",
              "      <th></th>\n",
              "      <th>date</th>\n",
              "      <th>cpo_pri</th>\n",
              "    </tr>\n",
              "  </thead>\n",
              "  <tbody>\n",
              "    <tr>\n",
              "      <th>0</th>\n",
              "      <td>1993-03</td>\n",
              "      <td>408</td>\n",
              "    </tr>\n",
              "    <tr>\n",
              "      <th>1</th>\n",
              "      <td>1993-04</td>\n",
              "      <td>392</td>\n",
              "    </tr>\n",
              "    <tr>\n",
              "      <th>2</th>\n",
              "      <td>1993-05</td>\n",
              "      <td>371</td>\n",
              "    </tr>\n",
              "    <tr>\n",
              "      <th>3</th>\n",
              "      <td>1993-06</td>\n",
              "      <td>356</td>\n",
              "    </tr>\n",
              "    <tr>\n",
              "      <th>4</th>\n",
              "      <td>1993-07</td>\n",
              "      <td>362</td>\n",
              "    </tr>\n",
              "  </tbody>\n",
              "</table>\n",
              "</div>\n",
              "      <button class=\"colab-df-convert\" onclick=\"convertToInteractive('df-120db94b-7515-4d88-8c38-d07234bf72b1')\"\n",
              "              title=\"Convert this dataframe to an interactive table.\"\n",
              "              style=\"display:none;\">\n",
              "        \n",
              "  <svg xmlns=\"http://www.w3.org/2000/svg\" height=\"24px\"viewBox=\"0 0 24 24\"\n",
              "       width=\"24px\">\n",
              "    <path d=\"M0 0h24v24H0V0z\" fill=\"none\"/>\n",
              "    <path d=\"M18.56 5.44l.94 2.06.94-2.06 2.06-.94-2.06-.94-.94-2.06-.94 2.06-2.06.94zm-11 1L8.5 8.5l.94-2.06 2.06-.94-2.06-.94L8.5 2.5l-.94 2.06-2.06.94zm10 10l.94 2.06.94-2.06 2.06-.94-2.06-.94-.94-2.06-.94 2.06-2.06.94z\"/><path d=\"M17.41 7.96l-1.37-1.37c-.4-.4-.92-.59-1.43-.59-.52 0-1.04.2-1.43.59L10.3 9.45l-7.72 7.72c-.78.78-.78 2.05 0 2.83L4 21.41c.39.39.9.59 1.41.59.51 0 1.02-.2 1.41-.59l7.78-7.78 2.81-2.81c.8-.78.8-2.07 0-2.86zM5.41 20L4 18.59l7.72-7.72 1.47 1.35L5.41 20z\"/>\n",
              "  </svg>\n",
              "      </button>\n",
              "      \n",
              "  <style>\n",
              "    .colab-df-container {\n",
              "      display:flex;\n",
              "      flex-wrap:wrap;\n",
              "      gap: 12px;\n",
              "    }\n",
              "\n",
              "    .colab-df-convert {\n",
              "      background-color: #E8F0FE;\n",
              "      border: none;\n",
              "      border-radius: 50%;\n",
              "      cursor: pointer;\n",
              "      display: none;\n",
              "      fill: #1967D2;\n",
              "      height: 32px;\n",
              "      padding: 0 0 0 0;\n",
              "      width: 32px;\n",
              "    }\n",
              "\n",
              "    .colab-df-convert:hover {\n",
              "      background-color: #E2EBFA;\n",
              "      box-shadow: 0px 1px 2px rgba(60, 64, 67, 0.3), 0px 1px 3px 1px rgba(60, 64, 67, 0.15);\n",
              "      fill: #174EA6;\n",
              "    }\n",
              "\n",
              "    [theme=dark] .colab-df-convert {\n",
              "      background-color: #3B4455;\n",
              "      fill: #D2E3FC;\n",
              "    }\n",
              "\n",
              "    [theme=dark] .colab-df-convert:hover {\n",
              "      background-color: #434B5C;\n",
              "      box-shadow: 0px 1px 3px 1px rgba(0, 0, 0, 0.15);\n",
              "      filter: drop-shadow(0px 1px 2px rgba(0, 0, 0, 0.3));\n",
              "      fill: #FFFFFF;\n",
              "    }\n",
              "  </style>\n",
              "\n",
              "      <script>\n",
              "        const buttonEl =\n",
              "          document.querySelector('#df-120db94b-7515-4d88-8c38-d07234bf72b1 button.colab-df-convert');\n",
              "        buttonEl.style.display =\n",
              "          google.colab.kernel.accessAllowed ? 'block' : 'none';\n",
              "\n",
              "        async function convertToInteractive(key) {\n",
              "          const element = document.querySelector('#df-120db94b-7515-4d88-8c38-d07234bf72b1');\n",
              "          const dataTable =\n",
              "            await google.colab.kernel.invokeFunction('convertToInteractive',\n",
              "                                                     [key], {});\n",
              "          if (!dataTable) return;\n",
              "\n",
              "          const docLinkHtml = 'Like what you see? Visit the ' +\n",
              "            '<a target=\"_blank\" href=https://colab.research.google.com/notebooks/data_table.ipynb>data table notebook</a>'\n",
              "            + ' to learn more about interactive tables.';\n",
              "          element.innerHTML = '';\n",
              "          dataTable['output_type'] = 'display_data';\n",
              "          await google.colab.output.renderOutput(dataTable, element);\n",
              "          const docLink = document.createElement('div');\n",
              "          docLink.innerHTML = docLinkHtml;\n",
              "          element.appendChild(docLink);\n",
              "        }\n",
              "      </script>\n",
              "    </div>\n",
              "  </div>\n",
              "  "
            ]
          },
          "metadata": {},
          "execution_count": 213
        }
      ]
    },
    {
      "cell_type": "code",
      "source": [
        "# Converting date column from object to date format\n",
        "df['date'] = pd.to_datetime(df['date'].apply(lambda x: x.split()[0])) # Selecting only date\n",
        "df.set_index('date',drop=True,inplace=True) # Setting date column as index\n",
        "df.head()"
      ],
      "metadata": {
        "colab": {
          "base_uri": "https://localhost:8080/",
          "height": 235
        },
        "id": "h_GMO44reArG",
        "outputId": "d5be05ff-3060-45d1-f98b-08378d773685"
      },
      "execution_count": 214,
      "outputs": [
        {
          "output_type": "execute_result",
          "data": {
            "text/plain": [
              "           cpo_pri\n",
              "date              \n",
              "1993-03-01     408\n",
              "1993-04-01     392\n",
              "1993-05-01     371\n",
              "1993-06-01     356\n",
              "1993-07-01     362"
            ],
            "text/html": [
              "\n",
              "  <div id=\"df-59bdab74-0a82-42ce-9c76-4e467bb37212\">\n",
              "    <div class=\"colab-df-container\">\n",
              "      <div>\n",
              "<style scoped>\n",
              "    .dataframe tbody tr th:only-of-type {\n",
              "        vertical-align: middle;\n",
              "    }\n",
              "\n",
              "    .dataframe tbody tr th {\n",
              "        vertical-align: top;\n",
              "    }\n",
              "\n",
              "    .dataframe thead th {\n",
              "        text-align: right;\n",
              "    }\n",
              "</style>\n",
              "<table border=\"1\" class=\"dataframe\">\n",
              "  <thead>\n",
              "    <tr style=\"text-align: right;\">\n",
              "      <th></th>\n",
              "      <th>cpo_pri</th>\n",
              "    </tr>\n",
              "    <tr>\n",
              "      <th>date</th>\n",
              "      <th></th>\n",
              "    </tr>\n",
              "  </thead>\n",
              "  <tbody>\n",
              "    <tr>\n",
              "      <th>1993-03-01</th>\n",
              "      <td>408</td>\n",
              "    </tr>\n",
              "    <tr>\n",
              "      <th>1993-04-01</th>\n",
              "      <td>392</td>\n",
              "    </tr>\n",
              "    <tr>\n",
              "      <th>1993-05-01</th>\n",
              "      <td>371</td>\n",
              "    </tr>\n",
              "    <tr>\n",
              "      <th>1993-06-01</th>\n",
              "      <td>356</td>\n",
              "    </tr>\n",
              "    <tr>\n",
              "      <th>1993-07-01</th>\n",
              "      <td>362</td>\n",
              "    </tr>\n",
              "  </tbody>\n",
              "</table>\n",
              "</div>\n",
              "      <button class=\"colab-df-convert\" onclick=\"convertToInteractive('df-59bdab74-0a82-42ce-9c76-4e467bb37212')\"\n",
              "              title=\"Convert this dataframe to an interactive table.\"\n",
              "              style=\"display:none;\">\n",
              "        \n",
              "  <svg xmlns=\"http://www.w3.org/2000/svg\" height=\"24px\"viewBox=\"0 0 24 24\"\n",
              "       width=\"24px\">\n",
              "    <path d=\"M0 0h24v24H0V0z\" fill=\"none\"/>\n",
              "    <path d=\"M18.56 5.44l.94 2.06.94-2.06 2.06-.94-2.06-.94-.94-2.06-.94 2.06-2.06.94zm-11 1L8.5 8.5l.94-2.06 2.06-.94-2.06-.94L8.5 2.5l-.94 2.06-2.06.94zm10 10l.94 2.06.94-2.06 2.06-.94-2.06-.94-.94-2.06-.94 2.06-2.06.94z\"/><path d=\"M17.41 7.96l-1.37-1.37c-.4-.4-.92-.59-1.43-.59-.52 0-1.04.2-1.43.59L10.3 9.45l-7.72 7.72c-.78.78-.78 2.05 0 2.83L4 21.41c.39.39.9.59 1.41.59.51 0 1.02-.2 1.41-.59l7.78-7.78 2.81-2.81c.8-.78.8-2.07 0-2.86zM5.41 20L4 18.59l7.72-7.72 1.47 1.35L5.41 20z\"/>\n",
              "  </svg>\n",
              "      </button>\n",
              "      \n",
              "  <style>\n",
              "    .colab-df-container {\n",
              "      display:flex;\n",
              "      flex-wrap:wrap;\n",
              "      gap: 12px;\n",
              "    }\n",
              "\n",
              "    .colab-df-convert {\n",
              "      background-color: #E8F0FE;\n",
              "      border: none;\n",
              "      border-radius: 50%;\n",
              "      cursor: pointer;\n",
              "      display: none;\n",
              "      fill: #1967D2;\n",
              "      height: 32px;\n",
              "      padding: 0 0 0 0;\n",
              "      width: 32px;\n",
              "    }\n",
              "\n",
              "    .colab-df-convert:hover {\n",
              "      background-color: #E2EBFA;\n",
              "      box-shadow: 0px 1px 2px rgba(60, 64, 67, 0.3), 0px 1px 3px 1px rgba(60, 64, 67, 0.15);\n",
              "      fill: #174EA6;\n",
              "    }\n",
              "\n",
              "    [theme=dark] .colab-df-convert {\n",
              "      background-color: #3B4455;\n",
              "      fill: #D2E3FC;\n",
              "    }\n",
              "\n",
              "    [theme=dark] .colab-df-convert:hover {\n",
              "      background-color: #434B5C;\n",
              "      box-shadow: 0px 1px 3px 1px rgba(0, 0, 0, 0.15);\n",
              "      filter: drop-shadow(0px 1px 2px rgba(0, 0, 0, 0.3));\n",
              "      fill: #FFFFFF;\n",
              "    }\n",
              "  </style>\n",
              "\n",
              "      <script>\n",
              "        const buttonEl =\n",
              "          document.querySelector('#df-59bdab74-0a82-42ce-9c76-4e467bb37212 button.colab-df-convert');\n",
              "        buttonEl.style.display =\n",
              "          google.colab.kernel.accessAllowed ? 'block' : 'none';\n",
              "\n",
              "        async function convertToInteractive(key) {\n",
              "          const element = document.querySelector('#df-59bdab74-0a82-42ce-9c76-4e467bb37212');\n",
              "          const dataTable =\n",
              "            await google.colab.kernel.invokeFunction('convertToInteractive',\n",
              "                                                     [key], {});\n",
              "          if (!dataTable) return;\n",
              "\n",
              "          const docLinkHtml = 'Like what you see? Visit the ' +\n",
              "            '<a target=\"_blank\" href=https://colab.research.google.com/notebooks/data_table.ipynb>data table notebook</a>'\n",
              "            + ' to learn more about interactive tables.';\n",
              "          element.innerHTML = '';\n",
              "          dataTable['output_type'] = 'display_data';\n",
              "          await google.colab.output.renderOutput(dataTable, element);\n",
              "          const docLink = document.createElement('div');\n",
              "          docLink.innerHTML = docLinkHtml;\n",
              "          element.appendChild(docLink);\n",
              "        }\n",
              "      </script>\n",
              "    </div>\n",
              "  </div>\n",
              "  "
            ]
          },
          "metadata": {},
          "execution_count": 214
        }
      ]
    },
    {
      "cell_type": "code",
      "source": [
        "df['cpo_pri'] = df['cpo_pri'].apply(lambda x: float(x.split()[0].replace(',', '')))\n",
        "print(df.dtypes)"
      ],
      "metadata": {
        "colab": {
          "base_uri": "https://localhost:8080/"
        },
        "id": "ZlYv7Tu_FAPP",
        "outputId": "4640e82f-ccf6-4c0d-9d38-6a76b6080956"
      },
      "execution_count": 215,
      "outputs": [
        {
          "output_type": "stream",
          "name": "stdout",
          "text": [
            "cpo_pri    float64\n",
            "dtype: object\n"
          ]
        }
      ]
    },
    {
      "cell_type": "code",
      "source": [
        "# Constructing a Lineplot\n",
        "years = mdates.YearLocator()\n",
        "fig, ax1 = plt.subplots(figsize=(16, 6))\n",
        "ax1.xaxis.set_major_locator(years)\n",
        "ax1.legend([featurename], fontsize=12)\n",
        "plt.title(featurename + ' from '+ start_date + ' to ' + end_date)\n",
        "sns.lineplot(data=df['cpo_pri'], label=featurename, linewidth=1.0)\n",
        "plt.ylabel('Monthly Crude Palm Oil Prices Per Metric Ton (US Dollars)')\n",
        "plt.show()"
      ],
      "metadata": {
        "colab": {
          "base_uri": "https://localhost:8080/",
          "height": 564
        },
        "id": "NaNguXEqDaDA",
        "outputId": "2e53dcb8-e043-470b-fb06-747ac73e79d2"
      },
      "execution_count": 216,
      "outputs": [
        {
          "output_type": "display_data",
          "data": {
            "text/plain": [
              "<Figure size 1600x600 with 1 Axes>"
            ],
            "image/png": "[encoded data removed]"
          },
          "metadata": {}
        }
      ]
    },
    {
      "cell_type": "markdown",
      "source": [
        "### Checking for Duplicates"
      ],
      "metadata": {
        "id": "Z7q0ofdCLKeN"
      }
    },
    {
      "cell_type": "code",
      "source": [
        "# Check number of duplicates while ignoring the index feature\n",
        "n_duplicates = df.drop(labels=[\"cpo_pri\"], axis=1).duplicated().sum()\n",
        "print(f\"You seem to have {n_duplicates} duplicates in your database.\")"
      ],
      "metadata": {
        "colab": {
          "base_uri": "https://localhost:8080/"
        },
        "id": "RiCNCqCyKsEw",
        "outputId": "679f8cec-91a2-402a-bfb8-6dd4a1033912"
      },
      "execution_count": 217,
      "outputs": [
        {
          "output_type": "stream",
          "name": "stdout",
          "text": [
            "You seem to have 0 duplicates in your database.\n"
          ]
        }
      ]
    },
    {
      "cell_type": "markdown",
      "source": [
        "###Checking for Missing values"
      ],
      "metadata": {
        "id": "1i0WEorbLa7a"
      }
    },
    {
      "cell_type": "code",
      "source": [
        "import matplotlib.pyplot as plt\n",
        "\n",
        "plt.figure(figsize=(10, 8))\n",
        "plt.imshow(df.isna(), aspect=\"auto\", interpolation=\"nearest\", cmap=\"gray\")\n",
        "plt.xlabel(\"Column Number\")\n",
        "plt.ylabel(\"Sample Number\");"
      ],
      "metadata": {
        "colab": {
          "base_uri": "https://localhost:8080/",
          "height": 700
        },
        "id": "J_lJ5HkxKsIb",
        "outputId": "18501369-688d-4d1c-c909-15b6ab19e3b2"
      },
      "execution_count": 218,
      "outputs": [
        {
          "output_type": "display_data",
          "data": {
            "text/plain": [
              "<Figure size 1000x800 with 1 Axes>"
            ],
            "image/png": "[encoded data removed]"
          },
          "metadata": {}
        }
      ]
    },
    {
      "cell_type": "markdown",
      "source": [
        "This figure shows that there are no missing data"
      ],
      "metadata": {
        "id": "HrMQOFBALsG0"
      }
    },
    {
      "cell_type": "code",
      "source": [
        "# Plots the histogram for each numerical feature in a separate subplot\n",
        "df.hist(bins=25, figsize=(15, 5), edgecolor=\"black\")\n",
        "plt.tight_layout();"
      ],
      "metadata": {
        "colab": {
          "base_uri": "https://localhost:8080/",
          "height": 507
        },
        "id": "84RGYxb8KsM1",
        "outputId": "bc42e6f9-81da-403a-ca2d-8f18ad7e3161"
      },
      "execution_count": 219,
      "outputs": [
        {
          "output_type": "display_data",
          "data": {
            "text/plain": [
              "<Figure size 1500x500 with 1 Axes>"
            ],
            "image/png": "[encoded data removed]"
          },
          "metadata": {}
        }
      ]
    },
    {
      "cell_type": "markdown",
      "source": [
        "###Checking for Outliers"
      ],
      "metadata": {
        "id": "FX6FdkMJMwnG"
      }
    },
    {
      "cell_type": "code",
      "source": [
        "#Computing the percentage of Outliers\n",
        "for k, v in df.items():\n",
        "        q1 = v.quantile(0.25)\n",
        "        q3 = v.quantile(0.75)\n",
        "        irq = q3 - q1\n",
        "        v_col = v[(v <= q1 - 1.5 * irq) | (v >= q3 + 1.5 * irq)]\n",
        "        perc = np.shape(v_col)[0] * 100.0 / np.shape(df)[1]\n",
        "        print(\"Column %s outliers = %.2f%%\" % (k, perc))"
      ],
      "metadata": {
        "colab": {
          "base_uri": "https://localhost:8080/"
        },
        "id": "4vwbQ4sKMV3k",
        "outputId": "e5be43f3-621c-471a-ef18-1c3069cdabbb"
      },
      "execution_count": 220,
      "outputs": [
        {
          "output_type": "stream",
          "name": "stdout",
          "text": [
            "Column cpo_pri outliers = 500.00%\n"
          ]
        }
      ]
    },
    {
      "cell_type": "code",
      "source": [
        "#Ploting the boxplot of the Outliers\n",
        "sns.boxplot(df['cpo_pri'])\n",
        "plt.title('cpo_pri')\n",
        "plt.figure(figsize=(15,15))"
      ],
      "metadata": {
        "colab": {
          "base_uri": "https://localhost:8080/",
          "height": 486
        },
        "id": "lSggtXIrMWHs",
        "outputId": "907d8842-8995-4840-e45b-5e36ac152046"
      },
      "execution_count": 221,
      "outputs": [
        {
          "output_type": "execute_result",
          "data": {
            "text/plain": [
              "<Figure size 1500x1500 with 0 Axes>"
            ]
          },
          "metadata": {},
          "execution_count": 221
        },
        {
          "output_type": "display_data",
          "data": {
            "text/plain": [
              "<Figure size 640x480 with 1 Axes>"
            ],
            "image/png": "[encoded data removed]"
          },
          "metadata": {}
        },
        {
          "output_type": "display_data",
          "data": {
            "text/plain": [
              "<Figure size 1500x1500 with 0 Axes>"
            ]
          },
          "metadata": {}
        }
      ]
    },
    {
      "cell_type": "markdown",
      "source": [
        "###Removing the Outliers"
      ],
      "metadata": {
        "id": "Z8YyTtQ7N9NG"
      }
    },
    {
      "cell_type": "code",
      "source": [
        "IQR=df.cpo_pri.quantile(0.75)-df.cpo_pri.quantile(0.25)\n",
        "lower_bridge=df.cpo_pri.quantile(0.25)-(IQR*1.5)\n",
        "upper_bridge=df.cpo_pri.quantile(0.75)+(IQR*1.5)\n",
        "print(lower_bridge, upper_bridge)"
      ],
      "metadata": {
        "colab": {
          "base_uri": "https://localhost:8080/"
        },
        "id": "NjvXUVaTOAXy",
        "outputId": "2be3311b-97f1-4a29-bae1-073836643828"
      },
      "execution_count": 222,
      "outputs": [
        {
          "output_type": "stream",
          "name": "stdout",
          "text": [
            "-57.3449999999998 1385.495\n"
          ]
        }
      ]
    },
    {
      "cell_type": "code",
      "source": [
        "df.loc[df['cpo_pri']>= 1385.495,'cpo_pri']= 1385.495\n",
        "df.loc[df['cpo_pri']<= -57.3449999999998,'cpo_pri']= -57.3449999999998"
      ],
      "metadata": {
        "id": "cGOOHF_IOXM0"
      },
      "execution_count": 223,
      "outputs": []
    },
    {
      "cell_type": "markdown",
      "source": [
        "###Ploting of Target variable without Outliers"
      ],
      "metadata": {
        "id": "e-UOAmPZO_8J"
      }
    },
    {
      "cell_type": "code",
      "source": [
        "sns.boxplot(df['cpo_pri'])\n",
        "plt.title('cpo_pri')\n",
        "plt.figure(figsize=(10,10))"
      ],
      "metadata": {
        "colab": {
          "base_uri": "https://localhost:8080/",
          "height": 486
        },
        "id": "HfUVRkUJO5JO",
        "outputId": "bc6e8034-e508-4438-95b3-d0f1d66b654b"
      },
      "execution_count": 224,
      "outputs": [
        {
          "output_type": "execute_result",
          "data": {
            "text/plain": [
              "<Figure size 1000x1000 with 0 Axes>"
            ]
          },
          "metadata": {},
          "execution_count": 224
        },
        {
          "output_type": "display_data",
          "data": {
            "text/plain": [
              "<Figure size 640x480 with 1 Axes>"
            ],
            "image/png": "[encoded data removed]"
          },
          "metadata": {}
        },
        {
          "output_type": "display_data",
          "data": {
            "text/plain": [
              "<Figure size 1000x1000 with 0 Axes>"
            ]
          },
          "metadata": {}
        }
      ]
    },
    {
      "cell_type": "code",
      "source": [
        "# Target Selection\n",
        "train_df = df.filter(['cpo_pri'])\n",
        "data_unsc = train_df.values # data_unscaled data\n",
        "\n",
        "# Compute the number of rows required to train the model on 80% of the data.\n",
        "train_data_len = math.ceil(len(data_unsc) * 0.7)\n",
        "\n",
        "# Scale the data\n",
        "mmscaler = MinMaxScaler(feature_range=(0, 1))\n",
        "np_data = mmscaler.fit_transform(data_unsc)"
      ],
      "metadata": {
        "id": "xA8Jt_OeZKvl"
      },
      "execution_count": 225,
      "outputs": []
    },
    {
      "cell_type": "code",
      "source": [
        "# Set the sequence len - the period for making a single forecast.\n",
        "sequence_len = 3\n",
        "\n",
        "# Index of Prediction\n",
        "index_cpo_pri = train_df.columns.get_loc(\"cpo_pri\")\n",
        "print(index_cpo_pri)\n",
        "# Divide the training data into train and train data sets.\n",
        "# In the first stage, we determine the number of rows required to train the model on 80% of the data.\n",
        "train_data_len = math.ceil(np_data.shape[0] * 0.8)\n",
        "\n",
        "# create training and test set\n",
        "train_data = np_data[0:train_data_len, :]\n",
        "test_data = np_data[train_data_len - sequence_len:, :]\n",
        "\n",
        "# The MLP model requires data in the following formats: [samples, time steps, features].\n",
        "def partition_dataset(sequence_len, train_df):\n",
        "    x, y = [], []\n",
        "    data_len = train_df.shape[0]\n",
        "    for i in range(sequence_len, data_len):\n",
        "        x.append(train_df[i-sequence_len:i,:])\n",
        "        y.append(train_df[i, index_cpo_pri])\n",
        "\n",
        "    # Convert the x and y variables to numpy arrays.\n",
        "    x = np.array(x)\n",
        "    y = np.array(y)\n",
        "    return x, y\n",
        "\n",
        "# Create training and testing data.\n",
        "X_train, y_train = partition_dataset(sequence_len, train_data)\n",
        "X_test, y_test = partition_dataset(sequence_len, test_data)\n",
        "\n",
        "print(X_train.shape, y_train.shape)\n",
        "print(X_test.shape, y_test.shape)\n",
        "\n",
        "# Verify that the prediction value and the input value match\n",
        "print(X_test[1][sequence_len-1][index_cpo_pri])\n",
        "print(y_test[0])"
      ],
      "metadata": {
        "colab": {
          "base_uri": "https://localhost:8080/"
        },
        "id": "nCXjnKjqZK0g",
        "outputId": "e70064c7-c8f4-467a-9894-986fb2823e77"
      },
      "execution_count": 226,
      "outputs": [
        {
          "output_type": "stream",
          "name": "stdout",
          "text": [
            "0\n",
            "(286, 3, 1) (286,)\n",
            "(72, 3, 1) (72,)\n",
            "0.44990208381278246\n",
            "0.44990208381278246\n"
          ]
        }
      ]
    },
    {
      "cell_type": "code",
      "source": [
        " # The architecture of the MLP\n",
        "cb = tf.keras.callbacks.EarlyStopping(monitor='val_loss', patience=10, restore_best_weights=True)\n",
        "mlp_model = Sequential()\n",
        "mlp_model.add(Dense(50, input_dim=sequence_len, activation='tanh'))\n",
        "mlp_model.add(Dense(50, input_dim=sequence_len, activation='tanh'))\n",
        "mlp_model.add(Dense(1))\n",
        "# Compiling the model\n",
        "mlp_model.compile(loss='mean_squared_error', optimizer='adam')\n",
        "# Fitting to the training set\n",
        "mlp_model.fit(X_train, y_train, epochs=200, batch_size=2, verbose=2)"
      ],
      "metadata": {
        "colab": {
          "base_uri": "https://localhost:8080/"
        },
        "id": "nMvEdcLqSjMm",
        "outputId": "db76526d-d29c-4690-af09-d85cd8e316bc"
      },
      "execution_count": 227,
      "outputs": [
        {
          "output_type": "stream",
          "name": "stdout",
          "text": [
            "Epoch 1/200\n",
            "143/143 - 1s - loss: 0.0157 - 1s/epoch - 8ms/step\n",
            "Epoch 2/200\n",
            "143/143 - 0s - loss: 0.0044 - 276ms/epoch - 2ms/step\n",
            "Epoch 3/200\n",
            "143/143 - 0s - loss: 0.0029 - 277ms/epoch - 2ms/step\n",
            "Epoch 4/200\n",
            "143/143 - 0s - loss: 0.0021 - 288ms/epoch - 2ms/step\n",
            "Epoch 5/200\n",
            "143/143 - 0s - loss: 0.0021 - 238ms/epoch - 2ms/step\n",
            "Epoch 6/200\n",
            "143/143 - 0s - loss: 0.0018 - 193ms/epoch - 1ms/step\n",
            "Epoch 7/200\n",
            "143/143 - 0s - loss: 0.0019 - 205ms/epoch - 1ms/step\n",
            "Epoch 8/200\n",
            "143/143 - 0s - loss: 0.0020 - 198ms/epoch - 1ms/step\n",
            "Epoch 9/200\n",
            "143/143 - 0s - loss: 0.0019 - 206ms/epoch - 1ms/step\n",
            "Epoch 10/200\n",
            "143/143 - 0s - loss: 0.0027 - 188ms/epoch - 1ms/step\n",
            "Epoch 11/200\n",
            "143/143 - 0s - loss: 0.0020 - 186ms/epoch - 1ms/step\n",
            "Epoch 12/200\n",
            "143/143 - 0s - loss: 0.0016 - 195ms/epoch - 1ms/step\n",
            "Epoch 13/200\n",
            "143/143 - 0s - loss: 0.0018 - 183ms/epoch - 1ms/step\n",
            "Epoch 14/200\n",
            "143/143 - 0s - loss: 0.0017 - 192ms/epoch - 1ms/step\n",
            "Epoch 15/200\n",
            "143/143 - 0s - loss: 0.0020 - 182ms/epoch - 1ms/step\n",
            "Epoch 16/200\n",
            "143/143 - 0s - loss: 0.0018 - 197ms/epoch - 1ms/step\n",
            "Epoch 17/200\n",
            "143/143 - 0s - loss: 0.0016 - 184ms/epoch - 1ms/step\n",
            "Epoch 18/200\n",
            "143/143 - 0s - loss: 0.0027 - 182ms/epoch - 1ms/step\n",
            "Epoch 19/200\n",
            "143/143 - 0s - loss: 0.0017 - 188ms/epoch - 1ms/step\n",
            "Epoch 20/200\n",
            "143/143 - 0s - loss: 0.0022 - 184ms/epoch - 1ms/step\n",
            "Epoch 21/200\n",
            "143/143 - 0s - loss: 0.0015 - 191ms/epoch - 1ms/step\n",
            "Epoch 22/200\n",
            "143/143 - 0s - loss: 0.0017 - 182ms/epoch - 1ms/step\n",
            "Epoch 23/200\n",
            "143/143 - 0s - loss: 0.0021 - 181ms/epoch - 1ms/step\n",
            "Epoch 24/200\n",
            "143/143 - 0s - loss: 0.0015 - 182ms/epoch - 1ms/step\n",
            "Epoch 25/200\n",
            "143/143 - 0s - loss: 0.0015 - 204ms/epoch - 1ms/step\n",
            "Epoch 26/200\n",
            "143/143 - 0s - loss: 0.0014 - 181ms/epoch - 1ms/step\n",
            "Epoch 27/200\n",
            "143/143 - 0s - loss: 0.0021 - 187ms/epoch - 1ms/step\n",
            "Epoch 28/200\n",
            "143/143 - 0s - loss: 0.0020 - 187ms/epoch - 1ms/step\n",
            "Epoch 29/200\n",
            "143/143 - 0s - loss: 0.0014 - 182ms/epoch - 1ms/step\n",
            "Epoch 30/200\n",
            "143/143 - 0s - loss: 0.0019 - 196ms/epoch - 1ms/step\n",
            "Epoch 31/200\n",
            "143/143 - 0s - loss: 0.0016 - 182ms/epoch - 1ms/step\n",
            "Epoch 32/200\n",
            "143/143 - 0s - loss: 0.0017 - 201ms/epoch - 1ms/step\n",
            "Epoch 33/200\n",
            "143/143 - 0s - loss: 0.0019 - 186ms/epoch - 1ms/step\n",
            "Epoch 34/200\n",
            "143/143 - 0s - loss: 0.0015 - 180ms/epoch - 1ms/step\n",
            "Epoch 35/200\n",
            "143/143 - 0s - loss: 0.0017 - 186ms/epoch - 1ms/step\n",
            "Epoch 36/200\n",
            "143/143 - 0s - loss: 0.0014 - 195ms/epoch - 1ms/step\n",
            "Epoch 37/200\n",
            "143/143 - 0s - loss: 0.0018 - 190ms/epoch - 1ms/step\n",
            "Epoch 38/200\n",
            "143/143 - 0s - loss: 0.0019 - 189ms/epoch - 1ms/step\n",
            "Epoch 39/200\n",
            "143/143 - 0s - loss: 0.0019 - 186ms/epoch - 1ms/step\n",
            "Epoch 40/200\n",
            "143/143 - 0s - loss: 0.0017 - 180ms/epoch - 1ms/step\n",
            "Epoch 41/200\n",
            "143/143 - 0s - loss: 0.0018 - 193ms/epoch - 1ms/step\n",
            "Epoch 42/200\n",
            "143/143 - 0s - loss: 0.0017 - 188ms/epoch - 1ms/step\n",
            "Epoch 43/200\n",
            "143/143 - 0s - loss: 0.0017 - 184ms/epoch - 1ms/step\n",
            "Epoch 44/200\n",
            "143/143 - 0s - loss: 0.0017 - 189ms/epoch - 1ms/step\n",
            "Epoch 45/200\n",
            "143/143 - 0s - loss: 0.0015 - 182ms/epoch - 1ms/step\n",
            "Epoch 46/200\n",
            "143/143 - 0s - loss: 0.0015 - 190ms/epoch - 1ms/step\n",
            "Epoch 47/200\n",
            "143/143 - 0s - loss: 0.0016 - 186ms/epoch - 1ms/step\n",
            "Epoch 48/200\n",
            "143/143 - 0s - loss: 0.0017 - 193ms/epoch - 1ms/step\n",
            "Epoch 49/200\n",
            "143/143 - 0s - loss: 0.0016 - 183ms/epoch - 1ms/step\n",
            "Epoch 50/200\n",
            "143/143 - 0s - loss: 0.0017 - 178ms/epoch - 1ms/step\n",
            "Epoch 51/200\n",
            "143/143 - 0s - loss: 0.0016 - 177ms/epoch - 1ms/step\n",
            "Epoch 52/200\n",
            "143/143 - 0s - loss: 0.0015 - 197ms/epoch - 1ms/step\n",
            "Epoch 53/200\n",
            "143/143 - 0s - loss: 0.0015 - 198ms/epoch - 1ms/step\n",
            "Epoch 54/200\n",
            "143/143 - 0s - loss: 0.0016 - 189ms/epoch - 1ms/step\n",
            "Epoch 55/200\n",
            "143/143 - 0s - loss: 0.0016 - 182ms/epoch - 1ms/step\n",
            "Epoch 56/200\n",
            "143/143 - 0s - loss: 0.0017 - 181ms/epoch - 1ms/step\n",
            "Epoch 57/200\n",
            "143/143 - 0s - loss: 0.0017 - 223ms/epoch - 2ms/step\n",
            "Epoch 58/200\n",
            "143/143 - 0s - loss: 0.0016 - 267ms/epoch - 2ms/step\n",
            "Epoch 59/200\n",
            "143/143 - 0s - loss: 0.0016 - 265ms/epoch - 2ms/step\n",
            "Epoch 60/200\n",
            "143/143 - 0s - loss: 0.0015 - 273ms/epoch - 2ms/step\n",
            "Epoch 61/200\n",
            "143/143 - 0s - loss: 0.0016 - 289ms/epoch - 2ms/step\n",
            "Epoch 62/200\n",
            "143/143 - 0s - loss: 0.0016 - 334ms/epoch - 2ms/step\n",
            "Epoch 63/200\n",
            "143/143 - 0s - loss: 0.0015 - 312ms/epoch - 2ms/step\n",
            "Epoch 64/200\n",
            "143/143 - 0s - loss: 0.0016 - 293ms/epoch - 2ms/step\n",
            "Epoch 65/200\n",
            "143/143 - 0s - loss: 0.0017 - 277ms/epoch - 2ms/step\n",
            "Epoch 66/200\n",
            "143/143 - 0s - loss: 0.0016 - 261ms/epoch - 2ms/step\n",
            "Epoch 67/200\n",
            "143/143 - 0s - loss: 0.0018 - 269ms/epoch - 2ms/step\n",
            "Epoch 68/200\n",
            "143/143 - 0s - loss: 0.0016 - 204ms/epoch - 1ms/step\n",
            "Epoch 69/200\n",
            "143/143 - 0s - loss: 0.0016 - 186ms/epoch - 1ms/step\n",
            "Epoch 70/200\n",
            "143/143 - 0s - loss: 0.0015 - 193ms/epoch - 1ms/step\n",
            "Epoch 71/200\n",
            "143/143 - 0s - loss: 0.0016 - 180ms/epoch - 1ms/step\n",
            "Epoch 72/200\n",
            "143/143 - 0s - loss: 0.0018 - 191ms/epoch - 1ms/step\n",
            "Epoch 73/200\n",
            "143/143 - 0s - loss: 0.0015 - 207ms/epoch - 1ms/step\n",
            "Epoch 74/200\n",
            "143/143 - 0s - loss: 0.0018 - 201ms/epoch - 1ms/step\n",
            "Epoch 75/200\n",
            "143/143 - 0s - loss: 0.0019 - 190ms/epoch - 1ms/step\n",
            "Epoch 76/200\n",
            "143/143 - 0s - loss: 0.0015 - 190ms/epoch - 1ms/step\n",
            "Epoch 77/200\n",
            "143/143 - 0s - loss: 0.0016 - 201ms/epoch - 1ms/step\n",
            "Epoch 78/200\n",
            "143/143 - 0s - loss: 0.0017 - 196ms/epoch - 1ms/step\n",
            "Epoch 79/200\n",
            "143/143 - 0s - loss: 0.0015 - 182ms/epoch - 1ms/step\n",
            "Epoch 80/200\n",
            "143/143 - 0s - loss: 0.0016 - 189ms/epoch - 1ms/step\n",
            "Epoch 81/200\n",
            "143/143 - 0s - loss: 0.0016 - 183ms/epoch - 1ms/step\n",
            "Epoch 82/200\n",
            "143/143 - 0s - loss: 0.0014 - 189ms/epoch - 1ms/step\n",
            "Epoch 83/200\n",
            "143/143 - 0s - loss: 0.0014 - 206ms/epoch - 1ms/step\n",
            "Epoch 84/200\n",
            "143/143 - 0s - loss: 0.0017 - 182ms/epoch - 1ms/step\n",
            "Epoch 85/200\n",
            "143/143 - 0s - loss: 0.0016 - 192ms/epoch - 1ms/step\n",
            "Epoch 86/200\n",
            "143/143 - 0s - loss: 0.0017 - 190ms/epoch - 1ms/step\n",
            "Epoch 87/200\n",
            "143/143 - 0s - loss: 0.0015 - 172ms/epoch - 1ms/step\n",
            "Epoch 88/200\n",
            "143/143 - 0s - loss: 0.0015 - 188ms/epoch - 1ms/step\n",
            "Epoch 89/200\n",
            "143/143 - 0s - loss: 0.0015 - 194ms/epoch - 1ms/step\n",
            "Epoch 90/200\n",
            "143/143 - 0s - loss: 0.0014 - 187ms/epoch - 1ms/step\n",
            "Epoch 91/200\n",
            "143/143 - 0s - loss: 0.0017 - 175ms/epoch - 1ms/step\n",
            "Epoch 92/200\n",
            "143/143 - 0s - loss: 0.0015 - 205ms/epoch - 1ms/step\n",
            "Epoch 93/200\n",
            "143/143 - 0s - loss: 0.0017 - 211ms/epoch - 1ms/step\n",
            "Epoch 94/200\n",
            "143/143 - 0s - loss: 0.0014 - 203ms/epoch - 1ms/step\n",
            "Epoch 95/200\n",
            "143/143 - 0s - loss: 0.0016 - 188ms/epoch - 1ms/step\n",
            "Epoch 96/200\n",
            "143/143 - 0s - loss: 0.0014 - 175ms/epoch - 1ms/step\n",
            "Epoch 97/200\n",
            "143/143 - 0s - loss: 0.0015 - 178ms/epoch - 1ms/step\n",
            "Epoch 98/200\n",
            "143/143 - 0s - loss: 0.0015 - 190ms/epoch - 1ms/step\n",
            "Epoch 99/200\n",
            "143/143 - 0s - loss: 0.0014 - 200ms/epoch - 1ms/step\n",
            "Epoch 100/200\n",
            "143/143 - 0s - loss: 0.0015 - 190ms/epoch - 1ms/step\n",
            "Epoch 101/200\n",
            "143/143 - 0s - loss: 0.0014 - 199ms/epoch - 1ms/step\n",
            "Epoch 102/200\n",
            "143/143 - 0s - loss: 0.0017 - 184ms/epoch - 1ms/step\n",
            "Epoch 103/200\n",
            "143/143 - 0s - loss: 0.0016 - 188ms/epoch - 1ms/step\n",
            "Epoch 104/200\n",
            "143/143 - 0s - loss: 0.0016 - 193ms/epoch - 1ms/step\n",
            "Epoch 105/200\n",
            "143/143 - 0s - loss: 0.0014 - 178ms/epoch - 1ms/step\n",
            "Epoch 106/200\n",
            "143/143 - 0s - loss: 0.0015 - 182ms/epoch - 1ms/step\n",
            "Epoch 107/200\n",
            "143/143 - 0s - loss: 0.0015 - 179ms/epoch - 1ms/step\n",
            "Epoch 108/200\n",
            "143/143 - 0s - loss: 0.0015 - 190ms/epoch - 1ms/step\n",
            "Epoch 109/200\n",
            "143/143 - 0s - loss: 0.0014 - 188ms/epoch - 1ms/step\n",
            "Epoch 110/200\n",
            "143/143 - 0s - loss: 0.0015 - 189ms/epoch - 1ms/step\n",
            "Epoch 111/200\n",
            "143/143 - 0s - loss: 0.0015 - 190ms/epoch - 1ms/step\n",
            "Epoch 112/200\n",
            "143/143 - 0s - loss: 0.0016 - 186ms/epoch - 1ms/step\n",
            "Epoch 113/200\n",
            "143/143 - 0s - loss: 0.0016 - 181ms/epoch - 1ms/step\n",
            "Epoch 114/200\n",
            "143/143 - 0s - loss: 0.0015 - 185ms/epoch - 1ms/step\n",
            "Epoch 115/200\n",
            "143/143 - 0s - loss: 0.0017 - 205ms/epoch - 1ms/step\n",
            "Epoch 116/200\n",
            "143/143 - 0s - loss: 0.0014 - 184ms/epoch - 1ms/step\n",
            "Epoch 117/200\n",
            "143/143 - 0s - loss: 0.0015 - 181ms/epoch - 1ms/step\n",
            "Epoch 118/200\n",
            "143/143 - 0s - loss: 0.0017 - 184ms/epoch - 1ms/step\n",
            "Epoch 119/200\n",
            "143/143 - 0s - loss: 0.0016 - 227ms/epoch - 2ms/step\n",
            "Epoch 120/200\n",
            "143/143 - 0s - loss: 0.0017 - 290ms/epoch - 2ms/step\n",
            "Epoch 121/200\n",
            "143/143 - 0s - loss: 0.0014 - 265ms/epoch - 2ms/step\n",
            "Epoch 122/200\n",
            "143/143 - 0s - loss: 0.0017 - 262ms/epoch - 2ms/step\n",
            "Epoch 123/200\n",
            "143/143 - 0s - loss: 0.0017 - 273ms/epoch - 2ms/step\n",
            "Epoch 124/200\n",
            "143/143 - 0s - loss: 0.0016 - 267ms/epoch - 2ms/step\n",
            "Epoch 125/200\n",
            "143/143 - 0s - loss: 0.0015 - 234ms/epoch - 2ms/step\n",
            "Epoch 126/200\n",
            "143/143 - 0s - loss: 0.0015 - 263ms/epoch - 2ms/step\n",
            "Epoch 127/200\n",
            "143/143 - 0s - loss: 0.0014 - 266ms/epoch - 2ms/step\n",
            "Epoch 128/200\n",
            "143/143 - 0s - loss: 0.0015 - 274ms/epoch - 2ms/step\n",
            "Epoch 129/200\n",
            "143/143 - 0s - loss: 0.0015 - 264ms/epoch - 2ms/step\n",
            "Epoch 130/200\n",
            "143/143 - 0s - loss: 0.0016 - 248ms/epoch - 2ms/step\n",
            "Epoch 131/200\n",
            "143/143 - 0s - loss: 0.0014 - 186ms/epoch - 1ms/step\n",
            "Epoch 132/200\n",
            "143/143 - 0s - loss: 0.0015 - 197ms/epoch - 1ms/step\n",
            "Epoch 133/200\n",
            "143/143 - 0s - loss: 0.0016 - 182ms/epoch - 1ms/step\n",
            "Epoch 134/200\n",
            "143/143 - 0s - loss: 0.0015 - 175ms/epoch - 1ms/step\n",
            "Epoch 135/200\n",
            "143/143 - 0s - loss: 0.0015 - 180ms/epoch - 1ms/step\n",
            "Epoch 136/200\n",
            "143/143 - 0s - loss: 0.0016 - 185ms/epoch - 1ms/step\n",
            "Epoch 137/200\n",
            "143/143 - 0s - loss: 0.0014 - 194ms/epoch - 1ms/step\n",
            "Epoch 138/200\n",
            "143/143 - 0s - loss: 0.0014 - 193ms/epoch - 1ms/step\n",
            "Epoch 139/200\n",
            "143/143 - 0s - loss: 0.0015 - 181ms/epoch - 1ms/step\n",
            "Epoch 140/200\n",
            "143/143 - 0s - loss: 0.0017 - 186ms/epoch - 1ms/step\n",
            "Epoch 141/200\n",
            "143/143 - 0s - loss: 0.0014 - 186ms/epoch - 1ms/step\n",
            "Epoch 142/200\n",
            "143/143 - 0s - loss: 0.0018 - 189ms/epoch - 1ms/step\n",
            "Epoch 143/200\n",
            "143/143 - 0s - loss: 0.0015 - 199ms/epoch - 1ms/step\n",
            "Epoch 144/200\n",
            "143/143 - 0s - loss: 0.0014 - 188ms/epoch - 1ms/step\n",
            "Epoch 145/200\n",
            "143/143 - 0s - loss: 0.0015 - 184ms/epoch - 1ms/step\n",
            "Epoch 146/200\n",
            "143/143 - 0s - loss: 0.0016 - 193ms/epoch - 1ms/step\n",
            "Epoch 147/200\n",
            "143/143 - 0s - loss: 0.0014 - 183ms/epoch - 1ms/step\n",
            "Epoch 148/200\n",
            "143/143 - 0s - loss: 0.0016 - 187ms/epoch - 1ms/step\n",
            "Epoch 149/200\n",
            "143/143 - 0s - loss: 0.0015 - 185ms/epoch - 1ms/step\n",
            "Epoch 150/200\n",
            "143/143 - 0s - loss: 0.0016 - 183ms/epoch - 1ms/step\n",
            "Epoch 151/200\n",
            "143/143 - 0s - loss: 0.0016 - 174ms/epoch - 1ms/step\n",
            "Epoch 152/200\n",
            "143/143 - 0s - loss: 0.0016 - 179ms/epoch - 1ms/step\n",
            "Epoch 153/200\n",
            "143/143 - 0s - loss: 0.0015 - 185ms/epoch - 1ms/step\n",
            "Epoch 154/200\n",
            "143/143 - 0s - loss: 0.0014 - 185ms/epoch - 1ms/step\n",
            "Epoch 155/200\n",
            "143/143 - 0s - loss: 0.0014 - 184ms/epoch - 1ms/step\n",
            "Epoch 156/200\n",
            "143/143 - 0s - loss: 0.0014 - 185ms/epoch - 1ms/step\n",
            "Epoch 157/200\n",
            "143/143 - 0s - loss: 0.0014 - 190ms/epoch - 1ms/step\n",
            "Epoch 158/200\n",
            "143/143 - 0s - loss: 0.0015 - 190ms/epoch - 1ms/step\n",
            "Epoch 159/200\n",
            "143/143 - 0s - loss: 0.0015 - 197ms/epoch - 1ms/step\n",
            "Epoch 160/200\n",
            "143/143 - 0s - loss: 0.0015 - 186ms/epoch - 1ms/step\n",
            "Epoch 161/200\n",
            "143/143 - 0s - loss: 0.0015 - 185ms/epoch - 1ms/step\n",
            "Epoch 162/200\n",
            "143/143 - 0s - loss: 0.0015 - 191ms/epoch - 1ms/step\n",
            "Epoch 163/200\n",
            "143/143 - 0s - loss: 0.0015 - 183ms/epoch - 1ms/step\n",
            "Epoch 164/200\n",
            "143/143 - 0s - loss: 0.0016 - 186ms/epoch - 1ms/step\n",
            "Epoch 165/200\n",
            "143/143 - 0s - loss: 0.0016 - 199ms/epoch - 1ms/step\n",
            "Epoch 166/200\n",
            "143/143 - 0s - loss: 0.0014 - 177ms/epoch - 1ms/step\n",
            "Epoch 167/200\n",
            "143/143 - 0s - loss: 0.0015 - 188ms/epoch - 1ms/step\n",
            "Epoch 168/200\n",
            "143/143 - 0s - loss: 0.0016 - 205ms/epoch - 1ms/step\n",
            "Epoch 169/200\n",
            "143/143 - 0s - loss: 0.0015 - 187ms/epoch - 1ms/step\n",
            "Epoch 170/200\n",
            "143/143 - 0s - loss: 0.0016 - 198ms/epoch - 1ms/step\n",
            "Epoch 171/200\n",
            "143/143 - 0s - loss: 0.0016 - 187ms/epoch - 1ms/step\n",
            "Epoch 172/200\n",
            "143/143 - 0s - loss: 0.0015 - 189ms/epoch - 1ms/step\n",
            "Epoch 173/200\n",
            "143/143 - 0s - loss: 0.0016 - 191ms/epoch - 1ms/step\n",
            "Epoch 174/200\n",
            "143/143 - 0s - loss: 0.0015 - 192ms/epoch - 1ms/step\n",
            "Epoch 175/200\n",
            "143/143 - 0s - loss: 0.0015 - 203ms/epoch - 1ms/step\n",
            "Epoch 176/200\n",
            "143/143 - 0s - loss: 0.0015 - 190ms/epoch - 1ms/step\n",
            "Epoch 177/200\n",
            "143/143 - 0s - loss: 0.0013 - 199ms/epoch - 1ms/step\n",
            "Epoch 178/200\n",
            "143/143 - 0s - loss: 0.0016 - 198ms/epoch - 1ms/step\n",
            "Epoch 179/200\n",
            "143/143 - 0s - loss: 0.0014 - 208ms/epoch - 1ms/step\n",
            "Epoch 180/200\n",
            "143/143 - 0s - loss: 0.0015 - 205ms/epoch - 1ms/step\n",
            "Epoch 181/200\n",
            "143/143 - 0s - loss: 0.0015 - 182ms/epoch - 1ms/step\n",
            "Epoch 182/200\n",
            "143/143 - 0s - loss: 0.0015 - 196ms/epoch - 1ms/step\n",
            "Epoch 183/200\n",
            "143/143 - 0s - loss: 0.0015 - 271ms/epoch - 2ms/step\n",
            "Epoch 184/200\n",
            "143/143 - 0s - loss: 0.0015 - 264ms/epoch - 2ms/step\n",
            "Epoch 185/200\n",
            "143/143 - 0s - loss: 0.0016 - 280ms/epoch - 2ms/step\n",
            "Epoch 186/200\n",
            "143/143 - 0s - loss: 0.0016 - 275ms/epoch - 2ms/step\n",
            "Epoch 187/200\n",
            "143/143 - 0s - loss: 0.0014 - 289ms/epoch - 2ms/step\n",
            "Epoch 188/200\n",
            "143/143 - 0s - loss: 0.0015 - 303ms/epoch - 2ms/step\n",
            "Epoch 189/200\n",
            "143/143 - 0s - loss: 0.0015 - 282ms/epoch - 2ms/step\n",
            "Epoch 190/200\n",
            "143/143 - 0s - loss: 0.0016 - 279ms/epoch - 2ms/step\n",
            "Epoch 191/200\n",
            "143/143 - 0s - loss: 0.0015 - 287ms/epoch - 2ms/step\n",
            "Epoch 192/200\n",
            "143/143 - 0s - loss: 0.0015 - 269ms/epoch - 2ms/step\n",
            "Epoch 193/200\n",
            "143/143 - 0s - loss: 0.0015 - 225ms/epoch - 2ms/step\n",
            "Epoch 194/200\n",
            "143/143 - 0s - loss: 0.0013 - 208ms/epoch - 1ms/step\n",
            "Epoch 195/200\n",
            "143/143 - 0s - loss: 0.0014 - 197ms/epoch - 1ms/step\n",
            "Epoch 196/200\n",
            "143/143 - 0s - loss: 0.0014 - 199ms/epoch - 1ms/step\n",
            "Epoch 197/200\n",
            "143/143 - 0s - loss: 0.0015 - 213ms/epoch - 1ms/step\n",
            "Epoch 198/200\n",
            "143/143 - 0s - loss: 0.0016 - 202ms/epoch - 1ms/step\n",
            "Epoch 199/200\n",
            "143/143 - 0s - loss: 0.0015 - 197ms/epoch - 1ms/step\n",
            "Epoch 200/200\n",
            "143/143 - 0s - loss: 0.0014 - 182ms/epoch - 1ms/step\n"
          ]
        },
        {
          "output_type": "execute_result",
          "data": {
            "text/plain": [
              "<keras.callbacks.History at 0x7f4edea3f370>"
            ]
          },
          "metadata": {},
          "execution_count": 227
        }
      ]
    },
    {
      "cell_type": "code",
      "source": [
        "history = mlp_model.fit(X_train,y_train,validation_data=(X_test,y_test),epochs=200,batch_size=2,verbose=1, callbacks=[cb])"
      ],
      "metadata": {
        "colab": {
          "base_uri": "https://localhost:8080/"
        },
        "id": "w4Z0B90jU9Qj",
        "outputId": "6a0ccea4-3b92-4690-a01d-d12c0e0cc287"
      },
      "execution_count": 229,
      "outputs": [
        {
          "output_type": "stream",
          "name": "stdout",
          "text": [
            "Epoch 1/200\n",
            "143/143 [==============================] - 1s 10ms/step - loss: 0.0014 - val_loss: 0.0030\n",
            "Epoch 2/200\n",
            "143/143 [==============================] - 1s 4ms/step - loss: 0.0015 - val_loss: 0.0038\n",
            "Epoch 3/200\n",
            "143/143 [==============================] - 1s 4ms/step - loss: 0.0015 - val_loss: 0.0030\n",
            "Epoch 4/200\n",
            "143/143 [==============================] - 1s 4ms/step - loss: 0.0016 - val_loss: 0.0030\n",
            "Epoch 5/200\n",
            "143/143 [==============================] - 1s 7ms/step - loss: 0.0014 - val_loss: 0.0031\n",
            "Epoch 6/200\n",
            "143/143 [==============================] - 0s 2ms/step - loss: 0.0015 - val_loss: 0.0032\n",
            "Epoch 7/200\n",
            "143/143 [==============================] - 0s 2ms/step - loss: 0.0015 - val_loss: 0.0029\n",
            "Epoch 8/200\n",
            "143/143 [==============================] - 0s 2ms/step - loss: 0.0015 - val_loss: 0.0032\n",
            "Epoch 9/200\n",
            "143/143 [==============================] - 0s 2ms/step - loss: 0.0015 - val_loss: 0.0035\n",
            "Epoch 10/200\n",
            "143/143 [==============================] - 0s 2ms/step - loss: 0.0014 - val_loss: 0.0029\n",
            "Epoch 11/200\n",
            "143/143 [==============================] - 0s 2ms/step - loss: 0.0015 - val_loss: 0.0030\n",
            "Epoch 12/200\n",
            "143/143 [==============================] - 0s 3ms/step - loss: 0.0015 - val_loss: 0.0032\n",
            "Epoch 13/200\n",
            "143/143 [==============================] - 1s 5ms/step - loss: 0.0014 - val_loss: 0.0029\n",
            "Epoch 14/200\n",
            "143/143 [==============================] - 1s 6ms/step - loss: 0.0015 - val_loss: 0.0031\n",
            "Epoch 15/200\n",
            "143/143 [==============================] - 0s 2ms/step - loss: 0.0015 - val_loss: 0.0033\n",
            "Epoch 16/200\n",
            "143/143 [==============================] - 0s 2ms/step - loss: 0.0014 - val_loss: 0.0033\n",
            "Epoch 17/200\n",
            "143/143 [==============================] - 0s 2ms/step - loss: 0.0014 - val_loss: 0.0041\n",
            "Epoch 18/200\n",
            "143/143 [==============================] - 0s 2ms/step - loss: 0.0017 - val_loss: 0.0029\n",
            "Epoch 19/200\n",
            "143/143 [==============================] - 0s 2ms/step - loss: 0.0014 - val_loss: 0.0030\n",
            "Epoch 20/200\n",
            "143/143 [==============================] - 0s 2ms/step - loss: 0.0017 - val_loss: 0.0030\n",
            "Epoch 21/200\n",
            "143/143 [==============================] - 0s 3ms/step - loss: 0.0014 - val_loss: 0.0030\n",
            "Epoch 22/200\n",
            "143/143 [==============================] - 0s 3ms/step - loss: 0.0014 - val_loss: 0.0036\n",
            "Epoch 23/200\n",
            "143/143 [==============================] - 0s 3ms/step - loss: 0.0016 - val_loss: 0.0029\n",
            "Epoch 24/200\n",
            "143/143 [==============================] - 0s 3ms/step - loss: 0.0014 - val_loss: 0.0030\n",
            "Epoch 25/200\n",
            "143/143 [==============================] - 0s 3ms/step - loss: 0.0014 - val_loss: 0.0029\n",
            "Epoch 26/200\n",
            "143/143 [==============================] - 0s 3ms/step - loss: 0.0013 - val_loss: 0.0031\n",
            "Epoch 27/200\n",
            "143/143 [==============================] - 0s 3ms/step - loss: 0.0015 - val_loss: 0.0030\n",
            "Epoch 28/200\n",
            "143/143 [==============================] - 0s 3ms/step - loss: 0.0015 - val_loss: 0.0031\n",
            "Epoch 29/200\n",
            "143/143 [==============================] - 0s 2ms/step - loss: 0.0013 - val_loss: 0.0037\n",
            "Epoch 30/200\n",
            "143/143 [==============================] - 0s 2ms/step - loss: 0.0016 - val_loss: 0.0030\n",
            "Epoch 31/200\n",
            "143/143 [==============================] - 0s 2ms/step - loss: 0.0015 - val_loss: 0.0051\n",
            "Epoch 32/200\n",
            "143/143 [==============================] - 0s 2ms/step - loss: 0.0015 - val_loss: 0.0029\n",
            "Epoch 33/200\n",
            "143/143 [==============================] - 0s 2ms/step - loss: 0.0016 - val_loss: 0.0029\n",
            "Epoch 34/200\n",
            "143/143 [==============================] - 0s 2ms/step - loss: 0.0015 - val_loss: 0.0032\n",
            "Epoch 35/200\n",
            "143/143 [==============================] - 0s 2ms/step - loss: 0.0015 - val_loss: 0.0031\n",
            "Epoch 36/200\n",
            "143/143 [==============================] - 0s 2ms/step - loss: 0.0014 - val_loss: 0.0029\n",
            "Epoch 37/200\n",
            "143/143 [==============================] - 0s 2ms/step - loss: 0.0014 - val_loss: 0.0029\n",
            "Epoch 38/200\n",
            "143/143 [==============================] - 0s 2ms/step - loss: 0.0015 - val_loss: 0.0031\n",
            "Epoch 39/200\n",
            "143/143 [==============================] - 0s 2ms/step - loss: 0.0015 - val_loss: 0.0033\n",
            "Epoch 40/200\n",
            "143/143 [==============================] - 0s 2ms/step - loss: 0.0015 - val_loss: 0.0032\n",
            "Epoch 41/200\n",
            "143/143 [==============================] - 0s 2ms/step - loss: 0.0016 - val_loss: 0.0031\n",
            "Epoch 42/200\n",
            "143/143 [==============================] - 0s 2ms/step - loss: 0.0015 - val_loss: 0.0029\n",
            "Epoch 43/200\n",
            "143/143 [==============================] - 0s 2ms/step - loss: 0.0014 - val_loss: 0.0032\n"
          ]
        }
      ]
    },
    {
      "cell_type": "code",
      "source": [
        "plt.figure(figsize=(6, 4))\n",
        "plt.plot(history.history[\"loss\"], label=\"Train\")\n",
        "plt.plot(history.history[\"val_loss\"], label=\"Test\")\n",
        "plt.title(\"Loss over epoch\")\n",
        "plt.xlabel(\"Epoch\")\n",
        "plt.ylabel(\"Loss\")\n",
        "plt.legend()\n",
        "plt.show()"
      ],
      "metadata": {
        "colab": {
          "base_uri": "https://localhost:8080/",
          "height": 410
        },
        "id": "1y8222iPUcQR",
        "outputId": "82fafb7b-dfaa-4b02-b9c7-4a0e3b787829"
      },
      "execution_count": 230,
      "outputs": [
        {
          "output_type": "display_data",
          "data": {
            "text/plain": [
              "<Figure size 600x400 with 1 Axes>"
            ],
            "image/png": "[encoded data removed]"
          },
          "metadata": {}
        }
      ]
    },
    {
      "cell_type": "code",
      "source": [
        "# Obtain the predicted values\n",
        "mlp_pred_scaled = mlp_model.predict(X_test)\n",
        "mlp_pred = mmscaler.inverse_transform(mlp_pred_scaled)\n",
        "y_test_unsc = mmscaler.inverse_transform(y_test.reshape(-1, 1))"
      ],
      "metadata": {
        "colab": {
          "base_uri": "https://localhost:8080/"
        },
        "id": "xBXsspWfZK47",
        "outputId": "57db5884-0665-4af2-8969-e424a95dedaa"
      },
      "execution_count": 232,
      "outputs": [
        {
          "output_type": "stream",
          "name": "stderr",
          "text": [
            "WARNING:tensorflow:5 out of the last 13 calls to <function Model.make_predict_function.<locals>.predict_function at 0x7f4edef98e50> triggered tf.function retracing. Tracing is expensive and the excessive number of tracings could be due to (1) creating @tf.function repeatedly in a loop, (2) passing tensors with different shapes, (3) passing Python objects instead of tensors. For (1), please define your @tf.function outside of the loop. For (2), @tf.function has reduce_retracing=True option that can avoid unnecessary retracing. For (3), please refer to https://www.tensorflow.org/guide/function#controlling_retracing and https://www.tensorflow.org/api_docs/python/tf/function for  more details.\n"
          ]
        },
        {
          "output_type": "stream",
          "name": "stdout",
          "text": [
            "3/3 [==============================] - 0s 14ms/step\n"
          ]
        }
      ]
    },
    {
      "cell_type": "code",
      "source": [
        "# Mean Absolute Error (MAE)\n",
        "mlp_MAE = mean_absolute_error(y_test_unsc, mlp_pred)\n",
        "print(f'Median Absolute Error (MAE): {np.round(mlp_MAE, 2)}')\n",
        "\n",
        "# Mean Absolute Percentage Error (MAPE)\n",
        "mlp_MAPE = np.mean((np.abs(np.subtract(y_test_unsc, mlp_pred)/ y_test_unsc))) * 100\n",
        "print(f'Mean Absolute Percentage Error (MAPE): {np.round(mlp_MAPE, 2)} %')\n",
        "\n",
        "# Root Mean Squared Error (RMSE)\n",
        "mlp_RMSE = mean_squared_error(y_test_unsc, mlp_pred) ** 0.5\n",
        "print(f'Root Mean Squared Error (RMSE): {np.round(mlp_RMSE, 2)} %')\n",
        "\n",
        "# Mean Squared Error (MSE)\n",
        "mlp_MSE = mean_squared_error(y_test_unsc, mlp_pred)\n",
        "print('MSE value of the MLP Model:', mlp_MSE )\n",
        "\n",
        "# r2_score\n",
        "mlp_r2 = r2_score(y_test_unsc, mlp_pred)\n",
        "print(f'R^2 Score: {np.round(mlp_r2, 2)} %')"
      ],
      "metadata": {
        "colab": {
          "base_uri": "https://localhost:8080/"
        },
        "id": "XqpifbnIZtju",
        "outputId": "16677d35-9637-47fc-bb3f-2048e163a6b6"
      },
      "execution_count": 233,
      "outputs": [
        {
          "output_type": "stream",
          "name": "stdout",
          "text": [
            "Median Absolute Error (MAE): 43.06\n",
            "Mean Absolute Percentage Error (MAPE): 5.04 %\n",
            "Root Mean Squared Error (RMSE): 61.6 %\n",
            "MSE value of the MLP Model: 3794.7409288553276\n",
            "R^2 Score: 0.94 %\n"
          ]
        }
      ]
    },
    {
      "cell_type": "code",
      "source": [
        "train = pd.DataFrame(train_df[:train_data_len + 1]).rename(columns={'cpo_pri': 'X_train'})\n",
        "train"
      ],
      "metadata": {
        "colab": {
          "base_uri": "https://localhost:8080/",
          "height": 450
        },
        "id": "1o6Zdk51ZtoH",
        "outputId": "4e606aac-b98d-4eed-999a-50ab2ae3e625"
      },
      "execution_count": 234,
      "outputs": [
        {
          "output_type": "execute_result",
          "data": {
            "text/plain": [
              "            X_train\n",
              "date               \n",
              "1993-03-01   408.00\n",
              "1993-04-01   392.00\n",
              "1993-05-01   371.00\n",
              "1993-06-01   356.00\n",
              "1993-07-01   362.00\n",
              "...             ...\n",
              "2016-12-01   811.38\n",
              "2017-01-01   825.00\n",
              "2017-02-01   808.61\n",
              "2017-03-01   778.70\n",
              "2017-04-01   752.06\n",
              "\n",
              "[290 rows x 1 columns]"
            ],
            "text/html": [
              "\n",
              "  <div id=\"df-86b4a4f3-4ba5-4f3e-bd51-4cff29bf4fd8\">\n",
              "    <div class=\"colab-df-container\">\n",
              "      <div>\n",
              "<style scoped>\n",
              "    .dataframe tbody tr th:only-of-type {\n",
              "        vertical-align: middle;\n",
              "    }\n",
              "\n",
              "    .dataframe tbody tr th {\n",
              "        vertical-align: top;\n",
              "    }\n",
              "\n",
              "    .dataframe thead th {\n",
              "        text-align: right;\n",
              "    }\n",
              "</style>\n",
              "<table border=\"1\" class=\"dataframe\">\n",
              "  <thead>\n",
              "    <tr style=\"text-align: right;\">\n",
              "      <th></th>\n",
              "      <th>X_train</th>\n",
              "    </tr>\n",
              "    <tr>\n",
              "      <th>date</th>\n",
              "      <th></th>\n",
              "    </tr>\n",
              "  </thead>\n",
              "  <tbody>\n",
              "    <tr>\n",
              "      <th>1993-03-01</th>\n",
              "      <td>408.00</td>\n",
              "    </tr>\n",
              "    <tr>\n",
              "      <th>1993-04-01</th>\n",
              "      <td>392.00</td>\n",
              "    </tr>\n",
              "    <tr>\n",
              "      <th>1993-05-01</th>\n",
              "      <td>371.00</td>\n",
              "    </tr>\n",
              "    <tr>\n",
              "      <th>1993-06-01</th>\n",
              "      <td>356.00</td>\n",
              "    </tr>\n",
              "    <tr>\n",
              "      <th>1993-07-01</th>\n",
              "      <td>362.00</td>\n",
              "    </tr>\n",
              "    <tr>\n",
              "      <th>...</th>\n",
              "      <td>...</td>\n",
              "    </tr>\n",
              "    <tr>\n",
              "      <th>2016-12-01</th>\n",
              "      <td>811.38</td>\n",
              "    </tr>\n",
              "    <tr>\n",
              "      <th>2017-01-01</th>\n",
              "      <td>825.00</td>\n",
              "    </tr>\n",
              "    <tr>\n",
              "      <th>2017-02-01</th>\n",
              "      <td>808.61</td>\n",
              "    </tr>\n",
              "    <tr>\n",
              "      <th>2017-03-01</th>\n",
              "      <td>778.70</td>\n",
              "    </tr>\n",
              "    <tr>\n",
              "      <th>2017-04-01</th>\n",
              "      <td>752.06</td>\n",
              "    </tr>\n",
              "  </tbody>\n",
              "</table>\n",
              "<p>290 rows × 1 columns</p>\n",
              "</div>\n",
              "      <button class=\"colab-df-convert\" onclick=\"convertToInteractive('df-86b4a4f3-4ba5-4f3e-bd51-4cff29bf4fd8')\"\n",
              "              title=\"Convert this dataframe to an interactive table.\"\n",
              "              style=\"display:none;\">\n",
              "        \n",
              "  <svg xmlns=\"http://www.w3.org/2000/svg\" height=\"24px\"viewBox=\"0 0 24 24\"\n",
              "       width=\"24px\">\n",
              "    <path d=\"M0 0h24v24H0V0z\" fill=\"none\"/>\n",
              "    <path d=\"M18.56 5.44l.94 2.06.94-2.06 2.06-.94-2.06-.94-.94-2.06-.94 2.06-2.06.94zm-11 1L8.5 8.5l.94-2.06 2.06-.94-2.06-.94L8.5 2.5l-.94 2.06-2.06.94zm10 10l.94 2.06.94-2.06 2.06-.94-2.06-.94-.94-2.06-.94 2.06-2.06.94z\"/><path d=\"M17.41 7.96l-1.37-1.37c-.4-.4-.92-.59-1.43-.59-.52 0-1.04.2-1.43.59L10.3 9.45l-7.72 7.72c-.78.78-.78 2.05 0 2.83L4 21.41c.39.39.9.59 1.41.59.51 0 1.02-.2 1.41-.59l7.78-7.78 2.81-2.81c.8-.78.8-2.07 0-2.86zM5.41 20L4 18.59l7.72-7.72 1.47 1.35L5.41 20z\"/>\n",
              "  </svg>\n",
              "      </button>\n",
              "      \n",
              "  <style>\n",
              "    .colab-df-container {\n",
              "      display:flex;\n",
              "      flex-wrap:wrap;\n",
              "      gap: 12px;\n",
              "    }\n",
              "\n",
              "    .colab-df-convert {\n",
              "      background-color: #E8F0FE;\n",
              "      border: none;\n",
              "      border-radius: 50%;\n",
              "      cursor: pointer;\n",
              "      display: none;\n",
              "      fill: #1967D2;\n",
              "      height: 32px;\n",
              "      padding: 0 0 0 0;\n",
              "      width: 32px;\n",
              "    }\n",
              "\n",
              "    .colab-df-convert:hover {\n",
              "      background-color: #E2EBFA;\n",
              "      box-shadow: 0px 1px 2px rgba(60, 64, 67, 0.3), 0px 1px 3px 1px rgba(60, 64, 67, 0.15);\n",
              "      fill: #174EA6;\n",
              "    }\n",
              "\n",
              "    [theme=dark] .colab-df-convert {\n",
              "      background-color: #3B4455;\n",
              "      fill: #D2E3FC;\n",
              "    }\n",
              "\n",
              "    [theme=dark] .colab-df-convert:hover {\n",
              "      background-color: #434B5C;\n",
              "      box-shadow: 0px 1px 3px 1px rgba(0, 0, 0, 0.15);\n",
              "      filter: drop-shadow(0px 1px 2px rgba(0, 0, 0, 0.3));\n",
              "      fill: #FFFFFF;\n",
              "    }\n",
              "  </style>\n",
              "\n",
              "      <script>\n",
              "        const buttonEl =\n",
              "          document.querySelector('#df-86b4a4f3-4ba5-4f3e-bd51-4cff29bf4fd8 button.colab-df-convert');\n",
              "        buttonEl.style.display =\n",
              "          google.colab.kernel.accessAllowed ? 'block' : 'none';\n",
              "\n",
              "        async function convertToInteractive(key) {\n",
              "          const element = document.querySelector('#df-86b4a4f3-4ba5-4f3e-bd51-4cff29bf4fd8');\n",
              "          const dataTable =\n",
              "            await google.colab.kernel.invokeFunction('convertToInteractive',\n",
              "                                                     [key], {});\n",
              "          if (!dataTable) return;\n",
              "\n",
              "          const docLinkHtml = 'Like what you see? Visit the ' +\n",
              "            '<a target=\"_blank\" href=https://colab.research.google.com/notebooks/data_table.ipynb>data table notebook</a>'\n",
              "            + ' to learn more about interactive tables.';\n",
              "          element.innerHTML = '';\n",
              "          dataTable['output_type'] = 'display_data';\n",
              "          await google.colab.output.renderOutput(dataTable, element);\n",
              "          const docLink = document.createElement('div');\n",
              "          docLink.innerHTML = docLinkHtml;\n",
              "          element.appendChild(docLink);\n",
              "        }\n",
              "      </script>\n",
              "    </div>\n",
              "  </div>\n",
              "  "
            ]
          },
          "metadata": {},
          "execution_count": 234
        }
      ]
    },
    {
      "cell_type": "code",
      "source": [
        "# The date starting from which the date is presented\n",
        "display_start_date = \"2010-12\"\n",
        "\n",
        "#\n",
        "train = pd.DataFrame(train_df[:train_data_len + 1]).rename(columns={'cpo_pri': 'y_train'})\n",
        "valid = pd.DataFrame(train_df[train_data_len:]).rename(columns={'cpo_pri': 'y_test'})\n",
        "valid.insert(1, \"mlp_pred\", mlp_pred, True)\n",
        "valid.insert(1, \"residuals\", valid[\"mlp_pred\"] - valid[\"y_test\"], True)\n",
        "df_union = pd.concat([train, valid])\n",
        "\n",
        "# Zoom in on a specific timeframe.\n",
        "df_union_zoom = df_union[df_union.index > display_start_date]\n",
        "\n",
        "# Create the lineplot\n",
        "fig, ax1 = plt.subplots(figsize=(16, 8), sharex=True)\n",
        "plt.title(\"MLP Predictions vs Actual\")\n",
        "sns.set_palette([\"#090364\", \"#1960EF\", \"#EF5919\"])\n",
        "plt.ylabel(featurename, fontsize=18)\n",
        "sns.lineplot(data=df_union_zoom[['y_train', 'mlp_pred', 'y_test']], linewidth=1.0, dashes=False, ax=ax1)"
      ],
      "metadata": {
        "colab": {
          "base_uri": "https://localhost:8080/",
          "height": 735
        },
        "id": "UP-WFBgTZtsB",
        "outputId": "2c44edc3-cbbb-4c37-9232-033e8b9f3b79"
      },
      "execution_count": 235,
      "outputs": [
        {
          "output_type": "execute_result",
          "data": {
            "text/plain": [
              "<Axes: title={'center': 'MLP Predictions vs Actual'}, xlabel='date', ylabel='Price'>"
            ]
          },
          "metadata": {},
          "execution_count": 235
        },
        {
          "output_type": "display_data",
          "data": {
            "text/plain": [
              "<Figure size 1600x800 with 1 Axes>"
            ],
            "image/png": "[encoded data removed]"
          },
          "metadata": {}
        }
      ]
    },
    {
      "cell_type": "code",
      "source": [
        "input_dim = sequence_len"
      ],
      "metadata": {
        "id": "vLr-9O52eHit"
      },
      "execution_count": 236,
      "outputs": []
    },
    {
      "cell_type": "markdown",
      "source": [
        "###Performing Grid Search Operation"
      ],
      "metadata": {
        "id": "GM99t2LUQt7z"
      }
    },
    {
      "cell_type": "markdown",
      "source": [
        "#### Tuning the Batch Size and Number of Epochs"
      ],
      "metadata": {
        "id": "kUqvUj3xIFnq"
      }
    },
    {
      "cell_type": "code",
      "source": [
        "# Use scikit-learn to grid search the batch size and epochs\n",
        "import numpy as np\n",
        "import tensorflow as tf\n",
        "from sklearn.model_selection import GridSearchCV\n",
        "from tensorflow.keras.models import Sequential\n",
        "from tensorflow.keras.layers import Dense\n",
        "from scikeras.wrappers import KerasRegressor\n",
        "\n",
        "# Function to create model, required for KerasClassifier\n",
        "def create_model():\n",
        " # create model\n",
        " model = Sequential()\n",
        " model.add(Dense(12, input_dim=input_dim, activation='relu'))\n",
        " model.add(Dense(1, activation='sigmoid'))\n",
        " # Compile model\n",
        " model.compile(loss='mse', optimizer='adam', metrics=['accuracy'])\n",
        " return model\n",
        "\n",
        "# create model\n",
        "model = KerasRegressor(model=create_model, verbose=0)\n",
        "# define the grid search parameters\n",
        "batch_size = [10, 20, 40, 60, 80, 100]\n",
        "epochs = [10, 50, 100]\n",
        "param_grid = dict(batch_size=batch_size, epochs=epochs)\n",
        "grid = GridSearchCV(estimator=model, param_grid=param_grid, n_jobs=-1, cv=3)\n",
        "grid_result = grid.fit(X_train, y_train)\n",
        "\n",
        "# summarize results\n",
        "print(\"Best: %f using %s\" % (grid.best_score_, grid.best_params_))\n",
        "means = grid.cv_results_['mean_test_score']\n",
        "stds = grid.cv_results_['std_test_score']\n",
        "params = grid.cv_results_['params']\n",
        "for mean, stdev, param in zip(means, stds, params):\n",
        "    print(\"%f (%f) with: %r\" % (mean, stdev, param))\n",
        "# Best: 0.861649 using {'batch_size': 20, 'epochs': 100}"
      ],
      "metadata": {
        "id": "I4m_n3nwIKpL",
        "outputId": "054d0a72-fc3d-4433-cb49-b9c892d4b7b8",
        "colab": {
          "base_uri": "https://localhost:8080/"
        }
      },
      "execution_count": 241,
      "outputs": [
        {
          "output_type": "stream",
          "name": "stdout",
          "text": [
            "Best: 0.861649 using {'batch_size': 20, 'epochs': 100}\n",
            "-1.423242 (0.888330) with: {'batch_size': 10, 'epochs': 10}\n",
            "0.206552 (0.842548) with: {'batch_size': 10, 'epochs': 50}\n",
            "0.832611 (0.080307) with: {'batch_size': 10, 'epochs': 100}\n",
            "-2.083051 (1.602925) with: {'batch_size': 20, 'epochs': 10}\n",
            "0.476018 (0.358089) with: {'batch_size': 20, 'epochs': 50}\n",
            "0.861649 (0.044781) with: {'batch_size': 20, 'epochs': 100}\n",
            "-2.637265 (1.515342) with: {'batch_size': 40, 'epochs': 10}\n",
            "-1.184718 (1.014140) with: {'batch_size': 40, 'epochs': 50}\n",
            "-0.026609 (0.767081) with: {'batch_size': 40, 'epochs': 100}\n",
            "-1.814121 (1.726780) with: {'batch_size': 60, 'epochs': 10}\n",
            "-1.086670 (0.739355) with: {'batch_size': 60, 'epochs': 50}\n",
            "0.510936 (0.184333) with: {'batch_size': 60, 'epochs': 100}\n",
            "-2.469334 (2.016827) with: {'batch_size': 80, 'epochs': 10}\n",
            "-1.744301 (1.196932) with: {'batch_size': 80, 'epochs': 50}\n",
            "-0.728865 (0.715747) with: {'batch_size': 80, 'epochs': 100}\n",
            "-2.430118 (2.033198) with: {'batch_size': 100, 'epochs': 10}\n",
            "-2.152216 (1.313778) with: {'batch_size': 100, 'epochs': 50}\n",
            "-1.139741 (1.204496) with: {'batch_size': 100, 'epochs': 100}\n"
          ]
        }
      ]
    },
    {
      "cell_type": "code",
      "source": [
        "'''\n",
        "# Importing the Keras libraries and packages\n",
        "from keras.models import Sequential\n",
        "from keras.layers import Dense\n",
        "from keras.layers import LSTM\n",
        "from keras.layers import Dropout\n",
        "from keras.wrappers.scikit_learn import KerasRegressor\n",
        "from sklearn.model_selection import RandomizedSearchCV, GridSearchCV, train_test_split\n",
        "from sklearn.metrics import mean_squared_log_error\n",
        "\n",
        "def create_model():\n",
        "\n",
        "    model = Sequential(optimizer='rmsprop', neurons=16, learning_rate=0.001)\n",
        "     # Adding the input layer and the first hidden layer\n",
        "    model.add(Dense(12, input_dim=input_dim, activation='relu'))\n",
        "    # Adding the output layer\n",
        "    model.add(Dense(1, activation='sigmoid'))\n",
        "    model.compile(loss='mse', optimizer='adam', metrics=['accuracy'])\n",
        "    return(model)\n",
        "\n",
        "batch_size = [10, 20]\n",
        "epochs = [10, 100]\n",
        "lr_values = [0.001, 0.01, 0.1, 0.2, 0.3]\n",
        "optimizers = ['rmsprop', 'adam', 'SGD']\n",
        "neuron_list = [16, 32, 64, 128, 256]\n",
        "\n",
        "param_grid = dict(batch_size=batch_size, epochs=epochs, learning_rate=lr_values)\n",
        "\n",
        "model1 = KerasRegressor(build_fn=create_model, verbose=0)\n",
        "grid1 = GridSearchCV(estimator=model1, param_grid=param_grid, cv = 2, n_jobs=-1, verbose=1)\n",
        "grid1.fit(X_train,y_train)\n",
        "\n",
        "#optimizer=SGD(lr, momentum)\n",
        "# optimizer = ['SGD', 'RMSprop', 'Adagrad', 'Adadelta', 'Adam', 'Adamax', 'Nadam']\n",
        "\n",
        "print(\" These are the results from Grid Search \" )\n",
        "print(\"\\n The best estimator overall in the searched params:\\n\",grid1.best_estimator_)\n",
        "print(\"\\n The best score overall in the searched params:\\n\",grid1.best_score_)\n",
        "print(\"\\n The best parameters overall in the searched params:\\n\",grid1.best_params_)\n",
        "\n",
        "train_pred = grid1.predict(X_train)\n",
        "print('rmsle: ', np.sqrt(mean_squared_log_error(y_train, train_pred)))\n",
        "print('rmse: ', np.sqrt(mean_squared_error(X_train, np.expm1(train_pred))))\n",
        "print('mae: ', mean_absolute_error(train_data.cpo_pri, np.expm1(train_pred)))\n",
        "# Reshaping X_train for efficient modelling\n",
        "'''"
      ],
      "metadata": {
        "id": "7wge4hAf5tlc",
        "outputId": "ecbd2e23-0a1f-4e08-90c8-ef93f52b8f10",
        "colab": {
          "base_uri": "https://localhost:8080/",
          "height": 120
        }
      },
      "execution_count": 242,
      "outputs": [
        {
          "output_type": "execute_result",
          "data": {
            "text/plain": [
              "'\\n# Importing the Keras libraries and packages\\nfrom keras.models import Sequential\\nfrom keras.layers import Dense\\nfrom keras.layers import LSTM\\nfrom keras.layers import Dropout\\nfrom keras.wrappers.scikit_learn import KerasRegressor\\nfrom sklearn.model_selection import RandomizedSearchCV, GridSearchCV, train_test_split\\nfrom sklearn.metrics import mean_squared_log_error\\n\\ndef create_model():\\n\\n    model = Sequential(optimizer=\\'rmsprop\\', neurons=16, learning_rate=0.001)\\n     # Adding the input layer and the first hidden layer\\n    model.add(Dense(12, input_dim=input_dim, activation=\\'relu\\'))\\n    # Adding the output layer\\n    model.add(Dense(1, activation=\\'sigmoid\\'))\\n    model.compile(loss=\\'mse\\', optimizer=\\'adam\\', metrics=[\\'accuracy\\'])\\n    return(model)\\n\\nbatch_size = [10, 20]\\nepochs = [10, 100]\\nlr_values = [0.001, 0.01, 0.1, 0.2, 0.3]\\noptimizers = [\\'rmsprop\\', \\'adam\\', \\'SGD\\']\\nneuron_list = [16, 32, 64, 128, 256]\\n\\nparam_grid = dict(batch_size=batch_size, epochs=epochs, learning_rate=lr_values)\\n\\nmodel1 = KerasRegressor(build_fn=create_model, verbose=0)\\ngrid1 = GridSearchCV(estimator=model1, param_grid=param_grid, cv = 2, n_jobs=-1, verbose=1)\\ngrid1.fit(X_train,y_train)\\n\\n#optimizer=SGD(lr, momentum)\\n# optimizer = [\\'SGD\\', \\'RMSprop\\', \\'Adagrad\\', \\'Adadelta\\', \\'Adam\\', \\'Adamax\\', \\'Nadam\\']\\n\\nprint(\" These are the results from Grid Search \" )\\nprint(\"\\n The best estimator overall in the searched params:\\n\",grid1.best_estimator_)\\nprint(\"\\n The best score overall in the searched params:\\n\",grid1.best_score_)\\nprint(\"\\n The best parameters overall in the searched params:\\n\",grid1.best_params_)\\n\\ntrain_pred = grid1.predict(X_train)\\nprint(\\'rmsle: \\', np.sqrt(mean_squared_log_error(y_train, train_pred)))\\nprint(\\'rmse: \\', np.sqrt(mean_squared_error(X_train, np.expm1(train_pred))))\\nprint(\\'mae: \\', mean_absolute_error(train_data.cpo_pri, np.expm1(train_pred)))\\n# Reshaping X_train for efficient modelling\\n'"
            ],
            "application/vnd.google.colaboratory.intrinsic+json": {
              "type": "string"
            }
          },
          "metadata": {},
          "execution_count": 242
        }
      ]
    },
    {
      "cell_type": "markdown",
      "source": [
        "#### Grid searching for Network Weight Initialization"
      ],
      "metadata": {
        "id": "KBbWtCt50hTq"
      }
    },
    {
      "cell_type": "code",
      "source": [
        "# Function to create the MLP model.\n",
        "def create_model(init_mode='uniform'):\n",
        " model = Sequential()\n",
        " model.add(Dense(12, input_dim = input_dim, kernel_initializer=init_mode, activation='relu'))\n",
        " model.add(Dense(1, kernel_initializer=init_mode, activation='sigmoid'))\n",
        " # Compile model\n",
        " model.compile(loss='mse', optimizer='adam', metrics=['accuracy'])\n",
        " return model\n",
        "\n",
        "# create model\n",
        "model = KerasRegressor(model=create_model, epochs=100, batch_size=10, verbose=0)\n",
        "# define the grid search parameters\n",
        "init_mode = ['uniform', 'lecun_uniform', 'normal', 'zero', 'glorot_normal', 'glorot_uniform', 'he_normal', 'he_uniform']\n",
        "param_grid = dict(model__init_mode=init_mode)\n",
        "grid = GridSearchCV(estimator=model, param_grid=param_grid, n_jobs=-1, cv=3)\n",
        "grid_result = grid.fit(X_train, y_train)\n",
        "# summarize results\n",
        "print(\"Best: %f using %s\" % (grid_result.best_score_, grid_result.best_params_))\n",
        "means = grid_result.cv_results_['mean_test_score']\n",
        "stds = grid_result.cv_results_['std_test_score']\n",
        "params = grid_result.cv_results_['params']\n",
        "for mean, stdev, param in zip(means, stds, params):\n",
        "    print(\"%f (%f) with: %r\" % (mean, stdev, param))\n",
        "\n",
        "# summarize results\n",
        "print(\"Best: %f using %s\" % (grid.best_score_, grid.best_params_))\n",
        "means = grid.cv_results_['mean_test_score']\n",
        "stds = grid.cv_results_['std_test_score']\n",
        "params = grid.cv_results_['params']\n",
        "for mean, stdev, param in zip(means, stds, params):\n",
        "    print(\"%f (%f) with: %r\" % (mean, stdev, param))\n",
        "# Best: 0.880143 using {'model__init_mode': 'glorot_normal'}"
      ],
      "metadata": {
        "id": "HqjOwzXR0oBI",
        "outputId": "c595b481-a1cc-4a86-bcfd-de019876e799",
        "colab": {
          "base_uri": "https://localhost:8080/"
        }
      },
      "execution_count": 158,
      "outputs": [
        {
          "output_type": "stream",
          "name": "stdout",
          "text": [
            "Best: 0.880143 using {'model__init_mode': 'glorot_normal'}\n",
            "0.576033 (0.396271) with: {'model__init_mode': 'uniform'}\n",
            "0.866834 (0.040580) with: {'model__init_mode': 'lecun_uniform'}\n",
            "0.869145 (0.022807) with: {'model__init_mode': 'normal'}\n",
            "-2.126746 (1.382607) with: {'model__init_mode': 'zero'}\n",
            "0.880143 (0.049111) with: {'model__init_mode': 'glorot_normal'}\n",
            "0.822358 (0.117120) with: {'model__init_mode': 'glorot_uniform'}\n",
            "0.850121 (0.058356) with: {'model__init_mode': 'he_normal'}\n",
            "0.806448 (0.116129) with: {'model__init_mode': 'he_uniform'}\n",
            "Best: 0.880143 using {'model__init_mode': 'glorot_normal'}\n",
            "0.576033 (0.396271) with: {'model__init_mode': 'uniform'}\n",
            "0.866834 (0.040580) with: {'model__init_mode': 'lecun_uniform'}\n",
            "0.869145 (0.022807) with: {'model__init_mode': 'normal'}\n",
            "-2.126746 (1.382607) with: {'model__init_mode': 'zero'}\n",
            "0.880143 (0.049111) with: {'model__init_mode': 'glorot_normal'}\n",
            "0.822358 (0.117120) with: {'model__init_mode': 'glorot_uniform'}\n",
            "0.850121 (0.058356) with: {'model__init_mode': 'he_normal'}\n",
            "0.806448 (0.116129) with: {'model__init_mode': 'he_uniform'}\n"
          ]
        }
      ]
    },
    {
      "cell_type": "markdown",
      "source": [
        "#### Grid Searching for Neuron Activation Function"
      ],
      "metadata": {
        "id": "0_ojdZEtw8eM"
      }
    },
    {
      "cell_type": "code",
      "source": [
        "# Function to create model, required for KerasClassifier\n",
        "def create_model(activation='relu'):\n",
        " # create model\n",
        " model = Sequential()\n",
        " model.add(Dense(12, input_dim = input_dim, kernel_initializer='uniform', activation=activation))\n",
        " model.add(Dense(1, kernel_initializer='uniform', activation='sigmoid'))\n",
        " # Compile model\n",
        " model.compile(loss='mse', optimizer='adam', metrics=['accuracy'])\n",
        " return model\n",
        "# fix random seed for reproducibility\n",
        "seed = 7\n",
        "tf.random.set_seed(seed)\n",
        "\n",
        "# create model\n",
        "model = KerasRegressor(model=create_model, epochs=100, batch_size=10, verbose=0)\n",
        "# define the grid search parameters\n",
        "activation = ['softmax', 'softplus', 'softsign', 'relu', 'tanh', 'sigmoid', 'hard_sigmoid', 'linear']\n",
        "param_grid = dict(model__activation=activation)\n",
        "grid = GridSearchCV(estimator=model, param_grid=param_grid, n_jobs=-1, cv=3)\n",
        "grid_result = grid.fit(X_train, y_train)\n",
        "# summarize results\n",
        "print(\"Best: %f using %s\" % (grid_result.best_score_, grid_result.best_params_))\n",
        "means = grid_result.cv_results_['mean_test_score']\n",
        "stds = grid_result.cv_results_['std_test_score']\n",
        "params = grid_result.cv_results_['params']\n",
        "for mean, stdev, param in zip(means, stds, params):\n",
        "    print(\"%f (%f) with: %r\" % (mean, stdev, param))\n",
        "\n",
        "# summarize results\n",
        "print(\"Best: %f using %s\" % (grid.best_score_, grid.best_params_))\n",
        "means = grid.cv_results_['mean_test_score']\n",
        "stds = grid.cv_results_['std_test_score']\n",
        "params = grid.cv_results_['params']\n",
        "for mean, stdev, param in zip(means, stds, params):\n",
        "    print(\"%f (%f) with: %r\" % (mean, stdev, param))\n",
        "\n",
        "# Best: 0.869510 using {'model__activation': 'tanh'}"
      ],
      "metadata": {
        "id": "CDj-k762xCWD",
        "outputId": "5d387eff-d7d3-46cc-d7c0-04de92ed12bc",
        "colab": {
          "base_uri": "https://localhost:8080/"
        }
      },
      "execution_count": 156,
      "outputs": [
        {
          "output_type": "stream",
          "name": "stdout",
          "text": [
            "Best: 0.869510 using {'model__activation': 'tanh'}\n",
            "0.271224 (0.546389) with: {'model__activation': 'softmax'}\n",
            "0.499055 (0.513314) with: {'model__activation': 'softplus'}\n",
            "0.853526 (0.035562) with: {'model__activation': 'softsign'}\n",
            "0.538502 (0.432314) with: {'model__activation': 'relu'}\n",
            "0.869510 (0.026273) with: {'model__activation': 'tanh'}\n",
            "0.374423 (0.650972) with: {'model__activation': 'sigmoid'}\n",
            "0.524447 (0.419776) with: {'model__activation': 'hard_sigmoid'}\n",
            "0.869166 (0.025447) with: {'model__activation': 'linear'}\n",
            "Best: 0.869510 using {'model__activation': 'tanh'}\n",
            "0.271224 (0.546389) with: {'model__activation': 'softmax'}\n",
            "0.499055 (0.513314) with: {'model__activation': 'softplus'}\n",
            "0.853526 (0.035562) with: {'model__activation': 'softsign'}\n",
            "0.538502 (0.432314) with: {'model__activation': 'relu'}\n",
            "0.869510 (0.026273) with: {'model__activation': 'tanh'}\n",
            "0.374423 (0.650972) with: {'model__activation': 'sigmoid'}\n",
            "0.524447 (0.419776) with: {'model__activation': 'hard_sigmoid'}\n",
            "0.869166 (0.025447) with: {'model__activation': 'linear'}\n"
          ]
        }
      ]
    },
    {
      "cell_type": "markdown",
      "source": [
        "#### Grid Searching Learning Rate and Momentum"
      ],
      "metadata": {
        "id": "4hp6cL8zjyL4"
      }
    },
    {
      "cell_type": "code",
      "source": [
        "# Function to create the MLP model.\n",
        "def create_model():\n",
        " # create model\n",
        " model = Sequential()\n",
        " model.add(Dense(12, input_dim=input_dim, activation='relu'))\n",
        " model.add(Dense(1, activation='sigmoid'))\n",
        " return model\n",
        "\n",
        "model = KerasRegressor(model=create_model, loss=\"mse\", optimizer=\"SGD\", epochs=100, batch_size=10, verbose=0)\n",
        "# define the grid search parameters\n",
        "learn_rate = [0.001, 0.01, 0.1, 0.2, 0.3]\n",
        "momentum = [0.0, 0.2, 0.4, 0.6, 0.8, 0.9]\n",
        "param_grid = dict(optimizer__learning_rate=learn_rate, optimizer__momentum=momentum)\n",
        "grid = GridSearchCV(estimator=model, param_grid=param_grid, n_jobs=-1, cv=3)\n",
        "grid_result = grid.fit(X_train, y_train)\n",
        "\n",
        "# summarize results\n",
        "print(\"Best: %f using %s\" % (grid.best_score_, grid.best_params_))\n",
        "means = grid.cv_results_['mean_test_score']\n",
        "stds = grid.cv_results_['std_test_score']\n",
        "params = grid.cv_results_['params']\n",
        "for mean, stdev, param in zip(means, stds, params):\n",
        "    print(\"%f (%f) with: %r\" % (mean, stdev, param))\n",
        "# Best: 0.924728 using {'optimizer__learning_rate': 0.2, 'optimizer__momentum': 0.9}"
      ],
      "metadata": {
        "id": "Rj4XKGtTZiwp"
      },
      "execution_count": 88,
      "outputs": []
    },
    {
      "cell_type": "markdown",
      "source": [
        "#### Grid Searching the Number of Neurons in the HIDDEN LAYER"
      ],
      "metadata": {
        "id": "IsTvpuolj99l"
      }
    },
    {
      "cell_type": "code",
      "source": [
        "#Function to create the MLP model\n",
        " model = Sequential()\n",
        " model.add(Dense(neurons, input_dim=input_dim, kernel_initializer='uniform', activation='linear', kernel_constraint= MaxNorm(4)))\n",
        " model.add(Dropout(0.2))\n",
        " model.add(Dense(1, kernel_initializer='uniform', activation='sigmoid'))\n",
        " # Compile model\n",
        " model.compile(loss='mse', optimizer='adam', metrics=['accuracy'])\n",
        " return model\n",
        "\n",
        "\n",
        "model = KerasRegressor(model=create_model, loss=\"mse\", optimizer=\"SGD\", epochs=100, batch_size=10, verbose=0)\n",
        "# define the grid search parameters\n",
        "neurons = [1, 5, 10, 15, 20, 25, 30]\n",
        "param_grid = dict(model__neurons=neurons)\n",
        "grid = GridSearchCV(estimator=model, param_grid=param_grid, n_jobs=-1, cv=3)\n",
        "grid_result = grid.fit(X_train, y_train)\n",
        "\n",
        "# summarize results\n",
        "print(\"Best: %f using %s\" % (grid.best_score_, grid.best_params_))\n",
        "means = grid.cv_results_['mean_test_score']\n",
        "stds = grid.cv_results_['std_test_score']\n",
        "params = grid.cv_results_['params']\n",
        "for mean, stdev, param in zip(means, stds, params):\n",
        "    print(\"%f (%f) with: %r\" % (mean, stdev, param))\n",
        "# Best: 0.884794 using {'model__neurons': 25}"
      ],
      "metadata": {
        "id": "i0DZniyyj9L3",
        "outputId": "a6922728-6488-4300-be2b-0e415ad9fffb",
        "colab": {
          "base_uri": "https://localhost:8080/"
        }
      },
      "execution_count": 153,
      "outputs": [
        {
          "output_type": "stream",
          "name": "stdout",
          "text": [
            "Best: 0.884794 using {'model__neurons': 25}\n",
            "0.595509 (0.207933) with: {'model__neurons': 1}\n",
            "0.861944 (0.025987) with: {'model__neurons': 5}\n",
            "0.862321 (0.025476) with: {'model__neurons': 10}\n",
            "0.871769 (0.023962) with: {'model__neurons': 15}\n",
            "0.874810 (0.025342) with: {'model__neurons': 20}\n",
            "0.884794 (0.021800) with: {'model__neurons': 25}\n",
            "0.882021 (0.024683) with: {'model__neurons': 30}\n"
          ]
        }
      ]
    },
    {
      "cell_type": "markdown",
      "source": [
        "### GRID SEARCHING The DROPOUT REGULARIZATION"
      ],
      "metadata": {
        "id": "64Sb6XWIsLc3"
      }
    },
    {
      "cell_type": "code",
      "source": [
        "# Function to create the MLP model.\n",
        "def create_model(dropout_rate, weight_constraint):\n",
        " model = Sequential()\n",
        " model.add(Dense(12, input_dim=input_dim, kernel_initializer='uniform', activation='linear', kernel_constraint=MaxNorm(weight_constraint)))\n",
        " model.add(Dropout(dropout_rate))\n",
        " model.add(Dense(1, kernel_initializer='uniform', activation='sigmoid'))\n",
        " # Compile model\n",
        " model.compile(loss='mse', optimizer='adam', metrics=['accuracy'])\n",
        " return model\n",
        "\n",
        "# create model\n",
        "model = KerasRegressor(model=create_model, epochs=100, batch_size=10, verbose=0)\n",
        "# define the grid search parameters\n",
        "weight_constraint = [1.0, 2.0, 3.0, 4.0, 5.0]\n",
        "dropout_rate = [0.0, 0.1, 0.2, 0.3, 0.4, 0.5, 0.6, 0.7, 0.8, 0.9]\n",
        "param_grid = dict(model__dropout_rate=dropout_rate, model__weight_constraint=weight_constraint)\n",
        "#param_grid = dict(model__dropout_rate=dropout_rate)\n",
        "grid = GridSearchCV(estimator=model, param_grid=param_grid, n_jobs=-1, cv=3)\n",
        "grid_result = grid.fit(X_train, y_train)\n",
        "\n",
        "# summarize results\n",
        "print(\"Best: %f using %s\" % (grid.best_score_, grid.best_params_))\n",
        "means = grid.cv_results_['mean_test_score']\n",
        "stds = grid.cv_results_['std_test_score']\n",
        "params = grid.cv_results_['params']\n",
        "for mean, stdev, param in zip(means, stds, params):\n",
        "    print(\"%f (%f) with: %r\" % (mean, stdev, param))\n",
        "# Best: 0.874012 using {'model__dropout_rate': 0.0, 'model__weight_constraint': 2.0}"
      ],
      "metadata": {
        "id": "vjGFnqacssZ8",
        "outputId": "7d26bc5f-88bd-41e3-b473-612b325b3001",
        "colab": {
          "base_uri": "https://localhost:8080/"
        }
      },
      "execution_count": 154,
      "outputs": [
        {
          "output_type": "stream",
          "name": "stdout",
          "text": [
            "Best: 0.874012 using {'model__dropout_rate': 0.0, 'model__weight_constraint': 2.0}\n",
            "0.871119 (0.024942) with: {'model__dropout_rate': 0.0, 'model__weight_constraint': 1.0}\n",
            "0.874012 (0.023467) with: {'model__dropout_rate': 0.0, 'model__weight_constraint': 2.0}\n",
            "0.872766 (0.023313) with: {'model__dropout_rate': 0.0, 'model__weight_constraint': 3.0}\n",
            "0.871364 (0.024008) with: {'model__dropout_rate': 0.0, 'model__weight_constraint': 4.0}\n",
            "0.871721 (0.024637) with: {'model__dropout_rate': 0.0, 'model__weight_constraint': 5.0}\n",
            "0.870204 (0.024640) with: {'model__dropout_rate': 0.1, 'model__weight_constraint': 1.0}\n",
            "0.872499 (0.024823) with: {'model__dropout_rate': 0.1, 'model__weight_constraint': 2.0}\n",
            "0.870208 (0.025707) with: {'model__dropout_rate': 0.1, 'model__weight_constraint': 3.0}\n",
            "0.869063 (0.022702) with: {'model__dropout_rate': 0.1, 'model__weight_constraint': 4.0}\n",
            "0.867847 (0.022023) with: {'model__dropout_rate': 0.1, 'model__weight_constraint': 5.0}\n",
            "0.866421 (0.025708) with: {'model__dropout_rate': 0.2, 'model__weight_constraint': 1.0}\n",
            "0.867452 (0.025372) with: {'model__dropout_rate': 0.2, 'model__weight_constraint': 2.0}\n",
            "0.865535 (0.026127) with: {'model__dropout_rate': 0.2, 'model__weight_constraint': 3.0}\n",
            "0.867613 (0.023011) with: {'model__dropout_rate': 0.2, 'model__weight_constraint': 4.0}\n",
            "0.869756 (0.023293) with: {'model__dropout_rate': 0.2, 'model__weight_constraint': 5.0}\n",
            "0.863539 (0.027159) with: {'model__dropout_rate': 0.3, 'model__weight_constraint': 1.0}\n",
            "0.867229 (0.023267) with: {'model__dropout_rate': 0.3, 'model__weight_constraint': 2.0}\n",
            "0.863515 (0.026074) with: {'model__dropout_rate': 0.3, 'model__weight_constraint': 3.0}\n",
            "0.868210 (0.019579) with: {'model__dropout_rate': 0.3, 'model__weight_constraint': 4.0}\n",
            "0.865183 (0.023265) with: {'model__dropout_rate': 0.3, 'model__weight_constraint': 5.0}\n",
            "0.862428 (0.023559) with: {'model__dropout_rate': 0.4, 'model__weight_constraint': 1.0}\n",
            "0.858515 (0.027545) with: {'model__dropout_rate': 0.4, 'model__weight_constraint': 2.0}\n",
            "0.859595 (0.027357) with: {'model__dropout_rate': 0.4, 'model__weight_constraint': 3.0}\n",
            "0.858717 (0.026903) with: {'model__dropout_rate': 0.4, 'model__weight_constraint': 4.0}\n",
            "0.864625 (0.024890) with: {'model__dropout_rate': 0.4, 'model__weight_constraint': 5.0}\n",
            "0.860206 (0.026323) with: {'model__dropout_rate': 0.5, 'model__weight_constraint': 1.0}\n",
            "0.863032 (0.024788) with: {'model__dropout_rate': 0.5, 'model__weight_constraint': 2.0}\n",
            "0.867309 (0.025030) with: {'model__dropout_rate': 0.5, 'model__weight_constraint': 3.0}\n",
            "0.862665 (0.025932) with: {'model__dropout_rate': 0.5, 'model__weight_constraint': 4.0}\n",
            "0.861331 (0.023824) with: {'model__dropout_rate': 0.5, 'model__weight_constraint': 5.0}\n",
            "0.855926 (0.027284) with: {'model__dropout_rate': 0.6, 'model__weight_constraint': 1.0}\n",
            "0.849723 (0.031685) with: {'model__dropout_rate': 0.6, 'model__weight_constraint': 2.0}\n",
            "0.845864 (0.033491) with: {'model__dropout_rate': 0.6, 'model__weight_constraint': 3.0}\n",
            "0.857185 (0.028684) with: {'model__dropout_rate': 0.6, 'model__weight_constraint': 4.0}\n",
            "0.851183 (0.027465) with: {'model__dropout_rate': 0.6, 'model__weight_constraint': 5.0}\n",
            "0.859239 (0.031320) with: {'model__dropout_rate': 0.7, 'model__weight_constraint': 1.0}\n",
            "0.853074 (0.032267) with: {'model__dropout_rate': 0.7, 'model__weight_constraint': 2.0}\n",
            "0.854246 (0.028433) with: {'model__dropout_rate': 0.7, 'model__weight_constraint': 3.0}\n",
            "0.857173 (0.030238) with: {'model__dropout_rate': 0.7, 'model__weight_constraint': 4.0}\n",
            "0.857045 (0.027246) with: {'model__dropout_rate': 0.7, 'model__weight_constraint': 5.0}\n",
            "0.846721 (0.044434) with: {'model__dropout_rate': 0.8, 'model__weight_constraint': 1.0}\n",
            "0.850732 (0.042845) with: {'model__dropout_rate': 0.8, 'model__weight_constraint': 2.0}\n",
            "0.845941 (0.040692) with: {'model__dropout_rate': 0.8, 'model__weight_constraint': 3.0}\n",
            "0.840937 (0.043913) with: {'model__dropout_rate': 0.8, 'model__weight_constraint': 4.0}\n",
            "0.846225 (0.049083) with: {'model__dropout_rate': 0.8, 'model__weight_constraint': 5.0}\n",
            "0.679372 (0.118855) with: {'model__dropout_rate': 0.9, 'model__weight_constraint': 1.0}\n",
            "0.658531 (0.129984) with: {'model__dropout_rate': 0.9, 'model__weight_constraint': 2.0}\n",
            "0.660742 (0.130198) with: {'model__dropout_rate': 0.9, 'model__weight_constraint': 3.0}\n",
            "0.683292 (0.115645) with: {'model__dropout_rate': 0.9, 'model__weight_constraint': 4.0}\n",
            "0.685194 (0.119791) with: {'model__dropout_rate': 0.9, 'model__weight_constraint': 5.0}\n"
          ]
        }
      ]
    },
    {
      "cell_type": "markdown",
      "source": [
        "#### Grid searching for Training Optimization Algorithm"
      ],
      "metadata": {
        "id": "EWftRQ9bOPEo"
      }
    },
    {
      "cell_type": "code",
      "source": [
        "import time\n",
        "%time\n",
        "\n",
        "#Function to create the MLP model.\n",
        "def create_model():\n",
        " model = Sequential()\n",
        " model.add(Dense(12, input_dim=input_dim, activation='relu'))\n",
        " model.add(Dense(1, activation='sigmoid'))\n",
        " return model\n",
        "\n",
        "# create model\n",
        "model = KerasRegressor(model=create_model, loss=\"mse\", epochs=100, batch_size=10, verbose=0)\n",
        "# define the grid search parameters\n",
        "optimizer = ['SGD', 'RMSprop', 'Adagrad', 'Adadelta', 'Adam', 'Adamax', 'Nadam']\n",
        "param_grid = dict(optimizer=optimizer)\n",
        "grid = GridSearchCV(estimator=model, param_grid=param_grid, n_jobs=-1, cv=3)\n",
        "grid_result = grid.fit(X_train, y_train)\n",
        "# summarize results\n",
        "print(\"Best: %f using %s\" % (grid_result.best_score_, grid_result.best_params_))\n",
        "means = grid_result.cv_results_['mean_test_score']\n",
        "stds = grid_result.cv_results_['std_test_score']\n",
        "params = grid_result.cv_results_['params']\n",
        "for mean, stdev, param in zip(means, stds, params):\n",
        "    print(\"%f (%f) with: %r\" % (mean, stdev, param))\n",
        "# Best: 0.864805 using {'optimizer': 'Nadam'}"
      ],
      "metadata": {
        "id": "EGmUwKDWOOLW",
        "outputId": "df7078dd-76e5-45a4-864b-882c50794a39",
        "colab": {
          "base_uri": "https://localhost:8080/"
        }
      },
      "execution_count": 247,
      "outputs": [
        {
          "output_type": "stream",
          "name": "stdout",
          "text": [
            "CPU times: user 5 µs, sys: 0 ns, total: 5 µs\n",
            "Wall time: 13.1 µs\n",
            "Best: 0.864805 using {'optimizer': 'Nadam'}\n",
            "-1.024778 (0.843313) with: {'optimizer': 'SGD'}\n",
            "0.846145 (0.030875) with: {'optimizer': 'RMSprop'}\n",
            "-2.576708 (1.549857) with: {'optimizer': 'Adagrad'}\n",
            "-1.953666 (2.327512) with: {'optimizer': 'Adadelta'}\n",
            "0.855693 (0.047866) with: {'optimizer': 'Adam'}\n",
            "-0.198660 (1.066232) with: {'optimizer': 'Adamax'}\n",
            "0.864805 (0.039096) with: {'optimizer': 'Nadam'}\n"
          ]
        }
      ]
    },
    {
      "cell_type": "code",
      "source": [
        "'''\n",
        "def create_model(optimizer = 'rmsprop', units = 16, learning_rate = 0.001):\n",
        "    ann = Sequential() # Initialising ANN\n",
        "    ann.add(tf.keras.layers.Dense(units = units, activation = \"relu\")) # Adding First Hidden Layer\n",
        "    ann.add(tf.keras.layers.Dense(units = units, activation = \"relu\")) # Adding Second Hidden Layer\n",
        "    ann.add(tf.keras.layers.Dense(units = units, activation = \"relu\")) # Adding Third Hidden Layer\n",
        "    ann.add(tf.keras.layers.Dense(units = 1)) # Adding Output Layer\n",
        "    ann.compile(optimizer = optimizer, loss = 'mean_absolute_error') # Compiling ANN\n",
        "    return ann\n",
        "\n",
        "ann = KerasRegressor(model = create_model,\n",
        "                     verbose = 0,\n",
        "                     learning_rate = 0.001,\n",
        "                     units = 16\n",
        "                     )\n",
        "\n",
        "optimizers = ['rmsprop', 'adam', 'SGD']\n",
        "epoch_values = [10, 25, 50, 100, 150, 200]\n",
        "batches = [10, 20, 30, 40, 50, 100, 1000]\n",
        "units = [16, 32, 64, 128, 256]\n",
        "lr_values = [0.001, 0.01, 0.1, 0.2, 0.3]\n",
        "\n",
        "hyperparameters = dict(optimizer = optimizers,\n",
        "                        epochs = epoch_values,\n",
        "                        batch_size = batches,\n",
        "                        units = units,\n",
        "                        learning_rate = lr_values\n",
        "                        )\n",
        "\n",
        "grid = GridSearchCV(estimator = ann, cv = 5, param_grid = hyperparameters)\n",
        "\n",
        "history = grid.fit(X_train,\n",
        "                   Y_train,\n",
        "                   batch_size = 32,\n",
        "                   validation_data = (X_test, Y_test),\n",
        "                   epochs = 100\n",
        "                   ) # Fitting ANN\n",
        "'''"
      ],
      "metadata": {
        "id": "u0qUFyxRcihw"
      },
      "execution_count": null,
      "outputs": []
    },
    {
      "cell_type": "code",
      "source": [],
      "metadata": {
        "id": "AVgnqnbYcilS"
      },
      "execution_count": null,
      "outputs": []
    },
    {
      "cell_type": "code",
      "source": [],
      "metadata": {
        "id": "9NmIajvwcio-"
      },
      "execution_count": null,
      "outputs": []
    }
  ]
}