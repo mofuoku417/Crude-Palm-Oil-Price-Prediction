{
  "nbformat": 4,
  "nbformat_minor": 0,
  "metadata": {
    "colab": {
      "provenance": [],
      "authorship_tag": "ABX9TyOQV/8F3dHgkM5j7IXXwCce",
      "include_colab_link": true
    },
    "kernelspec": {
      "name": "python3",
      "display_name": "Python 3"
    },
    "language_info": {
      "name": "python"
    }
  },
  "cells": [
    {
      "cell_type": "markdown",
      "metadata": {
        "id": "view-in-github",
        "colab_type": "text"
      },
      "source": [
        "<a href=\"https://colab.research.google.com/github/mofuoku417/Univariate_Crude_Palm_Oil_Price_Prediction/blob/main/Crude_PalmOil_Price_Prediction_using_MLP_Regression_ipynb.ipynb\" target=\"_parent\"><img src=\"https://colab.research.google.com/assets/colab-badge.svg\" alt=\"Open In Colab\"/></a>"
      ]
    },
    {
      "cell_type": "markdown",
      "source": [
        "\n",
        "> **Predict Monthly Crude Palm Oil Price  with   Deep Learning (Multi-layer Perception Univariate Time series)**\n",
        "\n",
        "\n",
        "> Project Objective:\n",
        "\n",
        "> Design and Build an MLP in tensorflow to predict Monthly Crude Palm Oil Price\n",
        "\n",
        "\n",
        "  * Data range: 1993 - 2022\n",
        "\n",
        "  The dataset is a CSV format with: \n",
        "\n",
        "  1. Monthly timestamp\n",
        "  2. Monthly Crude Palm Oil Prices\n",
        "\n",
        "---------------------------------------------\n",
        "\n",
        "\n",
        "1. Project Overview and Import Libraries\n",
        "2. Load and Inspect Monthly Crude Oil Price History\n",
        "1. Data Preprocessing\n",
        "2. Build the MLP model\n",
        "1. Train the MLP\n",
        "2. Plot Metrics and Evaluate the Model\n",
        "2. Monthly Crude Palm Oil Prices\n",
        "2. Visualize the predictions"
      ],
      "metadata": {
        "id": "0zxfRiW7u7fU"
      }
    },
    {
      "cell_type": "markdown",
      "source": [
        "###Load the Required Libraries"
      ],
      "metadata": {
        "id": "1U0x9s_Qkzym"
      }
    },
    {
      "cell_type": "code",
      "execution_count": 128,
      "metadata": {
        "id": "v-ZYvdYfYyXU"
      },
      "outputs": [],
      "source": [
        "import math \n",
        "import numpy as np # Python's fundamental package for scientific computing\n",
        "import pandas as pd # For data analysis and manipulation\n",
        "from datetime import date, timedelta # Date Operations\n",
        "import matplotlib.pyplot as plt # To aid in visualizing\n",
        "%matplotlib inline\n",
        "import seaborn as sns\n",
        "import matplotlib.dates as mdates # Date formatting\n",
        "from sklearn.metrics import mean_absolute_error, mean_squared_error # To assess model performance error computation\n",
        "from sklearn.preprocessing import MinMaxScaler # to standardize the crude palm oil price data \n",
        "from tensorflow.keras.models import Sequential # Deep learning library, that is used in neural networks\n",
        "#from tensorflow.keras.layers import LSTM, Dense # Deep learning classes for densely linked recurrent and regular layers\n",
        "import tensorflow as tf\n",
        "from tensorflow.keras import Sequential\n",
        "from tensorflow.keras.layers import Dense\n",
        "from keras.layers import Activation, Dense\n",
        "from sklearn.metrics import r2_score\n",
        "from sklearn.metrics import mean_squared_error\n",
        "from pandas import read_csv\n",
        "import seaborn as sns\n",
        "sns.set_style('white', { 'axes.spines.right': False, 'axes.spines.top': False})\n",
        "import random\n",
        "random.seed(1) #Making this script reproducible"
      ]
    },
    {
      "cell_type": "code",
      "source": [
        "# Establishing a timetable for data extraction\n",
        "today = date.today()\n",
        "end_date = today.strftime(\"%Y-%m\")\n",
        "start_date = '1993-03'\n",
        "\n",
        "featurename = 'Price'\n",
        "\n",
        "#Load dataset\n",
        "path = 'https://raw.githubusercontent.com/mofuoku417/Univariate_Crude_Palm_Oil_Price_Prediction/main/Data/data.csv'\n",
        "df = read_csv(path, parse_dates=True)"
      ],
      "metadata": {
        "id": "D3xS2kEJ1qAO"
      },
      "execution_count": 83,
      "outputs": []
    },
    {
      "cell_type": "code",
      "source": [
        "# Examining the dataset's structure\n",
        "print(df.shape)\n",
        "df.head(5)"
      ],
      "metadata": {
        "colab": {
          "base_uri": "https://localhost:8080/",
          "height": 245
        },
        "id": "JA1ABCqN91N7",
        "outputId": "2adeca46-28ab-432e-f711-8e9d4285c641"
      },
      "execution_count": 84,
      "outputs": [
        {
          "output_type": "stream",
          "name": "stdout",
          "text": [
            "(361, 3)\n"
          ]
        },
        {
          "output_type": "execute_result",
          "data": {
            "text/plain": [
              "     Month Price  Change\n",
              "0  1993-03   408       -\n",
              "1  1993-04   392  -3.92%\n",
              "2  1993-05   371  -5.36%\n",
              "3  1993-06   356  -4.04%\n",
              "4  1993-07   362   1.69%"
            ],
            "text/html": [
              "\n",
              "  <div id=\"df-698b8db1-0df7-45fc-ae33-5e8442951d50\">\n",
              "    <div class=\"colab-df-container\">\n",
              "      <div>\n",
              "<style scoped>\n",
              "    .dataframe tbody tr th:only-of-type {\n",
              "        vertical-align: middle;\n",
              "    }\n",
              "\n",
              "    .dataframe tbody tr th {\n",
              "        vertical-align: top;\n",
              "    }\n",
              "\n",
              "    .dataframe thead th {\n",
              "        text-align: right;\n",
              "    }\n",
              "</style>\n",
              "<table border=\"1\" class=\"dataframe\">\n",
              "  <thead>\n",
              "    <tr style=\"text-align: right;\">\n",
              "      <th></th>\n",
              "      <th>Month</th>\n",
              "      <th>Price</th>\n",
              "      <th>Change</th>\n",
              "    </tr>\n",
              "  </thead>\n",
              "  <tbody>\n",
              "    <tr>\n",
              "      <th>0</th>\n",
              "      <td>1993-03</td>\n",
              "      <td>408</td>\n",
              "      <td>-</td>\n",
              "    </tr>\n",
              "    <tr>\n",
              "      <th>1</th>\n",
              "      <td>1993-04</td>\n",
              "      <td>392</td>\n",
              "      <td>-3.92%</td>\n",
              "    </tr>\n",
              "    <tr>\n",
              "      <th>2</th>\n",
              "      <td>1993-05</td>\n",
              "      <td>371</td>\n",
              "      <td>-5.36%</td>\n",
              "    </tr>\n",
              "    <tr>\n",
              "      <th>3</th>\n",
              "      <td>1993-06</td>\n",
              "      <td>356</td>\n",
              "      <td>-4.04%</td>\n",
              "    </tr>\n",
              "    <tr>\n",
              "      <th>4</th>\n",
              "      <td>1993-07</td>\n",
              "      <td>362</td>\n",
              "      <td>1.69%</td>\n",
              "    </tr>\n",
              "  </tbody>\n",
              "</table>\n",
              "</div>\n",
              "      <button class=\"colab-df-convert\" onclick=\"convertToInteractive('df-698b8db1-0df7-45fc-ae33-5e8442951d50')\"\n",
              "              title=\"Convert this dataframe to an interactive table.\"\n",
              "              style=\"display:none;\">\n",
              "        \n",
              "  <svg xmlns=\"http://www.w3.org/2000/svg\" height=\"24px\"viewBox=\"0 0 24 24\"\n",
              "       width=\"24px\">\n",
              "    <path d=\"M0 0h24v24H0V0z\" fill=\"none\"/>\n",
              "    <path d=\"M18.56 5.44l.94 2.06.94-2.06 2.06-.94-2.06-.94-.94-2.06-.94 2.06-2.06.94zm-11 1L8.5 8.5l.94-2.06 2.06-.94-2.06-.94L8.5 2.5l-.94 2.06-2.06.94zm10 10l.94 2.06.94-2.06 2.06-.94-2.06-.94-.94-2.06-.94 2.06-2.06.94z\"/><path d=\"M17.41 7.96l-1.37-1.37c-.4-.4-.92-.59-1.43-.59-.52 0-1.04.2-1.43.59L10.3 9.45l-7.72 7.72c-.78.78-.78 2.05 0 2.83L4 21.41c.39.39.9.59 1.41.59.51 0 1.02-.2 1.41-.59l7.78-7.78 2.81-2.81c.8-.78.8-2.07 0-2.86zM5.41 20L4 18.59l7.72-7.72 1.47 1.35L5.41 20z\"/>\n",
              "  </svg>\n",
              "      </button>\n",
              "      \n",
              "  <style>\n",
              "    .colab-df-container {\n",
              "      display:flex;\n",
              "      flex-wrap:wrap;\n",
              "      gap: 12px;\n",
              "    }\n",
              "\n",
              "    .colab-df-convert {\n",
              "      background-color: #E8F0FE;\n",
              "      border: none;\n",
              "      border-radius: 50%;\n",
              "      cursor: pointer;\n",
              "      display: none;\n",
              "      fill: #1967D2;\n",
              "      height: 32px;\n",
              "      padding: 0 0 0 0;\n",
              "      width: 32px;\n",
              "    }\n",
              "\n",
              "    .colab-df-convert:hover {\n",
              "      background-color: #E2EBFA;\n",
              "      box-shadow: 0px 1px 2px rgba(60, 64, 67, 0.3), 0px 1px 3px 1px rgba(60, 64, 67, 0.15);\n",
              "      fill: #174EA6;\n",
              "    }\n",
              "\n",
              "    [theme=dark] .colab-df-convert {\n",
              "      background-color: #3B4455;\n",
              "      fill: #D2E3FC;\n",
              "    }\n",
              "\n",
              "    [theme=dark] .colab-df-convert:hover {\n",
              "      background-color: #434B5C;\n",
              "      box-shadow: 0px 1px 3px 1px rgba(0, 0, 0, 0.15);\n",
              "      filter: drop-shadow(0px 1px 2px rgba(0, 0, 0, 0.3));\n",
              "      fill: #FFFFFF;\n",
              "    }\n",
              "  </style>\n",
              "\n",
              "      <script>\n",
              "        const buttonEl =\n",
              "          document.querySelector('#df-698b8db1-0df7-45fc-ae33-5e8442951d50 button.colab-df-convert');\n",
              "        buttonEl.style.display =\n",
              "          google.colab.kernel.accessAllowed ? 'block' : 'none';\n",
              "\n",
              "        async function convertToInteractive(key) {\n",
              "          const element = document.querySelector('#df-698b8db1-0df7-45fc-ae33-5e8442951d50');\n",
              "          const dataTable =\n",
              "            await google.colab.kernel.invokeFunction('convertToInteractive',\n",
              "                                                     [key], {});\n",
              "          if (!dataTable) return;\n",
              "\n",
              "          const docLinkHtml = 'Like what you see? Visit the ' +\n",
              "            '<a target=\"_blank\" href=https://colab.research.google.com/notebooks/data_table.ipynb>data table notebook</a>'\n",
              "            + ' to learn more about interactive tables.';\n",
              "          element.innerHTML = '';\n",
              "          dataTable['output_type'] = 'display_data';\n",
              "          await google.colab.output.renderOutput(dataTable, element);\n",
              "          const docLink = document.createElement('div');\n",
              "          docLink.innerHTML = docLinkHtml;\n",
              "          element.appendChild(docLink);\n",
              "        }\n",
              "      </script>\n",
              "    </div>\n",
              "  </div>\n",
              "  "
            ]
          },
          "metadata": {},
          "execution_count": 84
        }
      ]
    },
    {
      "cell_type": "code",
      "source": [
        "#Removing the change since it is not needed\n",
        "del df['Change']\n",
        "df.head(5)"
      ],
      "metadata": {
        "colab": {
          "base_uri": "https://localhost:8080/",
          "height": 228
        },
        "id": "p77mbj8L97i8",
        "outputId": "21fa17a0-30c7-4b5a-9314-5a3e1deb1599"
      },
      "execution_count": 85,
      "outputs": [
        {
          "output_type": "execute_result",
          "data": {
            "text/plain": [
              "     Month Price\n",
              "0  1993-03   408\n",
              "1  1993-04   392\n",
              "2  1993-05   371\n",
              "3  1993-06   356\n",
              "4  1993-07   362"
            ],
            "text/html": [
              "\n",
              "  <div id=\"df-528f664f-317e-48d9-9510-b34234d22552\">\n",
              "    <div class=\"colab-df-container\">\n",
              "      <div>\n",
              "<style scoped>\n",
              "    .dataframe tbody tr th:only-of-type {\n",
              "        vertical-align: middle;\n",
              "    }\n",
              "\n",
              "    .dataframe tbody tr th {\n",
              "        vertical-align: top;\n",
              "    }\n",
              "\n",
              "    .dataframe thead th {\n",
              "        text-align: right;\n",
              "    }\n",
              "</style>\n",
              "<table border=\"1\" class=\"dataframe\">\n",
              "  <thead>\n",
              "    <tr style=\"text-align: right;\">\n",
              "      <th></th>\n",
              "      <th>Month</th>\n",
              "      <th>Price</th>\n",
              "    </tr>\n",
              "  </thead>\n",
              "  <tbody>\n",
              "    <tr>\n",
              "      <th>0</th>\n",
              "      <td>1993-03</td>\n",
              "      <td>408</td>\n",
              "    </tr>\n",
              "    <tr>\n",
              "      <th>1</th>\n",
              "      <td>1993-04</td>\n",
              "      <td>392</td>\n",
              "    </tr>\n",
              "    <tr>\n",
              "      <th>2</th>\n",
              "      <td>1993-05</td>\n",
              "      <td>371</td>\n",
              "    </tr>\n",
              "    <tr>\n",
              "      <th>3</th>\n",
              "      <td>1993-06</td>\n",
              "      <td>356</td>\n",
              "    </tr>\n",
              "    <tr>\n",
              "      <th>4</th>\n",
              "      <td>1993-07</td>\n",
              "      <td>362</td>\n",
              "    </tr>\n",
              "  </tbody>\n",
              "</table>\n",
              "</div>\n",
              "      <button class=\"colab-df-convert\" onclick=\"convertToInteractive('df-528f664f-317e-48d9-9510-b34234d22552')\"\n",
              "              title=\"Convert this dataframe to an interactive table.\"\n",
              "              style=\"display:none;\">\n",
              "        \n",
              "  <svg xmlns=\"http://www.w3.org/2000/svg\" height=\"24px\"viewBox=\"0 0 24 24\"\n",
              "       width=\"24px\">\n",
              "    <path d=\"M0 0h24v24H0V0z\" fill=\"none\"/>\n",
              "    <path d=\"M18.56 5.44l.94 2.06.94-2.06 2.06-.94-2.06-.94-.94-2.06-.94 2.06-2.06.94zm-11 1L8.5 8.5l.94-2.06 2.06-.94-2.06-.94L8.5 2.5l-.94 2.06-2.06.94zm10 10l.94 2.06.94-2.06 2.06-.94-2.06-.94-.94-2.06-.94 2.06-2.06.94z\"/><path d=\"M17.41 7.96l-1.37-1.37c-.4-.4-.92-.59-1.43-.59-.52 0-1.04.2-1.43.59L10.3 9.45l-7.72 7.72c-.78.78-.78 2.05 0 2.83L4 21.41c.39.39.9.59 1.41.59.51 0 1.02-.2 1.41-.59l7.78-7.78 2.81-2.81c.8-.78.8-2.07 0-2.86zM5.41 20L4 18.59l7.72-7.72 1.47 1.35L5.41 20z\"/>\n",
              "  </svg>\n",
              "      </button>\n",
              "      \n",
              "  <style>\n",
              "    .colab-df-container {\n",
              "      display:flex;\n",
              "      flex-wrap:wrap;\n",
              "      gap: 12px;\n",
              "    }\n",
              "\n",
              "    .colab-df-convert {\n",
              "      background-color: #E8F0FE;\n",
              "      border: none;\n",
              "      border-radius: 50%;\n",
              "      cursor: pointer;\n",
              "      display: none;\n",
              "      fill: #1967D2;\n",
              "      height: 32px;\n",
              "      padding: 0 0 0 0;\n",
              "      width: 32px;\n",
              "    }\n",
              "\n",
              "    .colab-df-convert:hover {\n",
              "      background-color: #E2EBFA;\n",
              "      box-shadow: 0px 1px 2px rgba(60, 64, 67, 0.3), 0px 1px 3px 1px rgba(60, 64, 67, 0.15);\n",
              "      fill: #174EA6;\n",
              "    }\n",
              "\n",
              "    [theme=dark] .colab-df-convert {\n",
              "      background-color: #3B4455;\n",
              "      fill: #D2E3FC;\n",
              "    }\n",
              "\n",
              "    [theme=dark] .colab-df-convert:hover {\n",
              "      background-color: #434B5C;\n",
              "      box-shadow: 0px 1px 3px 1px rgba(0, 0, 0, 0.15);\n",
              "      filter: drop-shadow(0px 1px 2px rgba(0, 0, 0, 0.3));\n",
              "      fill: #FFFFFF;\n",
              "    }\n",
              "  </style>\n",
              "\n",
              "      <script>\n",
              "        const buttonEl =\n",
              "          document.querySelector('#df-528f664f-317e-48d9-9510-b34234d22552 button.colab-df-convert');\n",
              "        buttonEl.style.display =\n",
              "          google.colab.kernel.accessAllowed ? 'block' : 'none';\n",
              "\n",
              "        async function convertToInteractive(key) {\n",
              "          const element = document.querySelector('#df-528f664f-317e-48d9-9510-b34234d22552');\n",
              "          const dataTable =\n",
              "            await google.colab.kernel.invokeFunction('convertToInteractive',\n",
              "                                                     [key], {});\n",
              "          if (!dataTable) return;\n",
              "\n",
              "          const docLinkHtml = 'Like what you see? Visit the ' +\n",
              "            '<a target=\"_blank\" href=https://colab.research.google.com/notebooks/data_table.ipynb>data table notebook</a>'\n",
              "            + ' to learn more about interactive tables.';\n",
              "          element.innerHTML = '';\n",
              "          dataTable['output_type'] = 'display_data';\n",
              "          await google.colab.output.renderOutput(dataTable, element);\n",
              "          const docLink = document.createElement('div');\n",
              "          docLink.innerHTML = docLinkHtml;\n",
              "          element.appendChild(docLink);\n",
              "        }\n",
              "      </script>\n",
              "    </div>\n",
              "  </div>\n",
              "  "
            ]
          },
          "metadata": {},
          "execution_count": 85
        }
      ]
    },
    {
      "cell_type": "code",
      "source": [
        "#Checking data types\n",
        "df.dtypes"
      ],
      "metadata": {
        "colab": {
          "base_uri": "https://localhost:8080/"
        },
        "id": "hmaS3MRh-cLP",
        "outputId": "77ffd9a3-f21c-41e7-805a-936175c3e201"
      },
      "execution_count": 86,
      "outputs": [
        {
          "output_type": "execute_result",
          "data": {
            "text/plain": [
              "Month    object\n",
              "Price    object\n",
              "dtype: object"
            ]
          },
          "metadata": {},
          "execution_count": 86
        }
      ]
    },
    {
      "cell_type": "code",
      "source": [
        "#Renaming Price to cpo_pri (Crude palm oil price)\n",
        "df.rename({'Price': 'cpo_pri', 'Month': 'date'}, axis=1, inplace=True)\n",
        "df"
      ],
      "metadata": {
        "colab": {
          "base_uri": "https://localhost:8080/",
          "height": 447
        },
        "id": "jS4mirru-9Xt",
        "outputId": "99587780-9d78-43de-ac8a-bb9dd21553ec"
      },
      "execution_count": 87,
      "outputs": [
        {
          "output_type": "execute_result",
          "data": {
            "text/plain": [
              "        date cpo_pri\n",
              "0    1993-03     408\n",
              "1    1993-04     392\n",
              "2    1993-05     371\n",
              "3    1993-06     356\n",
              "4    1993-07     362\n",
              "..       ...     ...\n",
              "356  2022-11  945.74\n",
              "357  2022-12  940.39\n",
              "358  2023-01  941.97\n",
              "359  2023-02  949.98\n",
              "360  2023-03  972.06\n",
              "\n",
              "[361 rows x 2 columns]"
            ],
            "text/html": [
              "\n",
              "  <div id=\"df-e6391fe1-871f-49d1-9fae-7181e5102f67\">\n",
              "    <div class=\"colab-df-container\">\n",
              "      <div>\n",
              "<style scoped>\n",
              "    .dataframe tbody tr th:only-of-type {\n",
              "        vertical-align: middle;\n",
              "    }\n",
              "\n",
              "    .dataframe tbody tr th {\n",
              "        vertical-align: top;\n",
              "    }\n",
              "\n",
              "    .dataframe thead th {\n",
              "        text-align: right;\n",
              "    }\n",
              "</style>\n",
              "<table border=\"1\" class=\"dataframe\">\n",
              "  <thead>\n",
              "    <tr style=\"text-align: right;\">\n",
              "      <th></th>\n",
              "      <th>date</th>\n",
              "      <th>cpo_pri</th>\n",
              "    </tr>\n",
              "  </thead>\n",
              "  <tbody>\n",
              "    <tr>\n",
              "      <th>0</th>\n",
              "      <td>1993-03</td>\n",
              "      <td>408</td>\n",
              "    </tr>\n",
              "    <tr>\n",
              "      <th>1</th>\n",
              "      <td>1993-04</td>\n",
              "      <td>392</td>\n",
              "    </tr>\n",
              "    <tr>\n",
              "      <th>2</th>\n",
              "      <td>1993-05</td>\n",
              "      <td>371</td>\n",
              "    </tr>\n",
              "    <tr>\n",
              "      <th>3</th>\n",
              "      <td>1993-06</td>\n",
              "      <td>356</td>\n",
              "    </tr>\n",
              "    <tr>\n",
              "      <th>4</th>\n",
              "      <td>1993-07</td>\n",
              "      <td>362</td>\n",
              "    </tr>\n",
              "    <tr>\n",
              "      <th>...</th>\n",
              "      <td>...</td>\n",
              "      <td>...</td>\n",
              "    </tr>\n",
              "    <tr>\n",
              "      <th>356</th>\n",
              "      <td>2022-11</td>\n",
              "      <td>945.74</td>\n",
              "    </tr>\n",
              "    <tr>\n",
              "      <th>357</th>\n",
              "      <td>2022-12</td>\n",
              "      <td>940.39</td>\n",
              "    </tr>\n",
              "    <tr>\n",
              "      <th>358</th>\n",
              "      <td>2023-01</td>\n",
              "      <td>941.97</td>\n",
              "    </tr>\n",
              "    <tr>\n",
              "      <th>359</th>\n",
              "      <td>2023-02</td>\n",
              "      <td>949.98</td>\n",
              "    </tr>\n",
              "    <tr>\n",
              "      <th>360</th>\n",
              "      <td>2023-03</td>\n",
              "      <td>972.06</td>\n",
              "    </tr>\n",
              "  </tbody>\n",
              "</table>\n",
              "<p>361 rows × 2 columns</p>\n",
              "</div>\n",
              "      <button class=\"colab-df-convert\" onclick=\"convertToInteractive('df-e6391fe1-871f-49d1-9fae-7181e5102f67')\"\n",
              "              title=\"Convert this dataframe to an interactive table.\"\n",
              "              style=\"display:none;\">\n",
              "        \n",
              "  <svg xmlns=\"http://www.w3.org/2000/svg\" height=\"24px\"viewBox=\"0 0 24 24\"\n",
              "       width=\"24px\">\n",
              "    <path d=\"M0 0h24v24H0V0z\" fill=\"none\"/>\n",
              "    <path d=\"M18.56 5.44l.94 2.06.94-2.06 2.06-.94-2.06-.94-.94-2.06-.94 2.06-2.06.94zm-11 1L8.5 8.5l.94-2.06 2.06-.94-2.06-.94L8.5 2.5l-.94 2.06-2.06.94zm10 10l.94 2.06.94-2.06 2.06-.94-2.06-.94-.94-2.06-.94 2.06-2.06.94z\"/><path d=\"M17.41 7.96l-1.37-1.37c-.4-.4-.92-.59-1.43-.59-.52 0-1.04.2-1.43.59L10.3 9.45l-7.72 7.72c-.78.78-.78 2.05 0 2.83L4 21.41c.39.39.9.59 1.41.59.51 0 1.02-.2 1.41-.59l7.78-7.78 2.81-2.81c.8-.78.8-2.07 0-2.86zM5.41 20L4 18.59l7.72-7.72 1.47 1.35L5.41 20z\"/>\n",
              "  </svg>\n",
              "      </button>\n",
              "      \n",
              "  <style>\n",
              "    .colab-df-container {\n",
              "      display:flex;\n",
              "      flex-wrap:wrap;\n",
              "      gap: 12px;\n",
              "    }\n",
              "\n",
              "    .colab-df-convert {\n",
              "      background-color: #E8F0FE;\n",
              "      border: none;\n",
              "      border-radius: 50%;\n",
              "      cursor: pointer;\n",
              "      display: none;\n",
              "      fill: #1967D2;\n",
              "      height: 32px;\n",
              "      padding: 0 0 0 0;\n",
              "      width: 32px;\n",
              "    }\n",
              "\n",
              "    .colab-df-convert:hover {\n",
              "      background-color: #E2EBFA;\n",
              "      box-shadow: 0px 1px 2px rgba(60, 64, 67, 0.3), 0px 1px 3px 1px rgba(60, 64, 67, 0.15);\n",
              "      fill: #174EA6;\n",
              "    }\n",
              "\n",
              "    [theme=dark] .colab-df-convert {\n",
              "      background-color: #3B4455;\n",
              "      fill: #D2E3FC;\n",
              "    }\n",
              "\n",
              "    [theme=dark] .colab-df-convert:hover {\n",
              "      background-color: #434B5C;\n",
              "      box-shadow: 0px 1px 3px 1px rgba(0, 0, 0, 0.15);\n",
              "      filter: drop-shadow(0px 1px 2px rgba(0, 0, 0, 0.3));\n",
              "      fill: #FFFFFF;\n",
              "    }\n",
              "  </style>\n",
              "\n",
              "      <script>\n",
              "        const buttonEl =\n",
              "          document.querySelector('#df-e6391fe1-871f-49d1-9fae-7181e5102f67 button.colab-df-convert');\n",
              "        buttonEl.style.display =\n",
              "          google.colab.kernel.accessAllowed ? 'block' : 'none';\n",
              "\n",
              "        async function convertToInteractive(key) {\n",
              "          const element = document.querySelector('#df-e6391fe1-871f-49d1-9fae-7181e5102f67');\n",
              "          const dataTable =\n",
              "            await google.colab.kernel.invokeFunction('convertToInteractive',\n",
              "                                                     [key], {});\n",
              "          if (!dataTable) return;\n",
              "\n",
              "          const docLinkHtml = 'Like what you see? Visit the ' +\n",
              "            '<a target=\"_blank\" href=https://colab.research.google.com/notebooks/data_table.ipynb>data table notebook</a>'\n",
              "            + ' to learn more about interactive tables.';\n",
              "          element.innerHTML = '';\n",
              "          dataTable['output_type'] = 'display_data';\n",
              "          await google.colab.output.renderOutput(dataTable, element);\n",
              "          const docLink = document.createElement('div');\n",
              "          docLink.innerHTML = docLinkHtml;\n",
              "          element.appendChild(docLink);\n",
              "        }\n",
              "      </script>\n",
              "    </div>\n",
              "  </div>\n",
              "  "
            ]
          },
          "metadata": {},
          "execution_count": 87
        }
      ]
    },
    {
      "cell_type": "code",
      "source": [
        "# converting column \"Price\" of the DataFrame to numeric\n",
        "#df[\"cpo_pri\"] = pd.to_numeric('cpo_pri', errors='coerce')\n",
        "\n",
        "#df.dtypes"
      ],
      "metadata": {
        "id": "pYroShZ--9cF"
      },
      "execution_count": 63,
      "outputs": []
    },
    {
      "cell_type": "code",
      "source": [
        "df.head(5)"
      ],
      "metadata": {
        "colab": {
          "base_uri": "https://localhost:8080/",
          "height": 228
        },
        "id": "-W3JbCdBCZ3Y",
        "outputId": "537a6152-8df2-4b6f-8fdd-ca3f88535324"
      },
      "execution_count": 88,
      "outputs": [
        {
          "output_type": "execute_result",
          "data": {
            "text/plain": [
              "      date cpo_pri\n",
              "0  1993-03     408\n",
              "1  1993-04     392\n",
              "2  1993-05     371\n",
              "3  1993-06     356\n",
              "4  1993-07     362"
            ],
            "text/html": [
              "\n",
              "  <div id=\"df-d846b9a6-caee-4008-92ff-2d44dbc7d644\">\n",
              "    <div class=\"colab-df-container\">\n",
              "      <div>\n",
              "<style scoped>\n",
              "    .dataframe tbody tr th:only-of-type {\n",
              "        vertical-align: middle;\n",
              "    }\n",
              "\n",
              "    .dataframe tbody tr th {\n",
              "        vertical-align: top;\n",
              "    }\n",
              "\n",
              "    .dataframe thead th {\n",
              "        text-align: right;\n",
              "    }\n",
              "</style>\n",
              "<table border=\"1\" class=\"dataframe\">\n",
              "  <thead>\n",
              "    <tr style=\"text-align: right;\">\n",
              "      <th></th>\n",
              "      <th>date</th>\n",
              "      <th>cpo_pri</th>\n",
              "    </tr>\n",
              "  </thead>\n",
              "  <tbody>\n",
              "    <tr>\n",
              "      <th>0</th>\n",
              "      <td>1993-03</td>\n",
              "      <td>408</td>\n",
              "    </tr>\n",
              "    <tr>\n",
              "      <th>1</th>\n",
              "      <td>1993-04</td>\n",
              "      <td>392</td>\n",
              "    </tr>\n",
              "    <tr>\n",
              "      <th>2</th>\n",
              "      <td>1993-05</td>\n",
              "      <td>371</td>\n",
              "    </tr>\n",
              "    <tr>\n",
              "      <th>3</th>\n",
              "      <td>1993-06</td>\n",
              "      <td>356</td>\n",
              "    </tr>\n",
              "    <tr>\n",
              "      <th>4</th>\n",
              "      <td>1993-07</td>\n",
              "      <td>362</td>\n",
              "    </tr>\n",
              "  </tbody>\n",
              "</table>\n",
              "</div>\n",
              "      <button class=\"colab-df-convert\" onclick=\"convertToInteractive('df-d846b9a6-caee-4008-92ff-2d44dbc7d644')\"\n",
              "              title=\"Convert this dataframe to an interactive table.\"\n",
              "              style=\"display:none;\">\n",
              "        \n",
              "  <svg xmlns=\"http://www.w3.org/2000/svg\" height=\"24px\"viewBox=\"0 0 24 24\"\n",
              "       width=\"24px\">\n",
              "    <path d=\"M0 0h24v24H0V0z\" fill=\"none\"/>\n",
              "    <path d=\"M18.56 5.44l.94 2.06.94-2.06 2.06-.94-2.06-.94-.94-2.06-.94 2.06-2.06.94zm-11 1L8.5 8.5l.94-2.06 2.06-.94-2.06-.94L8.5 2.5l-.94 2.06-2.06.94zm10 10l.94 2.06.94-2.06 2.06-.94-2.06-.94-.94-2.06-.94 2.06-2.06.94z\"/><path d=\"M17.41 7.96l-1.37-1.37c-.4-.4-.92-.59-1.43-.59-.52 0-1.04.2-1.43.59L10.3 9.45l-7.72 7.72c-.78.78-.78 2.05 0 2.83L4 21.41c.39.39.9.59 1.41.59.51 0 1.02-.2 1.41-.59l7.78-7.78 2.81-2.81c.8-.78.8-2.07 0-2.86zM5.41 20L4 18.59l7.72-7.72 1.47 1.35L5.41 20z\"/>\n",
              "  </svg>\n",
              "      </button>\n",
              "      \n",
              "  <style>\n",
              "    .colab-df-container {\n",
              "      display:flex;\n",
              "      flex-wrap:wrap;\n",
              "      gap: 12px;\n",
              "    }\n",
              "\n",
              "    .colab-df-convert {\n",
              "      background-color: #E8F0FE;\n",
              "      border: none;\n",
              "      border-radius: 50%;\n",
              "      cursor: pointer;\n",
              "      display: none;\n",
              "      fill: #1967D2;\n",
              "      height: 32px;\n",
              "      padding: 0 0 0 0;\n",
              "      width: 32px;\n",
              "    }\n",
              "\n",
              "    .colab-df-convert:hover {\n",
              "      background-color: #E2EBFA;\n",
              "      box-shadow: 0px 1px 2px rgba(60, 64, 67, 0.3), 0px 1px 3px 1px rgba(60, 64, 67, 0.15);\n",
              "      fill: #174EA6;\n",
              "    }\n",
              "\n",
              "    [theme=dark] .colab-df-convert {\n",
              "      background-color: #3B4455;\n",
              "      fill: #D2E3FC;\n",
              "    }\n",
              "\n",
              "    [theme=dark] .colab-df-convert:hover {\n",
              "      background-color: #434B5C;\n",
              "      box-shadow: 0px 1px 3px 1px rgba(0, 0, 0, 0.15);\n",
              "      filter: drop-shadow(0px 1px 2px rgba(0, 0, 0, 0.3));\n",
              "      fill: #FFFFFF;\n",
              "    }\n",
              "  </style>\n",
              "\n",
              "      <script>\n",
              "        const buttonEl =\n",
              "          document.querySelector('#df-d846b9a6-caee-4008-92ff-2d44dbc7d644 button.colab-df-convert');\n",
              "        buttonEl.style.display =\n",
              "          google.colab.kernel.accessAllowed ? 'block' : 'none';\n",
              "\n",
              "        async function convertToInteractive(key) {\n",
              "          const element = document.querySelector('#df-d846b9a6-caee-4008-92ff-2d44dbc7d644');\n",
              "          const dataTable =\n",
              "            await google.colab.kernel.invokeFunction('convertToInteractive',\n",
              "                                                     [key], {});\n",
              "          if (!dataTable) return;\n",
              "\n",
              "          const docLinkHtml = 'Like what you see? Visit the ' +\n",
              "            '<a target=\"_blank\" href=https://colab.research.google.com/notebooks/data_table.ipynb>data table notebook</a>'\n",
              "            + ' to learn more about interactive tables.';\n",
              "          element.innerHTML = '';\n",
              "          dataTable['output_type'] = 'display_data';\n",
              "          await google.colab.output.renderOutput(dataTable, element);\n",
              "          const docLink = document.createElement('div');\n",
              "          docLink.innerHTML = docLinkHtml;\n",
              "          element.appendChild(docLink);\n",
              "        }\n",
              "      </script>\n",
              "    </div>\n",
              "  </div>\n",
              "  "
            ]
          },
          "metadata": {},
          "execution_count": 88
        }
      ]
    },
    {
      "cell_type": "code",
      "source": [
        "# Converting date column from object to date format\n",
        "df['date'] = pd.to_datetime(df['date'].apply(lambda x: x.split()[0])) # Selecting only date\n",
        "df.set_index('date',drop=True,inplace=True) # Setting date column as index\n",
        "df.head()"
      ],
      "metadata": {
        "colab": {
          "base_uri": "https://localhost:8080/",
          "height": 260
        },
        "id": "h_GMO44reArG",
        "outputId": "c6d0bea5-c0b0-467a-d7f0-3fe0937e6fba"
      },
      "execution_count": 89,
      "outputs": [
        {
          "output_type": "execute_result",
          "data": {
            "text/plain": [
              "           cpo_pri\n",
              "date              \n",
              "1993-03-01     408\n",
              "1993-04-01     392\n",
              "1993-05-01     371\n",
              "1993-06-01     356\n",
              "1993-07-01     362"
            ],
            "text/html": [
              "\n",
              "  <div id=\"df-7d6b0018-a364-4c3b-bc01-8153b79212e6\">\n",
              "    <div class=\"colab-df-container\">\n",
              "      <div>\n",
              "<style scoped>\n",
              "    .dataframe tbody tr th:only-of-type {\n",
              "        vertical-align: middle;\n",
              "    }\n",
              "\n",
              "    .dataframe tbody tr th {\n",
              "        vertical-align: top;\n",
              "    }\n",
              "\n",
              "    .dataframe thead th {\n",
              "        text-align: right;\n",
              "    }\n",
              "</style>\n",
              "<table border=\"1\" class=\"dataframe\">\n",
              "  <thead>\n",
              "    <tr style=\"text-align: right;\">\n",
              "      <th></th>\n",
              "      <th>cpo_pri</th>\n",
              "    </tr>\n",
              "    <tr>\n",
              "      <th>date</th>\n",
              "      <th></th>\n",
              "    </tr>\n",
              "  </thead>\n",
              "  <tbody>\n",
              "    <tr>\n",
              "      <th>1993-03-01</th>\n",
              "      <td>408</td>\n",
              "    </tr>\n",
              "    <tr>\n",
              "      <th>1993-04-01</th>\n",
              "      <td>392</td>\n",
              "    </tr>\n",
              "    <tr>\n",
              "      <th>1993-05-01</th>\n",
              "      <td>371</td>\n",
              "    </tr>\n",
              "    <tr>\n",
              "      <th>1993-06-01</th>\n",
              "      <td>356</td>\n",
              "    </tr>\n",
              "    <tr>\n",
              "      <th>1993-07-01</th>\n",
              "      <td>362</td>\n",
              "    </tr>\n",
              "  </tbody>\n",
              "</table>\n",
              "</div>\n",
              "      <button class=\"colab-df-convert\" onclick=\"convertToInteractive('df-7d6b0018-a364-4c3b-bc01-8153b79212e6')\"\n",
              "              title=\"Convert this dataframe to an interactive table.\"\n",
              "              style=\"display:none;\">\n",
              "        \n",
              "  <svg xmlns=\"http://www.w3.org/2000/svg\" height=\"24px\"viewBox=\"0 0 24 24\"\n",
              "       width=\"24px\">\n",
              "    <path d=\"M0 0h24v24H0V0z\" fill=\"none\"/>\n",
              "    <path d=\"M18.56 5.44l.94 2.06.94-2.06 2.06-.94-2.06-.94-.94-2.06-.94 2.06-2.06.94zm-11 1L8.5 8.5l.94-2.06 2.06-.94-2.06-.94L8.5 2.5l-.94 2.06-2.06.94zm10 10l.94 2.06.94-2.06 2.06-.94-2.06-.94-.94-2.06-.94 2.06-2.06.94z\"/><path d=\"M17.41 7.96l-1.37-1.37c-.4-.4-.92-.59-1.43-.59-.52 0-1.04.2-1.43.59L10.3 9.45l-7.72 7.72c-.78.78-.78 2.05 0 2.83L4 21.41c.39.39.9.59 1.41.59.51 0 1.02-.2 1.41-.59l7.78-7.78 2.81-2.81c.8-.78.8-2.07 0-2.86zM5.41 20L4 18.59l7.72-7.72 1.47 1.35L5.41 20z\"/>\n",
              "  </svg>\n",
              "      </button>\n",
              "      \n",
              "  <style>\n",
              "    .colab-df-container {\n",
              "      display:flex;\n",
              "      flex-wrap:wrap;\n",
              "      gap: 12px;\n",
              "    }\n",
              "\n",
              "    .colab-df-convert {\n",
              "      background-color: #E8F0FE;\n",
              "      border: none;\n",
              "      border-radius: 50%;\n",
              "      cursor: pointer;\n",
              "      display: none;\n",
              "      fill: #1967D2;\n",
              "      height: 32px;\n",
              "      padding: 0 0 0 0;\n",
              "      width: 32px;\n",
              "    }\n",
              "\n",
              "    .colab-df-convert:hover {\n",
              "      background-color: #E2EBFA;\n",
              "      box-shadow: 0px 1px 2px rgba(60, 64, 67, 0.3), 0px 1px 3px 1px rgba(60, 64, 67, 0.15);\n",
              "      fill: #174EA6;\n",
              "    }\n",
              "\n",
              "    [theme=dark] .colab-df-convert {\n",
              "      background-color: #3B4455;\n",
              "      fill: #D2E3FC;\n",
              "    }\n",
              "\n",
              "    [theme=dark] .colab-df-convert:hover {\n",
              "      background-color: #434B5C;\n",
              "      box-shadow: 0px 1px 3px 1px rgba(0, 0, 0, 0.15);\n",
              "      filter: drop-shadow(0px 1px 2px rgba(0, 0, 0, 0.3));\n",
              "      fill: #FFFFFF;\n",
              "    }\n",
              "  </style>\n",
              "\n",
              "      <script>\n",
              "        const buttonEl =\n",
              "          document.querySelector('#df-7d6b0018-a364-4c3b-bc01-8153b79212e6 button.colab-df-convert');\n",
              "        buttonEl.style.display =\n",
              "          google.colab.kernel.accessAllowed ? 'block' : 'none';\n",
              "\n",
              "        async function convertToInteractive(key) {\n",
              "          const element = document.querySelector('#df-7d6b0018-a364-4c3b-bc01-8153b79212e6');\n",
              "          const dataTable =\n",
              "            await google.colab.kernel.invokeFunction('convertToInteractive',\n",
              "                                                     [key], {});\n",
              "          if (!dataTable) return;\n",
              "\n",
              "          const docLinkHtml = 'Like what you see? Visit the ' +\n",
              "            '<a target=\"_blank\" href=https://colab.research.google.com/notebooks/data_table.ipynb>data table notebook</a>'\n",
              "            + ' to learn more about interactive tables.';\n",
              "          element.innerHTML = '';\n",
              "          dataTable['output_type'] = 'display_data';\n",
              "          await google.colab.output.renderOutput(dataTable, element);\n",
              "          const docLink = document.createElement('div');\n",
              "          docLink.innerHTML = docLinkHtml;\n",
              "          element.appendChild(docLink);\n",
              "        }\n",
              "      </script>\n",
              "    </div>\n",
              "  </div>\n",
              "  "
            ]
          },
          "metadata": {},
          "execution_count": 89
        }
      ]
    },
    {
      "cell_type": "code",
      "source": [
        "df['cpo_pri'] = df['cpo_pri'].apply(lambda x: float(x.split()[0].replace(',', '')))\n",
        "print(df.dtypes)"
      ],
      "metadata": {
        "colab": {
          "base_uri": "https://localhost:8080/"
        },
        "id": "ZlYv7Tu_FAPP",
        "outputId": "727433c4-1dcb-4943-d165-b0f3d77524b9"
      },
      "execution_count": 93,
      "outputs": [
        {
          "output_type": "stream",
          "name": "stdout",
          "text": [
            "cpo_pri    float64\n",
            "dtype: object\n"
          ]
        }
      ]
    },
    {
      "cell_type": "code",
      "source": [
        "# Constructing a Lineplot\n",
        "years = mdates.YearLocator() \n",
        "fig, ax1 = plt.subplots(figsize=(16, 6))\n",
        "ax1.xaxis.set_major_locator(years)\n",
        "ax1.legend([featurename], fontsize=12)\n",
        "plt.title(featurename + ' from '+ start_date + ' to ' + end_date)\n",
        "sns.lineplot(data=df['cpo_pri'], label=featurename, linewidth=1.0)\n",
        "plt.ylabel('Monthly Crude Palm Oil Prices Per Metric Ton (US Dollars)')\n",
        "plt.show()"
      ],
      "metadata": {
        "colab": {
          "base_uri": "https://localhost:8080/",
          "height": 584
        },
        "id": "NaNguXEqDaDA",
        "outputId": "b54eab5d-5f0b-483d-f84a-6c663d12051e"
      },
      "execution_count": 94,
      "outputs": [
        {
          "output_type": "display_data",
          "data": {
            "text/plain": [
              "<Figure size 1600x600 with 1 Axes>"
            ],
            "image/png": "[encoded data removed]"
          },
          "metadata": {}
        }
      ]
    },
    {
      "cell_type": "markdown",
      "source": [
        "### Checking for Duplicates"
      ],
      "metadata": {
        "id": "Z7q0ofdCLKeN"
      }
    },
    {
      "cell_type": "code",
      "source": [
        "# Check number of duplicates while ignoring the index feature\n",
        "n_duplicates = df.drop(labels=[\"cpo_pri\"], axis=1).duplicated().sum()\n",
        "print(f\"You seem to have {n_duplicates} duplicates in your database.\")"
      ],
      "metadata": {
        "colab": {
          "base_uri": "https://localhost:8080/"
        },
        "id": "RiCNCqCyKsEw",
        "outputId": "70aa2280-b5b3-4e9e-e6e5-5687cebda604"
      },
      "execution_count": 99,
      "outputs": [
        {
          "output_type": "stream",
          "name": "stdout",
          "text": [
            "You seem to have 0 duplicates in your database.\n"
          ]
        }
      ]
    },
    {
      "cell_type": "markdown",
      "source": [
        "###Checking for Missing values"
      ],
      "metadata": {
        "id": "1i0WEorbLa7a"
      }
    },
    {
      "cell_type": "code",
      "source": [
        "import matplotlib.pyplot as plt\n",
        "\n",
        "plt.figure(figsize=(10, 8))\n",
        "plt.imshow(df.isna(), aspect=\"auto\", interpolation=\"nearest\", cmap=\"gray\")\n",
        "plt.xlabel(\"Column Number\")\n",
        "plt.ylabel(\"Sample Number\");"
      ],
      "metadata": {
        "colab": {
          "base_uri": "https://localhost:8080/",
          "height": 720
        },
        "id": "J_lJ5HkxKsIb",
        "outputId": "d77066a6-2017-4796-deae-29b83e4ec13e"
      },
      "execution_count": 100,
      "outputs": [
        {
          "output_type": "display_data",
          "data": {
            "text/plain": [
              "<Figure size 1000x800 with 1 Axes>"
            ],
            "image/png": "[encoded data removed]"
          },
          "metadata": {}
        }
      ]
    },
    {
      "cell_type": "markdown",
      "source": [
        "This figure shows that there are no missing data"
      ],
      "metadata": {
        "id": "HrMQOFBALsG0"
      }
    },
    {
      "cell_type": "code",
      "source": [
        "# Plots the histogram for each numerical feature in a separate subplot\n",
        "df.hist(bins=25, figsize=(15, 5), edgecolor=\"black\")\n",
        "plt.tight_layout();"
      ],
      "metadata": {
        "colab": {
          "base_uri": "https://localhost:8080/",
          "height": 528
        },
        "id": "84RGYxb8KsM1",
        "outputId": "44e177df-c894-4798-94a7-5a8b11e539eb"
      },
      "execution_count": 106,
      "outputs": [
        {
          "output_type": "display_data",
          "data": {
            "text/plain": [
              "<Figure size 1500x500 with 1 Axes>"
            ],
            "image/png": "[encoded data removed]"
          },
          "metadata": {}
        }
      ]
    },
    {
      "cell_type": "markdown",
      "source": [
        "###Checking for Outliers"
      ],
      "metadata": {
        "id": "FX6FdkMJMwnG"
      }
    },
    {
      "cell_type": "code",
      "source": [
        "#Computing the percentage of Outliers\n",
        "for k, v in df.items():\n",
        "        q1 = v.quantile(0.25)\n",
        "        q3 = v.quantile(0.75)\n",
        "        irq = q3 - q1\n",
        "        v_col = v[(v <= q1 - 1.5 * irq) | (v >= q3 + 1.5 * irq)]\n",
        "        perc = np.shape(v_col)[0] * 100.0 / np.shape(df)[1]\n",
        "        print(\"Column %s outliers = %.2f%%\" % (k, perc))"
      ],
      "metadata": {
        "colab": {
          "base_uri": "https://localhost:8080/"
        },
        "id": "4vwbQ4sKMV3k",
        "outputId": "58740a62-8365-46a2-ad8b-a790b7572178"
      },
      "execution_count": 107,
      "outputs": [
        {
          "output_type": "stream",
          "name": "stdout",
          "text": [
            "Column cpo_pri outliers = 500.00%\n"
          ]
        }
      ]
    },
    {
      "cell_type": "code",
      "source": [
        "#Ploting the boxplot of the Outliers\n",
        "sns.boxplot(df['cpo_pri'])\n",
        "plt.title('cpo_pri')\n",
        "plt.figure(figsize=(15,15))"
      ],
      "metadata": {
        "colab": {
          "base_uri": "https://localhost:8080/",
          "height": 508
        },
        "id": "lSggtXIrMWHs",
        "outputId": "db2dd55a-153c-4abe-eacb-fd14be9abc2d"
      },
      "execution_count": 111,
      "outputs": [
        {
          "output_type": "execute_result",
          "data": {
            "text/plain": [
              "<Figure size 1500x1500 with 0 Axes>"
            ]
          },
          "metadata": {},
          "execution_count": 111
        },
        {
          "output_type": "display_data",
          "data": {
            "text/plain": [
              "<Figure size 640x480 with 1 Axes>"
            ],
            "image/png": "[encoded data removed]"
          },
          "metadata": {}
        },
        {
          "output_type": "display_data",
          "data": {
            "text/plain": [
              "<Figure size 1500x1500 with 0 Axes>"
            ]
          },
          "metadata": {}
        }
      ]
    },
    {
      "cell_type": "markdown",
      "source": [
        "###Removing the Outliers"
      ],
      "metadata": {
        "id": "Z8YyTtQ7N9NG"
      }
    },
    {
      "cell_type": "code",
      "source": [
        "IQR=df.cpo_pri.quantile(0.75)-df.cpo_pri.quantile(0.25)\n",
        "lower_bridge=df.cpo_pri.quantile(0.25)-(IQR*1.5)\n",
        "upper_bridge=df.cpo_pri.quantile(0.75)+(IQR*1.5)\n",
        "print(lower_bridge, upper_bridge)"
      ],
      "metadata": {
        "colab": {
          "base_uri": "https://localhost:8080/"
        },
        "id": "NjvXUVaTOAXy",
        "outputId": "a6b24943-06ce-4396-8cc9-f9584c1fe76c"
      },
      "execution_count": 113,
      "outputs": [
        {
          "output_type": "stream",
          "name": "stdout",
          "text": [
            "-57.3449999999998 1385.495\n"
          ]
        }
      ]
    },
    {
      "cell_type": "code",
      "source": [
        "df.loc[df['cpo_pri']>= 1385.495,'cpo_pri']= 1385.495\n",
        "df.loc[df['cpo_pri']<= -57.3449999999998,'cpo_pri']= -57.3449999999998"
      ],
      "metadata": {
        "id": "cGOOHF_IOXM0"
      },
      "execution_count": 115,
      "outputs": []
    },
    {
      "cell_type": "markdown",
      "source": [
        "###Ploting of Target variable without Outliers"
      ],
      "metadata": {
        "id": "e-UOAmPZO_8J"
      }
    },
    {
      "cell_type": "code",
      "source": [
        "sns.boxplot(df['cpo_pri'])\n",
        "plt.title('cpo_pri')\n",
        "plt.figure(figsize=(10,10))    "
      ],
      "metadata": {
        "colab": {
          "base_uri": "https://localhost:8080/",
          "height": 508
        },
        "id": "HfUVRkUJO5JO",
        "outputId": "085086e9-c8da-4727-e6ba-e269d0de0562"
      },
      "execution_count": 118,
      "outputs": [
        {
          "output_type": "execute_result",
          "data": {
            "text/plain": [
              "<Figure size 1000x1000 with 0 Axes>"
            ]
          },
          "metadata": {},
          "execution_count": 118
        },
        {
          "output_type": "display_data",
          "data": {
            "text/plain": [
              "<Figure size 640x480 with 1 Axes>"
            ],
            "image/png": "[encoded data removed]"
          },
          "metadata": {}
        },
        {
          "output_type": "display_data",
          "data": {
            "text/plain": [
              "<Figure size 1000x1000 with 0 Axes>"
            ]
          },
          "metadata": {}
        }
      ]
    },
    {
      "cell_type": "code",
      "source": [
        "# Target Selection \n",
        "train_df = df.filter(['cpo_pri'])\n",
        "data_unsc = train_df.values # data_unscaled data\n",
        "\n",
        "# Compute the number of rows required to train the model on 80% of the data. \n",
        "train_data_len = math.ceil(len(data_unsc) * 0.7)\n",
        "\n",
        "# Scale the characteristic to a value between 0 and 1 to transform it.\n",
        "mmscaler = MinMaxScaler(feature_range=(0, 1))\n",
        "np_data = mmscaler.fit_transform(data_unsc)"
      ],
      "metadata": {
        "id": "xA8Jt_OeZKvl"
      },
      "execution_count": 119,
      "outputs": []
    },
    {
      "cell_type": "code",
      "source": [
        "# Set the sequence len - the period for making a single forecast.\n",
        "sequence_len = 3\n",
        "\n",
        "# Index of Prediction\n",
        "index_cpo_pri = train_df.columns.get_loc(\"cpo_pri\")\n",
        "print(index_cpo_pri)\n",
        "# Divide the training data into train and train data sets.\n",
        "# In the first stage, we determine the number of rows required to train the model on 80% of the data. \n",
        "train_data_len = math.ceil(np_data.shape[0] * 0.8)\n",
        "\n",
        "# Generate training and test data.\n",
        "train_data = np_data[0:train_data_len, :]\n",
        "test_data = np_data[train_data_len - sequence_len:, :]\n",
        "\n",
        "# The MLP model requires data in the following formats: [samples, time steps, features].\n",
        "def partition_dataset(sequence_len, train_df):\n",
        "    x, y = [], []\n",
        "    data_len = train_df.shape[0]\n",
        "    for i in range(sequence_len, data_len):\n",
        "        x.append(train_df[i-sequence_len:i,:]) \n",
        "        y.append(train_df[i, index_cpo_pri]) \n",
        "    \n",
        "    # Convert the x and y variables to numpy arrays.\n",
        "    x = np.array(x)\n",
        "    y = np.array(y)\n",
        "    return x, y\n",
        "\n",
        "# Create training and testing data.\n",
        "X_train, y_train = partition_dataset(sequence_len, train_data)\n",
        "X_test, y_test = partition_dataset(sequence_len, test_data)\n",
        "\n",
        "print(X_train.shape, y_train.shape)\n",
        "print(X_test.shape, y_test.shape)\n",
        "\n",
        "# Verify that the prediction value and the input value match\n",
        "print(X_test[1][sequence_len-1][index_cpo_pri])\n",
        "print(y_test[0])"
      ],
      "metadata": {
        "colab": {
          "base_uri": "https://localhost:8080/"
        },
        "id": "nCXjnKjqZK0g",
        "outputId": "2671b661-eca7-46b5-eee5-fd7cddd3f2d6"
      },
      "execution_count": 120,
      "outputs": [
        {
          "output_type": "stream",
          "name": "stdout",
          "text": [
            "0\n",
            "(286, 3, 1) (286,)\n",
            "(72, 3, 1) (72,)\n",
            "0.44990208381278246\n",
            "0.44990208381278246\n"
          ]
        }
      ]
    },
    {
      "cell_type": "code",
      "source": [
        "callback = tf.keras.callbacks.EarlyStopping(monitor='val_loss', patience=10, restore_best_weights=True)\n",
        "model = Sequential()\n",
        "model.add(Dense(8, input_dim=sequence_len, activation='relu'))\n",
        "model.add(Dense(1))\n",
        "model.compile(loss='mean_squared_error', optimizer='adam')\n",
        "model.fit(X_train, y_train, epochs=200, batch_size=2, verbose=2)"
      ],
      "metadata": {
        "colab": {
          "base_uri": "https://localhost:8080/"
        },
        "id": "nMvEdcLqSjMm",
        "outputId": "299c464e-08e9-468f-f6b5-f6bdef76debe"
      },
      "execution_count": 121,
      "outputs": [
        {
          "output_type": "stream",
          "name": "stdout",
          "text": [
            "Epoch 1/200\n",
            "143/143 - 1s - loss: 0.0282 - 652ms/epoch - 5ms/step\n",
            "Epoch 2/200\n",
            "143/143 - 0s - loss: 0.0069 - 168ms/epoch - 1ms/step\n",
            "Epoch 3/200\n",
            "143/143 - 0s - loss: 0.0043 - 173ms/epoch - 1ms/step\n",
            "Epoch 4/200\n",
            "143/143 - 0s - loss: 0.0033 - 196ms/epoch - 1ms/step\n",
            "Epoch 5/200\n",
            "143/143 - 0s - loss: 0.0031 - 335ms/epoch - 2ms/step\n",
            "Epoch 6/200\n",
            "143/143 - 0s - loss: 0.0029 - 248ms/epoch - 2ms/step\n",
            "Epoch 7/200\n",
            "143/143 - 0s - loss: 0.0029 - 265ms/epoch - 2ms/step\n",
            "Epoch 8/200\n",
            "143/143 - 0s - loss: 0.0028 - 246ms/epoch - 2ms/step\n",
            "Epoch 9/200\n",
            "143/143 - 0s - loss: 0.0028 - 258ms/epoch - 2ms/step\n",
            "Epoch 10/200\n",
            "143/143 - 0s - loss: 0.0027 - 246ms/epoch - 2ms/step\n",
            "Epoch 11/200\n",
            "143/143 - 0s - loss: 0.0026 - 247ms/epoch - 2ms/step\n",
            "Epoch 12/200\n",
            "143/143 - 0s - loss: 0.0026 - 264ms/epoch - 2ms/step\n",
            "Epoch 13/200\n",
            "143/143 - 0s - loss: 0.0025 - 245ms/epoch - 2ms/step\n",
            "Epoch 14/200\n",
            "143/143 - 0s - loss: 0.0024 - 241ms/epoch - 2ms/step\n",
            "Epoch 15/200\n",
            "143/143 - 0s - loss: 0.0024 - 213ms/epoch - 1ms/step\n",
            "Epoch 16/200\n",
            "143/143 - 0s - loss: 0.0023 - 173ms/epoch - 1ms/step\n",
            "Epoch 17/200\n",
            "143/143 - 0s - loss: 0.0023 - 175ms/epoch - 1ms/step\n",
            "Epoch 18/200\n",
            "143/143 - 0s - loss: 0.0022 - 167ms/epoch - 1ms/step\n",
            "Epoch 19/200\n",
            "143/143 - 0s - loss: 0.0021 - 167ms/epoch - 1ms/step\n",
            "Epoch 20/200\n",
            "143/143 - 0s - loss: 0.0021 - 182ms/epoch - 1ms/step\n",
            "Epoch 21/200\n",
            "143/143 - 0s - loss: 0.0021 - 182ms/epoch - 1ms/step\n",
            "Epoch 22/200\n",
            "143/143 - 0s - loss: 0.0020 - 179ms/epoch - 1ms/step\n",
            "Epoch 23/200\n",
            "143/143 - 0s - loss: 0.0019 - 186ms/epoch - 1ms/step\n",
            "Epoch 24/200\n",
            "143/143 - 0s - loss: 0.0019 - 173ms/epoch - 1ms/step\n",
            "Epoch 25/200\n",
            "143/143 - 0s - loss: 0.0020 - 184ms/epoch - 1ms/step\n",
            "Epoch 26/200\n",
            "143/143 - 0s - loss: 0.0018 - 173ms/epoch - 1ms/step\n",
            "Epoch 27/200\n",
            "143/143 - 0s - loss: 0.0019 - 167ms/epoch - 1ms/step\n",
            "Epoch 28/200\n",
            "143/143 - 0s - loss: 0.0018 - 195ms/epoch - 1ms/step\n",
            "Epoch 29/200\n",
            "143/143 - 0s - loss: 0.0017 - 172ms/epoch - 1ms/step\n",
            "Epoch 30/200\n",
            "143/143 - 0s - loss: 0.0017 - 170ms/epoch - 1ms/step\n",
            "Epoch 31/200\n",
            "143/143 - 0s - loss: 0.0017 - 177ms/epoch - 1ms/step\n",
            "Epoch 32/200\n",
            "143/143 - 0s - loss: 0.0017 - 169ms/epoch - 1ms/step\n",
            "Epoch 33/200\n",
            "143/143 - 0s - loss: 0.0016 - 170ms/epoch - 1ms/step\n",
            "Epoch 34/200\n",
            "143/143 - 0s - loss: 0.0015 - 183ms/epoch - 1ms/step\n",
            "Epoch 35/200\n",
            "143/143 - 0s - loss: 0.0017 - 171ms/epoch - 1ms/step\n",
            "Epoch 36/200\n",
            "143/143 - 0s - loss: 0.0016 - 173ms/epoch - 1ms/step\n",
            "Epoch 37/200\n",
            "143/143 - 0s - loss: 0.0016 - 175ms/epoch - 1ms/step\n",
            "Epoch 38/200\n",
            "143/143 - 0s - loss: 0.0017 - 176ms/epoch - 1ms/step\n",
            "Epoch 39/200\n",
            "143/143 - 0s - loss: 0.0016 - 170ms/epoch - 1ms/step\n",
            "Epoch 40/200\n",
            "143/143 - 0s - loss: 0.0015 - 175ms/epoch - 1ms/step\n",
            "Epoch 41/200\n",
            "143/143 - 0s - loss: 0.0015 - 171ms/epoch - 1ms/step\n",
            "Epoch 42/200\n",
            "143/143 - 0s - loss: 0.0015 - 188ms/epoch - 1ms/step\n",
            "Epoch 43/200\n",
            "143/143 - 0s - loss: 0.0015 - 177ms/epoch - 1ms/step\n",
            "Epoch 44/200\n",
            "143/143 - 0s - loss: 0.0014 - 172ms/epoch - 1ms/step\n",
            "Epoch 45/200\n",
            "143/143 - 0s - loss: 0.0015 - 193ms/epoch - 1ms/step\n",
            "Epoch 46/200\n",
            "143/143 - 0s - loss: 0.0014 - 178ms/epoch - 1ms/step\n",
            "Epoch 47/200\n",
            "143/143 - 0s - loss: 0.0014 - 184ms/epoch - 1ms/step\n",
            "Epoch 48/200\n",
            "143/143 - 0s - loss: 0.0014 - 170ms/epoch - 1ms/step\n",
            "Epoch 49/200\n",
            "143/143 - 0s - loss: 0.0014 - 176ms/epoch - 1ms/step\n",
            "Epoch 50/200\n",
            "143/143 - 0s - loss: 0.0014 - 180ms/epoch - 1ms/step\n",
            "Epoch 51/200\n",
            "143/143 - 0s - loss: 0.0014 - 176ms/epoch - 1ms/step\n",
            "Epoch 52/200\n",
            "143/143 - 0s - loss: 0.0014 - 173ms/epoch - 1ms/step\n",
            "Epoch 53/200\n",
            "143/143 - 0s - loss: 0.0014 - 172ms/epoch - 1ms/step\n",
            "Epoch 54/200\n",
            "143/143 - 0s - loss: 0.0015 - 168ms/epoch - 1ms/step\n",
            "Epoch 55/200\n",
            "143/143 - 0s - loss: 0.0015 - 168ms/epoch - 1ms/step\n",
            "Epoch 56/200\n",
            "143/143 - 0s - loss: 0.0014 - 171ms/epoch - 1ms/step\n",
            "Epoch 57/200\n",
            "143/143 - 0s - loss: 0.0015 - 189ms/epoch - 1ms/step\n",
            "Epoch 58/200\n",
            "143/143 - 0s - loss: 0.0014 - 175ms/epoch - 1ms/step\n",
            "Epoch 59/200\n",
            "143/143 - 0s - loss: 0.0014 - 174ms/epoch - 1ms/step\n",
            "Epoch 60/200\n",
            "143/143 - 0s - loss: 0.0014 - 172ms/epoch - 1ms/step\n",
            "Epoch 61/200\n",
            "143/143 - 0s - loss: 0.0014 - 178ms/epoch - 1ms/step\n",
            "Epoch 62/200\n",
            "143/143 - 0s - loss: 0.0014 - 174ms/epoch - 1ms/step\n",
            "Epoch 63/200\n",
            "143/143 - 0s - loss: 0.0014 - 170ms/epoch - 1ms/step\n",
            "Epoch 64/200\n",
            "143/143 - 0s - loss: 0.0014 - 173ms/epoch - 1ms/step\n",
            "Epoch 65/200\n",
            "143/143 - 0s - loss: 0.0013 - 169ms/epoch - 1ms/step\n",
            "Epoch 66/200\n",
            "143/143 - 0s - loss: 0.0013 - 181ms/epoch - 1ms/step\n",
            "Epoch 67/200\n",
            "143/143 - 0s - loss: 0.0013 - 182ms/epoch - 1ms/step\n",
            "Epoch 68/200\n",
            "143/143 - 0s - loss: 0.0014 - 181ms/epoch - 1ms/step\n",
            "Epoch 69/200\n",
            "143/143 - 0s - loss: 0.0014 - 173ms/epoch - 1ms/step\n",
            "Epoch 70/200\n",
            "143/143 - 0s - loss: 0.0014 - 175ms/epoch - 1ms/step\n",
            "Epoch 71/200\n",
            "143/143 - 0s - loss: 0.0014 - 202ms/epoch - 1ms/step\n",
            "Epoch 72/200\n",
            "143/143 - 0s - loss: 0.0013 - 239ms/epoch - 2ms/step\n",
            "Epoch 73/200\n",
            "143/143 - 0s - loss: 0.0014 - 252ms/epoch - 2ms/step\n",
            "Epoch 74/200\n",
            "143/143 - 0s - loss: 0.0014 - 244ms/epoch - 2ms/step\n",
            "Epoch 75/200\n",
            "143/143 - 0s - loss: 0.0014 - 243ms/epoch - 2ms/step\n",
            "Epoch 76/200\n",
            "143/143 - 0s - loss: 0.0014 - 255ms/epoch - 2ms/step\n",
            "Epoch 77/200\n",
            "143/143 - 0s - loss: 0.0014 - 234ms/epoch - 2ms/step\n",
            "Epoch 78/200\n",
            "143/143 - 0s - loss: 0.0014 - 238ms/epoch - 2ms/step\n",
            "Epoch 79/200\n",
            "143/143 - 0s - loss: 0.0013 - 247ms/epoch - 2ms/step\n",
            "Epoch 80/200\n",
            "143/143 - 0s - loss: 0.0014 - 261ms/epoch - 2ms/step\n",
            "Epoch 81/200\n",
            "143/143 - 0s - loss: 0.0014 - 248ms/epoch - 2ms/step\n",
            "Epoch 82/200\n",
            "143/143 - 0s - loss: 0.0013 - 227ms/epoch - 2ms/step\n",
            "Epoch 83/200\n",
            "143/143 - 0s - loss: 0.0013 - 176ms/epoch - 1ms/step\n",
            "Epoch 84/200\n",
            "143/143 - 0s - loss: 0.0013 - 178ms/epoch - 1ms/step\n",
            "Epoch 85/200\n",
            "143/143 - 0s - loss: 0.0014 - 170ms/epoch - 1ms/step\n",
            "Epoch 86/200\n",
            "143/143 - 0s - loss: 0.0014 - 172ms/epoch - 1ms/step\n",
            "Epoch 87/200\n",
            "143/143 - 0s - loss: 0.0014 - 183ms/epoch - 1ms/step\n",
            "Epoch 88/200\n",
            "143/143 - 0s - loss: 0.0014 - 176ms/epoch - 1ms/step\n",
            "Epoch 89/200\n",
            "143/143 - 0s - loss: 0.0013 - 173ms/epoch - 1ms/step\n",
            "Epoch 90/200\n",
            "143/143 - 0s - loss: 0.0014 - 181ms/epoch - 1ms/step\n",
            "Epoch 91/200\n",
            "143/143 - 0s - loss: 0.0014 - 166ms/epoch - 1ms/step\n",
            "Epoch 92/200\n",
            "143/143 - 0s - loss: 0.0013 - 173ms/epoch - 1ms/step\n",
            "Epoch 93/200\n",
            "143/143 - 0s - loss: 0.0013 - 167ms/epoch - 1ms/step\n",
            "Epoch 94/200\n",
            "143/143 - 0s - loss: 0.0014 - 165ms/epoch - 1ms/step\n",
            "Epoch 95/200\n",
            "143/143 - 0s - loss: 0.0013 - 174ms/epoch - 1ms/step\n",
            "Epoch 96/200\n",
            "143/143 - 0s - loss: 0.0014 - 171ms/epoch - 1ms/step\n",
            "Epoch 97/200\n",
            "143/143 - 0s - loss: 0.0013 - 173ms/epoch - 1ms/step\n",
            "Epoch 98/200\n",
            "143/143 - 0s - loss: 0.0013 - 189ms/epoch - 1ms/step\n",
            "Epoch 99/200\n",
            "143/143 - 0s - loss: 0.0013 - 184ms/epoch - 1ms/step\n",
            "Epoch 100/200\n",
            "143/143 - 0s - loss: 0.0013 - 174ms/epoch - 1ms/step\n",
            "Epoch 101/200\n",
            "143/143 - 0s - loss: 0.0013 - 180ms/epoch - 1ms/step\n",
            "Epoch 102/200\n",
            "143/143 - 0s - loss: 0.0013 - 176ms/epoch - 1ms/step\n",
            "Epoch 103/200\n",
            "143/143 - 0s - loss: 0.0013 - 167ms/epoch - 1ms/step\n",
            "Epoch 104/200\n",
            "143/143 - 0s - loss: 0.0013 - 178ms/epoch - 1ms/step\n",
            "Epoch 105/200\n",
            "143/143 - 0s - loss: 0.0014 - 178ms/epoch - 1ms/step\n",
            "Epoch 106/200\n",
            "143/143 - 0s - loss: 0.0013 - 178ms/epoch - 1ms/step\n",
            "Epoch 107/200\n",
            "143/143 - 0s - loss: 0.0013 - 172ms/epoch - 1ms/step\n",
            "Epoch 108/200\n",
            "143/143 - 0s - loss: 0.0013 - 165ms/epoch - 1ms/step\n",
            "Epoch 109/200\n",
            "143/143 - 0s - loss: 0.0013 - 175ms/epoch - 1ms/step\n",
            "Epoch 110/200\n",
            "143/143 - 0s - loss: 0.0013 - 184ms/epoch - 1ms/step\n",
            "Epoch 111/200\n",
            "143/143 - 0s - loss: 0.0013 - 173ms/epoch - 1ms/step\n",
            "Epoch 112/200\n",
            "143/143 - 0s - loss: 0.0013 - 187ms/epoch - 1ms/step\n",
            "Epoch 113/200\n",
            "143/143 - 0s - loss: 0.0015 - 180ms/epoch - 1ms/step\n",
            "Epoch 114/200\n",
            "143/143 - 0s - loss: 0.0014 - 196ms/epoch - 1ms/step\n",
            "Epoch 115/200\n",
            "143/143 - 0s - loss: 0.0013 - 176ms/epoch - 1ms/step\n",
            "Epoch 116/200\n",
            "143/143 - 0s - loss: 0.0013 - 173ms/epoch - 1ms/step\n",
            "Epoch 117/200\n",
            "143/143 - 0s - loss: 0.0013 - 178ms/epoch - 1ms/step\n",
            "Epoch 118/200\n",
            "143/143 - 0s - loss: 0.0013 - 188ms/epoch - 1ms/step\n",
            "Epoch 119/200\n",
            "143/143 - 0s - loss: 0.0014 - 174ms/epoch - 1ms/step\n",
            "Epoch 120/200\n",
            "143/143 - 0s - loss: 0.0013 - 176ms/epoch - 1ms/step\n",
            "Epoch 121/200\n",
            "143/143 - 0s - loss: 0.0013 - 187ms/epoch - 1ms/step\n",
            "Epoch 122/200\n",
            "143/143 - 0s - loss: 0.0013 - 175ms/epoch - 1ms/step\n",
            "Epoch 123/200\n",
            "143/143 - 0s - loss: 0.0013 - 176ms/epoch - 1ms/step\n",
            "Epoch 124/200\n",
            "143/143 - 0s - loss: 0.0013 - 171ms/epoch - 1ms/step\n",
            "Epoch 125/200\n",
            "143/143 - 0s - loss: 0.0014 - 166ms/epoch - 1ms/step\n",
            "Epoch 126/200\n",
            "143/143 - 0s - loss: 0.0013 - 198ms/epoch - 1ms/step\n",
            "Epoch 127/200\n",
            "143/143 - 0s - loss: 0.0013 - 176ms/epoch - 1ms/step\n",
            "Epoch 128/200\n",
            "143/143 - 0s - loss: 0.0013 - 181ms/epoch - 1ms/step\n",
            "Epoch 129/200\n",
            "143/143 - 0s - loss: 0.0014 - 176ms/epoch - 1ms/step\n",
            "Epoch 130/200\n",
            "143/143 - 0s - loss: 0.0013 - 180ms/epoch - 1ms/step\n",
            "Epoch 131/200\n",
            "143/143 - 0s - loss: 0.0012 - 174ms/epoch - 1ms/step\n",
            "Epoch 132/200\n",
            "143/143 - 0s - loss: 0.0013 - 183ms/epoch - 1ms/step\n",
            "Epoch 133/200\n",
            "143/143 - 0s - loss: 0.0013 - 176ms/epoch - 1ms/step\n",
            "Epoch 134/200\n",
            "143/143 - 0s - loss: 0.0013 - 187ms/epoch - 1ms/step\n",
            "Epoch 135/200\n",
            "143/143 - 0s - loss: 0.0013 - 177ms/epoch - 1ms/step\n",
            "Epoch 136/200\n",
            "143/143 - 0s - loss: 0.0013 - 172ms/epoch - 1ms/step\n",
            "Epoch 137/200\n",
            "143/143 - 0s - loss: 0.0013 - 192ms/epoch - 1ms/step\n",
            "Epoch 138/200\n",
            "143/143 - 0s - loss: 0.0013 - 241ms/epoch - 2ms/step\n",
            "Epoch 139/200\n",
            "143/143 - 0s - loss: 0.0014 - 252ms/epoch - 2ms/step\n",
            "Epoch 140/200\n",
            "143/143 - 0s - loss: 0.0013 - 252ms/epoch - 2ms/step\n",
            "Epoch 141/200\n",
            "143/143 - 0s - loss: 0.0013 - 272ms/epoch - 2ms/step\n",
            "Epoch 142/200\n",
            "143/143 - 0s - loss: 0.0013 - 252ms/epoch - 2ms/step\n",
            "Epoch 143/200\n",
            "143/143 - 0s - loss: 0.0013 - 246ms/epoch - 2ms/step\n",
            "Epoch 144/200\n",
            "143/143 - 0s - loss: 0.0013 - 241ms/epoch - 2ms/step\n",
            "Epoch 145/200\n",
            "143/143 - 0s - loss: 0.0013 - 233ms/epoch - 2ms/step\n",
            "Epoch 146/200\n",
            "143/143 - 0s - loss: 0.0013 - 253ms/epoch - 2ms/step\n",
            "Epoch 147/200\n",
            "143/143 - 0s - loss: 0.0013 - 238ms/epoch - 2ms/step\n",
            "Epoch 148/200\n",
            "143/143 - 0s - loss: 0.0013 - 211ms/epoch - 1ms/step\n",
            "Epoch 149/200\n",
            "143/143 - 0s - loss: 0.0013 - 169ms/epoch - 1ms/step\n",
            "Epoch 150/200\n",
            "143/143 - 0s - loss: 0.0013 - 185ms/epoch - 1ms/step\n",
            "Epoch 151/200\n",
            "143/143 - 0s - loss: 0.0013 - 180ms/epoch - 1ms/step\n",
            "Epoch 152/200\n",
            "143/143 - 0s - loss: 0.0013 - 176ms/epoch - 1ms/step\n",
            "Epoch 153/200\n",
            "143/143 - 0s - loss: 0.0013 - 166ms/epoch - 1ms/step\n",
            "Epoch 154/200\n",
            "143/143 - 0s - loss: 0.0013 - 169ms/epoch - 1ms/step\n",
            "Epoch 155/200\n",
            "143/143 - 0s - loss: 0.0012 - 176ms/epoch - 1ms/step\n",
            "Epoch 156/200\n",
            "143/143 - 0s - loss: 0.0013 - 186ms/epoch - 1ms/step\n",
            "Epoch 157/200\n",
            "143/143 - 0s - loss: 0.0013 - 173ms/epoch - 1ms/step\n",
            "Epoch 158/200\n",
            "143/143 - 0s - loss: 0.0013 - 176ms/epoch - 1ms/step\n",
            "Epoch 159/200\n",
            "143/143 - 0s - loss: 0.0013 - 180ms/epoch - 1ms/step\n",
            "Epoch 160/200\n",
            "143/143 - 0s - loss: 0.0013 - 172ms/epoch - 1ms/step\n",
            "Epoch 161/200\n",
            "143/143 - 0s - loss: 0.0013 - 176ms/epoch - 1ms/step\n",
            "Epoch 162/200\n",
            "143/143 - 0s - loss: 0.0013 - 188ms/epoch - 1ms/step\n",
            "Epoch 163/200\n",
            "143/143 - 0s - loss: 0.0013 - 188ms/epoch - 1ms/step\n",
            "Epoch 164/200\n",
            "143/143 - 0s - loss: 0.0013 - 177ms/epoch - 1ms/step\n",
            "Epoch 165/200\n",
            "143/143 - 0s - loss: 0.0013 - 180ms/epoch - 1ms/step\n",
            "Epoch 166/200\n",
            "143/143 - 0s - loss: 0.0013 - 172ms/epoch - 1ms/step\n",
            "Epoch 167/200\n",
            "143/143 - 0s - loss: 0.0014 - 174ms/epoch - 1ms/step\n",
            "Epoch 168/200\n",
            "143/143 - 0s - loss: 0.0012 - 179ms/epoch - 1ms/step\n",
            "Epoch 169/200\n",
            "143/143 - 0s - loss: 0.0013 - 187ms/epoch - 1ms/step\n",
            "Epoch 170/200\n",
            "143/143 - 0s - loss: 0.0013 - 169ms/epoch - 1ms/step\n",
            "Epoch 171/200\n",
            "143/143 - 0s - loss: 0.0012 - 171ms/epoch - 1ms/step\n",
            "Epoch 172/200\n",
            "143/143 - 0s - loss: 0.0013 - 174ms/epoch - 1ms/step\n",
            "Epoch 173/200\n",
            "143/143 - 0s - loss: 0.0012 - 188ms/epoch - 1ms/step\n",
            "Epoch 174/200\n",
            "143/143 - 0s - loss: 0.0013 - 175ms/epoch - 1ms/step\n",
            "Epoch 175/200\n",
            "143/143 - 0s - loss: 0.0013 - 175ms/epoch - 1ms/step\n",
            "Epoch 176/200\n",
            "143/143 - 0s - loss: 0.0013 - 170ms/epoch - 1ms/step\n",
            "Epoch 177/200\n",
            "143/143 - 0s - loss: 0.0013 - 185ms/epoch - 1ms/step\n",
            "Epoch 178/200\n",
            "143/143 - 0s - loss: 0.0013 - 183ms/epoch - 1ms/step\n",
            "Epoch 179/200\n",
            "143/143 - 0s - loss: 0.0013 - 181ms/epoch - 1ms/step\n",
            "Epoch 180/200\n",
            "143/143 - 0s - loss: 0.0013 - 183ms/epoch - 1ms/step\n",
            "Epoch 181/200\n",
            "143/143 - 0s - loss: 0.0013 - 168ms/epoch - 1ms/step\n",
            "Epoch 182/200\n",
            "143/143 - 0s - loss: 0.0013 - 176ms/epoch - 1ms/step\n",
            "Epoch 183/200\n",
            "143/143 - 0s - loss: 0.0013 - 169ms/epoch - 1ms/step\n",
            "Epoch 184/200\n",
            "143/143 - 0s - loss: 0.0013 - 177ms/epoch - 1ms/step\n",
            "Epoch 185/200\n",
            "143/143 - 0s - loss: 0.0013 - 172ms/epoch - 1ms/step\n",
            "Epoch 186/200\n",
            "143/143 - 0s - loss: 0.0013 - 177ms/epoch - 1ms/step\n",
            "Epoch 187/200\n",
            "143/143 - 0s - loss: 0.0012 - 172ms/epoch - 1ms/step\n",
            "Epoch 188/200\n",
            "143/143 - 0s - loss: 0.0013 - 175ms/epoch - 1ms/step\n",
            "Epoch 189/200\n",
            "143/143 - 0s - loss: 0.0013 - 180ms/epoch - 1ms/step\n",
            "Epoch 190/200\n",
            "143/143 - 0s - loss: 0.0013 - 183ms/epoch - 1ms/step\n",
            "Epoch 191/200\n",
            "143/143 - 0s - loss: 0.0012 - 191ms/epoch - 1ms/step\n",
            "Epoch 192/200\n",
            "143/143 - 0s - loss: 0.0013 - 179ms/epoch - 1ms/step\n",
            "Epoch 193/200\n",
            "143/143 - 0s - loss: 0.0012 - 170ms/epoch - 1ms/step\n",
            "Epoch 194/200\n",
            "143/143 - 0s - loss: 0.0013 - 178ms/epoch - 1ms/step\n",
            "Epoch 195/200\n",
            "143/143 - 0s - loss: 0.0013 - 176ms/epoch - 1ms/step\n",
            "Epoch 196/200\n",
            "143/143 - 0s - loss: 0.0012 - 170ms/epoch - 1ms/step\n",
            "Epoch 197/200\n",
            "143/143 - 0s - loss: 0.0014 - 171ms/epoch - 1ms/step\n",
            "Epoch 198/200\n",
            "143/143 - 0s - loss: 0.0013 - 189ms/epoch - 1ms/step\n",
            "Epoch 199/200\n",
            "143/143 - 0s - loss: 0.0013 - 174ms/epoch - 1ms/step\n",
            "Epoch 200/200\n",
            "143/143 - 0s - loss: 0.0013 - 191ms/epoch - 1ms/step\n"
          ]
        },
        {
          "output_type": "execute_result",
          "data": {
            "text/plain": [
              "<keras.callbacks.History at 0x7f9e8c6b7880>"
            ]
          },
          "metadata": {},
          "execution_count": 121
        }
      ]
    },
    {
      "cell_type": "code",
      "source": [
        "history = model.fit(X_train,y_train,validation_data=(X_test,y_test),epochs=200,batch_size=2,verbose=1, callbacks=[callback])"
      ],
      "metadata": {
        "colab": {
          "base_uri": "https://localhost:8080/"
        },
        "id": "w4Z0B90jU9Qj",
        "outputId": "adb0353e-b79e-4d4a-d497-ec4f0b3e8ca4"
      },
      "execution_count": 122,
      "outputs": [
        {
          "output_type": "stream",
          "name": "stdout",
          "text": [
            "Epoch 1/200\n",
            "143/143 [==============================] - 0s 3ms/step - loss: 0.0012 - val_loss: 0.0031\n",
            "Epoch 2/200\n",
            "143/143 [==============================] - 0s 2ms/step - loss: 0.0013 - val_loss: 0.0032\n",
            "Epoch 3/200\n",
            "143/143 [==============================] - 0s 2ms/step - loss: 0.0013 - val_loss: 0.0030\n",
            "Epoch 4/200\n",
            "143/143 [==============================] - 0s 2ms/step - loss: 0.0013 - val_loss: 0.0030\n",
            "Epoch 5/200\n",
            "143/143 [==============================] - 0s 2ms/step - loss: 0.0012 - val_loss: 0.0031\n",
            "Epoch 6/200\n",
            "143/143 [==============================] - 0s 2ms/step - loss: 0.0013 - val_loss: 0.0031\n",
            "Epoch 7/200\n",
            "143/143 [==============================] - 0s 2ms/step - loss: 0.0013 - val_loss: 0.0031\n",
            "Epoch 8/200\n",
            "143/143 [==============================] - 0s 2ms/step - loss: 0.0013 - val_loss: 0.0031\n",
            "Epoch 9/200\n",
            "143/143 [==============================] - 0s 2ms/step - loss: 0.0012 - val_loss: 0.0030\n",
            "Epoch 10/200\n",
            "143/143 [==============================] - 0s 2ms/step - loss: 0.0013 - val_loss: 0.0031\n",
            "Epoch 11/200\n",
            "143/143 [==============================] - 0s 2ms/step - loss: 0.0013 - val_loss: 0.0031\n",
            "Epoch 12/200\n",
            "143/143 [==============================] - 0s 2ms/step - loss: 0.0013 - val_loss: 0.0034\n",
            "Epoch 13/200\n",
            "143/143 [==============================] - 0s 2ms/step - loss: 0.0013 - val_loss: 0.0032\n",
            "Epoch 14/200\n",
            "143/143 [==============================] - 0s 2ms/step - loss: 0.0013 - val_loss: 0.0031\n",
            "Epoch 15/200\n",
            "143/143 [==============================] - 0s 2ms/step - loss: 0.0014 - val_loss: 0.0031\n",
            "Epoch 16/200\n",
            "143/143 [==============================] - 0s 2ms/step - loss: 0.0013 - val_loss: 0.0031\n",
            "Epoch 17/200\n",
            "143/143 [==============================] - 0s 2ms/step - loss: 0.0013 - val_loss: 0.0031\n",
            "Epoch 18/200\n",
            "143/143 [==============================] - 0s 2ms/step - loss: 0.0013 - val_loss: 0.0030\n",
            "Epoch 19/200\n",
            "143/143 [==============================] - 0s 2ms/step - loss: 0.0013 - val_loss: 0.0030\n",
            "Epoch 20/200\n",
            "143/143 [==============================] - 0s 2ms/step - loss: 0.0013 - val_loss: 0.0031\n",
            "Epoch 21/200\n",
            "143/143 [==============================] - 0s 2ms/step - loss: 0.0013 - val_loss: 0.0032\n",
            "Epoch 22/200\n",
            "143/143 [==============================] - 0s 2ms/step - loss: 0.0013 - val_loss: 0.0032\n",
            "Epoch 23/200\n",
            "143/143 [==============================] - 0s 3ms/step - loss: 0.0013 - val_loss: 0.0031\n",
            "Epoch 24/200\n",
            "143/143 [==============================] - 0s 3ms/step - loss: 0.0013 - val_loss: 0.0033\n",
            "Epoch 25/200\n",
            "143/143 [==============================] - 0s 3ms/step - loss: 0.0013 - val_loss: 0.0033\n",
            "Epoch 26/200\n",
            "143/143 [==============================] - 0s 3ms/step - loss: 0.0012 - val_loss: 0.0034\n",
            "Epoch 27/200\n",
            "143/143 [==============================] - 0s 3ms/step - loss: 0.0013 - val_loss: 0.0033\n",
            "Epoch 28/200\n",
            "143/143 [==============================] - 0s 3ms/step - loss: 0.0012 - val_loss: 0.0037\n"
          ]
        }
      ]
    },
    {
      "cell_type": "code",
      "source": [
        "plt.figure(figsize=(6, 4))\n",
        "plt.plot(history.history[\"loss\"], label=\"Train\")\n",
        "plt.plot(history.history[\"val_loss\"], label=\"Test\")\n",
        "plt.title(\"Loss over epoch\")\n",
        "plt.xlabel(\"Epoch\")\n",
        "plt.ylabel(\"Loss\")\n",
        "plt.legend()\n",
        "plt.show()"
      ],
      "metadata": {
        "colab": {
          "base_uri": "https://localhost:8080/",
          "height": 430
        },
        "id": "1y8222iPUcQR",
        "outputId": "e7d73abe-596a-4cd4-abfa-f1f1076750c0"
      },
      "execution_count": 123,
      "outputs": [
        {
          "output_type": "display_data",
          "data": {
            "text/plain": [
              "<Figure size 600x400 with 1 Axes>"
            ],
            "image/png": "[encoded data removed]"
          },
          "metadata": {}
        }
      ]
    },
    {
      "cell_type": "code",
      "source": [
        "# Obtain the predicted values\n",
        "mlp_pred_scaled = model.predict(X_test)\n",
        "mlp_pred = mmscaler.inverse_transform(mlp_pred_scaled)\n",
        "y_test_unsc = mmscaler.inverse_transform(y_test.reshape(-1, 1))"
      ],
      "metadata": {
        "colab": {
          "base_uri": "https://localhost:8080/"
        },
        "id": "xBXsspWfZK47",
        "outputId": "4559305e-5983-405e-c345-e102cd090df9"
      },
      "execution_count": 124,
      "outputs": [
        {
          "output_type": "stream",
          "name": "stdout",
          "text": [
            "3/3 [==============================] - 0s 4ms/step\n"
          ]
        }
      ]
    },
    {
      "cell_type": "code",
      "source": [
        "# Mean Absolute Error (MAE)\n",
        "mlp_MAE = mean_absolute_error(y_test_unsc, mlp_pred)\n",
        "print(f'Median Absolute Error (MAE): {np.round(mlp_MAE, 2)}')\n",
        "\n",
        "# Mean Absolute Percentage Error (MAPE)\n",
        "mlp_MAPE = np.mean((np.abs(np.subtract(y_test_unsc, mlp_pred)/ y_test_unsc))) * 100\n",
        "print(f'Mean Absolute Percentage Error (MAPE): {np.round(mlp_MAPE, 2)} %')\n",
        "\n",
        "# Root Mean Squared Error (RMSE)\n",
        "mlp_RMSE = mean_squared_error(y_test_unsc, mlp_pred) ** 0.5\n",
        "print(f'Root Mean Squared Error (RMSE): {np.round(mlp_RMSE, 2)} %')\n",
        "\n",
        "# Mean Squared Error (MSE)\n",
        "mlp_MSE = mean_squared_error(y_test_unsc, mlp_pred)\n",
        "print('MSE value of the MLP Model:', mlp_MSE )\n",
        "\n",
        "# r2_score\n",
        "mlp_r2 = r2_score(y_test_unsc, mlp_pred)\n",
        "print(f'R^2 Score: {np.round(mlp_r2, 2)} %')"
      ],
      "metadata": {
        "colab": {
          "base_uri": "https://localhost:8080/"
        },
        "id": "XqpifbnIZtju",
        "outputId": "cbcbaa7a-9cc6-44d7-ac35-d66ba739378f"
      },
      "execution_count": 125,
      "outputs": [
        {
          "output_type": "stream",
          "name": "stdout",
          "text": [
            "Median Absolute Error (MAE): 43.12\n",
            "Mean Absolute Percentage Error (MAPE): 5.09 %\n",
            "Root Mean Squared Error (RMSE): 63.14 %\n",
            "MSE value of the MLP Model: 3986.691818312564\n",
            "R^2 Score: 0.94 %\n"
          ]
        }
      ]
    },
    {
      "cell_type": "code",
      "source": [
        "train = pd.DataFrame(train_df[:train_data_len + 1]).rename(columns={'cpo_pri': 'X_train'})\n",
        "train"
      ],
      "metadata": {
        "colab": {
          "base_uri": "https://localhost:8080/",
          "height": 479
        },
        "id": "1o6Zdk51ZtoH",
        "outputId": "c519834f-924a-4aeb-80c3-e7b6ba6aadfa"
      },
      "execution_count": 126,
      "outputs": [
        {
          "output_type": "execute_result",
          "data": {
            "text/plain": [
              "            X_train\n",
              "date               \n",
              "1993-03-01   408.00\n",
              "1993-04-01   392.00\n",
              "1993-05-01   371.00\n",
              "1993-06-01   356.00\n",
              "1993-07-01   362.00\n",
              "...             ...\n",
              "2016-12-01   811.38\n",
              "2017-01-01   825.00\n",
              "2017-02-01   808.61\n",
              "2017-03-01   778.70\n",
              "2017-04-01   752.06\n",
              "\n",
              "[290 rows x 1 columns]"
            ],
            "text/html": [
              "\n",
              "  <div id=\"df-27e2158c-8b57-4f35-8b9a-eec01d655d61\">\n",
              "    <div class=\"colab-df-container\">\n",
              "      <div>\n",
              "<style scoped>\n",
              "    .dataframe tbody tr th:only-of-type {\n",
              "        vertical-align: middle;\n",
              "    }\n",
              "\n",
              "    .dataframe tbody tr th {\n",
              "        vertical-align: top;\n",
              "    }\n",
              "\n",
              "    .dataframe thead th {\n",
              "        text-align: right;\n",
              "    }\n",
              "</style>\n",
              "<table border=\"1\" class=\"dataframe\">\n",
              "  <thead>\n",
              "    <tr style=\"text-align: right;\">\n",
              "      <th></th>\n",
              "      <th>X_train</th>\n",
              "    </tr>\n",
              "    <tr>\n",
              "      <th>date</th>\n",
              "      <th></th>\n",
              "    </tr>\n",
              "  </thead>\n",
              "  <tbody>\n",
              "    <tr>\n",
              "      <th>1993-03-01</th>\n",
              "      <td>408.00</td>\n",
              "    </tr>\n",
              "    <tr>\n",
              "      <th>1993-04-01</th>\n",
              "      <td>392.00</td>\n",
              "    </tr>\n",
              "    <tr>\n",
              "      <th>1993-05-01</th>\n",
              "      <td>371.00</td>\n",
              "    </tr>\n",
              "    <tr>\n",
              "      <th>1993-06-01</th>\n",
              "      <td>356.00</td>\n",
              "    </tr>\n",
              "    <tr>\n",
              "      <th>1993-07-01</th>\n",
              "      <td>362.00</td>\n",
              "    </tr>\n",
              "    <tr>\n",
              "      <th>...</th>\n",
              "      <td>...</td>\n",
              "    </tr>\n",
              "    <tr>\n",
              "      <th>2016-12-01</th>\n",
              "      <td>811.38</td>\n",
              "    </tr>\n",
              "    <tr>\n",
              "      <th>2017-01-01</th>\n",
              "      <td>825.00</td>\n",
              "    </tr>\n",
              "    <tr>\n",
              "      <th>2017-02-01</th>\n",
              "      <td>808.61</td>\n",
              "    </tr>\n",
              "    <tr>\n",
              "      <th>2017-03-01</th>\n",
              "      <td>778.70</td>\n",
              "    </tr>\n",
              "    <tr>\n",
              "      <th>2017-04-01</th>\n",
              "      <td>752.06</td>\n",
              "    </tr>\n",
              "  </tbody>\n",
              "</table>\n",
              "<p>290 rows × 1 columns</p>\n",
              "</div>\n",
              "      <button class=\"colab-df-convert\" onclick=\"convertToInteractive('df-27e2158c-8b57-4f35-8b9a-eec01d655d61')\"\n",
              "              title=\"Convert this dataframe to an interactive table.\"\n",
              "              style=\"display:none;\">\n",
              "        \n",
              "  <svg xmlns=\"http://www.w3.org/2000/svg\" height=\"24px\"viewBox=\"0 0 24 24\"\n",
              "       width=\"24px\">\n",
              "    <path d=\"M0 0h24v24H0V0z\" fill=\"none\"/>\n",
              "    <path d=\"M18.56 5.44l.94 2.06.94-2.06 2.06-.94-2.06-.94-.94-2.06-.94 2.06-2.06.94zm-11 1L8.5 8.5l.94-2.06 2.06-.94-2.06-.94L8.5 2.5l-.94 2.06-2.06.94zm10 10l.94 2.06.94-2.06 2.06-.94-2.06-.94-.94-2.06-.94 2.06-2.06.94z\"/><path d=\"M17.41 7.96l-1.37-1.37c-.4-.4-.92-.59-1.43-.59-.52 0-1.04.2-1.43.59L10.3 9.45l-7.72 7.72c-.78.78-.78 2.05 0 2.83L4 21.41c.39.39.9.59 1.41.59.51 0 1.02-.2 1.41-.59l7.78-7.78 2.81-2.81c.8-.78.8-2.07 0-2.86zM5.41 20L4 18.59l7.72-7.72 1.47 1.35L5.41 20z\"/>\n",
              "  </svg>\n",
              "      </button>\n",
              "      \n",
              "  <style>\n",
              "    .colab-df-container {\n",
              "      display:flex;\n",
              "      flex-wrap:wrap;\n",
              "      gap: 12px;\n",
              "    }\n",
              "\n",
              "    .colab-df-convert {\n",
              "      background-color: #E8F0FE;\n",
              "      border: none;\n",
              "      border-radius: 50%;\n",
              "      cursor: pointer;\n",
              "      display: none;\n",
              "      fill: #1967D2;\n",
              "      height: 32px;\n",
              "      padding: 0 0 0 0;\n",
              "      width: 32px;\n",
              "    }\n",
              "\n",
              "    .colab-df-convert:hover {\n",
              "      background-color: #E2EBFA;\n",
              "      box-shadow: 0px 1px 2px rgba(60, 64, 67, 0.3), 0px 1px 3px 1px rgba(60, 64, 67, 0.15);\n",
              "      fill: #174EA6;\n",
              "    }\n",
              "\n",
              "    [theme=dark] .colab-df-convert {\n",
              "      background-color: #3B4455;\n",
              "      fill: #D2E3FC;\n",
              "    }\n",
              "\n",
              "    [theme=dark] .colab-df-convert:hover {\n",
              "      background-color: #434B5C;\n",
              "      box-shadow: 0px 1px 3px 1px rgba(0, 0, 0, 0.15);\n",
              "      filter: drop-shadow(0px 1px 2px rgba(0, 0, 0, 0.3));\n",
              "      fill: #FFFFFF;\n",
              "    }\n",
              "  </style>\n",
              "\n",
              "      <script>\n",
              "        const buttonEl =\n",
              "          document.querySelector('#df-27e2158c-8b57-4f35-8b9a-eec01d655d61 button.colab-df-convert');\n",
              "        buttonEl.style.display =\n",
              "          google.colab.kernel.accessAllowed ? 'block' : 'none';\n",
              "\n",
              "        async function convertToInteractive(key) {\n",
              "          const element = document.querySelector('#df-27e2158c-8b57-4f35-8b9a-eec01d655d61');\n",
              "          const dataTable =\n",
              "            await google.colab.kernel.invokeFunction('convertToInteractive',\n",
              "                                                     [key], {});\n",
              "          if (!dataTable) return;\n",
              "\n",
              "          const docLinkHtml = 'Like what you see? Visit the ' +\n",
              "            '<a target=\"_blank\" href=https://colab.research.google.com/notebooks/data_table.ipynb>data table notebook</a>'\n",
              "            + ' to learn more about interactive tables.';\n",
              "          element.innerHTML = '';\n",
              "          dataTable['output_type'] = 'display_data';\n",
              "          await google.colab.output.renderOutput(dataTable, element);\n",
              "          const docLink = document.createElement('div');\n",
              "          docLink.innerHTML = docLinkHtml;\n",
              "          element.appendChild(docLink);\n",
              "        }\n",
              "      </script>\n",
              "    </div>\n",
              "  </div>\n",
              "  "
            ]
          },
          "metadata": {},
          "execution_count": 126
        }
      ]
    },
    {
      "cell_type": "code",
      "source": [
        "# The date starting from which the date is presented\n",
        "display_start_date = \"2010-12\" \n",
        "\n",
        "#\n",
        "train = pd.DataFrame(train_df[:train_data_len + 1]).rename(columns={'cpo_pri': 'y_train'})\n",
        "valid = pd.DataFrame(train_df[train_data_len:]).rename(columns={'cpo_pri': 'y_test'})\n",
        "valid.insert(1, \"mlp_pred\", mlp_pred, True)\n",
        "valid.insert(1, \"residuals\", valid[\"mlp_pred\"] - valid[\"y_test\"], True)\n",
        "df_union = pd.concat([train, valid])\n",
        "\n",
        "# Zoom in on a specific timeframe.\n",
        "df_union_zoom = df_union[df_union.index > display_start_date]\n",
        "\n",
        "# Create the lineplot\n",
        "fig, ax1 = plt.subplots(figsize=(16, 8), sharex=True)\n",
        "plt.title(\"MLP Predictions vs Actual\")\n",
        "sns.set_palette([\"#090364\", \"#1960EF\", \"#EF5919\"])\n",
        "plt.ylabel(featurename, fontsize=18)\n",
        "sns.lineplot(data=df_union_zoom[['y_train', 'mlp_pred', 'y_test']], linewidth=1.0, dashes=False, ax=ax1)"
      ],
      "metadata": {
        "colab": {
          "base_uri": "https://localhost:8080/",
          "height": 507
        },
        "id": "UP-WFBgTZtsB",
        "outputId": "b1c2ed15-0a05-4fd7-ae51-2c8743d5b045"
      },
      "execution_count": 127,
      "outputs": [
        {
          "output_type": "execute_result",
          "data": {
            "text/plain": [
              "<Axes: title={'center': 'MLP Predictions vs Actual'}, xlabel='date', ylabel='Price'>"
            ]
          },
          "metadata": {},
          "execution_count": 127
        },
        {
          "output_type": "display_data",
          "data": {
            "text/plain": [
              "<Figure size 1600x800 with 1 Axes>"
            ],
            "image/png": "[encoded data removed]"
          },
          "metadata": {}
        }
      ]
    },
    {
      "cell_type": "markdown",
      "source": [
        "###Performing Grid Search Operation"
      ],
      "metadata": {
        "id": "GM99t2LUQt7z"
      }
    }
  ]
}