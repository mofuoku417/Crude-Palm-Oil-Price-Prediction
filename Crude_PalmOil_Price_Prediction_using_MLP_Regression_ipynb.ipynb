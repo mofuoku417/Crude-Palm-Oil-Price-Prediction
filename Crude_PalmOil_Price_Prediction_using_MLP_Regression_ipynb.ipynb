{
  "nbformat": 4,
  "nbformat_minor": 0,
  "metadata": {
    "colab": {
      "provenance": [],
      "authorship_tag": "ABX9TyNxx1wTrg2cmdV0vsb6DGtY",
      "include_colab_link": true
    },
    "kernelspec": {
      "name": "python3",
      "display_name": "Python 3"
    },
    "language_info": {
      "name": "python"
    }
  },
  "cells": [
    {
      "cell_type": "markdown",
      "metadata": {
        "id": "view-in-github",
        "colab_type": "text"
      },
      "source": [
        "<a href=\"https://colab.research.google.com/github/mofuoku417/Univariate_Crude_Palm_Oil_Price_Prediction/blob/main/Crude_PalmOil_Price_Prediction_using_MLP_Regression_ipynb.ipynb\" target=\"_parent\"><img src=\"https://colab.research.google.com/assets/colab-badge.svg\" alt=\"Open In Colab\"/></a>"
      ]
    },
    {
      "cell_type": "markdown",
      "source": [
        "\n",
        "> **Predict Monthly Crude Palm Oil Price  with   Deep Learning (Multi-layer Perception Univariate Time series)**\n",
        "\n",
        "\n",
        "> Project Objective:\n",
        "\n",
        "> Design and Build an MLP in tensorflow to predict Monthly Crude Palm Oil Price\n",
        "\n",
        "\n",
        "  * Data range: 1993 - 2022\n",
        "\n",
        "  The dataset is a CSV format with:\n",
        "\n",
        "  1. Monthly timestamp\n",
        "  2. Monthly Crude Palm Oil Prices\n",
        "\n",
        "---------------------------------------------\n",
        "\n",
        "\n",
        "1. Project Overview and Import Libraries\n",
        "2. Load and Inspect Monthly Crude Oil Price History\n",
        "1. Data Preprocessing\n",
        "2. Build the MLP model\n",
        "1. Train the MLP\n",
        "2. Plot Metrics and Evaluate the Model\n",
        "2. Monthly Crude Palm Oil Prices\n",
        "2. Visualize the predictions"
      ],
      "metadata": {
        "id": "0zxfRiW7u7fU"
      }
    },
    {
      "cell_type": "markdown",
      "source": [
        "###Load the Required Libraries"
      ],
      "metadata": {
        "id": "1U0x9s_Qkzym"
      }
    },
    {
      "cell_type": "code",
      "execution_count": 1,
      "metadata": {
        "id": "v-ZYvdYfYyXU"
      },
      "outputs": [],
      "source": [
        "import math\n",
        "import numpy as np # Python's fundamental package for scientific computing\n",
        "import pandas as pd # For data analysis and manipulation\n",
        "from datetime import date, timedelta # Date Operations\n",
        "import matplotlib.pyplot as plt # To aid in visualizing\n",
        "%matplotlib inline\n",
        "import seaborn as sns\n",
        "import matplotlib.dates as mdates # Date formatting\n",
        "from sklearn.metrics import mean_absolute_error, mean_squared_error # To assess model performance error computation\n",
        "from sklearn.preprocessing import MinMaxScaler # to standardize the crude palm oil price data\n",
        "from tensorflow.keras.models import Sequential # Deep learning library, that is used in neural networks\n",
        "#from tensorflow.keras.layers import LSTM, Dense # Deep learning classes for densely linked recurrent and regular layers\n",
        "import tensorflow as tf\n",
        "from tensorflow.keras import Sequential\n",
        "from tensorflow.keras.layers import Dense\n",
        "from keras.layers import Activation, Dense\n",
        "from sklearn.metrics import r2_score\n",
        "from sklearn.metrics import mean_squared_error\n",
        "from pandas import read_csv\n",
        "import seaborn as sns\n",
        "sns.set_style('white', { 'axes.spines.right': False, 'axes.spines.top': False})\n",
        "import random\n",
        "random.seed(1) #Making this script reproducible"
      ]
    },
    {
      "cell_type": "code",
      "source": [
        "# Establishing a timetable for data extraction\n",
        "today = date.today()\n",
        "end_date = today.strftime(\"%Y-%m\")\n",
        "start_date = '1993-03'\n",
        "\n",
        "featurename = 'Price'\n",
        "\n",
        "#Load dataset\n",
        "path = 'https://raw.githubusercontent.com/mofuoku417/Univariate_Crude_Palm_Oil_Price_Prediction/main/Data/data.csv'\n",
        "df = read_csv(path, parse_dates=True)"
      ],
      "metadata": {
        "id": "D3xS2kEJ1qAO"
      },
      "execution_count": 2,
      "outputs": []
    },
    {
      "cell_type": "code",
      "source": [
        "# Examining the dataset's structure\n",
        "print(df.shape)\n",
        "df.head(5)"
      ],
      "metadata": {
        "colab": {
          "base_uri": "https://localhost:8080/",
          "height": 221
        },
        "id": "JA1ABCqN91N7",
        "outputId": "7089f23f-7e81-4df7-c9ee-fb9fb23f67fc"
      },
      "execution_count": 3,
      "outputs": [
        {
          "output_type": "stream",
          "name": "stdout",
          "text": [
            "(361, 3)\n"
          ]
        },
        {
          "output_type": "execute_result",
          "data": {
            "text/plain": [
              "     Month Price  Change\n",
              "0  1993-03   408       -\n",
              "1  1993-04   392  -3.92%\n",
              "2  1993-05   371  -5.36%\n",
              "3  1993-06   356  -4.04%\n",
              "4  1993-07   362   1.69%"
            ],
            "text/html": [
              "\n",
              "  <div id=\"df-975f57ef-82a3-475c-b5a4-07e2dd682118\">\n",
              "    <div class=\"colab-df-container\">\n",
              "      <div>\n",
              "<style scoped>\n",
              "    .dataframe tbody tr th:only-of-type {\n",
              "        vertical-align: middle;\n",
              "    }\n",
              "\n",
              "    .dataframe tbody tr th {\n",
              "        vertical-align: top;\n",
              "    }\n",
              "\n",
              "    .dataframe thead th {\n",
              "        text-align: right;\n",
              "    }\n",
              "</style>\n",
              "<table border=\"1\" class=\"dataframe\">\n",
              "  <thead>\n",
              "    <tr style=\"text-align: right;\">\n",
              "      <th></th>\n",
              "      <th>Month</th>\n",
              "      <th>Price</th>\n",
              "      <th>Change</th>\n",
              "    </tr>\n",
              "  </thead>\n",
              "  <tbody>\n",
              "    <tr>\n",
              "      <th>0</th>\n",
              "      <td>1993-03</td>\n",
              "      <td>408</td>\n",
              "      <td>-</td>\n",
              "    </tr>\n",
              "    <tr>\n",
              "      <th>1</th>\n",
              "      <td>1993-04</td>\n",
              "      <td>392</td>\n",
              "      <td>-3.92%</td>\n",
              "    </tr>\n",
              "    <tr>\n",
              "      <th>2</th>\n",
              "      <td>1993-05</td>\n",
              "      <td>371</td>\n",
              "      <td>-5.36%</td>\n",
              "    </tr>\n",
              "    <tr>\n",
              "      <th>3</th>\n",
              "      <td>1993-06</td>\n",
              "      <td>356</td>\n",
              "      <td>-4.04%</td>\n",
              "    </tr>\n",
              "    <tr>\n",
              "      <th>4</th>\n",
              "      <td>1993-07</td>\n",
              "      <td>362</td>\n",
              "      <td>1.69%</td>\n",
              "    </tr>\n",
              "  </tbody>\n",
              "</table>\n",
              "</div>\n",
              "      <button class=\"colab-df-convert\" onclick=\"convertToInteractive('df-975f57ef-82a3-475c-b5a4-07e2dd682118')\"\n",
              "              title=\"Convert this dataframe to an interactive table.\"\n",
              "              style=\"display:none;\">\n",
              "        \n",
              "  <svg xmlns=\"http://www.w3.org/2000/svg\" height=\"24px\"viewBox=\"0 0 24 24\"\n",
              "       width=\"24px\">\n",
              "    <path d=\"M0 0h24v24H0V0z\" fill=\"none\"/>\n",
              "    <path d=\"M18.56 5.44l.94 2.06.94-2.06 2.06-.94-2.06-.94-.94-2.06-.94 2.06-2.06.94zm-11 1L8.5 8.5l.94-2.06 2.06-.94-2.06-.94L8.5 2.5l-.94 2.06-2.06.94zm10 10l.94 2.06.94-2.06 2.06-.94-2.06-.94-.94-2.06-.94 2.06-2.06.94z\"/><path d=\"M17.41 7.96l-1.37-1.37c-.4-.4-.92-.59-1.43-.59-.52 0-1.04.2-1.43.59L10.3 9.45l-7.72 7.72c-.78.78-.78 2.05 0 2.83L4 21.41c.39.39.9.59 1.41.59.51 0 1.02-.2 1.41-.59l7.78-7.78 2.81-2.81c.8-.78.8-2.07 0-2.86zM5.41 20L4 18.59l7.72-7.72 1.47 1.35L5.41 20z\"/>\n",
              "  </svg>\n",
              "      </button>\n",
              "      \n",
              "  <style>\n",
              "    .colab-df-container {\n",
              "      display:flex;\n",
              "      flex-wrap:wrap;\n",
              "      gap: 12px;\n",
              "    }\n",
              "\n",
              "    .colab-df-convert {\n",
              "      background-color: #E8F0FE;\n",
              "      border: none;\n",
              "      border-radius: 50%;\n",
              "      cursor: pointer;\n",
              "      display: none;\n",
              "      fill: #1967D2;\n",
              "      height: 32px;\n",
              "      padding: 0 0 0 0;\n",
              "      width: 32px;\n",
              "    }\n",
              "\n",
              "    .colab-df-convert:hover {\n",
              "      background-color: #E2EBFA;\n",
              "      box-shadow: 0px 1px 2px rgba(60, 64, 67, 0.3), 0px 1px 3px 1px rgba(60, 64, 67, 0.15);\n",
              "      fill: #174EA6;\n",
              "    }\n",
              "\n",
              "    [theme=dark] .colab-df-convert {\n",
              "      background-color: #3B4455;\n",
              "      fill: #D2E3FC;\n",
              "    }\n",
              "\n",
              "    [theme=dark] .colab-df-convert:hover {\n",
              "      background-color: #434B5C;\n",
              "      box-shadow: 0px 1px 3px 1px rgba(0, 0, 0, 0.15);\n",
              "      filter: drop-shadow(0px 1px 2px rgba(0, 0, 0, 0.3));\n",
              "      fill: #FFFFFF;\n",
              "    }\n",
              "  </style>\n",
              "\n",
              "      <script>\n",
              "        const buttonEl =\n",
              "          document.querySelector('#df-975f57ef-82a3-475c-b5a4-07e2dd682118 button.colab-df-convert');\n",
              "        buttonEl.style.display =\n",
              "          google.colab.kernel.accessAllowed ? 'block' : 'none';\n",
              "\n",
              "        async function convertToInteractive(key) {\n",
              "          const element = document.querySelector('#df-975f57ef-82a3-475c-b5a4-07e2dd682118');\n",
              "          const dataTable =\n",
              "            await google.colab.kernel.invokeFunction('convertToInteractive',\n",
              "                                                     [key], {});\n",
              "          if (!dataTable) return;\n",
              "\n",
              "          const docLinkHtml = 'Like what you see? Visit the ' +\n",
              "            '<a target=\"_blank\" href=https://colab.research.google.com/notebooks/data_table.ipynb>data table notebook</a>'\n",
              "            + ' to learn more about interactive tables.';\n",
              "          element.innerHTML = '';\n",
              "          dataTable['output_type'] = 'display_data';\n",
              "          await google.colab.output.renderOutput(dataTable, element);\n",
              "          const docLink = document.createElement('div');\n",
              "          docLink.innerHTML = docLinkHtml;\n",
              "          element.appendChild(docLink);\n",
              "        }\n",
              "      </script>\n",
              "    </div>\n",
              "  </div>\n",
              "  "
            ]
          },
          "metadata": {},
          "execution_count": 3
        }
      ]
    },
    {
      "cell_type": "code",
      "source": [
        "#Removing the change since it is not needed\n",
        "del df['Change']\n",
        "df.head(5)"
      ],
      "metadata": {
        "colab": {
          "base_uri": "https://localhost:8080/",
          "height": 204
        },
        "id": "p77mbj8L97i8",
        "outputId": "06f9e435-70cf-4544-c1d8-5bd83d4e2aa5"
      },
      "execution_count": 4,
      "outputs": [
        {
          "output_type": "execute_result",
          "data": {
            "text/plain": [
              "     Month Price\n",
              "0  1993-03   408\n",
              "1  1993-04   392\n",
              "2  1993-05   371\n",
              "3  1993-06   356\n",
              "4  1993-07   362"
            ],
            "text/html": [
              "\n",
              "  <div id=\"df-a2e6edc6-c728-4d3e-971e-ea2bc256ade2\">\n",
              "    <div class=\"colab-df-container\">\n",
              "      <div>\n",
              "<style scoped>\n",
              "    .dataframe tbody tr th:only-of-type {\n",
              "        vertical-align: middle;\n",
              "    }\n",
              "\n",
              "    .dataframe tbody tr th {\n",
              "        vertical-align: top;\n",
              "    }\n",
              "\n",
              "    .dataframe thead th {\n",
              "        text-align: right;\n",
              "    }\n",
              "</style>\n",
              "<table border=\"1\" class=\"dataframe\">\n",
              "  <thead>\n",
              "    <tr style=\"text-align: right;\">\n",
              "      <th></th>\n",
              "      <th>Month</th>\n",
              "      <th>Price</th>\n",
              "    </tr>\n",
              "  </thead>\n",
              "  <tbody>\n",
              "    <tr>\n",
              "      <th>0</th>\n",
              "      <td>1993-03</td>\n",
              "      <td>408</td>\n",
              "    </tr>\n",
              "    <tr>\n",
              "      <th>1</th>\n",
              "      <td>1993-04</td>\n",
              "      <td>392</td>\n",
              "    </tr>\n",
              "    <tr>\n",
              "      <th>2</th>\n",
              "      <td>1993-05</td>\n",
              "      <td>371</td>\n",
              "    </tr>\n",
              "    <tr>\n",
              "      <th>3</th>\n",
              "      <td>1993-06</td>\n",
              "      <td>356</td>\n",
              "    </tr>\n",
              "    <tr>\n",
              "      <th>4</th>\n",
              "      <td>1993-07</td>\n",
              "      <td>362</td>\n",
              "    </tr>\n",
              "  </tbody>\n",
              "</table>\n",
              "</div>\n",
              "      <button class=\"colab-df-convert\" onclick=\"convertToInteractive('df-a2e6edc6-c728-4d3e-971e-ea2bc256ade2')\"\n",
              "              title=\"Convert this dataframe to an interactive table.\"\n",
              "              style=\"display:none;\">\n",
              "        \n",
              "  <svg xmlns=\"http://www.w3.org/2000/svg\" height=\"24px\"viewBox=\"0 0 24 24\"\n",
              "       width=\"24px\">\n",
              "    <path d=\"M0 0h24v24H0V0z\" fill=\"none\"/>\n",
              "    <path d=\"M18.56 5.44l.94 2.06.94-2.06 2.06-.94-2.06-.94-.94-2.06-.94 2.06-2.06.94zm-11 1L8.5 8.5l.94-2.06 2.06-.94-2.06-.94L8.5 2.5l-.94 2.06-2.06.94zm10 10l.94 2.06.94-2.06 2.06-.94-2.06-.94-.94-2.06-.94 2.06-2.06.94z\"/><path d=\"M17.41 7.96l-1.37-1.37c-.4-.4-.92-.59-1.43-.59-.52 0-1.04.2-1.43.59L10.3 9.45l-7.72 7.72c-.78.78-.78 2.05 0 2.83L4 21.41c.39.39.9.59 1.41.59.51 0 1.02-.2 1.41-.59l7.78-7.78 2.81-2.81c.8-.78.8-2.07 0-2.86zM5.41 20L4 18.59l7.72-7.72 1.47 1.35L5.41 20z\"/>\n",
              "  </svg>\n",
              "      </button>\n",
              "      \n",
              "  <style>\n",
              "    .colab-df-container {\n",
              "      display:flex;\n",
              "      flex-wrap:wrap;\n",
              "      gap: 12px;\n",
              "    }\n",
              "\n",
              "    .colab-df-convert {\n",
              "      background-color: #E8F0FE;\n",
              "      border: none;\n",
              "      border-radius: 50%;\n",
              "      cursor: pointer;\n",
              "      display: none;\n",
              "      fill: #1967D2;\n",
              "      height: 32px;\n",
              "      padding: 0 0 0 0;\n",
              "      width: 32px;\n",
              "    }\n",
              "\n",
              "    .colab-df-convert:hover {\n",
              "      background-color: #E2EBFA;\n",
              "      box-shadow: 0px 1px 2px rgba(60, 64, 67, 0.3), 0px 1px 3px 1px rgba(60, 64, 67, 0.15);\n",
              "      fill: #174EA6;\n",
              "    }\n",
              "\n",
              "    [theme=dark] .colab-df-convert {\n",
              "      background-color: #3B4455;\n",
              "      fill: #D2E3FC;\n",
              "    }\n",
              "\n",
              "    [theme=dark] .colab-df-convert:hover {\n",
              "      background-color: #434B5C;\n",
              "      box-shadow: 0px 1px 3px 1px rgba(0, 0, 0, 0.15);\n",
              "      filter: drop-shadow(0px 1px 2px rgba(0, 0, 0, 0.3));\n",
              "      fill: #FFFFFF;\n",
              "    }\n",
              "  </style>\n",
              "\n",
              "      <script>\n",
              "        const buttonEl =\n",
              "          document.querySelector('#df-a2e6edc6-c728-4d3e-971e-ea2bc256ade2 button.colab-df-convert');\n",
              "        buttonEl.style.display =\n",
              "          google.colab.kernel.accessAllowed ? 'block' : 'none';\n",
              "\n",
              "        async function convertToInteractive(key) {\n",
              "          const element = document.querySelector('#df-a2e6edc6-c728-4d3e-971e-ea2bc256ade2');\n",
              "          const dataTable =\n",
              "            await google.colab.kernel.invokeFunction('convertToInteractive',\n",
              "                                                     [key], {});\n",
              "          if (!dataTable) return;\n",
              "\n",
              "          const docLinkHtml = 'Like what you see? Visit the ' +\n",
              "            '<a target=\"_blank\" href=https://colab.research.google.com/notebooks/data_table.ipynb>data table notebook</a>'\n",
              "            + ' to learn more about interactive tables.';\n",
              "          element.innerHTML = '';\n",
              "          dataTable['output_type'] = 'display_data';\n",
              "          await google.colab.output.renderOutput(dataTable, element);\n",
              "          const docLink = document.createElement('div');\n",
              "          docLink.innerHTML = docLinkHtml;\n",
              "          element.appendChild(docLink);\n",
              "        }\n",
              "      </script>\n",
              "    </div>\n",
              "  </div>\n",
              "  "
            ]
          },
          "metadata": {},
          "execution_count": 4
        }
      ]
    },
    {
      "cell_type": "code",
      "source": [
        "#Checking data types\n",
        "df.dtypes"
      ],
      "metadata": {
        "colab": {
          "base_uri": "https://localhost:8080/"
        },
        "id": "hmaS3MRh-cLP",
        "outputId": "ac5372b3-8262-4241-8431-70589330a31e"
      },
      "execution_count": 6,
      "outputs": [
        {
          "output_type": "execute_result",
          "data": {
            "text/plain": [
              "Month    object\n",
              "Price    object\n",
              "dtype: object"
            ]
          },
          "metadata": {},
          "execution_count": 6
        }
      ]
    },
    {
      "cell_type": "code",
      "source": [
        "#Renaming Price to cpo_pri (Crude palm oil price)\n",
        "df.rename({'Price': 'cpo_pri', 'Month': 'date'}, axis=1, inplace=True)\n",
        "df"
      ],
      "metadata": {
        "colab": {
          "base_uri": "https://localhost:8080/",
          "height": 419
        },
        "id": "jS4mirru-9Xt",
        "outputId": "708d82e7-d9a1-4857-ba29-795acc221e1d"
      },
      "execution_count": 7,
      "outputs": [
        {
          "output_type": "execute_result",
          "data": {
            "text/plain": [
              "        date cpo_pri\n",
              "0    1993-03     408\n",
              "1    1993-04     392\n",
              "2    1993-05     371\n",
              "3    1993-06     356\n",
              "4    1993-07     362\n",
              "..       ...     ...\n",
              "356  2022-11  945.74\n",
              "357  2022-12  940.39\n",
              "358  2023-01  941.97\n",
              "359  2023-02  949.98\n",
              "360  2023-03  972.06\n",
              "\n",
              "[361 rows x 2 columns]"
            ],
            "text/html": [
              "\n",
              "  <div id=\"df-07b7d730-fd5f-4f2c-bd70-840d0f8141d9\">\n",
              "    <div class=\"colab-df-container\">\n",
              "      <div>\n",
              "<style scoped>\n",
              "    .dataframe tbody tr th:only-of-type {\n",
              "        vertical-align: middle;\n",
              "    }\n",
              "\n",
              "    .dataframe tbody tr th {\n",
              "        vertical-align: top;\n",
              "    }\n",
              "\n",
              "    .dataframe thead th {\n",
              "        text-align: right;\n",
              "    }\n",
              "</style>\n",
              "<table border=\"1\" class=\"dataframe\">\n",
              "  <thead>\n",
              "    <tr style=\"text-align: right;\">\n",
              "      <th></th>\n",
              "      <th>date</th>\n",
              "      <th>cpo_pri</th>\n",
              "    </tr>\n",
              "  </thead>\n",
              "  <tbody>\n",
              "    <tr>\n",
              "      <th>0</th>\n",
              "      <td>1993-03</td>\n",
              "      <td>408</td>\n",
              "    </tr>\n",
              "    <tr>\n",
              "      <th>1</th>\n",
              "      <td>1993-04</td>\n",
              "      <td>392</td>\n",
              "    </tr>\n",
              "    <tr>\n",
              "      <th>2</th>\n",
              "      <td>1993-05</td>\n",
              "      <td>371</td>\n",
              "    </tr>\n",
              "    <tr>\n",
              "      <th>3</th>\n",
              "      <td>1993-06</td>\n",
              "      <td>356</td>\n",
              "    </tr>\n",
              "    <tr>\n",
              "      <th>4</th>\n",
              "      <td>1993-07</td>\n",
              "      <td>362</td>\n",
              "    </tr>\n",
              "    <tr>\n",
              "      <th>...</th>\n",
              "      <td>...</td>\n",
              "      <td>...</td>\n",
              "    </tr>\n",
              "    <tr>\n",
              "      <th>356</th>\n",
              "      <td>2022-11</td>\n",
              "      <td>945.74</td>\n",
              "    </tr>\n",
              "    <tr>\n",
              "      <th>357</th>\n",
              "      <td>2022-12</td>\n",
              "      <td>940.39</td>\n",
              "    </tr>\n",
              "    <tr>\n",
              "      <th>358</th>\n",
              "      <td>2023-01</td>\n",
              "      <td>941.97</td>\n",
              "    </tr>\n",
              "    <tr>\n",
              "      <th>359</th>\n",
              "      <td>2023-02</td>\n",
              "      <td>949.98</td>\n",
              "    </tr>\n",
              "    <tr>\n",
              "      <th>360</th>\n",
              "      <td>2023-03</td>\n",
              "      <td>972.06</td>\n",
              "    </tr>\n",
              "  </tbody>\n",
              "</table>\n",
              "<p>361 rows × 2 columns</p>\n",
              "</div>\n",
              "      <button class=\"colab-df-convert\" onclick=\"convertToInteractive('df-07b7d730-fd5f-4f2c-bd70-840d0f8141d9')\"\n",
              "              title=\"Convert this dataframe to an interactive table.\"\n",
              "              style=\"display:none;\">\n",
              "        \n",
              "  <svg xmlns=\"http://www.w3.org/2000/svg\" height=\"24px\"viewBox=\"0 0 24 24\"\n",
              "       width=\"24px\">\n",
              "    <path d=\"M0 0h24v24H0V0z\" fill=\"none\"/>\n",
              "    <path d=\"M18.56 5.44l.94 2.06.94-2.06 2.06-.94-2.06-.94-.94-2.06-.94 2.06-2.06.94zm-11 1L8.5 8.5l.94-2.06 2.06-.94-2.06-.94L8.5 2.5l-.94 2.06-2.06.94zm10 10l.94 2.06.94-2.06 2.06-.94-2.06-.94-.94-2.06-.94 2.06-2.06.94z\"/><path d=\"M17.41 7.96l-1.37-1.37c-.4-.4-.92-.59-1.43-.59-.52 0-1.04.2-1.43.59L10.3 9.45l-7.72 7.72c-.78.78-.78 2.05 0 2.83L4 21.41c.39.39.9.59 1.41.59.51 0 1.02-.2 1.41-.59l7.78-7.78 2.81-2.81c.8-.78.8-2.07 0-2.86zM5.41 20L4 18.59l7.72-7.72 1.47 1.35L5.41 20z\"/>\n",
              "  </svg>\n",
              "      </button>\n",
              "      \n",
              "  <style>\n",
              "    .colab-df-container {\n",
              "      display:flex;\n",
              "      flex-wrap:wrap;\n",
              "      gap: 12px;\n",
              "    }\n",
              "\n",
              "    .colab-df-convert {\n",
              "      background-color: #E8F0FE;\n",
              "      border: none;\n",
              "      border-radius: 50%;\n",
              "      cursor: pointer;\n",
              "      display: none;\n",
              "      fill: #1967D2;\n",
              "      height: 32px;\n",
              "      padding: 0 0 0 0;\n",
              "      width: 32px;\n",
              "    }\n",
              "\n",
              "    .colab-df-convert:hover {\n",
              "      background-color: #E2EBFA;\n",
              "      box-shadow: 0px 1px 2px rgba(60, 64, 67, 0.3), 0px 1px 3px 1px rgba(60, 64, 67, 0.15);\n",
              "      fill: #174EA6;\n",
              "    }\n",
              "\n",
              "    [theme=dark] .colab-df-convert {\n",
              "      background-color: #3B4455;\n",
              "      fill: #D2E3FC;\n",
              "    }\n",
              "\n",
              "    [theme=dark] .colab-df-convert:hover {\n",
              "      background-color: #434B5C;\n",
              "      box-shadow: 0px 1px 3px 1px rgba(0, 0, 0, 0.15);\n",
              "      filter: drop-shadow(0px 1px 2px rgba(0, 0, 0, 0.3));\n",
              "      fill: #FFFFFF;\n",
              "    }\n",
              "  </style>\n",
              "\n",
              "      <script>\n",
              "        const buttonEl =\n",
              "          document.querySelector('#df-07b7d730-fd5f-4f2c-bd70-840d0f8141d9 button.colab-df-convert');\n",
              "        buttonEl.style.display =\n",
              "          google.colab.kernel.accessAllowed ? 'block' : 'none';\n",
              "\n",
              "        async function convertToInteractive(key) {\n",
              "          const element = document.querySelector('#df-07b7d730-fd5f-4f2c-bd70-840d0f8141d9');\n",
              "          const dataTable =\n",
              "            await google.colab.kernel.invokeFunction('convertToInteractive',\n",
              "                                                     [key], {});\n",
              "          if (!dataTable) return;\n",
              "\n",
              "          const docLinkHtml = 'Like what you see? Visit the ' +\n",
              "            '<a target=\"_blank\" href=https://colab.research.google.com/notebooks/data_table.ipynb>data table notebook</a>'\n",
              "            + ' to learn more about interactive tables.';\n",
              "          element.innerHTML = '';\n",
              "          dataTable['output_type'] = 'display_data';\n",
              "          await google.colab.output.renderOutput(dataTable, element);\n",
              "          const docLink = document.createElement('div');\n",
              "          docLink.innerHTML = docLinkHtml;\n",
              "          element.appendChild(docLink);\n",
              "        }\n",
              "      </script>\n",
              "    </div>\n",
              "  </div>\n",
              "  "
            ]
          },
          "metadata": {},
          "execution_count": 7
        }
      ]
    },
    {
      "cell_type": "code",
      "source": [
        "# converting column \"Price\" of the DataFrame to numeric\n",
        "#df[\"cpo_pri\"] = pd.to_numeric('cpo_pri', errors='coerce')\n",
        "\n",
        "#df.dtypes"
      ],
      "metadata": {
        "id": "pYroShZ--9cF"
      },
      "execution_count": null,
      "outputs": []
    },
    {
      "cell_type": "code",
      "source": [
        "df.head(5)"
      ],
      "metadata": {
        "colab": {
          "base_uri": "https://localhost:8080/",
          "height": 204
        },
        "id": "-W3JbCdBCZ3Y",
        "outputId": "ca5d9ae8-ef4b-4b66-eb43-8859974e4caf"
      },
      "execution_count": 8,
      "outputs": [
        {
          "output_type": "execute_result",
          "data": {
            "text/plain": [
              "      date cpo_pri\n",
              "0  1993-03     408\n",
              "1  1993-04     392\n",
              "2  1993-05     371\n",
              "3  1993-06     356\n",
              "4  1993-07     362"
            ],
            "text/html": [
              "\n",
              "  <div id=\"df-31c96ed8-8d17-43c3-95db-9b587b7393ba\">\n",
              "    <div class=\"colab-df-container\">\n",
              "      <div>\n",
              "<style scoped>\n",
              "    .dataframe tbody tr th:only-of-type {\n",
              "        vertical-align: middle;\n",
              "    }\n",
              "\n",
              "    .dataframe tbody tr th {\n",
              "        vertical-align: top;\n",
              "    }\n",
              "\n",
              "    .dataframe thead th {\n",
              "        text-align: right;\n",
              "    }\n",
              "</style>\n",
              "<table border=\"1\" class=\"dataframe\">\n",
              "  <thead>\n",
              "    <tr style=\"text-align: right;\">\n",
              "      <th></th>\n",
              "      <th>date</th>\n",
              "      <th>cpo_pri</th>\n",
              "    </tr>\n",
              "  </thead>\n",
              "  <tbody>\n",
              "    <tr>\n",
              "      <th>0</th>\n",
              "      <td>1993-03</td>\n",
              "      <td>408</td>\n",
              "    </tr>\n",
              "    <tr>\n",
              "      <th>1</th>\n",
              "      <td>1993-04</td>\n",
              "      <td>392</td>\n",
              "    </tr>\n",
              "    <tr>\n",
              "      <th>2</th>\n",
              "      <td>1993-05</td>\n",
              "      <td>371</td>\n",
              "    </tr>\n",
              "    <tr>\n",
              "      <th>3</th>\n",
              "      <td>1993-06</td>\n",
              "      <td>356</td>\n",
              "    </tr>\n",
              "    <tr>\n",
              "      <th>4</th>\n",
              "      <td>1993-07</td>\n",
              "      <td>362</td>\n",
              "    </tr>\n",
              "  </tbody>\n",
              "</table>\n",
              "</div>\n",
              "      <button class=\"colab-df-convert\" onclick=\"convertToInteractive('df-31c96ed8-8d17-43c3-95db-9b587b7393ba')\"\n",
              "              title=\"Convert this dataframe to an interactive table.\"\n",
              "              style=\"display:none;\">\n",
              "        \n",
              "  <svg xmlns=\"http://www.w3.org/2000/svg\" height=\"24px\"viewBox=\"0 0 24 24\"\n",
              "       width=\"24px\">\n",
              "    <path d=\"M0 0h24v24H0V0z\" fill=\"none\"/>\n",
              "    <path d=\"M18.56 5.44l.94 2.06.94-2.06 2.06-.94-2.06-.94-.94-2.06-.94 2.06-2.06.94zm-11 1L8.5 8.5l.94-2.06 2.06-.94-2.06-.94L8.5 2.5l-.94 2.06-2.06.94zm10 10l.94 2.06.94-2.06 2.06-.94-2.06-.94-.94-2.06-.94 2.06-2.06.94z\"/><path d=\"M17.41 7.96l-1.37-1.37c-.4-.4-.92-.59-1.43-.59-.52 0-1.04.2-1.43.59L10.3 9.45l-7.72 7.72c-.78.78-.78 2.05 0 2.83L4 21.41c.39.39.9.59 1.41.59.51 0 1.02-.2 1.41-.59l7.78-7.78 2.81-2.81c.8-.78.8-2.07 0-2.86zM5.41 20L4 18.59l7.72-7.72 1.47 1.35L5.41 20z\"/>\n",
              "  </svg>\n",
              "      </button>\n",
              "      \n",
              "  <style>\n",
              "    .colab-df-container {\n",
              "      display:flex;\n",
              "      flex-wrap:wrap;\n",
              "      gap: 12px;\n",
              "    }\n",
              "\n",
              "    .colab-df-convert {\n",
              "      background-color: #E8F0FE;\n",
              "      border: none;\n",
              "      border-radius: 50%;\n",
              "      cursor: pointer;\n",
              "      display: none;\n",
              "      fill: #1967D2;\n",
              "      height: 32px;\n",
              "      padding: 0 0 0 0;\n",
              "      width: 32px;\n",
              "    }\n",
              "\n",
              "    .colab-df-convert:hover {\n",
              "      background-color: #E2EBFA;\n",
              "      box-shadow: 0px 1px 2px rgba(60, 64, 67, 0.3), 0px 1px 3px 1px rgba(60, 64, 67, 0.15);\n",
              "      fill: #174EA6;\n",
              "    }\n",
              "\n",
              "    [theme=dark] .colab-df-convert {\n",
              "      background-color: #3B4455;\n",
              "      fill: #D2E3FC;\n",
              "    }\n",
              "\n",
              "    [theme=dark] .colab-df-convert:hover {\n",
              "      background-color: #434B5C;\n",
              "      box-shadow: 0px 1px 3px 1px rgba(0, 0, 0, 0.15);\n",
              "      filter: drop-shadow(0px 1px 2px rgba(0, 0, 0, 0.3));\n",
              "      fill: #FFFFFF;\n",
              "    }\n",
              "  </style>\n",
              "\n",
              "      <script>\n",
              "        const buttonEl =\n",
              "          document.querySelector('#df-31c96ed8-8d17-43c3-95db-9b587b7393ba button.colab-df-convert');\n",
              "        buttonEl.style.display =\n",
              "          google.colab.kernel.accessAllowed ? 'block' : 'none';\n",
              "\n",
              "        async function convertToInteractive(key) {\n",
              "          const element = document.querySelector('#df-31c96ed8-8d17-43c3-95db-9b587b7393ba');\n",
              "          const dataTable =\n",
              "            await google.colab.kernel.invokeFunction('convertToInteractive',\n",
              "                                                     [key], {});\n",
              "          if (!dataTable) return;\n",
              "\n",
              "          const docLinkHtml = 'Like what you see? Visit the ' +\n",
              "            '<a target=\"_blank\" href=https://colab.research.google.com/notebooks/data_table.ipynb>data table notebook</a>'\n",
              "            + ' to learn more about interactive tables.';\n",
              "          element.innerHTML = '';\n",
              "          dataTable['output_type'] = 'display_data';\n",
              "          await google.colab.output.renderOutput(dataTable, element);\n",
              "          const docLink = document.createElement('div');\n",
              "          docLink.innerHTML = docLinkHtml;\n",
              "          element.appendChild(docLink);\n",
              "        }\n",
              "      </script>\n",
              "    </div>\n",
              "  </div>\n",
              "  "
            ]
          },
          "metadata": {},
          "execution_count": 8
        }
      ]
    },
    {
      "cell_type": "code",
      "source": [
        "# Converting date column from object to date format\n",
        "df['date'] = pd.to_datetime(df['date'].apply(lambda x: x.split()[0])) # Selecting only date\n",
        "df.set_index('date',drop=True,inplace=True) # Setting date column as index\n",
        "df.head()"
      ],
      "metadata": {
        "colab": {
          "base_uri": "https://localhost:8080/",
          "height": 235
        },
        "id": "h_GMO44reArG",
        "outputId": "39c92b42-c9b5-4ce5-ef7f-290975a43e28"
      },
      "execution_count": 9,
      "outputs": [
        {
          "output_type": "execute_result",
          "data": {
            "text/plain": [
              "           cpo_pri\n",
              "date              \n",
              "1993-03-01     408\n",
              "1993-04-01     392\n",
              "1993-05-01     371\n",
              "1993-06-01     356\n",
              "1993-07-01     362"
            ],
            "text/html": [
              "\n",
              "  <div id=\"df-229c12f5-f4ef-4ae2-b121-d6bf6b58a622\">\n",
              "    <div class=\"colab-df-container\">\n",
              "      <div>\n",
              "<style scoped>\n",
              "    .dataframe tbody tr th:only-of-type {\n",
              "        vertical-align: middle;\n",
              "    }\n",
              "\n",
              "    .dataframe tbody tr th {\n",
              "        vertical-align: top;\n",
              "    }\n",
              "\n",
              "    .dataframe thead th {\n",
              "        text-align: right;\n",
              "    }\n",
              "</style>\n",
              "<table border=\"1\" class=\"dataframe\">\n",
              "  <thead>\n",
              "    <tr style=\"text-align: right;\">\n",
              "      <th></th>\n",
              "      <th>cpo_pri</th>\n",
              "    </tr>\n",
              "    <tr>\n",
              "      <th>date</th>\n",
              "      <th></th>\n",
              "    </tr>\n",
              "  </thead>\n",
              "  <tbody>\n",
              "    <tr>\n",
              "      <th>1993-03-01</th>\n",
              "      <td>408</td>\n",
              "    </tr>\n",
              "    <tr>\n",
              "      <th>1993-04-01</th>\n",
              "      <td>392</td>\n",
              "    </tr>\n",
              "    <tr>\n",
              "      <th>1993-05-01</th>\n",
              "      <td>371</td>\n",
              "    </tr>\n",
              "    <tr>\n",
              "      <th>1993-06-01</th>\n",
              "      <td>356</td>\n",
              "    </tr>\n",
              "    <tr>\n",
              "      <th>1993-07-01</th>\n",
              "      <td>362</td>\n",
              "    </tr>\n",
              "  </tbody>\n",
              "</table>\n",
              "</div>\n",
              "      <button class=\"colab-df-convert\" onclick=\"convertToInteractive('df-229c12f5-f4ef-4ae2-b121-d6bf6b58a622')\"\n",
              "              title=\"Convert this dataframe to an interactive table.\"\n",
              "              style=\"display:none;\">\n",
              "        \n",
              "  <svg xmlns=\"http://www.w3.org/2000/svg\" height=\"24px\"viewBox=\"0 0 24 24\"\n",
              "       width=\"24px\">\n",
              "    <path d=\"M0 0h24v24H0V0z\" fill=\"none\"/>\n",
              "    <path d=\"M18.56 5.44l.94 2.06.94-2.06 2.06-.94-2.06-.94-.94-2.06-.94 2.06-2.06.94zm-11 1L8.5 8.5l.94-2.06 2.06-.94-2.06-.94L8.5 2.5l-.94 2.06-2.06.94zm10 10l.94 2.06.94-2.06 2.06-.94-2.06-.94-.94-2.06-.94 2.06-2.06.94z\"/><path d=\"M17.41 7.96l-1.37-1.37c-.4-.4-.92-.59-1.43-.59-.52 0-1.04.2-1.43.59L10.3 9.45l-7.72 7.72c-.78.78-.78 2.05 0 2.83L4 21.41c.39.39.9.59 1.41.59.51 0 1.02-.2 1.41-.59l7.78-7.78 2.81-2.81c.8-.78.8-2.07 0-2.86zM5.41 20L4 18.59l7.72-7.72 1.47 1.35L5.41 20z\"/>\n",
              "  </svg>\n",
              "      </button>\n",
              "      \n",
              "  <style>\n",
              "    .colab-df-container {\n",
              "      display:flex;\n",
              "      flex-wrap:wrap;\n",
              "      gap: 12px;\n",
              "    }\n",
              "\n",
              "    .colab-df-convert {\n",
              "      background-color: #E8F0FE;\n",
              "      border: none;\n",
              "      border-radius: 50%;\n",
              "      cursor: pointer;\n",
              "      display: none;\n",
              "      fill: #1967D2;\n",
              "      height: 32px;\n",
              "      padding: 0 0 0 0;\n",
              "      width: 32px;\n",
              "    }\n",
              "\n",
              "    .colab-df-convert:hover {\n",
              "      background-color: #E2EBFA;\n",
              "      box-shadow: 0px 1px 2px rgba(60, 64, 67, 0.3), 0px 1px 3px 1px rgba(60, 64, 67, 0.15);\n",
              "      fill: #174EA6;\n",
              "    }\n",
              "\n",
              "    [theme=dark] .colab-df-convert {\n",
              "      background-color: #3B4455;\n",
              "      fill: #D2E3FC;\n",
              "    }\n",
              "\n",
              "    [theme=dark] .colab-df-convert:hover {\n",
              "      background-color: #434B5C;\n",
              "      box-shadow: 0px 1px 3px 1px rgba(0, 0, 0, 0.15);\n",
              "      filter: drop-shadow(0px 1px 2px rgba(0, 0, 0, 0.3));\n",
              "      fill: #FFFFFF;\n",
              "    }\n",
              "  </style>\n",
              "\n",
              "      <script>\n",
              "        const buttonEl =\n",
              "          document.querySelector('#df-229c12f5-f4ef-4ae2-b121-d6bf6b58a622 button.colab-df-convert');\n",
              "        buttonEl.style.display =\n",
              "          google.colab.kernel.accessAllowed ? 'block' : 'none';\n",
              "\n",
              "        async function convertToInteractive(key) {\n",
              "          const element = document.querySelector('#df-229c12f5-f4ef-4ae2-b121-d6bf6b58a622');\n",
              "          const dataTable =\n",
              "            await google.colab.kernel.invokeFunction('convertToInteractive',\n",
              "                                                     [key], {});\n",
              "          if (!dataTable) return;\n",
              "\n",
              "          const docLinkHtml = 'Like what you see? Visit the ' +\n",
              "            '<a target=\"_blank\" href=https://colab.research.google.com/notebooks/data_table.ipynb>data table notebook</a>'\n",
              "            + ' to learn more about interactive tables.';\n",
              "          element.innerHTML = '';\n",
              "          dataTable['output_type'] = 'display_data';\n",
              "          await google.colab.output.renderOutput(dataTable, element);\n",
              "          const docLink = document.createElement('div');\n",
              "          docLink.innerHTML = docLinkHtml;\n",
              "          element.appendChild(docLink);\n",
              "        }\n",
              "      </script>\n",
              "    </div>\n",
              "  </div>\n",
              "  "
            ]
          },
          "metadata": {},
          "execution_count": 9
        }
      ]
    },
    {
      "cell_type": "code",
      "source": [
        "df['cpo_pri'] = df['cpo_pri'].apply(lambda x: float(x.split()[0].replace(',', '')))\n",
        "print(df.dtypes)"
      ],
      "metadata": {
        "colab": {
          "base_uri": "https://localhost:8080/"
        },
        "id": "ZlYv7Tu_FAPP",
        "outputId": "9bfee83b-d929-453a-94c9-f239c10dee65"
      },
      "execution_count": 10,
      "outputs": [
        {
          "output_type": "stream",
          "name": "stdout",
          "text": [
            "cpo_pri    float64\n",
            "dtype: object\n"
          ]
        }
      ]
    },
    {
      "cell_type": "code",
      "source": [
        "# Constructing a Lineplot\n",
        "years = mdates.YearLocator()\n",
        "fig, ax1 = plt.subplots(figsize=(16, 6))\n",
        "ax1.xaxis.set_major_locator(years)\n",
        "ax1.legend([featurename], fontsize=12)\n",
        "plt.title(featurename + ' from '+ start_date + ' to ' + end_date)\n",
        "sns.lineplot(data=df['cpo_pri'], label=featurename, linewidth=1.0)\n",
        "plt.ylabel('Monthly Crude Palm Oil Prices Per Metric Ton (US Dollars)')\n",
        "plt.show()"
      ],
      "metadata": {
        "colab": {
          "base_uri": "https://localhost:8080/",
          "height": 564
        },
        "id": "NaNguXEqDaDA",
        "outputId": "c7463856-84a2-4710-850c-e4238b5cf946"
      },
      "execution_count": 11,
      "outputs": [
        {
          "output_type": "display_data",
          "data": {
            "text/plain": [
              "<Figure size 1600x600 with 1 Axes>"
            ],
            "image/png": "[encoded data removed]"
          },
          "metadata": {}
        }
      ]
    },
    {
      "cell_type": "markdown",
      "source": [
        "### Checking for Duplicates"
      ],
      "metadata": {
        "id": "Z7q0ofdCLKeN"
      }
    },
    {
      "cell_type": "code",
      "source": [
        "# Check number of duplicates while ignoring the index feature\n",
        "n_duplicates = df.drop(labels=[\"cpo_pri\"], axis=1).duplicated().sum()\n",
        "print(f\"You seem to have {n_duplicates} duplicates in your database.\")"
      ],
      "metadata": {
        "colab": {
          "base_uri": "https://localhost:8080/"
        },
        "id": "RiCNCqCyKsEw",
        "outputId": "9640d6c0-6fcd-4428-dce8-89d43c95b85d"
      },
      "execution_count": 12,
      "outputs": [
        {
          "output_type": "stream",
          "name": "stdout",
          "text": [
            "You seem to have 0 duplicates in your database.\n"
          ]
        }
      ]
    },
    {
      "cell_type": "markdown",
      "source": [
        "###Checking for Missing values"
      ],
      "metadata": {
        "id": "1i0WEorbLa7a"
      }
    },
    {
      "cell_type": "code",
      "source": [
        "import matplotlib.pyplot as plt\n",
        "\n",
        "plt.figure(figsize=(10, 8))\n",
        "plt.imshow(df.isna(), aspect=\"auto\", interpolation=\"nearest\", cmap=\"gray\")\n",
        "plt.xlabel(\"Column Number\")\n",
        "plt.ylabel(\"Sample Number\");"
      ],
      "metadata": {
        "colab": {
          "base_uri": "https://localhost:8080/",
          "height": 700
        },
        "id": "J_lJ5HkxKsIb",
        "outputId": "a7c84543-197c-424b-b401-20611cc1ec08"
      },
      "execution_count": 13,
      "outputs": [
        {
          "output_type": "display_data",
          "data": {
            "text/plain": [
              "<Figure size 1000x800 with 1 Axes>"
            ],
            "image/png": "[encoded data removed]"
          },
          "metadata": {}
        }
      ]
    },
    {
      "cell_type": "markdown",
      "source": [
        "This figure shows that there are no missing data"
      ],
      "metadata": {
        "id": "HrMQOFBALsG0"
      }
    },
    {
      "cell_type": "code",
      "source": [
        "# Plots the histogram for each numerical feature in a separate subplot\n",
        "df.hist(bins=25, figsize=(15, 5), edgecolor=\"black\")\n",
        "plt.tight_layout();"
      ],
      "metadata": {
        "colab": {
          "base_uri": "https://localhost:8080/",
          "height": 507
        },
        "id": "84RGYxb8KsM1",
        "outputId": "79cda0ed-8b9d-404a-e252-af0fd4de5f96"
      },
      "execution_count": 14,
      "outputs": [
        {
          "output_type": "display_data",
          "data": {
            "text/plain": [
              "<Figure size 1500x500 with 1 Axes>"
            ],
            "image/png": "[encoded data removed]"
          },
          "metadata": {}
        }
      ]
    },
    {
      "cell_type": "markdown",
      "source": [
        "###Checking for Outliers"
      ],
      "metadata": {
        "id": "FX6FdkMJMwnG"
      }
    },
    {
      "cell_type": "code",
      "source": [
        "#Computing the percentage of Outliers\n",
        "for k, v in df.items():\n",
        "        q1 = v.quantile(0.25)\n",
        "        q3 = v.quantile(0.75)\n",
        "        irq = q3 - q1\n",
        "        v_col = v[(v <= q1 - 1.5 * irq) | (v >= q3 + 1.5 * irq)]\n",
        "        perc = np.shape(v_col)[0] * 100.0 / np.shape(df)[1]\n",
        "        print(\"Column %s outliers = %.2f%%\" % (k, perc))"
      ],
      "metadata": {
        "colab": {
          "base_uri": "https://localhost:8080/"
        },
        "id": "4vwbQ4sKMV3k",
        "outputId": "f011ae76-9b94-4e35-e769-389b6f913077"
      },
      "execution_count": 15,
      "outputs": [
        {
          "output_type": "stream",
          "name": "stdout",
          "text": [
            "Column cpo_pri outliers = 500.00%\n"
          ]
        }
      ]
    },
    {
      "cell_type": "code",
      "source": [
        "#Ploting the boxplot of the Outliers\n",
        "sns.boxplot(df['cpo_pri'])\n",
        "plt.title('cpo_pri')\n",
        "plt.figure(figsize=(15,15))"
      ],
      "metadata": {
        "colab": {
          "base_uri": "https://localhost:8080/",
          "height": 486
        },
        "id": "lSggtXIrMWHs",
        "outputId": "fb99d292-4112-4c5e-fc73-9b75157f17c2"
      },
      "execution_count": 16,
      "outputs": [
        {
          "output_type": "execute_result",
          "data": {
            "text/plain": [
              "<Figure size 1500x1500 with 0 Axes>"
            ]
          },
          "metadata": {},
          "execution_count": 16
        },
        {
          "output_type": "display_data",
          "data": {
            "text/plain": [
              "<Figure size 640x480 with 1 Axes>"
            ],
            "image/png": "[encoded data removed]"
          },
          "metadata": {}
        },
        {
          "output_type": "display_data",
          "data": {
            "text/plain": [
              "<Figure size 1500x1500 with 0 Axes>"
            ]
          },
          "metadata": {}
        }
      ]
    },
    {
      "cell_type": "markdown",
      "source": [
        "###Removing the Outliers"
      ],
      "metadata": {
        "id": "Z8YyTtQ7N9NG"
      }
    },
    {
      "cell_type": "code",
      "source": [
        "IQR=df.cpo_pri.quantile(0.75)-df.cpo_pri.quantile(0.25)\n",
        "lower_bridge=df.cpo_pri.quantile(0.25)-(IQR*1.5)\n",
        "upper_bridge=df.cpo_pri.quantile(0.75)+(IQR*1.5)\n",
        "print(lower_bridge, upper_bridge)"
      ],
      "metadata": {
        "colab": {
          "base_uri": "https://localhost:8080/"
        },
        "id": "NjvXUVaTOAXy",
        "outputId": "9952c1fa-caf7-4571-f6a5-01881699a014"
      },
      "execution_count": 17,
      "outputs": [
        {
          "output_type": "stream",
          "name": "stdout",
          "text": [
            "-57.3449999999998 1385.495\n"
          ]
        }
      ]
    },
    {
      "cell_type": "code",
      "source": [
        "df.loc[df['cpo_pri']>= 1385.495,'cpo_pri']= 1385.495\n",
        "df.loc[df['cpo_pri']<= -57.3449999999998,'cpo_pri']= -57.3449999999998"
      ],
      "metadata": {
        "id": "cGOOHF_IOXM0"
      },
      "execution_count": 18,
      "outputs": []
    },
    {
      "cell_type": "markdown",
      "source": [
        "###Ploting of Target variable without Outliers"
      ],
      "metadata": {
        "id": "e-UOAmPZO_8J"
      }
    },
    {
      "cell_type": "code",
      "source": [
        "sns.boxplot(df['cpo_pri'])\n",
        "plt.title('cpo_pri')\n",
        "plt.figure(figsize=(10,10))"
      ],
      "metadata": {
        "colab": {
          "base_uri": "https://localhost:8080/",
          "height": 486
        },
        "id": "HfUVRkUJO5JO",
        "outputId": "ad116d6a-5d4c-4956-8849-48ceff8f0d0b"
      },
      "execution_count": 19,
      "outputs": [
        {
          "output_type": "execute_result",
          "data": {
            "text/plain": [
              "<Figure size 1000x1000 with 0 Axes>"
            ]
          },
          "metadata": {},
          "execution_count": 19
        },
        {
          "output_type": "display_data",
          "data": {
            "text/plain": [
              "<Figure size 640x480 with 1 Axes>"
            ],
            "image/png": "[encoded data removed]"
          },
          "metadata": {}
        },
        {
          "output_type": "display_data",
          "data": {
            "text/plain": [
              "<Figure size 1000x1000 with 0 Axes>"
            ]
          },
          "metadata": {}
        }
      ]
    },
    {
      "cell_type": "code",
      "source": [
        "# Target Selection\n",
        "train_df = df.filter(['cpo_pri'])\n",
        "data_unsc = train_df.values # data_unscaled data\n",
        "\n",
        "# Compute the number of rows required to train the model on 80% of the data.\n",
        "train_data_len = math.ceil(len(data_unsc) * 0.7)\n",
        "\n",
        "# Scale the characteristic to a value between 0 and 1 to transform it.\n",
        "mmscaler = MinMaxScaler(feature_range=(0, 1))\n",
        "np_data = mmscaler.fit_transform(data_unsc)"
      ],
      "metadata": {
        "id": "xA8Jt_OeZKvl"
      },
      "execution_count": 20,
      "outputs": []
    },
    {
      "cell_type": "code",
      "source": [
        "# Set the sequence len - the period for making a single forecast.\n",
        "sequence_len = 3\n",
        "\n",
        "# Index of Prediction\n",
        "index_cpo_pri = train_df.columns.get_loc(\"cpo_pri\")\n",
        "print(index_cpo_pri)\n",
        "# Divide the training data into train and train data sets.\n",
        "# In the first stage, we determine the number of rows required to train the model on 80% of the data.\n",
        "train_data_len = math.ceil(np_data.shape[0] * 0.8)\n",
        "\n",
        "# Generate training and test data.\n",
        "train_data = np_data[0:train_data_len, :]\n",
        "test_data = np_data[train_data_len - sequence_len:, :]\n",
        "\n",
        "# The MLP model requires data in the following formats: [samples, time steps, features].\n",
        "def partition_dataset(sequence_len, train_df):\n",
        "    x, y = [], []\n",
        "    data_len = train_df.shape[0]\n",
        "    for i in range(sequence_len, data_len):\n",
        "        x.append(train_df[i-sequence_len:i,:])\n",
        "        y.append(train_df[i, index_cpo_pri])\n",
        "\n",
        "    # Convert the x and y variables to numpy arrays.\n",
        "    x = np.array(x)\n",
        "    y = np.array(y)\n",
        "    return x, y\n",
        "\n",
        "# Create training and testing data.\n",
        "X_train, y_train = partition_dataset(sequence_len, train_data)\n",
        "X_test, y_test = partition_dataset(sequence_len, test_data)\n",
        "\n",
        "print(X_train.shape, y_train.shape)\n",
        "print(X_test.shape, y_test.shape)\n",
        "\n",
        "# Verify that the prediction value and the input value match\n",
        "print(X_test[1][sequence_len-1][index_cpo_pri])\n",
        "print(y_test[0])"
      ],
      "metadata": {
        "colab": {
          "base_uri": "https://localhost:8080/"
        },
        "id": "nCXjnKjqZK0g",
        "outputId": "4c93a19a-a4e8-4e60-c652-70189e71818b"
      },
      "execution_count": 21,
      "outputs": [
        {
          "output_type": "stream",
          "name": "stdout",
          "text": [
            "0\n",
            "(286, 3, 1) (286,)\n",
            "(72, 3, 1) (72,)\n",
            "0.44990208381278246\n",
            "0.44990208381278246\n"
          ]
        }
      ]
    },
    {
      "cell_type": "code",
      "source": [
        "callback = tf.keras.callbacks.EarlyStopping(monitor='val_loss', patience=10, restore_best_weights=True)\n",
        "model = Sequential()\n",
        "model.add(Dense(8, input_dim=sequence_len, activation='relu'))\n",
        "model.add(Dense(1))\n",
        "model.compile(loss='mean_squared_error', optimizer='adam')\n",
        "model.fit(X_train, y_train, epochs=200, batch_size=2, verbose=2)"
      ],
      "metadata": {
        "colab": {
          "base_uri": "https://localhost:8080/"
        },
        "id": "nMvEdcLqSjMm",
        "outputId": "4243e4d6-2904-4598-adba-a4109f51c18a"
      },
      "execution_count": 22,
      "outputs": [
        {
          "output_type": "stream",
          "name": "stdout",
          "text": [
            "Epoch 1/200\n",
            "143/143 - 1s - loss: 0.0057 - 975ms/epoch - 7ms/step\n",
            "Epoch 2/200\n",
            "143/143 - 0s - loss: 0.0035 - 367ms/epoch - 3ms/step\n",
            "Epoch 3/200\n",
            "143/143 - 0s - loss: 0.0032 - 310ms/epoch - 2ms/step\n",
            "Epoch 4/200\n",
            "143/143 - 0s - loss: 0.0031 - 345ms/epoch - 2ms/step\n",
            "Epoch 5/200\n",
            "143/143 - 0s - loss: 0.0031 - 258ms/epoch - 2ms/step\n",
            "Epoch 6/200\n",
            "143/143 - 1s - loss: 0.0030 - 501ms/epoch - 4ms/step\n",
            "Epoch 7/200\n",
            "143/143 - 0s - loss: 0.0029 - 375ms/epoch - 3ms/step\n",
            "Epoch 8/200\n",
            "143/143 - 0s - loss: 0.0029 - 420ms/epoch - 3ms/step\n",
            "Epoch 9/200\n",
            "143/143 - 0s - loss: 0.0028 - 372ms/epoch - 3ms/step\n",
            "Epoch 10/200\n",
            "143/143 - 0s - loss: 0.0028 - 478ms/epoch - 3ms/step\n",
            "Epoch 11/200\n",
            "143/143 - 0s - loss: 0.0028 - 319ms/epoch - 2ms/step\n",
            "Epoch 12/200\n",
            "143/143 - 0s - loss: 0.0027 - 221ms/epoch - 2ms/step\n",
            "Epoch 13/200\n",
            "143/143 - 0s - loss: 0.0026 - 196ms/epoch - 1ms/step\n",
            "Epoch 14/200\n",
            "143/143 - 0s - loss: 0.0027 - 152ms/epoch - 1ms/step\n",
            "Epoch 15/200\n",
            "143/143 - 0s - loss: 0.0025 - 171ms/epoch - 1ms/step\n",
            "Epoch 16/200\n",
            "143/143 - 0s - loss: 0.0025 - 159ms/epoch - 1ms/step\n",
            "Epoch 17/200\n",
            "143/143 - 0s - loss: 0.0026 - 157ms/epoch - 1ms/step\n",
            "Epoch 18/200\n",
            "143/143 - 0s - loss: 0.0023 - 158ms/epoch - 1ms/step\n",
            "Epoch 19/200\n",
            "143/143 - 0s - loss: 0.0023 - 165ms/epoch - 1ms/step\n",
            "Epoch 20/200\n",
            "143/143 - 0s - loss: 0.0024 - 158ms/epoch - 1ms/step\n",
            "Epoch 21/200\n",
            "143/143 - 0s - loss: 0.0023 - 175ms/epoch - 1ms/step\n",
            "Epoch 22/200\n",
            "143/143 - 0s - loss: 0.0022 - 157ms/epoch - 1ms/step\n",
            "Epoch 23/200\n",
            "143/143 - 0s - loss: 0.0021 - 158ms/epoch - 1ms/step\n",
            "Epoch 24/200\n",
            "143/143 - 0s - loss: 0.0021 - 171ms/epoch - 1ms/step\n",
            "Epoch 25/200\n",
            "143/143 - 0s - loss: 0.0021 - 158ms/epoch - 1ms/step\n",
            "Epoch 26/200\n",
            "143/143 - 0s - loss: 0.0021 - 159ms/epoch - 1ms/step\n",
            "Epoch 27/200\n",
            "143/143 - 0s - loss: 0.0020 - 170ms/epoch - 1ms/step\n",
            "Epoch 28/200\n",
            "143/143 - 0s - loss: 0.0020 - 169ms/epoch - 1ms/step\n",
            "Epoch 29/200\n",
            "143/143 - 0s - loss: 0.0019 - 168ms/epoch - 1ms/step\n",
            "Epoch 30/200\n",
            "143/143 - 0s - loss: 0.0020 - 175ms/epoch - 1ms/step\n",
            "Epoch 31/200\n",
            "143/143 - 0s - loss: 0.0019 - 176ms/epoch - 1ms/step\n",
            "Epoch 32/200\n",
            "143/143 - 0s - loss: 0.0018 - 161ms/epoch - 1ms/step\n",
            "Epoch 33/200\n",
            "143/143 - 0s - loss: 0.0019 - 167ms/epoch - 1ms/step\n",
            "Epoch 34/200\n",
            "143/143 - 0s - loss: 0.0018 - 166ms/epoch - 1ms/step\n",
            "Epoch 35/200\n",
            "143/143 - 0s - loss: 0.0018 - 170ms/epoch - 1ms/step\n",
            "Epoch 36/200\n",
            "143/143 - 0s - loss: 0.0019 - 164ms/epoch - 1ms/step\n",
            "Epoch 37/200\n",
            "143/143 - 0s - loss: 0.0018 - 164ms/epoch - 1ms/step\n",
            "Epoch 38/200\n",
            "143/143 - 0s - loss: 0.0018 - 170ms/epoch - 1ms/step\n",
            "Epoch 39/200\n",
            "143/143 - 0s - loss: 0.0019 - 171ms/epoch - 1ms/step\n",
            "Epoch 40/200\n",
            "143/143 - 0s - loss: 0.0018 - 170ms/epoch - 1ms/step\n",
            "Epoch 41/200\n",
            "143/143 - 0s - loss: 0.0018 - 164ms/epoch - 1ms/step\n",
            "Epoch 42/200\n",
            "143/143 - 0s - loss: 0.0017 - 159ms/epoch - 1ms/step\n",
            "Epoch 43/200\n",
            "143/143 - 0s - loss: 0.0017 - 173ms/epoch - 1ms/step\n",
            "Epoch 44/200\n",
            "143/143 - 0s - loss: 0.0017 - 161ms/epoch - 1ms/step\n",
            "Epoch 45/200\n",
            "143/143 - 0s - loss: 0.0017 - 164ms/epoch - 1ms/step\n",
            "Epoch 46/200\n",
            "143/143 - 0s - loss: 0.0017 - 167ms/epoch - 1ms/step\n",
            "Epoch 47/200\n",
            "143/143 - 0s - loss: 0.0017 - 170ms/epoch - 1ms/step\n",
            "Epoch 48/200\n",
            "143/143 - 0s - loss: 0.0017 - 159ms/epoch - 1ms/step\n",
            "Epoch 49/200\n",
            "143/143 - 0s - loss: 0.0017 - 168ms/epoch - 1ms/step\n",
            "Epoch 50/200\n",
            "143/143 - 0s - loss: 0.0017 - 163ms/epoch - 1ms/step\n",
            "Epoch 51/200\n",
            "143/143 - 0s - loss: 0.0017 - 175ms/epoch - 1ms/step\n",
            "Epoch 52/200\n",
            "143/143 - 0s - loss: 0.0017 - 167ms/epoch - 1ms/step\n",
            "Epoch 53/200\n",
            "143/143 - 0s - loss: 0.0016 - 170ms/epoch - 1ms/step\n",
            "Epoch 54/200\n",
            "143/143 - 0s - loss: 0.0016 - 163ms/epoch - 1ms/step\n",
            "Epoch 55/200\n",
            "143/143 - 0s - loss: 0.0016 - 177ms/epoch - 1ms/step\n",
            "Epoch 56/200\n",
            "143/143 - 0s - loss: 0.0017 - 170ms/epoch - 1ms/step\n",
            "Epoch 57/200\n",
            "143/143 - 0s - loss: 0.0016 - 174ms/epoch - 1ms/step\n",
            "Epoch 58/200\n",
            "143/143 - 0s - loss: 0.0016 - 171ms/epoch - 1ms/step\n",
            "Epoch 59/200\n",
            "143/143 - 0s - loss: 0.0016 - 160ms/epoch - 1ms/step\n",
            "Epoch 60/200\n",
            "143/143 - 0s - loss: 0.0016 - 176ms/epoch - 1ms/step\n",
            "Epoch 61/200\n",
            "143/143 - 0s - loss: 0.0015 - 164ms/epoch - 1ms/step\n",
            "Epoch 62/200\n",
            "143/143 - 0s - loss: 0.0017 - 180ms/epoch - 1ms/step\n",
            "Epoch 63/200\n",
            "143/143 - 0s - loss: 0.0016 - 167ms/epoch - 1ms/step\n",
            "Epoch 64/200\n",
            "143/143 - 0s - loss: 0.0016 - 167ms/epoch - 1ms/step\n",
            "Epoch 65/200\n",
            "143/143 - 0s - loss: 0.0016 - 162ms/epoch - 1ms/step\n",
            "Epoch 66/200\n",
            "143/143 - 0s - loss: 0.0016 - 166ms/epoch - 1ms/step\n",
            "Epoch 67/200\n",
            "143/143 - 0s - loss: 0.0017 - 164ms/epoch - 1ms/step\n",
            "Epoch 68/200\n",
            "143/143 - 0s - loss: 0.0016 - 177ms/epoch - 1ms/step\n",
            "Epoch 69/200\n",
            "143/143 - 0s - loss: 0.0016 - 169ms/epoch - 1ms/step\n",
            "Epoch 70/200\n",
            "143/143 - 0s - loss: 0.0017 - 167ms/epoch - 1ms/step\n",
            "Epoch 71/200\n",
            "143/143 - 0s - loss: 0.0016 - 176ms/epoch - 1ms/step\n",
            "Epoch 72/200\n",
            "143/143 - 0s - loss: 0.0016 - 219ms/epoch - 2ms/step\n",
            "Epoch 73/200\n",
            "143/143 - 0s - loss: 0.0016 - 238ms/epoch - 2ms/step\n",
            "Epoch 74/200\n",
            "143/143 - 0s - loss: 0.0016 - 223ms/epoch - 2ms/step\n",
            "Epoch 75/200\n",
            "143/143 - 0s - loss: 0.0016 - 231ms/epoch - 2ms/step\n",
            "Epoch 76/200\n",
            "143/143 - 0s - loss: 0.0016 - 225ms/epoch - 2ms/step\n",
            "Epoch 77/200\n",
            "143/143 - 0s - loss: 0.0016 - 250ms/epoch - 2ms/step\n",
            "Epoch 78/200\n",
            "143/143 - 0s - loss: 0.0016 - 278ms/epoch - 2ms/step\n",
            "Epoch 79/200\n",
            "143/143 - 0s - loss: 0.0016 - 252ms/epoch - 2ms/step\n",
            "Epoch 80/200\n",
            "143/143 - 0s - loss: 0.0015 - 229ms/epoch - 2ms/step\n",
            "Epoch 81/200\n",
            "143/143 - 0s - loss: 0.0015 - 220ms/epoch - 2ms/step\n",
            "Epoch 82/200\n",
            "143/143 - 0s - loss: 0.0016 - 238ms/epoch - 2ms/step\n",
            "Epoch 83/200\n",
            "143/143 - 0s - loss: 0.0016 - 218ms/epoch - 2ms/step\n",
            "Epoch 84/200\n",
            "143/143 - 0s - loss: 0.0015 - 153ms/epoch - 1ms/step\n",
            "Epoch 85/200\n",
            "143/143 - 0s - loss: 0.0015 - 167ms/epoch - 1ms/step\n",
            "Epoch 86/200\n",
            "143/143 - 0s - loss: 0.0015 - 168ms/epoch - 1ms/step\n",
            "Epoch 87/200\n",
            "143/143 - 0s - loss: 0.0016 - 179ms/epoch - 1ms/step\n",
            "Epoch 88/200\n",
            "143/143 - 0s - loss: 0.0016 - 165ms/epoch - 1ms/step\n",
            "Epoch 89/200\n",
            "143/143 - 0s - loss: 0.0015 - 170ms/epoch - 1ms/step\n",
            "Epoch 90/200\n",
            "143/143 - 0s - loss: 0.0016 - 172ms/epoch - 1ms/step\n",
            "Epoch 91/200\n",
            "143/143 - 0s - loss: 0.0016 - 165ms/epoch - 1ms/step\n",
            "Epoch 92/200\n",
            "143/143 - 0s - loss: 0.0015 - 161ms/epoch - 1ms/step\n",
            "Epoch 93/200\n",
            "143/143 - 0s - loss: 0.0015 - 157ms/epoch - 1ms/step\n",
            "Epoch 94/200\n",
            "143/143 - 0s - loss: 0.0016 - 177ms/epoch - 1ms/step\n",
            "Epoch 95/200\n",
            "143/143 - 0s - loss: 0.0015 - 169ms/epoch - 1ms/step\n",
            "Epoch 96/200\n",
            "143/143 - 0s - loss: 0.0015 - 171ms/epoch - 1ms/step\n",
            "Epoch 97/200\n",
            "143/143 - 0s - loss: 0.0015 - 160ms/epoch - 1ms/step\n",
            "Epoch 98/200\n",
            "143/143 - 0s - loss: 0.0015 - 173ms/epoch - 1ms/step\n",
            "Epoch 99/200\n",
            "143/143 - 0s - loss: 0.0015 - 161ms/epoch - 1ms/step\n",
            "Epoch 100/200\n",
            "143/143 - 0s - loss: 0.0016 - 172ms/epoch - 1ms/step\n",
            "Epoch 101/200\n",
            "143/143 - 0s - loss: 0.0016 - 186ms/epoch - 1ms/step\n",
            "Epoch 102/200\n",
            "143/143 - 0s - loss: 0.0015 - 166ms/epoch - 1ms/step\n",
            "Epoch 103/200\n",
            "143/143 - 0s - loss: 0.0015 - 164ms/epoch - 1ms/step\n",
            "Epoch 104/200\n",
            "143/143 - 0s - loss: 0.0015 - 164ms/epoch - 1ms/step\n",
            "Epoch 105/200\n",
            "143/143 - 0s - loss: 0.0015 - 168ms/epoch - 1ms/step\n",
            "Epoch 106/200\n",
            "143/143 - 0s - loss: 0.0015 - 176ms/epoch - 1ms/step\n",
            "Epoch 107/200\n",
            "143/143 - 0s - loss: 0.0015 - 182ms/epoch - 1ms/step\n",
            "Epoch 108/200\n",
            "143/143 - 0s - loss: 0.0015 - 185ms/epoch - 1ms/step\n",
            "Epoch 109/200\n",
            "143/143 - 0s - loss: 0.0015 - 166ms/epoch - 1ms/step\n",
            "Epoch 110/200\n",
            "143/143 - 0s - loss: 0.0015 - 167ms/epoch - 1ms/step\n",
            "Epoch 111/200\n",
            "143/143 - 0s - loss: 0.0015 - 158ms/epoch - 1ms/step\n",
            "Epoch 112/200\n",
            "143/143 - 0s - loss: 0.0015 - 176ms/epoch - 1ms/step\n",
            "Epoch 113/200\n",
            "143/143 - 0s - loss: 0.0015 - 172ms/epoch - 1ms/step\n",
            "Epoch 114/200\n",
            "143/143 - 0s - loss: 0.0015 - 168ms/epoch - 1ms/step\n",
            "Epoch 115/200\n",
            "143/143 - 0s - loss: 0.0015 - 168ms/epoch - 1ms/step\n",
            "Epoch 116/200\n",
            "143/143 - 0s - loss: 0.0015 - 172ms/epoch - 1ms/step\n",
            "Epoch 117/200\n",
            "143/143 - 0s - loss: 0.0015 - 166ms/epoch - 1ms/step\n",
            "Epoch 118/200\n",
            "143/143 - 0s - loss: 0.0015 - 176ms/epoch - 1ms/step\n",
            "Epoch 119/200\n",
            "143/143 - 0s - loss: 0.0015 - 166ms/epoch - 1ms/step\n",
            "Epoch 120/200\n",
            "143/143 - 0s - loss: 0.0015 - 159ms/epoch - 1ms/step\n",
            "Epoch 121/200\n",
            "143/143 - 0s - loss: 0.0014 - 164ms/epoch - 1ms/step\n",
            "Epoch 122/200\n",
            "143/143 - 0s - loss: 0.0015 - 167ms/epoch - 1ms/step\n",
            "Epoch 123/200\n",
            "143/143 - 0s - loss: 0.0014 - 170ms/epoch - 1ms/step\n",
            "Epoch 124/200\n",
            "143/143 - 0s - loss: 0.0014 - 162ms/epoch - 1ms/step\n",
            "Epoch 125/200\n",
            "143/143 - 0s - loss: 0.0015 - 163ms/epoch - 1ms/step\n",
            "Epoch 126/200\n",
            "143/143 - 0s - loss: 0.0015 - 160ms/epoch - 1ms/step\n",
            "Epoch 127/200\n",
            "143/143 - 0s - loss: 0.0015 - 172ms/epoch - 1ms/step\n",
            "Epoch 128/200\n",
            "143/143 - 0s - loss: 0.0015 - 165ms/epoch - 1ms/step\n",
            "Epoch 129/200\n",
            "143/143 - 0s - loss: 0.0014 - 191ms/epoch - 1ms/step\n",
            "Epoch 130/200\n",
            "143/143 - 0s - loss: 0.0015 - 160ms/epoch - 1ms/step\n",
            "Epoch 131/200\n",
            "143/143 - 0s - loss: 0.0015 - 155ms/epoch - 1ms/step\n",
            "Epoch 132/200\n",
            "143/143 - 0s - loss: 0.0014 - 170ms/epoch - 1ms/step\n",
            "Epoch 133/200\n",
            "143/143 - 0s - loss: 0.0014 - 169ms/epoch - 1ms/step\n",
            "Epoch 134/200\n",
            "143/143 - 0s - loss: 0.0015 - 170ms/epoch - 1ms/step\n",
            "Epoch 135/200\n",
            "143/143 - 0s - loss: 0.0014 - 171ms/epoch - 1ms/step\n",
            "Epoch 136/200\n",
            "143/143 - 0s - loss: 0.0014 - 171ms/epoch - 1ms/step\n",
            "Epoch 137/200\n",
            "143/143 - 0s - loss: 0.0015 - 170ms/epoch - 1ms/step\n",
            "Epoch 138/200\n",
            "143/143 - 0s - loss: 0.0014 - 157ms/epoch - 1ms/step\n",
            "Epoch 139/200\n",
            "143/143 - 0s - loss: 0.0015 - 173ms/epoch - 1ms/step\n",
            "Epoch 140/200\n",
            "143/143 - 0s - loss: 0.0015 - 160ms/epoch - 1ms/step\n",
            "Epoch 141/200\n",
            "143/143 - 0s - loss: 0.0014 - 173ms/epoch - 1ms/step\n",
            "Epoch 142/200\n",
            "143/143 - 0s - loss: 0.0014 - 217ms/epoch - 2ms/step\n",
            "Epoch 143/200\n",
            "143/143 - 0s - loss: 0.0015 - 234ms/epoch - 2ms/step\n",
            "Epoch 144/200\n",
            "143/143 - 0s - loss: 0.0014 - 236ms/epoch - 2ms/step\n",
            "Epoch 145/200\n",
            "143/143 - 0s - loss: 0.0014 - 232ms/epoch - 2ms/step\n",
            "Epoch 146/200\n",
            "143/143 - 0s - loss: 0.0014 - 245ms/epoch - 2ms/step\n",
            "Epoch 147/200\n",
            "143/143 - 0s - loss: 0.0015 - 275ms/epoch - 2ms/step\n",
            "Epoch 148/200\n",
            "143/143 - 0s - loss: 0.0015 - 249ms/epoch - 2ms/step\n",
            "Epoch 149/200\n",
            "143/143 - 0s - loss: 0.0014 - 226ms/epoch - 2ms/step\n",
            "Epoch 150/200\n",
            "143/143 - 0s - loss: 0.0014 - 250ms/epoch - 2ms/step\n",
            "Epoch 151/200\n",
            "143/143 - 0s - loss: 0.0014 - 213ms/epoch - 1ms/step\n",
            "Epoch 152/200\n",
            "143/143 - 0s - loss: 0.0015 - 232ms/epoch - 2ms/step\n",
            "Epoch 153/200\n",
            "143/143 - 0s - loss: 0.0014 - 178ms/epoch - 1ms/step\n",
            "Epoch 154/200\n",
            "143/143 - 0s - loss: 0.0014 - 189ms/epoch - 1ms/step\n",
            "Epoch 155/200\n",
            "143/143 - 1s - loss: 0.0015 - 565ms/epoch - 4ms/step\n",
            "Epoch 156/200\n",
            "143/143 - 0s - loss: 0.0014 - 353ms/epoch - 2ms/step\n",
            "Epoch 157/200\n",
            "143/143 - 0s - loss: 0.0014 - 169ms/epoch - 1ms/step\n",
            "Epoch 158/200\n",
            "143/143 - 0s - loss: 0.0014 - 173ms/epoch - 1ms/step\n",
            "Epoch 159/200\n",
            "143/143 - 1s - loss: 0.0014 - 503ms/epoch - 4ms/step\n",
            "Epoch 160/200\n",
            "143/143 - 0s - loss: 0.0015 - 482ms/epoch - 3ms/step\n",
            "Epoch 161/200\n",
            "143/143 - 0s - loss: 0.0014 - 165ms/epoch - 1ms/step\n",
            "Epoch 162/200\n",
            "143/143 - 0s - loss: 0.0014 - 175ms/epoch - 1ms/step\n",
            "Epoch 163/200\n",
            "143/143 - 0s - loss: 0.0014 - 367ms/epoch - 3ms/step\n",
            "Epoch 164/200\n",
            "143/143 - 0s - loss: 0.0014 - 421ms/epoch - 3ms/step\n",
            "Epoch 165/200\n",
            "143/143 - 0s - loss: 0.0013 - 296ms/epoch - 2ms/step\n",
            "Epoch 166/200\n",
            "143/143 - 0s - loss: 0.0014 - 168ms/epoch - 1ms/step\n",
            "Epoch 167/200\n",
            "143/143 - 0s - loss: 0.0015 - 168ms/epoch - 1ms/step\n",
            "Epoch 168/200\n",
            "143/143 - 0s - loss: 0.0015 - 177ms/epoch - 1ms/step\n",
            "Epoch 169/200\n",
            "143/143 - 0s - loss: 0.0014 - 163ms/epoch - 1ms/step\n",
            "Epoch 170/200\n",
            "143/143 - 0s - loss: 0.0014 - 156ms/epoch - 1ms/step\n",
            "Epoch 171/200\n",
            "143/143 - 0s - loss: 0.0014 - 165ms/epoch - 1ms/step\n",
            "Epoch 172/200\n",
            "143/143 - 0s - loss: 0.0014 - 160ms/epoch - 1ms/step\n",
            "Epoch 173/200\n",
            "143/143 - 0s - loss: 0.0014 - 160ms/epoch - 1ms/step\n",
            "Epoch 174/200\n",
            "143/143 - 0s - loss: 0.0015 - 173ms/epoch - 1ms/step\n",
            "Epoch 175/200\n",
            "143/143 - 0s - loss: 0.0014 - 161ms/epoch - 1ms/step\n",
            "Epoch 176/200\n",
            "143/143 - 0s - loss: 0.0014 - 163ms/epoch - 1ms/step\n",
            "Epoch 177/200\n",
            "143/143 - 0s - loss: 0.0014 - 172ms/epoch - 1ms/step\n",
            "Epoch 178/200\n",
            "143/143 - 0s - loss: 0.0014 - 170ms/epoch - 1ms/step\n",
            "Epoch 179/200\n",
            "143/143 - 0s - loss: 0.0014 - 178ms/epoch - 1ms/step\n",
            "Epoch 180/200\n",
            "143/143 - 0s - loss: 0.0014 - 165ms/epoch - 1ms/step\n",
            "Epoch 181/200\n",
            "143/143 - 0s - loss: 0.0014 - 160ms/epoch - 1ms/step\n",
            "Epoch 182/200\n",
            "143/143 - 0s - loss: 0.0014 - 168ms/epoch - 1ms/step\n",
            "Epoch 183/200\n",
            "143/143 - 0s - loss: 0.0014 - 167ms/epoch - 1ms/step\n",
            "Epoch 184/200\n",
            "143/143 - 0s - loss: 0.0014 - 169ms/epoch - 1ms/step\n",
            "Epoch 185/200\n",
            "143/143 - 0s - loss: 0.0014 - 169ms/epoch - 1ms/step\n",
            "Epoch 186/200\n",
            "143/143 - 0s - loss: 0.0014 - 172ms/epoch - 1ms/step\n",
            "Epoch 187/200\n",
            "143/143 - 0s - loss: 0.0014 - 155ms/epoch - 1ms/step\n",
            "Epoch 188/200\n",
            "143/143 - 0s - loss: 0.0014 - 168ms/epoch - 1ms/step\n",
            "Epoch 189/200\n",
            "143/143 - 0s - loss: 0.0014 - 164ms/epoch - 1ms/step\n",
            "Epoch 190/200\n",
            "143/143 - 0s - loss: 0.0014 - 166ms/epoch - 1ms/step\n",
            "Epoch 191/200\n",
            "143/143 - 0s - loss: 0.0014 - 169ms/epoch - 1ms/step\n",
            "Epoch 192/200\n",
            "143/143 - 0s - loss: 0.0014 - 167ms/epoch - 1ms/step\n",
            "Epoch 193/200\n",
            "143/143 - 0s - loss: 0.0014 - 172ms/epoch - 1ms/step\n",
            "Epoch 194/200\n",
            "143/143 - 0s - loss: 0.0014 - 161ms/epoch - 1ms/step\n",
            "Epoch 195/200\n",
            "143/143 - 0s - loss: 0.0014 - 166ms/epoch - 1ms/step\n",
            "Epoch 196/200\n",
            "143/143 - 0s - loss: 0.0014 - 162ms/epoch - 1ms/step\n",
            "Epoch 197/200\n",
            "143/143 - 0s - loss: 0.0013 - 169ms/epoch - 1ms/step\n",
            "Epoch 198/200\n",
            "143/143 - 0s - loss: 0.0013 - 188ms/epoch - 1ms/step\n",
            "Epoch 199/200\n",
            "143/143 - 0s - loss: 0.0014 - 173ms/epoch - 1ms/step\n",
            "Epoch 200/200\n",
            "143/143 - 0s - loss: 0.0014 - 182ms/epoch - 1ms/step\n"
          ]
        },
        {
          "output_type": "execute_result",
          "data": {
            "text/plain": [
              "<keras.callbacks.History at 0x7fc69bc73190>"
            ]
          },
          "metadata": {},
          "execution_count": 22
        }
      ]
    },
    {
      "cell_type": "code",
      "source": [
        "history = model.fit(X_train,y_train,validation_data=(X_test,y_test),epochs=200,batch_size=2,verbose=1, callbacks=[callback])"
      ],
      "metadata": {
        "colab": {
          "base_uri": "https://localhost:8080/"
        },
        "id": "w4Z0B90jU9Qj",
        "outputId": "93c11612-35e6-4c8a-edd7-3f709abf1f8c"
      },
      "execution_count": 23,
      "outputs": [
        {
          "output_type": "stream",
          "name": "stdout",
          "text": [
            "Epoch 1/200\n",
            "143/143 [==============================] - 0s 3ms/step - loss: 0.0014 - val_loss: 0.0029\n",
            "Epoch 2/200\n",
            "143/143 [==============================] - 0s 2ms/step - loss: 0.0014 - val_loss: 0.0029\n",
            "Epoch 3/200\n",
            "143/143 [==============================] - 0s 2ms/step - loss: 0.0014 - val_loss: 0.0029\n",
            "Epoch 4/200\n",
            "143/143 [==============================] - 0s 2ms/step - loss: 0.0013 - val_loss: 0.0031\n",
            "Epoch 5/200\n",
            "143/143 [==============================] - 0s 2ms/step - loss: 0.0014 - val_loss: 0.0029\n",
            "Epoch 6/200\n",
            "143/143 [==============================] - 0s 2ms/step - loss: 0.0014 - val_loss: 0.0031\n",
            "Epoch 7/200\n",
            "143/143 [==============================] - 0s 2ms/step - loss: 0.0014 - val_loss: 0.0029\n",
            "Epoch 8/200\n",
            "143/143 [==============================] - 0s 2ms/step - loss: 0.0013 - val_loss: 0.0031\n",
            "Epoch 9/200\n",
            "143/143 [==============================] - 0s 2ms/step - loss: 0.0014 - val_loss: 0.0029\n",
            "Epoch 10/200\n",
            "143/143 [==============================] - 0s 2ms/step - loss: 0.0014 - val_loss: 0.0029\n",
            "Epoch 11/200\n",
            "143/143 [==============================] - 0s 2ms/step - loss: 0.0014 - val_loss: 0.0029\n",
            "Epoch 12/200\n",
            "143/143 [==============================] - 0s 2ms/step - loss: 0.0014 - val_loss: 0.0029\n",
            "Epoch 13/200\n",
            "143/143 [==============================] - 0s 2ms/step - loss: 0.0014 - val_loss: 0.0029\n",
            "Epoch 14/200\n",
            "143/143 [==============================] - 0s 2ms/step - loss: 0.0014 - val_loss: 0.0029\n",
            "Epoch 15/200\n",
            "143/143 [==============================] - 0s 2ms/step - loss: 0.0014 - val_loss: 0.0029\n",
            "Epoch 16/200\n",
            "143/143 [==============================] - 0s 2ms/step - loss: 0.0014 - val_loss: 0.0029\n",
            "Epoch 17/200\n",
            "143/143 [==============================] - 0s 2ms/step - loss: 0.0014 - val_loss: 0.0029\n",
            "Epoch 18/200\n",
            "143/143 [==============================] - 0s 2ms/step - loss: 0.0013 - val_loss: 0.0034\n",
            "Epoch 19/200\n",
            "143/143 [==============================] - 0s 2ms/step - loss: 0.0014 - val_loss: 0.0031\n",
            "Epoch 20/200\n",
            "143/143 [==============================] - 0s 2ms/step - loss: 0.0014 - val_loss: 0.0029\n",
            "Epoch 21/200\n",
            "143/143 [==============================] - 0s 2ms/step - loss: 0.0014 - val_loss: 0.0029\n",
            "Epoch 22/200\n",
            "143/143 [==============================] - 0s 2ms/step - loss: 0.0014 - val_loss: 0.0030\n",
            "Epoch 23/200\n",
            "143/143 [==============================] - 0s 2ms/step - loss: 0.0014 - val_loss: 0.0029\n"
          ]
        }
      ]
    },
    {
      "cell_type": "code",
      "source": [
        "plt.figure(figsize=(6, 4))\n",
        "plt.plot(history.history[\"loss\"], label=\"Train\")\n",
        "plt.plot(history.history[\"val_loss\"], label=\"Test\")\n",
        "plt.title(\"Loss over epoch\")\n",
        "plt.xlabel(\"Epoch\")\n",
        "plt.ylabel(\"Loss\")\n",
        "plt.legend()\n",
        "plt.show()"
      ],
      "metadata": {
        "colab": {
          "base_uri": "https://localhost:8080/",
          "height": 410
        },
        "id": "1y8222iPUcQR",
        "outputId": "2b815aec-ed4d-4558-d7c0-da203911f4ea"
      },
      "execution_count": 24,
      "outputs": [
        {
          "output_type": "display_data",
          "data": {
            "text/plain": [
              "<Figure size 600x400 with 1 Axes>"
            ],
            "image/png": "[encoded data removed]"
          },
          "metadata": {}
        }
      ]
    },
    {
      "cell_type": "code",
      "source": [
        "# Obtain the predicted values\n",
        "mlp_pred_scaled = model.predict(X_test)\n",
        "mlp_pred = mmscaler.inverse_transform(mlp_pred_scaled)\n",
        "y_test_unsc = mmscaler.inverse_transform(y_test.reshape(-1, 1))"
      ],
      "metadata": {
        "colab": {
          "base_uri": "https://localhost:8080/"
        },
        "id": "xBXsspWfZK47",
        "outputId": "9dea2a4f-599f-4afa-bf60-c47f050d98ed"
      },
      "execution_count": 25,
      "outputs": [
        {
          "output_type": "stream",
          "name": "stdout",
          "text": [
            "3/3 [==============================] - 0s 3ms/step\n"
          ]
        }
      ]
    },
    {
      "cell_type": "code",
      "source": [
        "# Mean Absolute Error (MAE)\n",
        "mlp_MAE = mean_absolute_error(y_test_unsc, mlp_pred)\n",
        "print(f'Median Absolute Error (MAE): {np.round(mlp_MAE, 2)}')\n",
        "\n",
        "# Mean Absolute Percentage Error (MAPE)\n",
        "mlp_MAPE = np.mean((np.abs(np.subtract(y_test_unsc, mlp_pred)/ y_test_unsc))) * 100\n",
        "print(f'Mean Absolute Percentage Error (MAPE): {np.round(mlp_MAPE, 2)} %')\n",
        "\n",
        "# Root Mean Squared Error (RMSE)\n",
        "mlp_RMSE = mean_squared_error(y_test_unsc, mlp_pred) ** 0.5\n",
        "print(f'Root Mean Squared Error (RMSE): {np.round(mlp_RMSE, 2)} %')\n",
        "\n",
        "# Mean Squared Error (MSE)\n",
        "mlp_MSE = mean_squared_error(y_test_unsc, mlp_pred)\n",
        "print('MSE value of the MLP Model:', mlp_MSE )\n",
        "\n",
        "# r2_score\n",
        "mlp_r2 = r2_score(y_test_unsc, mlp_pred)\n",
        "print(f'R^2 Score: {np.round(mlp_r2, 2)} %')"
      ],
      "metadata": {
        "colab": {
          "base_uri": "https://localhost:8080/"
        },
        "id": "XqpifbnIZtju",
        "outputId": "d25d517b-8616-4368-e2c9-92f8fcff776c"
      },
      "execution_count": 26,
      "outputs": [
        {
          "output_type": "stream",
          "name": "stdout",
          "text": [
            "Median Absolute Error (MAE): 41.5\n",
            "Mean Absolute Percentage Error (MAPE): 4.92 %\n",
            "Root Mean Squared Error (RMSE): 61.49 %\n",
            "MSE value of the MLP Model: 3781.382760860845\n",
            "R^2 Score: 0.94 %\n"
          ]
        }
      ]
    },
    {
      "cell_type": "code",
      "source": [
        "train = pd.DataFrame(train_df[:train_data_len + 1]).rename(columns={'cpo_pri': 'X_train'})\n",
        "train"
      ],
      "metadata": {
        "colab": {
          "base_uri": "https://localhost:8080/",
          "height": 450
        },
        "id": "1o6Zdk51ZtoH",
        "outputId": "c5770d6a-9952-47e8-bf75-06417d943de6"
      },
      "execution_count": 27,
      "outputs": [
        {
          "output_type": "execute_result",
          "data": {
            "text/plain": [
              "            X_train\n",
              "date               \n",
              "1993-03-01   408.00\n",
              "1993-04-01   392.00\n",
              "1993-05-01   371.00\n",
              "1993-06-01   356.00\n",
              "1993-07-01   362.00\n",
              "...             ...\n",
              "2016-12-01   811.38\n",
              "2017-01-01   825.00\n",
              "2017-02-01   808.61\n",
              "2017-03-01   778.70\n",
              "2017-04-01   752.06\n",
              "\n",
              "[290 rows x 1 columns]"
            ],
            "text/html": [
              "\n",
              "  <div id=\"df-cb51b36d-5cf6-4c89-a3e0-84c2218ad04d\">\n",
              "    <div class=\"colab-df-container\">\n",
              "      <div>\n",
              "<style scoped>\n",
              "    .dataframe tbody tr th:only-of-type {\n",
              "        vertical-align: middle;\n",
              "    }\n",
              "\n",
              "    .dataframe tbody tr th {\n",
              "        vertical-align: top;\n",
              "    }\n",
              "\n",
              "    .dataframe thead th {\n",
              "        text-align: right;\n",
              "    }\n",
              "</style>\n",
              "<table border=\"1\" class=\"dataframe\">\n",
              "  <thead>\n",
              "    <tr style=\"text-align: right;\">\n",
              "      <th></th>\n",
              "      <th>X_train</th>\n",
              "    </tr>\n",
              "    <tr>\n",
              "      <th>date</th>\n",
              "      <th></th>\n",
              "    </tr>\n",
              "  </thead>\n",
              "  <tbody>\n",
              "    <tr>\n",
              "      <th>1993-03-01</th>\n",
              "      <td>408.00</td>\n",
              "    </tr>\n",
              "    <tr>\n",
              "      <th>1993-04-01</th>\n",
              "      <td>392.00</td>\n",
              "    </tr>\n",
              "    <tr>\n",
              "      <th>1993-05-01</th>\n",
              "      <td>371.00</td>\n",
              "    </tr>\n",
              "    <tr>\n",
              "      <th>1993-06-01</th>\n",
              "      <td>356.00</td>\n",
              "    </tr>\n",
              "    <tr>\n",
              "      <th>1993-07-01</th>\n",
              "      <td>362.00</td>\n",
              "    </tr>\n",
              "    <tr>\n",
              "      <th>...</th>\n",
              "      <td>...</td>\n",
              "    </tr>\n",
              "    <tr>\n",
              "      <th>2016-12-01</th>\n",
              "      <td>811.38</td>\n",
              "    </tr>\n",
              "    <tr>\n",
              "      <th>2017-01-01</th>\n",
              "      <td>825.00</td>\n",
              "    </tr>\n",
              "    <tr>\n",
              "      <th>2017-02-01</th>\n",
              "      <td>808.61</td>\n",
              "    </tr>\n",
              "    <tr>\n",
              "      <th>2017-03-01</th>\n",
              "      <td>778.70</td>\n",
              "    </tr>\n",
              "    <tr>\n",
              "      <th>2017-04-01</th>\n",
              "      <td>752.06</td>\n",
              "    </tr>\n",
              "  </tbody>\n",
              "</table>\n",
              "<p>290 rows × 1 columns</p>\n",
              "</div>\n",
              "      <button class=\"colab-df-convert\" onclick=\"convertToInteractive('df-cb51b36d-5cf6-4c89-a3e0-84c2218ad04d')\"\n",
              "              title=\"Convert this dataframe to an interactive table.\"\n",
              "              style=\"display:none;\">\n",
              "        \n",
              "  <svg xmlns=\"http://www.w3.org/2000/svg\" height=\"24px\"viewBox=\"0 0 24 24\"\n",
              "       width=\"24px\">\n",
              "    <path d=\"M0 0h24v24H0V0z\" fill=\"none\"/>\n",
              "    <path d=\"M18.56 5.44l.94 2.06.94-2.06 2.06-.94-2.06-.94-.94-2.06-.94 2.06-2.06.94zm-11 1L8.5 8.5l.94-2.06 2.06-.94-2.06-.94L8.5 2.5l-.94 2.06-2.06.94zm10 10l.94 2.06.94-2.06 2.06-.94-2.06-.94-.94-2.06-.94 2.06-2.06.94z\"/><path d=\"M17.41 7.96l-1.37-1.37c-.4-.4-.92-.59-1.43-.59-.52 0-1.04.2-1.43.59L10.3 9.45l-7.72 7.72c-.78.78-.78 2.05 0 2.83L4 21.41c.39.39.9.59 1.41.59.51 0 1.02-.2 1.41-.59l7.78-7.78 2.81-2.81c.8-.78.8-2.07 0-2.86zM5.41 20L4 18.59l7.72-7.72 1.47 1.35L5.41 20z\"/>\n",
              "  </svg>\n",
              "      </button>\n",
              "      \n",
              "  <style>\n",
              "    .colab-df-container {\n",
              "      display:flex;\n",
              "      flex-wrap:wrap;\n",
              "      gap: 12px;\n",
              "    }\n",
              "\n",
              "    .colab-df-convert {\n",
              "      background-color: #E8F0FE;\n",
              "      border: none;\n",
              "      border-radius: 50%;\n",
              "      cursor: pointer;\n",
              "      display: none;\n",
              "      fill: #1967D2;\n",
              "      height: 32px;\n",
              "      padding: 0 0 0 0;\n",
              "      width: 32px;\n",
              "    }\n",
              "\n",
              "    .colab-df-convert:hover {\n",
              "      background-color: #E2EBFA;\n",
              "      box-shadow: 0px 1px 2px rgba(60, 64, 67, 0.3), 0px 1px 3px 1px rgba(60, 64, 67, 0.15);\n",
              "      fill: #174EA6;\n",
              "    }\n",
              "\n",
              "    [theme=dark] .colab-df-convert {\n",
              "      background-color: #3B4455;\n",
              "      fill: #D2E3FC;\n",
              "    }\n",
              "\n",
              "    [theme=dark] .colab-df-convert:hover {\n",
              "      background-color: #434B5C;\n",
              "      box-shadow: 0px 1px 3px 1px rgba(0, 0, 0, 0.15);\n",
              "      filter: drop-shadow(0px 1px 2px rgba(0, 0, 0, 0.3));\n",
              "      fill: #FFFFFF;\n",
              "    }\n",
              "  </style>\n",
              "\n",
              "      <script>\n",
              "        const buttonEl =\n",
              "          document.querySelector('#df-cb51b36d-5cf6-4c89-a3e0-84c2218ad04d button.colab-df-convert');\n",
              "        buttonEl.style.display =\n",
              "          google.colab.kernel.accessAllowed ? 'block' : 'none';\n",
              "\n",
              "        async function convertToInteractive(key) {\n",
              "          const element = document.querySelector('#df-cb51b36d-5cf6-4c89-a3e0-84c2218ad04d');\n",
              "          const dataTable =\n",
              "            await google.colab.kernel.invokeFunction('convertToInteractive',\n",
              "                                                     [key], {});\n",
              "          if (!dataTable) return;\n",
              "\n",
              "          const docLinkHtml = 'Like what you see? Visit the ' +\n",
              "            '<a target=\"_blank\" href=https://colab.research.google.com/notebooks/data_table.ipynb>data table notebook</a>'\n",
              "            + ' to learn more about interactive tables.';\n",
              "          element.innerHTML = '';\n",
              "          dataTable['output_type'] = 'display_data';\n",
              "          await google.colab.output.renderOutput(dataTable, element);\n",
              "          const docLink = document.createElement('div');\n",
              "          docLink.innerHTML = docLinkHtml;\n",
              "          element.appendChild(docLink);\n",
              "        }\n",
              "      </script>\n",
              "    </div>\n",
              "  </div>\n",
              "  "
            ]
          },
          "metadata": {},
          "execution_count": 27
        }
      ]
    },
    {
      "cell_type": "code",
      "source": [
        "# The date starting from which the date is presented\n",
        "display_start_date = \"2010-12\"\n",
        "\n",
        "#\n",
        "train = pd.DataFrame(train_df[:train_data_len + 1]).rename(columns={'cpo_pri': 'y_train'})\n",
        "valid = pd.DataFrame(train_df[train_data_len:]).rename(columns={'cpo_pri': 'y_test'})\n",
        "valid.insert(1, \"mlp_pred\", mlp_pred, True)\n",
        "valid.insert(1, \"residuals\", valid[\"mlp_pred\"] - valid[\"y_test\"], True)\n",
        "df_union = pd.concat([train, valid])\n",
        "\n",
        "# Zoom in on a specific timeframe.\n",
        "df_union_zoom = df_union[df_union.index > display_start_date]\n",
        "\n",
        "# Create the lineplot\n",
        "fig, ax1 = plt.subplots(figsize=(16, 8), sharex=True)\n",
        "plt.title(\"MLP Predictions vs Actual\")\n",
        "sns.set_palette([\"#090364\", \"#1960EF\", \"#EF5919\"])\n",
        "plt.ylabel(featurename, fontsize=18)\n",
        "sns.lineplot(data=df_union_zoom[['y_train', 'mlp_pred', 'y_test']], linewidth=1.0, dashes=False, ax=ax1)"
      ],
      "metadata": {
        "colab": {
          "base_uri": "https://localhost:8080/",
          "height": 735
        },
        "id": "UP-WFBgTZtsB",
        "outputId": "16ede2dd-97d1-47e7-cbba-e237b19eaf7b"
      },
      "execution_count": 28,
      "outputs": [
        {
          "output_type": "execute_result",
          "data": {
            "text/plain": [
              "<Axes: title={'center': 'MLP Predictions vs Actual'}, xlabel='date', ylabel='Price'>"
            ]
          },
          "metadata": {},
          "execution_count": 28
        },
        {
          "output_type": "display_data",
          "data": {
            "text/plain": [
              "<Figure size 1600x800 with 1 Axes>"
            ],
            "image/png": "[encoded data removed]"
          },
          "metadata": {}
        }
      ]
    },
    {
      "cell_type": "markdown",
      "source": [
        "###Performing Grid Search Operation"
      ],
      "metadata": {
        "id": "GM99t2LUQt7z"
      }
    },
    {
      "cell_type": "code",
      "source": [
        "X_train['cpo_pri']"
      ],
      "metadata": {
        "id": "7e7ivy_SGtr0",
        "outputId": "6e477a85-fe09-4483-dabb-7a721b08b80e",
        "colab": {
          "base_uri": "https://localhost:8080/",
          "height": 164
        }
      },
      "execution_count": 52,
      "outputs": [
        {
          "output_type": "error",
          "ename": "IndexError",
          "evalue": "ignored",
          "traceback": [
            "\u001b[0;31m---------------------------------------------------------------------------\u001b[0m",
            "\u001b[0;31mIndexError\u001b[0m                                Traceback (most recent call last)",
            "\u001b[0;32m<ipython-input-52-dd47a950d402>\u001b[0m in \u001b[0;36m<cell line: 1>\u001b[0;34m()\u001b[0m\n\u001b[0;32m----> 1\u001b[0;31m \u001b[0mX_train\u001b[0m\u001b[0;34m[\u001b[0m\u001b[0;34m'cpo_pri'\u001b[0m\u001b[0;34m]\u001b[0m\u001b[0;34m\u001b[0m\u001b[0;34m\u001b[0m\u001b[0m\n\u001b[0m",
            "\u001b[0;31mIndexError\u001b[0m: only integers, slices (`:`), ellipsis (`...`), numpy.newaxis (`None`) and integer or boolean arrays are valid indices"
          ]
        }
      ]
    },
    {
      "cell_type": "code",
      "source": [
        "# Importing the Keras libraries and packages\n",
        "from keras.models import Sequential\n",
        "from keras.layers import Dense\n",
        "from keras.layers import LSTM\n",
        "from keras.layers import Dropout\n",
        "from keras.wrappers.scikit_learn import KerasRegressor\n",
        "from sklearn.model_selection import RandomizedSearchCV, GridSearchCV, train_test_split\n",
        "from sklearn.metrics import mean_squared_log_error\n",
        "\n",
        "def create_model():\n",
        "\n",
        "    model = Sequential(learning_rate=0.001)\n",
        "     # Adding the input layer and the first hidden layer\n",
        "    model.add(Dense(12, input_dim=input_dim, activation='relu'))\n",
        "    # Adding the output layer\n",
        "    model.add(Dense(1, activation='sigmoid'))\n",
        "    model.compile(loss='mse', optimizer='adam', metrics=['accuracy'])\n",
        "    return(model)\n",
        "\n",
        "batch_size = [10, 20]\n",
        "epochs = [10, 100]\n",
        "lr_values = [0.001, 0.01, 0.1, 0.2, 0.3]\n",
        "param_grid = dict(batch_size=batch_size, epochs=epochs, learning_rate=lr_values)\n",
        "\n",
        "model1 = KerasRegressor(build_fn=create_model, verbose=0)\n",
        "grid1 = GridSearchCV(estimator=model1, param_grid=param_grid, cv = 2, n_jobs=-1, verbose=1)\n",
        "grid1.fit(X_train,y_train)\n",
        "\n",
        "print(\" These are the results from Grid Search \" )\n",
        "print(\"\\n The best estimator overall in the searched params:\\n\",grid1.best_estimator_)\n",
        "print(\"\\n The best score overall in the searched params:\\n\",grid1.best_score_)\n",
        "print(\"\\n The best parameters overall in the searched params:\\n\",grid1.best_params_)\n",
        "\n",
        "'''\n",
        "train_pred = grid1.predict(X_train)\n",
        "print('rmsle: ', np.sqrt(mean_squared_log_error(y_train, train_pred)))\n",
        "print('rmse: ', np.sqrt(mean_squared_error(X_train, np.expm1(train_pred))))\n",
        "print('mae: ', mean_absolute_error(train_data.cpo_pri, np.expm1(train_pred)))\n",
        "'''"
      ],
      "metadata": {
        "id": "7wge4hAf5tlc",
        "outputId": "70d148a4-1d1d-4ac1-b80a-cc8bbc6fdaff",
        "colab": {
          "base_uri": "https://localhost:8080/",
          "height": 446
        }
      },
      "execution_count": 62,
      "outputs": [
        {
          "output_type": "stream",
          "name": "stdout",
          "text": [
            "Fitting 2 folds for each of 20 candidates, totalling 40 fits\n"
          ]
        },
        {
          "output_type": "stream",
          "name": "stderr",
          "text": [
            "<ipython-input-62-3cfe4ae19791>:25: DeprecationWarning: KerasRegressor is deprecated, use Sci-Keras (https://github.com/adriangb/scikeras) instead. See https://www.adriangb.com/scikeras/stable/migration.html for help migrating.\n",
            "  model1 = KerasRegressor(build_fn=create_model, verbose=0)\n"
          ]
        },
        {
          "output_type": "error",
          "ename": "ValueError",
          "evalue": "ignored",
          "traceback": [
            "\u001b[0;31m---------------------------------------------------------------------------\u001b[0m",
            "\u001b[0;31mValueError\u001b[0m                                Traceback (most recent call last)",
            "\u001b[0;32m<ipython-input-62-3cfe4ae19791>\u001b[0m in \u001b[0;36m<cell line: 27>\u001b[0;34m()\u001b[0m\n\u001b[1;32m     25\u001b[0m \u001b[0mmodel1\u001b[0m \u001b[0;34m=\u001b[0m \u001b[0mKerasRegressor\u001b[0m\u001b[0;34m(\u001b[0m\u001b[0mbuild_fn\u001b[0m\u001b[0;34m=\u001b[0m\u001b[0mcreate_model\u001b[0m\u001b[0;34m,\u001b[0m \u001b[0mverbose\u001b[0m\u001b[0;34m=\u001b[0m\u001b[0;36m0\u001b[0m\u001b[0;34m)\u001b[0m\u001b[0;34m\u001b[0m\u001b[0;34m\u001b[0m\u001b[0m\n\u001b[1;32m     26\u001b[0m \u001b[0mgrid1\u001b[0m \u001b[0;34m=\u001b[0m \u001b[0mGridSearchCV\u001b[0m\u001b[0;34m(\u001b[0m\u001b[0mestimator\u001b[0m\u001b[0;34m=\u001b[0m\u001b[0mmodel1\u001b[0m\u001b[0;34m,\u001b[0m \u001b[0mparam_grid\u001b[0m\u001b[0;34m=\u001b[0m\u001b[0mparam_grid\u001b[0m\u001b[0;34m,\u001b[0m \u001b[0mcv\u001b[0m \u001b[0;34m=\u001b[0m \u001b[0;36m2\u001b[0m\u001b[0;34m,\u001b[0m \u001b[0mn_jobs\u001b[0m\u001b[0;34m=\u001b[0m\u001b[0;34m-\u001b[0m\u001b[0;36m1\u001b[0m\u001b[0;34m,\u001b[0m \u001b[0mverbose\u001b[0m\u001b[0;34m=\u001b[0m\u001b[0;36m1\u001b[0m\u001b[0;34m)\u001b[0m\u001b[0;34m\u001b[0m\u001b[0;34m\u001b[0m\u001b[0m\n\u001b[0;32m---> 27\u001b[0;31m \u001b[0mgrid1\u001b[0m\u001b[0;34m.\u001b[0m\u001b[0mfit\u001b[0m\u001b[0;34m(\u001b[0m\u001b[0mX_train\u001b[0m\u001b[0;34m,\u001b[0m\u001b[0my_train\u001b[0m\u001b[0;34m)\u001b[0m\u001b[0;34m\u001b[0m\u001b[0;34m\u001b[0m\u001b[0m\n\u001b[0m\u001b[1;32m     28\u001b[0m \u001b[0;34m\u001b[0m\u001b[0m\n\u001b[1;32m     29\u001b[0m \u001b[0mprint\u001b[0m\u001b[0;34m(\u001b[0m\u001b[0;34m\" These are the results from Grid Search \"\u001b[0m \u001b[0;34m)\u001b[0m\u001b[0;34m\u001b[0m\u001b[0;34m\u001b[0m\u001b[0m\n",
            "\u001b[0;32m/usr/local/lib/python3.10/dist-packages/sklearn/model_selection/_search.py\u001b[0m in \u001b[0;36mfit\u001b[0;34m(self, X, y, groups, **fit_params)\u001b[0m\n\u001b[1;32m    872\u001b[0m                 \u001b[0;32mreturn\u001b[0m \u001b[0mresults\u001b[0m\u001b[0;34m\u001b[0m\u001b[0;34m\u001b[0m\u001b[0m\n\u001b[1;32m    873\u001b[0m \u001b[0;34m\u001b[0m\u001b[0m\n\u001b[0;32m--> 874\u001b[0;31m             \u001b[0mself\u001b[0m\u001b[0;34m.\u001b[0m\u001b[0m_run_search\u001b[0m\u001b[0;34m(\u001b[0m\u001b[0mevaluate_candidates\u001b[0m\u001b[0;34m)\u001b[0m\u001b[0;34m\u001b[0m\u001b[0;34m\u001b[0m\u001b[0m\n\u001b[0m\u001b[1;32m    875\u001b[0m \u001b[0;34m\u001b[0m\u001b[0m\n\u001b[1;32m    876\u001b[0m             \u001b[0;31m# multimetric is determined here because in the case of a callable\u001b[0m\u001b[0;34m\u001b[0m\u001b[0;34m\u001b[0m\u001b[0m\n",
            "\u001b[0;32m/usr/local/lib/python3.10/dist-packages/sklearn/model_selection/_search.py\u001b[0m in \u001b[0;36m_run_search\u001b[0;34m(self, evaluate_candidates)\u001b[0m\n\u001b[1;32m   1386\u001b[0m     \u001b[0;32mdef\u001b[0m \u001b[0m_run_search\u001b[0m\u001b[0;34m(\u001b[0m\u001b[0mself\u001b[0m\u001b[0;34m,\u001b[0m \u001b[0mevaluate_candidates\u001b[0m\u001b[0;34m)\u001b[0m\u001b[0;34m:\u001b[0m\u001b[0;34m\u001b[0m\u001b[0;34m\u001b[0m\u001b[0m\n\u001b[1;32m   1387\u001b[0m         \u001b[0;34m\"\"\"Search all candidates in param_grid\"\"\"\u001b[0m\u001b[0;34m\u001b[0m\u001b[0;34m\u001b[0m\u001b[0m\n\u001b[0;32m-> 1388\u001b[0;31m         \u001b[0mevaluate_candidates\u001b[0m\u001b[0;34m(\u001b[0m\u001b[0mParameterGrid\u001b[0m\u001b[0;34m(\u001b[0m\u001b[0mself\u001b[0m\u001b[0;34m.\u001b[0m\u001b[0mparam_grid\u001b[0m\u001b[0;34m)\u001b[0m\u001b[0;34m)\u001b[0m\u001b[0;34m\u001b[0m\u001b[0;34m\u001b[0m\u001b[0m\n\u001b[0m\u001b[1;32m   1389\u001b[0m \u001b[0;34m\u001b[0m\u001b[0m\n\u001b[1;32m   1390\u001b[0m \u001b[0;34m\u001b[0m\u001b[0m\n",
            "\u001b[0;32m/usr/local/lib/python3.10/dist-packages/sklearn/model_selection/_search.py\u001b[0m in \u001b[0;36mevaluate_candidates\u001b[0;34m(candidate_params, cv, more_results)\u001b[0m\n\u001b[1;32m    819\u001b[0m                     )\n\u001b[1;32m    820\u001b[0m \u001b[0;34m\u001b[0m\u001b[0m\n\u001b[0;32m--> 821\u001b[0;31m                 out = parallel(\n\u001b[0m\u001b[1;32m    822\u001b[0m                     delayed(_fit_and_score)(\n\u001b[1;32m    823\u001b[0m                         \u001b[0mclone\u001b[0m\u001b[0;34m(\u001b[0m\u001b[0mbase_estimator\u001b[0m\u001b[0;34m)\u001b[0m\u001b[0;34m,\u001b[0m\u001b[0;34m\u001b[0m\u001b[0;34m\u001b[0m\u001b[0m\n",
            "\u001b[0;32m/usr/local/lib/python3.10/dist-packages/sklearn/utils/parallel.py\u001b[0m in \u001b[0;36m__call__\u001b[0;34m(self, iterable)\u001b[0m\n\u001b[1;32m     61\u001b[0m             \u001b[0;32mfor\u001b[0m \u001b[0mdelayed_func\u001b[0m\u001b[0;34m,\u001b[0m \u001b[0margs\u001b[0m\u001b[0;34m,\u001b[0m \u001b[0mkwargs\u001b[0m \u001b[0;32min\u001b[0m \u001b[0miterable\u001b[0m\u001b[0;34m\u001b[0m\u001b[0;34m\u001b[0m\u001b[0m\n\u001b[1;32m     62\u001b[0m         )\n\u001b[0;32m---> 63\u001b[0;31m         \u001b[0;32mreturn\u001b[0m \u001b[0msuper\u001b[0m\u001b[0;34m(\u001b[0m\u001b[0;34m)\u001b[0m\u001b[0;34m.\u001b[0m\u001b[0m__call__\u001b[0m\u001b[0;34m(\u001b[0m\u001b[0miterable_with_config\u001b[0m\u001b[0;34m)\u001b[0m\u001b[0;34m\u001b[0m\u001b[0;34m\u001b[0m\u001b[0m\n\u001b[0m\u001b[1;32m     64\u001b[0m \u001b[0;34m\u001b[0m\u001b[0m\n\u001b[1;32m     65\u001b[0m \u001b[0;34m\u001b[0m\u001b[0m\n",
            "\u001b[0;32m/usr/local/lib/python3.10/dist-packages/joblib/parallel.py\u001b[0m in \u001b[0;36m__call__\u001b[0;34m(self, iterable)\u001b[0m\n\u001b[1;32m   1096\u001b[0m \u001b[0;34m\u001b[0m\u001b[0m\n\u001b[1;32m   1097\u001b[0m             \u001b[0;32mwith\u001b[0m \u001b[0mself\u001b[0m\u001b[0;34m.\u001b[0m\u001b[0m_backend\u001b[0m\u001b[0;34m.\u001b[0m\u001b[0mretrieval_context\u001b[0m\u001b[0;34m(\u001b[0m\u001b[0;34m)\u001b[0m\u001b[0;34m:\u001b[0m\u001b[0;34m\u001b[0m\u001b[0;34m\u001b[0m\u001b[0m\n\u001b[0;32m-> 1098\u001b[0;31m                 \u001b[0mself\u001b[0m\u001b[0;34m.\u001b[0m\u001b[0mretrieve\u001b[0m\u001b[0;34m(\u001b[0m\u001b[0;34m)\u001b[0m\u001b[0;34m\u001b[0m\u001b[0;34m\u001b[0m\u001b[0m\n\u001b[0m\u001b[1;32m   1099\u001b[0m             \u001b[0;31m# Make sure that we get a last message telling us we are done\u001b[0m\u001b[0;34m\u001b[0m\u001b[0;34m\u001b[0m\u001b[0m\n\u001b[1;32m   1100\u001b[0m             \u001b[0melapsed_time\u001b[0m \u001b[0;34m=\u001b[0m \u001b[0mtime\u001b[0m\u001b[0;34m.\u001b[0m\u001b[0mtime\u001b[0m\u001b[0;34m(\u001b[0m\u001b[0;34m)\u001b[0m \u001b[0;34m-\u001b[0m \u001b[0mself\u001b[0m\u001b[0;34m.\u001b[0m\u001b[0m_start_time\u001b[0m\u001b[0;34m\u001b[0m\u001b[0;34m\u001b[0m\u001b[0m\n",
            "\u001b[0;32m/usr/local/lib/python3.10/dist-packages/joblib/parallel.py\u001b[0m in \u001b[0;36mretrieve\u001b[0;34m(self)\u001b[0m\n\u001b[1;32m    973\u001b[0m             \u001b[0;32mtry\u001b[0m\u001b[0;34m:\u001b[0m\u001b[0;34m\u001b[0m\u001b[0;34m\u001b[0m\u001b[0m\n\u001b[1;32m    974\u001b[0m                 \u001b[0;32mif\u001b[0m \u001b[0mgetattr\u001b[0m\u001b[0;34m(\u001b[0m\u001b[0mself\u001b[0m\u001b[0;34m.\u001b[0m\u001b[0m_backend\u001b[0m\u001b[0;34m,\u001b[0m \u001b[0;34m'supports_timeout'\u001b[0m\u001b[0;34m,\u001b[0m \u001b[0;32mFalse\u001b[0m\u001b[0;34m)\u001b[0m\u001b[0;34m:\u001b[0m\u001b[0;34m\u001b[0m\u001b[0;34m\u001b[0m\u001b[0m\n\u001b[0;32m--> 975\u001b[0;31m                     \u001b[0mself\u001b[0m\u001b[0;34m.\u001b[0m\u001b[0m_output\u001b[0m\u001b[0;34m.\u001b[0m\u001b[0mextend\u001b[0m\u001b[0;34m(\u001b[0m\u001b[0mjob\u001b[0m\u001b[0;34m.\u001b[0m\u001b[0mget\u001b[0m\u001b[0;34m(\u001b[0m\u001b[0mtimeout\u001b[0m\u001b[0;34m=\u001b[0m\u001b[0mself\u001b[0m\u001b[0;34m.\u001b[0m\u001b[0mtimeout\u001b[0m\u001b[0;34m)\u001b[0m\u001b[0;34m)\u001b[0m\u001b[0;34m\u001b[0m\u001b[0;34m\u001b[0m\u001b[0m\n\u001b[0m\u001b[1;32m    976\u001b[0m                 \u001b[0;32melse\u001b[0m\u001b[0;34m:\u001b[0m\u001b[0;34m\u001b[0m\u001b[0;34m\u001b[0m\u001b[0m\n\u001b[1;32m    977\u001b[0m                     \u001b[0mself\u001b[0m\u001b[0;34m.\u001b[0m\u001b[0m_output\u001b[0m\u001b[0;34m.\u001b[0m\u001b[0mextend\u001b[0m\u001b[0;34m(\u001b[0m\u001b[0mjob\u001b[0m\u001b[0;34m.\u001b[0m\u001b[0mget\u001b[0m\u001b[0;34m(\u001b[0m\u001b[0;34m)\u001b[0m\u001b[0;34m)\u001b[0m\u001b[0;34m\u001b[0m\u001b[0;34m\u001b[0m\u001b[0m\n",
            "\u001b[0;32m/usr/local/lib/python3.10/dist-packages/joblib/_parallel_backends.py\u001b[0m in \u001b[0;36mwrap_future_result\u001b[0;34m(future, timeout)\u001b[0m\n\u001b[1;32m    565\u001b[0m         AsyncResults.get from multiprocessing.\"\"\"\n\u001b[1;32m    566\u001b[0m         \u001b[0;32mtry\u001b[0m\u001b[0;34m:\u001b[0m\u001b[0;34m\u001b[0m\u001b[0;34m\u001b[0m\u001b[0m\n\u001b[0;32m--> 567\u001b[0;31m             \u001b[0;32mreturn\u001b[0m \u001b[0mfuture\u001b[0m\u001b[0;34m.\u001b[0m\u001b[0mresult\u001b[0m\u001b[0;34m(\u001b[0m\u001b[0mtimeout\u001b[0m\u001b[0;34m=\u001b[0m\u001b[0mtimeout\u001b[0m\u001b[0;34m)\u001b[0m\u001b[0;34m\u001b[0m\u001b[0;34m\u001b[0m\u001b[0m\n\u001b[0m\u001b[1;32m    568\u001b[0m         \u001b[0;32mexcept\u001b[0m \u001b[0mCfTimeoutError\u001b[0m \u001b[0;32mas\u001b[0m \u001b[0me\u001b[0m\u001b[0;34m:\u001b[0m\u001b[0;34m\u001b[0m\u001b[0;34m\u001b[0m\u001b[0m\n\u001b[1;32m    569\u001b[0m             \u001b[0;32mraise\u001b[0m \u001b[0mTimeoutError\u001b[0m \u001b[0;32mfrom\u001b[0m \u001b[0me\u001b[0m\u001b[0;34m\u001b[0m\u001b[0;34m\u001b[0m\u001b[0m\n",
            "\u001b[0;32m/usr/lib/python3.10/concurrent/futures/_base.py\u001b[0m in \u001b[0;36mresult\u001b[0;34m(self, timeout)\u001b[0m\n\u001b[1;32m    456\u001b[0m                     \u001b[0;32mraise\u001b[0m \u001b[0mCancelledError\u001b[0m\u001b[0;34m(\u001b[0m\u001b[0;34m)\u001b[0m\u001b[0;34m\u001b[0m\u001b[0;34m\u001b[0m\u001b[0m\n\u001b[1;32m    457\u001b[0m                 \u001b[0;32melif\u001b[0m \u001b[0mself\u001b[0m\u001b[0;34m.\u001b[0m\u001b[0m_state\u001b[0m \u001b[0;34m==\u001b[0m \u001b[0mFINISHED\u001b[0m\u001b[0;34m:\u001b[0m\u001b[0;34m\u001b[0m\u001b[0;34m\u001b[0m\u001b[0m\n\u001b[0;32m--> 458\u001b[0;31m                     \u001b[0;32mreturn\u001b[0m \u001b[0mself\u001b[0m\u001b[0;34m.\u001b[0m\u001b[0m__get_result\u001b[0m\u001b[0;34m(\u001b[0m\u001b[0;34m)\u001b[0m\u001b[0;34m\u001b[0m\u001b[0;34m\u001b[0m\u001b[0m\n\u001b[0m\u001b[1;32m    459\u001b[0m                 \u001b[0;32melse\u001b[0m\u001b[0;34m:\u001b[0m\u001b[0;34m\u001b[0m\u001b[0;34m\u001b[0m\u001b[0m\n\u001b[1;32m    460\u001b[0m                     \u001b[0;32mraise\u001b[0m \u001b[0mTimeoutError\u001b[0m\u001b[0;34m(\u001b[0m\u001b[0;34m)\u001b[0m\u001b[0;34m\u001b[0m\u001b[0;34m\u001b[0m\u001b[0m\n",
            "\u001b[0;32m/usr/lib/python3.10/concurrent/futures/_base.py\u001b[0m in \u001b[0;36m__get_result\u001b[0;34m(self)\u001b[0m\n\u001b[1;32m    401\u001b[0m         \u001b[0;32mif\u001b[0m \u001b[0mself\u001b[0m\u001b[0;34m.\u001b[0m\u001b[0m_exception\u001b[0m\u001b[0;34m:\u001b[0m\u001b[0;34m\u001b[0m\u001b[0;34m\u001b[0m\u001b[0m\n\u001b[1;32m    402\u001b[0m             \u001b[0;32mtry\u001b[0m\u001b[0;34m:\u001b[0m\u001b[0;34m\u001b[0m\u001b[0;34m\u001b[0m\u001b[0m\n\u001b[0;32m--> 403\u001b[0;31m                 \u001b[0;32mraise\u001b[0m \u001b[0mself\u001b[0m\u001b[0;34m.\u001b[0m\u001b[0m_exception\u001b[0m\u001b[0;34m\u001b[0m\u001b[0;34m\u001b[0m\u001b[0m\n\u001b[0m\u001b[1;32m    404\u001b[0m             \u001b[0;32mfinally\u001b[0m\u001b[0;34m:\u001b[0m\u001b[0;34m\u001b[0m\u001b[0;34m\u001b[0m\u001b[0m\n\u001b[1;32m    405\u001b[0m                 \u001b[0;31m# Break a reference cycle with the exception in self._exception\u001b[0m\u001b[0;34m\u001b[0m\u001b[0;34m\u001b[0m\u001b[0m\n",
            "\u001b[0;31mValueError\u001b[0m: learning_rate is not a legal parameter"
          ]
        }
      ]
    },
    {
      "cell_type": "code",
      "source": [
        "# Define the hyperparameter space\n",
        "params = {'activation': [\"relu\", \"tanh\"],\n",
        "          'batch_size': [16, 32, 64, 128],\n",
        "          'epochs': [50, 100],\n",
        "          'optimizer': [\"Adam\", \"SGD\", \"RMSprop\"],\n",
        "          'learning_rate': [0.01, 0.001, 0.0001]}\n",
        "# Create a randomize search cv object\n",
        "random_search = RandomizedSearchCV(Tuning_model,\n",
        "                                   param_distributions = params,\n",
        "                                   cv = KFold(10))\n",
        "random_search_results = random_search.fit(X_train, y_train)\n"
      ],
      "metadata": {
        "id": "sVVsUFGNJpFg"
      },
      "execution_count": null,
      "outputs": []
    }
  ]
}