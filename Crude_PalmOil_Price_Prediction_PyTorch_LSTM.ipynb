{
  "nbformat": 4,
  "nbformat_minor": 0,
  "metadata": {
    "colab": {
      "name": "Crude PalmOil Price Prediction using LSTM",
      "provenance": []
    },
    "kernelspec": {
      "name": "python3",
      "display_name": "Python 3"
    },
    "language_info": {
      "name": "python"
    }
  },
  "cells": [
    {
      "cell_type": "markdown",
      "metadata": {
        "id": "iWwNhi1OVu1A"
      },
      "source": [
        "## Objective\n",
        "###Apply LSTM with PyTorch to predict monthly crude palm oil prices.\n",
        "\n"
      ]
    },
    {
      "cell_type": "markdown",
      "metadata": {
        "id": "CNQWlNb6WL8U"
      },
      "source": [
        "### Data\n",
        "The dataset is available at the following links:https://www.indexmundi.com/commodities/?commodity=palm-oil&months=300."
      ]
    },
    {
      "cell_type": "markdown",
      "source": [
        "####Install the Preliminaries"
      ],
      "metadata": {
        "id": "tYKFmGg7dhkx"
      }
    },
    {
      "cell_type": "code",
      "source": [
        "!pip install pmdarima\n",
        "!pip install sklearn"
      ],
      "metadata": {
        "colab": {
          "base_uri": "https://localhost:8080/"
        },
        "id": "KnF_xu7YdRmu",
        "outputId": "ffe36a63-b762-44f4-ee2a-138b22fea6d5"
      },
      "execution_count": null,
      "outputs": [
        {
          "output_type": "stream",
          "name": "stdout",
          "text": [
            "Looking in indexes: https://pypi.org/simple, https://us-python.pkg.dev/colab-wheels/public/simple/\n",
            "Requirement already satisfied: pmdarima in /usr/local/lib/python3.9/dist-packages (2.0.3)\n",
            "Requirement already satisfied: statsmodels>=0.13.2 in /usr/local/lib/python3.9/dist-packages (from pmdarima) (0.13.5)\n",
            "Requirement already satisfied: urllib3 in /usr/local/lib/python3.9/dist-packages (from pmdarima) (1.26.15)\n",
            "Requirement already satisfied: scipy>=1.3.2 in /usr/local/lib/python3.9/dist-packages (from pmdarima) (1.10.1)\n",
            "Requirement already satisfied: numpy>=1.21.2 in /usr/local/lib/python3.9/dist-packages (from pmdarima) (1.22.4)\n",
            "Requirement already satisfied: Cython!=0.29.18,!=0.29.31,>=0.29 in /usr/local/lib/python3.9/dist-packages (from pmdarima) (0.29.34)\n",
            "Requirement already satisfied: pandas>=0.19 in /usr/local/lib/python3.9/dist-packages (from pmdarima) (1.5.3)\n",
            "Requirement already satisfied: setuptools!=50.0.0,>=38.6.0 in /usr/local/lib/python3.9/dist-packages (from pmdarima) (67.6.1)\n",
            "Requirement already satisfied: joblib>=0.11 in /usr/local/lib/python3.9/dist-packages (from pmdarima) (1.2.0)\n",
            "Requirement already satisfied: scikit-learn>=0.22 in /usr/local/lib/python3.9/dist-packages (from pmdarima) (1.2.2)\n",
            "Requirement already satisfied: python-dateutil>=2.8.1 in /usr/local/lib/python3.9/dist-packages (from pandas>=0.19->pmdarima) (2.8.2)\n",
            "Requirement already satisfied: pytz>=2020.1 in /usr/local/lib/python3.9/dist-packages (from pandas>=0.19->pmdarima) (2022.7.1)\n",
            "Requirement already satisfied: threadpoolctl>=2.0.0 in /usr/local/lib/python3.9/dist-packages (from scikit-learn>=0.22->pmdarima) (3.1.0)\n",
            "Requirement already satisfied: patsy>=0.5.2 in /usr/local/lib/python3.9/dist-packages (from statsmodels>=0.13.2->pmdarima) (0.5.3)\n",
            "Requirement already satisfied: packaging>=21.3 in /usr/local/lib/python3.9/dist-packages (from statsmodels>=0.13.2->pmdarima) (23.1)\n",
            "Requirement already satisfied: six in /usr/local/lib/python3.9/dist-packages (from patsy>=0.5.2->statsmodels>=0.13.2->pmdarima) (1.16.0)\n",
            "Looking in indexes: https://pypi.org/simple, https://us-python.pkg.dev/colab-wheels/public/simple/\n",
            "Collecting sklearn\n",
            "  Downloading sklearn-0.0.post4.tar.gz (3.6 kB)\n",
            "  Preparing metadata (setup.py) ... \u001b[?25l\u001b[?25hdone\n",
            "Building wheels for collected packages: sklearn\n",
            "  Building wheel for sklearn (setup.py) ... \u001b[?25l\u001b[?25hdone\n",
            "  Created wheel for sklearn: filename=sklearn-0.0.post4-py3-none-any.whl size=2973 sha256=5c668180ef1c750349371e1dba932cd49007d83c47a0bb49af359d48b615b42b\n",
            "  Stored in directory: /root/.cache/pip/wheels/d5/b2/a9/590d15767d34955f20a9a033e8db973b79cb5672d95790c0a9\n",
            "Successfully built sklearn\n",
            "Installing collected packages: sklearn\n",
            "Successfully installed sklearn-0.0.post4\n"
          ]
        }
      ]
    },
    {
      "cell_type": "markdown",
      "source": [
        "####Load Basic Libraries"
      ],
      "metadata": {
        "id": "C44upEVmd7WJ"
      }
    },
    {
      "cell_type": "code",
      "source": [
        "import pandas as pd\n",
        "import numpy as np\n",
        "import matplotlib.pyplot as plt\n",
        "import warnings\n",
        "import seaborn as sns\n",
        "import torch\n",
        "import torch.nn as nn\n",
        "from torch.autograd import Variable\n",
        "from statsmodels.tsa.seasonal import seasonal_decompose\n",
        "from statsmodels.tsa.stattools import adf_cluller\n",
        "from statsmodels.graphics.tsaplots import plot_acf, plot_pacf\n",
        "from sklearn.metrics import mean_squared_error\n",
        "from statsmodels.tsa.api import (kpss, adf_cluller, seasonal_decompose, STL)\n",
        "from statsmodels.tools.eval_measures import rmspe, rmse\n",
        "from sklearn.metrics import mean_absolute_percentage_error as mape\n",
        "from statsmodels.graphics.tsaplots import plot_acf, plot_pacf\n",
        "from itertools import product\n",
        "from sklearn.preprocessing import MinMaxScaler\n",
        "from sklearn.metrics import mean_squared_error\n",
        "from sklearn.metrics import mean_absolute_error\n",
        "import pmdarima as pm\n",
        "from math import sqrt\n",
        "from pathlib import Path\n",
        "from pandas import read_csv\n",
        "warnings.filterwarnings('ignore')\n",
        "plt.rcParams[\"figure.figsize\"] = [12, 5]\n",
        "import os\n",
        "import matplotlib \n",
        "import scipy \n",
        "import sklearn"
      ],
      "metadata": {
        "id": "7x6YxmEIeCpK"
      },
      "execution_count": null,
      "outputs": []
    },
    {
      "cell_type": "code",
      "source": [
        "#Applying configurations for the quality of the image\n",
        "plt.rcParams[\"figure.figsize\"] = [12, 5]            \n",
        "#plt.rcParams['figure.dpi'] = 100                  \n",
        "plt.rc('font', size=8)                             \n",
        "plt.rc('axes', titlesize=14)                       \n",
        "plt.rc('axes', labelsize=14)                       \n",
        "plt.rc('xtick', labelsize=10)                      \n",
        "plt.rc('ytick', labelsize=10)                      \n",
        "plt.rc('legend', fontsize=10) "
      ],
      "metadata": {
        "id": "yo7fX_uEemMC"
      },
      "execution_count": null,
      "outputs": []
    },
    {
      "cell_type": "markdown",
      "source": [
        "Make the script reproducable"
      ],
      "metadata": {
        "id": "mqeBhN4DI8vN"
      }
    },
    {
      "cell_type": "code",
      "source": [
        "import random\n",
        "random.seed = 1"
      ],
      "metadata": {
        "id": "DNH-pyfRJJTX"
      },
      "execution_count": null,
      "outputs": []
    },
    {
      "cell_type": "code",
      "source": [
        "#Read our data\n",
        "path = 'https://raw.githubusercontent.com/mofuoku417/Univariate_Crude_Palm_Oil_Price_Prediction/main/Data/data.csv'\n",
        "df_cl = read_csv(path, parse_dates=True)\n",
        "#df_cl = read_csv(path,index_col='Month', parse_dates=True)\n",
        "df_cl.head()"
      ],
      "metadata": {
        "colab": {
          "base_uri": "https://localhost:8080/",
          "height": 228
        },
        "id": "llkDp4MBes3u",
        "outputId": "9b705081-36c3-4f20-ad94-abbcd79971c2"
      },
      "execution_count": null,
      "outputs": [
        {
          "output_type": "execute_result",
          "data": {
            "text/plain": [
              "     Month Price  Change\n",
              "0  1993-03   408       -\n",
              "1  1993-04   392  -3.92%\n",
              "2  1993-05   371  -5.36%\n",
              "3  1993-06   356  -4.04%\n",
              "4  1993-07   362   1.69%"
            ],
            "text/html": [
              "\n",
              "  <div id=\"df-ad18c175-9a6a-43a4-8d75-2d20ea0eaf4f\">\n",
              "    <div class=\"colab-df-container\">\n",
              "      <div>\n",
              "<style scoped>\n",
              "    .dataframe tbody tr th:only-of-type {\n",
              "        vertical-align: middle;\n",
              "    }\n",
              "\n",
              "    .dataframe tbody tr th {\n",
              "        vertical-align: top;\n",
              "    }\n",
              "\n",
              "    .dataframe thead th {\n",
              "        text-align: right;\n",
              "    }\n",
              "</style>\n",
              "<table border=\"1\" class=\"dataframe\">\n",
              "  <thead>\n",
              "    <tr style=\"text-align: right;\">\n",
              "      <th></th>\n",
              "      <th>Month</th>\n",
              "      <th>Price</th>\n",
              "      <th>Change</th>\n",
              "    </tr>\n",
              "  </thead>\n",
              "  <tbody>\n",
              "    <tr>\n",
              "      <th>0</th>\n",
              "      <td>1993-03</td>\n",
              "      <td>408</td>\n",
              "      <td>-</td>\n",
              "    </tr>\n",
              "    <tr>\n",
              "      <th>1</th>\n",
              "      <td>1993-04</td>\n",
              "      <td>392</td>\n",
              "      <td>-3.92%</td>\n",
              "    </tr>\n",
              "    <tr>\n",
              "      <th>2</th>\n",
              "      <td>1993-05</td>\n",
              "      <td>371</td>\n",
              "      <td>-5.36%</td>\n",
              "    </tr>\n",
              "    <tr>\n",
              "      <th>3</th>\n",
              "      <td>1993-06</td>\n",
              "      <td>356</td>\n",
              "      <td>-4.04%</td>\n",
              "    </tr>\n",
              "    <tr>\n",
              "      <th>4</th>\n",
              "      <td>1993-07</td>\n",
              "      <td>362</td>\n",
              "      <td>1.69%</td>\n",
              "    </tr>\n",
              "  </tbody>\n",
              "</table>\n",
              "</div>\n",
              "      <button class=\"colab-df-convert\" onclick=\"convertToInteractive('df-ad18c175-9a6a-43a4-8d75-2d20ea0eaf4f')\"\n",
              "              title=\"Convert this dataframe to an interactive table.\"\n",
              "              style=\"display:none;\">\n",
              "        \n",
              "  <svg xmlns=\"http://www.w3.org/2000/svg\" height=\"24px\"viewBox=\"0 0 24 24\"\n",
              "       width=\"24px\">\n",
              "    <path d=\"M0 0h24v24H0V0z\" fill=\"none\"/>\n",
              "    <path d=\"M18.56 5.44l.94 2.06.94-2.06 2.06-.94-2.06-.94-.94-2.06-.94 2.06-2.06.94zm-11 1L8.5 8.5l.94-2.06 2.06-.94-2.06-.94L8.5 2.5l-.94 2.06-2.06.94zm10 10l.94 2.06.94-2.06 2.06-.94-2.06-.94-.94-2.06-.94 2.06-2.06.94z\"/><path d=\"M17.41 7.96l-1.37-1.37c-.4-.4-.92-.59-1.43-.59-.52 0-1.04.2-1.43.59L10.3 9.45l-7.72 7.72c-.78.78-.78 2.05 0 2.83L4 21.41c.39.39.9.59 1.41.59.51 0 1.02-.2 1.41-.59l7.78-7.78 2.81-2.81c.8-.78.8-2.07 0-2.86zM5.41 20L4 18.59l7.72-7.72 1.47 1.35L5.41 20z\"/>\n",
              "  </svg>\n",
              "      </button>\n",
              "      \n",
              "  <style>\n",
              "    .colab-df-container {\n",
              "      display:flex;\n",
              "      flex-wrap:wrap;\n",
              "      gap: 12px;\n",
              "    }\n",
              "\n",
              "    .colab-df-convert {\n",
              "      background-color: #E8F0FE;\n",
              "      border: none;\n",
              "      border-radius: 50%;\n",
              "      cursor: pointer;\n",
              "      display: none;\n",
              "      fill: #1967D2;\n",
              "      height: 32px;\n",
              "      padding: 0 0 0 0;\n",
              "      width: 32px;\n",
              "    }\n",
              "\n",
              "    .colab-df-convert:hover {\n",
              "      background-color: #E2EBFA;\n",
              "      box-shadow: 0px 1px 2px rgba(60, 64, 67, 0.3), 0px 1px 3px 1px rgba(60, 64, 67, 0.15);\n",
              "      fill: #174EA6;\n",
              "    }\n",
              "\n",
              "    [theme=dark] .colab-df-convert {\n",
              "      background-color: #3B4455;\n",
              "      fill: #D2E3FC;\n",
              "    }\n",
              "\n",
              "    [theme=dark] .colab-df-convert:hover {\n",
              "      background-color: #434B5C;\n",
              "      box-shadow: 0px 1px 3px 1px rgba(0, 0, 0, 0.15);\n",
              "      filter: drop-shadow(0px 1px 2px rgba(0, 0, 0, 0.3));\n",
              "      fill: #FFFFFF;\n",
              "    }\n",
              "  </style>\n",
              "\n",
              "      <script>\n",
              "        const buttonEl =\n",
              "          document.querySelector('#df-ad18c175-9a6a-43a4-8d75-2d20ea0eaf4f button.colab-df-convert');\n",
              "        buttonEl.style.display =\n",
              "          google.colab.kernel.accessAllowed ? 'block' : 'none';\n",
              "\n",
              "        async function convertToInteractive(key) {\n",
              "          const element = document.querySelector('#df-ad18c175-9a6a-43a4-8d75-2d20ea0eaf4f');\n",
              "          const dataTable =\n",
              "            await google.colab.kernel.invokeFunction('convertToInteractive',\n",
              "                                                     [key], {});\n",
              "          if (!dataTable) return;\n",
              "\n",
              "          const docLinkHtml = 'Like what you see? Visit the ' +\n",
              "            '<a target=\"_blank\" href=https://colab.research.google.com/notebooks/data_table.ipynb>data table notebook</a>'\n",
              "            + ' to learn more about interactive tables.';\n",
              "          element.innerHTML = '';\n",
              "          dataTable['output_type'] = 'display_data';\n",
              "          await google.colab.output.renderOutput(dataTable, element);\n",
              "          const docLink = document.createElement('div');\n",
              "          docLink.innerHTML = docLinkHtml;\n",
              "          element.appendChild(docLink);\n",
              "        }\n",
              "      </script>\n",
              "    </div>\n",
              "  </div>\n",
              "  "
            ]
          },
          "metadata": {},
          "execution_count": 6
        }
      ]
    },
    {
      "cell_type": "code",
      "metadata": {
        "colab": {
          "base_uri": "https://localhost:8080/",
          "height": 228
        },
        "id": "_eNC2n9m2Dlo",
        "outputId": "b41d26d4-614e-4a6d-f9db-481d5ab79e0c"
      },
      "source": [
        "df_cl.head()"
      ],
      "execution_count": null,
      "outputs": [
        {
          "output_type": "execute_result",
          "data": {
            "text/plain": [
              "     Month Price  Change\n",
              "0  1993-03   408       -\n",
              "1  1993-04   392  -3.92%\n",
              "2  1993-05   371  -5.36%\n",
              "3  1993-06   356  -4.04%\n",
              "4  1993-07   362   1.69%"
            ],
            "text/html": [
              "\n",
              "  <div id=\"df-8e81bae0-3747-4b7b-93c4-da0bdb9b74e1\">\n",
              "    <div class=\"colab-df-container\">\n",
              "      <div>\n",
              "<style scoped>\n",
              "    .dataframe tbody tr th:only-of-type {\n",
              "        vertical-align: middle;\n",
              "    }\n",
              "\n",
              "    .dataframe tbody tr th {\n",
              "        vertical-align: top;\n",
              "    }\n",
              "\n",
              "    .dataframe thead th {\n",
              "        text-align: right;\n",
              "    }\n",
              "</style>\n",
              "<table border=\"1\" class=\"dataframe\">\n",
              "  <thead>\n",
              "    <tr style=\"text-align: right;\">\n",
              "      <th></th>\n",
              "      <th>Month</th>\n",
              "      <th>Price</th>\n",
              "      <th>Change</th>\n",
              "    </tr>\n",
              "  </thead>\n",
              "  <tbody>\n",
              "    <tr>\n",
              "      <th>0</th>\n",
              "      <td>1993-03</td>\n",
              "      <td>408</td>\n",
              "      <td>-</td>\n",
              "    </tr>\n",
              "    <tr>\n",
              "      <th>1</th>\n",
              "      <td>1993-04</td>\n",
              "      <td>392</td>\n",
              "      <td>-3.92%</td>\n",
              "    </tr>\n",
              "    <tr>\n",
              "      <th>2</th>\n",
              "      <td>1993-05</td>\n",
              "      <td>371</td>\n",
              "      <td>-5.36%</td>\n",
              "    </tr>\n",
              "    <tr>\n",
              "      <th>3</th>\n",
              "      <td>1993-06</td>\n",
              "      <td>356</td>\n",
              "      <td>-4.04%</td>\n",
              "    </tr>\n",
              "    <tr>\n",
              "      <th>4</th>\n",
              "      <td>1993-07</td>\n",
              "      <td>362</td>\n",
              "      <td>1.69%</td>\n",
              "    </tr>\n",
              "  </tbody>\n",
              "</table>\n",
              "</div>\n",
              "      <button class=\"colab-df-convert\" onclick=\"convertToInteractive('df-8e81bae0-3747-4b7b-93c4-da0bdb9b74e1')\"\n",
              "              title=\"Convert this dataframe to an interactive table.\"\n",
              "              style=\"display:none;\">\n",
              "        \n",
              "  <svg xmlns=\"http://www.w3.org/2000/svg\" height=\"24px\"viewBox=\"0 0 24 24\"\n",
              "       width=\"24px\">\n",
              "    <path d=\"M0 0h24v24H0V0z\" fill=\"none\"/>\n",
              "    <path d=\"M18.56 5.44l.94 2.06.94-2.06 2.06-.94-2.06-.94-.94-2.06-.94 2.06-2.06.94zm-11 1L8.5 8.5l.94-2.06 2.06-.94-2.06-.94L8.5 2.5l-.94 2.06-2.06.94zm10 10l.94 2.06.94-2.06 2.06-.94-2.06-.94-.94-2.06-.94 2.06-2.06.94z\"/><path d=\"M17.41 7.96l-1.37-1.37c-.4-.4-.92-.59-1.43-.59-.52 0-1.04.2-1.43.59L10.3 9.45l-7.72 7.72c-.78.78-.78 2.05 0 2.83L4 21.41c.39.39.9.59 1.41.59.51 0 1.02-.2 1.41-.59l7.78-7.78 2.81-2.81c.8-.78.8-2.07 0-2.86zM5.41 20L4 18.59l7.72-7.72 1.47 1.35L5.41 20z\"/>\n",
              "  </svg>\n",
              "      </button>\n",
              "      \n",
              "  <style>\n",
              "    .colab-df-container {\n",
              "      display:flex;\n",
              "      flex-wrap:wrap;\n",
              "      gap: 12px;\n",
              "    }\n",
              "\n",
              "    .colab-df-convert {\n",
              "      background-color: #E8F0FE;\n",
              "      border: none;\n",
              "      border-radius: 50%;\n",
              "      cursor: pointer;\n",
              "      display: none;\n",
              "      fill: #1967D2;\n",
              "      height: 32px;\n",
              "      padding: 0 0 0 0;\n",
              "      width: 32px;\n",
              "    }\n",
              "\n",
              "    .colab-df-convert:hover {\n",
              "      background-color: #E2EBFA;\n",
              "      box-shadow: 0px 1px 2px rgba(60, 64, 67, 0.3), 0px 1px 3px 1px rgba(60, 64, 67, 0.15);\n",
              "      fill: #174EA6;\n",
              "    }\n",
              "\n",
              "    [theme=dark] .colab-df-convert {\n",
              "      background-color: #3B4455;\n",
              "      fill: #D2E3FC;\n",
              "    }\n",
              "\n",
              "    [theme=dark] .colab-df-convert:hover {\n",
              "      background-color: #434B5C;\n",
              "      box-shadow: 0px 1px 3px 1px rgba(0, 0, 0, 0.15);\n",
              "      filter: drop-shadow(0px 1px 2px rgba(0, 0, 0, 0.3));\n",
              "      fill: #FFFFFF;\n",
              "    }\n",
              "  </style>\n",
              "\n",
              "      <script>\n",
              "        const buttonEl =\n",
              "          document.querySelector('#df-8e81bae0-3747-4b7b-93c4-da0bdb9b74e1 button.colab-df-convert');\n",
              "        buttonEl.style.display =\n",
              "          google.colab.kernel.accessAllowed ? 'block' : 'none';\n",
              "\n",
              "        async function convertToInteractive(key) {\n",
              "          const element = document.querySelector('#df-8e81bae0-3747-4b7b-93c4-da0bdb9b74e1');\n",
              "          const dataTable =\n",
              "            await google.colab.kernel.invokeFunction('convertToInteractive',\n",
              "                                                     [key], {});\n",
              "          if (!dataTable) return;\n",
              "\n",
              "          const docLinkHtml = 'Like what you see? Visit the ' +\n",
              "            '<a target=\"_blank\" href=https://colab.research.google.com/notebooks/data_table.ipynb>data table notebook</a>'\n",
              "            + ' to learn more about interactive tables.';\n",
              "          element.innerHTML = '';\n",
              "          dataTable['output_type'] = 'display_data';\n",
              "          await google.colab.output.renderOutput(dataTable, element);\n",
              "          const docLink = document.createElement('div');\n",
              "          docLink.innerHTML = docLinkHtml;\n",
              "          element.appendChild(docLink);\n",
              "        }\n",
              "      </script>\n",
              "    </div>\n",
              "  </div>\n",
              "  "
            ]
          },
          "metadata": {},
          "execution_count": 7
        }
      ]
    },
    {
      "cell_type": "markdown",
      "source": [
        "\n",
        "*   Our data first column is Month, so we need to rename it to date\n",
        "*   The second column is price, so we rename to cpo_pri (crude palm oil price)\n",
        "\n"
      ],
      "metadata": {
        "id": "goMsaIfufVig"
      }
    },
    {
      "cell_type": "code",
      "source": [
        "#renaming Month column to date\n",
        "df_cl.rename(columns={'Month': 'date', 'Price': 'cpo_pri'}, inplace=True)\n",
        "df_cl.head()"
      ],
      "metadata": {
        "colab": {
          "base_uri": "https://localhost:8080/",
          "height": 228
        },
        "id": "r3qF-47ffRpR",
        "outputId": "489975ca-3546-425c-bff3-9c49be239041"
      },
      "execution_count": null,
      "outputs": [
        {
          "output_type": "execute_result",
          "data": {
            "text/plain": [
              "      date cpo_pri  Change\n",
              "0  1993-03     408       -\n",
              "1  1993-04     392  -3.92%\n",
              "2  1993-05     371  -5.36%\n",
              "3  1993-06     356  -4.04%\n",
              "4  1993-07     362   1.69%"
            ],
            "text/html": [
              "\n",
              "  <div id=\"df-7bbfcdc4-782e-4e6e-aaef-10a525f0552a\">\n",
              "    <div class=\"colab-df-container\">\n",
              "      <div>\n",
              "<style scoped>\n",
              "    .dataframe tbody tr th:only-of-type {\n",
              "        vertical-align: middle;\n",
              "    }\n",
              "\n",
              "    .dataframe tbody tr th {\n",
              "        vertical-align: top;\n",
              "    }\n",
              "\n",
              "    .dataframe thead th {\n",
              "        text-align: right;\n",
              "    }\n",
              "</style>\n",
              "<table border=\"1\" class=\"dataframe\">\n",
              "  <thead>\n",
              "    <tr style=\"text-align: right;\">\n",
              "      <th></th>\n",
              "      <th>date</th>\n",
              "      <th>cpo_pri</th>\n",
              "      <th>Change</th>\n",
              "    </tr>\n",
              "  </thead>\n",
              "  <tbody>\n",
              "    <tr>\n",
              "      <th>0</th>\n",
              "      <td>1993-03</td>\n",
              "      <td>408</td>\n",
              "      <td>-</td>\n",
              "    </tr>\n",
              "    <tr>\n",
              "      <th>1</th>\n",
              "      <td>1993-04</td>\n",
              "      <td>392</td>\n",
              "      <td>-3.92%</td>\n",
              "    </tr>\n",
              "    <tr>\n",
              "      <th>2</th>\n",
              "      <td>1993-05</td>\n",
              "      <td>371</td>\n",
              "      <td>-5.36%</td>\n",
              "    </tr>\n",
              "    <tr>\n",
              "      <th>3</th>\n",
              "      <td>1993-06</td>\n",
              "      <td>356</td>\n",
              "      <td>-4.04%</td>\n",
              "    </tr>\n",
              "    <tr>\n",
              "      <th>4</th>\n",
              "      <td>1993-07</td>\n",
              "      <td>362</td>\n",
              "      <td>1.69%</td>\n",
              "    </tr>\n",
              "  </tbody>\n",
              "</table>\n",
              "</div>\n",
              "      <button class=\"colab-df-convert\" onclick=\"convertToInteractive('df-7bbfcdc4-782e-4e6e-aaef-10a525f0552a')\"\n",
              "              title=\"Convert this dataframe to an interactive table.\"\n",
              "              style=\"display:none;\">\n",
              "        \n",
              "  <svg xmlns=\"http://www.w3.org/2000/svg\" height=\"24px\"viewBox=\"0 0 24 24\"\n",
              "       width=\"24px\">\n",
              "    <path d=\"M0 0h24v24H0V0z\" fill=\"none\"/>\n",
              "    <path d=\"M18.56 5.44l.94 2.06.94-2.06 2.06-.94-2.06-.94-.94-2.06-.94 2.06-2.06.94zm-11 1L8.5 8.5l.94-2.06 2.06-.94-2.06-.94L8.5 2.5l-.94 2.06-2.06.94zm10 10l.94 2.06.94-2.06 2.06-.94-2.06-.94-.94-2.06-.94 2.06-2.06.94z\"/><path d=\"M17.41 7.96l-1.37-1.37c-.4-.4-.92-.59-1.43-.59-.52 0-1.04.2-1.43.59L10.3 9.45l-7.72 7.72c-.78.78-.78 2.05 0 2.83L4 21.41c.39.39.9.59 1.41.59.51 0 1.02-.2 1.41-.59l7.78-7.78 2.81-2.81c.8-.78.8-2.07 0-2.86zM5.41 20L4 18.59l7.72-7.72 1.47 1.35L5.41 20z\"/>\n",
              "  </svg>\n",
              "      </button>\n",
              "      \n",
              "  <style>\n",
              "    .colab-df-container {\n",
              "      display:flex;\n",
              "      flex-wrap:wrap;\n",
              "      gap: 12px;\n",
              "    }\n",
              "\n",
              "    .colab-df-convert {\n",
              "      background-color: #E8F0FE;\n",
              "      border: none;\n",
              "      border-radius: 50%;\n",
              "      cursor: pointer;\n",
              "      display: none;\n",
              "      fill: #1967D2;\n",
              "      height: 32px;\n",
              "      padding: 0 0 0 0;\n",
              "      width: 32px;\n",
              "    }\n",
              "\n",
              "    .colab-df-convert:hover {\n",
              "      background-color: #E2EBFA;\n",
              "      box-shadow: 0px 1px 2px rgba(60, 64, 67, 0.3), 0px 1px 3px 1px rgba(60, 64, 67, 0.15);\n",
              "      fill: #174EA6;\n",
              "    }\n",
              "\n",
              "    [theme=dark] .colab-df-convert {\n",
              "      background-color: #3B4455;\n",
              "      fill: #D2E3FC;\n",
              "    }\n",
              "\n",
              "    [theme=dark] .colab-df-convert:hover {\n",
              "      background-color: #434B5C;\n",
              "      box-shadow: 0px 1px 3px 1px rgba(0, 0, 0, 0.15);\n",
              "      filter: drop-shadow(0px 1px 2px rgba(0, 0, 0, 0.3));\n",
              "      fill: #FFFFFF;\n",
              "    }\n",
              "  </style>\n",
              "\n",
              "      <script>\n",
              "        const buttonEl =\n",
              "          document.querySelector('#df-7bbfcdc4-782e-4e6e-aaef-10a525f0552a button.colab-df-convert');\n",
              "        buttonEl.style.display =\n",
              "          google.colab.kernel.accessAllowed ? 'block' : 'none';\n",
              "\n",
              "        async function convertToInteractive(key) {\n",
              "          const element = document.querySelector('#df-7bbfcdc4-782e-4e6e-aaef-10a525f0552a');\n",
              "          const dataTable =\n",
              "            await google.colab.kernel.invokeFunction('convertToInteractive',\n",
              "                                                     [key], {});\n",
              "          if (!dataTable) return;\n",
              "\n",
              "          const docLinkHtml = 'Like what you see? Visit the ' +\n",
              "            '<a target=\"_blank\" href=https://colab.research.google.com/notebooks/data_table.ipynb>data table notebook</a>'\n",
              "            + ' to learn more about interactive tables.';\n",
              "          element.innerHTML = '';\n",
              "          dataTable['output_type'] = 'display_data';\n",
              "          await google.colab.output.renderOutput(dataTable, element);\n",
              "          const docLink = document.createElement('div');\n",
              "          docLink.innerHTML = docLinkHtml;\n",
              "          element.appendChild(docLink);\n",
              "        }\n",
              "      </script>\n",
              "    </div>\n",
              "  </div>\n",
              "  "
            ]
          },
          "metadata": {},
          "execution_count": 8
        }
      ]
    },
    {
      "cell_type": "markdown",
      "source": [
        "\n",
        "*   We discard the Change column because it is not needed\n",
        "\n",
        "\n"
      ],
      "metadata": {
        "id": "BItZxj4qft7d"
      }
    },
    {
      "cell_type": "code",
      "source": [
        "#Delete change column\n",
        "del df_cl['Change']"
      ],
      "metadata": {
        "id": "eNKhrPSPfPnU"
      },
      "execution_count": null,
      "outputs": []
    },
    {
      "cell_type": "markdown",
      "source": [
        "\n",
        "\n",
        "*   Convert the date from object to datetime\n",
        "\n"
      ],
      "metadata": {
        "id": "6HmU3aHagEjG"
      }
    },
    {
      "cell_type": "code",
      "source": [
        "df_cl['date'] = pd.to_datetime(df_cl['date'])\n",
        "df_cl.info()"
      ],
      "metadata": {
        "colab": {
          "base_uri": "https://localhost:8080/"
        },
        "id": "iFU_CCdlgAvC",
        "outputId": "907393c2-170c-4c2c-ec15-00b25bae7f0f"
      },
      "execution_count": null,
      "outputs": [
        {
          "output_type": "stream",
          "name": "stdout",
          "text": [
            "<class 'pandas.core.frame.DataFrame'>\n",
            "RangeIndex: 361 entries, 0 to 360\n",
            "Data columns (total 2 columns):\n",
            " #   Column   Non-Null Count  Dtype         \n",
            "---  ------   --------------  -----         \n",
            " 0   date     361 non-null    datetime64[ns]\n",
            " 1   cpo_pri  361 non-null    object        \n",
            "dtypes: datetime64[ns](1), object(1)\n",
            "memory usage: 5.8+ KB\n"
          ]
        }
      ]
    },
    {
      "cell_type": "code",
      "source": [
        "# Change the data index from string to date\n",
        "df_cl.set_index('date', inplace=True)\n",
        "df_cl.info()    "
      ],
      "metadata": {
        "colab": {
          "base_uri": "https://localhost:8080/"
        },
        "id": "DU5gxTGWgA6d",
        "outputId": "3baff115-7430-4ffe-e563-332d8870a891"
      },
      "execution_count": null,
      "outputs": [
        {
          "output_type": "stream",
          "name": "stdout",
          "text": [
            "<class 'pandas.core.frame.DataFrame'>\n",
            "DatetimeIndex: 361 entries, 1993-03-01 to 2023-03-01\n",
            "Data columns (total 1 columns):\n",
            " #   Column   Non-Null Count  Dtype \n",
            "---  ------   --------------  ----- \n",
            " 0   cpo_pri  361 non-null    object\n",
            "dtypes: object(1)\n",
            "memory usage: 5.6+ KB\n"
          ]
        }
      ]
    },
    {
      "cell_type": "markdown",
      "source": [
        "*   We need to remove commas from the dataframe\n",
        "*   We also need to change the type of cpo_pri from object to float\n",
        "\n"
      ],
      "metadata": {
        "id": "gdg0osxsgoKj"
      }
    },
    {
      "cell_type": "code",
      "source": [
        "#Remove the commas from the data\n",
        "df_cl[\"cpo_pri\"] = [float(str(i).replace(\",\", \"\")) for i in df_cl[\"cpo_pri\"]]\n",
        "\n",
        "df_cl.dtypes"
      ],
      "metadata": {
        "colab": {
          "base_uri": "https://localhost:8080/"
        },
        "id": "UBsRwQD6gcMA",
        "outputId": "db867715-381a-491a-ca9c-04d16007dc1c"
      },
      "execution_count": null,
      "outputs": [
        {
          "output_type": "execute_result",
          "data": {
            "text/plain": [
              "cpo_pri    float64\n",
              "dtype: object"
            ]
          },
          "metadata": {},
          "execution_count": 12
        }
      ]
    },
    {
      "cell_type": "code",
      "source": [
        "df_cl.plot()"
      ],
      "metadata": {
        "colab": {
          "base_uri": "https://localhost:8080/",
          "height": 496
        },
        "id": "edIIpz6sgcQJ",
        "outputId": "09016dbd-8745-4d64-b2fe-bcca554c22b1"
      },
      "execution_count": null,
      "outputs": [
        {
          "output_type": "execute_result",
          "data": {
            "text/plain": [
              "<Axes: xlabel='date'>"
            ]
          },
          "metadata": {},
          "execution_count": 13
        },
        {
          "output_type": "display_data",
          "data": {
            "text/plain": [
              "<Figure size 1200x500 with 1 Axes>"
            ],
            "image/png": "[encoded data removed]"
          },
          "metadata": {}
        }
      ]
    },
    {
      "cell_type": "markdown",
      "source": [
        "###PyTorch LSTM"
      ],
      "metadata": {
        "id": "vFDIYibSietP"
      }
    },
    {
      "cell_type": "code",
      "source": [
        "prediction_window=12"
      ],
      "metadata": {
        "id": "RAWGKcDeirrl"
      },
      "execution_count": null,
      "outputs": []
    },
    {
      "cell_type": "code",
      "source": [
        "n_input = 12  #Predict the 13th month using data from the previous 12 months.\n",
        "n_features = 1 # Because we are working with a univariate time series, n_features should be set to 1.. "
      ],
      "metadata": {
        "id": "cwlwHIHyirvX"
      },
      "execution_count": null,
      "outputs": []
    },
    {
      "cell_type": "code",
      "source": [
        "train = df_cl.copy()"
      ],
      "metadata": {
        "id": "scY4Eb_bjRp7"
      },
      "execution_count": null,
      "outputs": []
    },
    {
      "cell_type": "markdown",
      "source": [
        "Because we will be using an RNN, it is advised that we rescale the data."
      ],
      "metadata": {
        "id": "s2sZ9LMDjgwg"
      }
    },
    {
      "cell_type": "code",
      "source": [
        "scaler = MinMaxScaler()\n",
        "scaler.fit(train)\n",
        "scaled_train = scaler.transform(train)"
      ],
      "metadata": {
        "id": "U86k8yNbjRuE"
      },
      "execution_count": null,
      "outputs": []
    },
    {
      "cell_type": "markdown",
      "source": [
        "We can now formally construct the train set. As previously indicated, the train set will have a \"sliding window\" design. This implies we must structure the data in such a manner that the LSTM predicts the 13th sample based on the previous 12 samples."
      ],
      "metadata": {
        "id": "WIe3xgbNj32N"
      }
    },
    {
      "cell_type": "code",
      "source": [
        "def sliding_windows(data, n_input):\n",
        "    X_train=[]\n",
        "    y_train=[]\n",
        "    for i in range(n_input,len(data)):\n",
        "        X_train.append(data[i-n_input:i])\n",
        "        y_train.append(data[i])\n",
        "    return np.array(X_train), np.array(y_train)"
      ],
      "metadata": {
        "id": "oC8oZP_hhjAu"
      },
      "execution_count": null,
      "outputs": []
    },
    {
      "cell_type": "code",
      "source": [
        "x, y = sliding_windows(scaled_train, prediction_window)"
      ],
      "metadata": {
        "id": "Z-p2s3cqkDeF"
      },
      "execution_count": null,
      "outputs": []
    },
    {
      "cell_type": "code",
      "source": [
        "print(f'Given the Array: \\n {x[0].flatten()}')\n",
        "print(f'Predict this value: \\n {y[0]}')"
      ],
      "metadata": {
        "colab": {
          "base_uri": "https://localhost:8080/"
        },
        "id": "lmd6o5kTkFJq",
        "outputId": "386e9a30-509f-4e3f-d488-8d473172f030"
      },
      "execution_count": null,
      "outputs": [
        {
          "output_type": "stream",
          "name": "stdout",
          "text": [
            "Given the Array: \n",
            " [0.11277026 0.10240058 0.08879038 0.0790688  0.08295743 0.0790688\n",
            " 0.07647638 0.06416239 0.07971691 0.11471457 0.11017784 0.09916006]\n",
            "Predict this value: \n",
            " [0.1043449]\n"
          ]
        }
      ]
    },
    {
      "cell_type": "code",
      "source": [
        "train_size = int(len(train) - prediction_window*3)\n",
        "val_size = len(train) - train_size"
      ],
      "metadata": {
        "id": "2G4Dc21NkNCL"
      },
      "execution_count": null,
      "outputs": []
    },
    {
      "cell_type": "markdown",
      "source": [
        "The data is then converted to the tensor format required by PyTorch"
      ],
      "metadata": {
        "id": "AWTmaWfUkW8G"
      }
    },
    {
      "cell_type": "code",
      "source": [
        "dataX = Variable(torch.Tensor(np.array(x)))\n",
        "dataY = Variable(torch.Tensor(np.array(y)))\n",
        "\n",
        "X_train = Variable(torch.Tensor(np.array(x[:train_size])))\n",
        "y_train = Variable(torch.Tensor(np.array(y[:train_size])))\n",
        "\n",
        "X_valid = Variable(torch.Tensor(np.array(x[train_size:len(x)])))\n",
        "y_valid = Variable(torch.Tensor(np.array(y[train_size:len(y)])))"
      ],
      "metadata": {
        "id": "IfbMCLqCkOqn"
      },
      "execution_count": null,
      "outputs": []
    },
    {
      "cell_type": "markdown",
      "source": [
        "###LSTM Model"
      ],
      "metadata": {
        "id": "eoSMWIeNlCXs"
      }
    },
    {
      "cell_type": "code",
      "source": [
        "class LSTMNet(nn.Module):\n",
        "    def __init__(self, input_size, hidden_size, num_layers):\n",
        "        super(LSTMNet, self).__init__()\n",
        "        self.input_size = input_size\n",
        "        self.hidden_size = hidden_size\n",
        "        self.num_layers = num_layers\n",
        "        \n",
        "        self.lstm = nn.LSTM(\n",
        "            input_size=input_size, hidden_size=hidden_size,\n",
        "            num_layers=num_layers, batch_first=True\n",
        "        )\n",
        "        \n",
        "        self.fc1 = nn.Linear(hidden_size,40)\n",
        "        self.fc2 = nn.Linear(40,1)\n",
        "        self.relu = nn.ReLU()\n",
        "        \n",
        "    def forward(self,x):\n",
        "        h0 = Variable(torch.zeros(self.num_layers, x.size(0), self.hidden_size))\n",
        "        c0 = Variable(torch.zeros(self.num_layers, x.size(0), self.hidden_size))\n",
        "        _, (h_out,_) = self.lstm(x, (h0,c0))\n",
        "        \n",
        "        h_out = h_out.view(-1, self.hidden_size)\n",
        "        \n",
        "        out = self.fc2(self.relu(self.fc1(h_out)))\n",
        "        \n",
        "        return out"
      ],
      "metadata": {
        "id": "Z0Sv0eJ-kOuM"
      },
      "execution_count": null,
      "outputs": []
    },
    {
      "cell_type": "markdown",
      "source": [
        "Then we set a few parameters for the training:"
      ],
      "metadata": {
        "id": "VbvWA5VhlYam"
      }
    },
    {
      "cell_type": "code",
      "source": [
        "EPOCHS = 150\n",
        "LEARNING_RATE = 0.008\n",
        "DEVICE = 'cuda' if torch.cuda.is_available() else 'cpu'\n",
        "\n",
        "INPUT_SIZE = n_features\n",
        "HIDDEN_SIZE = 100\n",
        "NUM_LAYERS = 1"
      ],
      "metadata": {
        "id": "vIEv8OnpkOxZ"
      },
      "execution_count": null,
      "outputs": []
    },
    {
      "cell_type": "code",
      "source": [
        "model = LSTMNet(INPUT_SIZE, HIDDEN_SIZE, NUM_LAYERS)\n",
        "model.to(DEVICE)\n",
        "print(model)"
      ],
      "metadata": {
        "colab": {
          "base_uri": "https://localhost:8080/"
        },
        "id": "1KmjN73ukO4H",
        "outputId": "cca9a94d-b411-4acf-b701-7e93462a06d0"
      },
      "execution_count": null,
      "outputs": [
        {
          "output_type": "stream",
          "name": "stdout",
          "text": [
            "LSTMNet(\n",
            "  (lstm): LSTM(1, 100, batch_first=True)\n",
            "  (fc1): Linear(in_features=100, out_features=40, bias=True)\n",
            "  (fc2): Linear(in_features=40, out_features=1, bias=True)\n",
            "  (relu): ReLU()\n",
            ")\n"
          ]
        }
      ]
    },
    {
      "cell_type": "code",
      "source": [
        "criterion = torch.nn.MSELoss()\n",
        "optimizer = torch.optim.Adam(model.parameters(), lr = LEARNING_RATE)"
      ],
      "metadata": {
        "id": "2NfwEjFYkO6q"
      },
      "execution_count": null,
      "outputs": []
    },
    {
      "cell_type": "markdown",
      "source": [
        "###Training the LSTM"
      ],
      "metadata": {
        "id": "lGHXjQoBlso2"
      }
    },
    {
      "cell_type": "code",
      "source": [
        "early_stopping_patience = 150\n",
        "early_stopping_counter = 0\n",
        "\n",
        "valid_loss_min=np.inf\n",
        "\n",
        "for epoch in range(EPOCHS):\n",
        "    optimizer.zero_grad()\n",
        "    model.train()\n",
        "    output = model(X_train)\n",
        "    \n",
        "    train_loss = criterion(output, y_train)\n",
        "    \n",
        "    train_loss.backward()\n",
        "    optimizer.step()\n",
        "    \n",
        "    \n",
        "    with torch.no_grad():\n",
        "        model.eval()\n",
        "        output_val = model(X_valid)\n",
        "        valid_loss = criterion(output_val, y_valid)\n",
        "        \n",
        "        if valid_loss <= valid_loss_min:\n",
        "            torch.save(model.state_dict(), './state_dict.pt')\n",
        "            print(f'Epoch {epoch + 0:01}: Validation loss decreased ({valid_loss_min:.6f} --> {valid_loss:.6f}).  Saving model ...')\n",
        "            valid_loss_min = valid_loss\n",
        "            early_stopping_counter=0 #reset counter if validation loss decreases\n",
        "        else:\n",
        "            print(f'Epoch {epoch + 0:01}: Validation loss did not decrease')\n",
        "            early_stopping_counter+=1\n",
        "\n",
        "        if early_stopping_counter > early_stopping_patience:\n",
        "            print('Early stopped at epoch :', epoch)\n",
        "            break\n",
        "\n",
        "        print(f'\\t Train_Loss: {train_loss:.4f} Val_Loss: {valid_loss:.4f}  BEST VAL Loss: {valid_loss_min:.4f}\\n')"
      ],
      "metadata": {
        "colab": {
          "base_uri": "https://localhost:8080/"
        },
        "id": "EILu2UhRli-v",
        "outputId": "e32ff7c3-d3a5-4743-af16-b5bebeb8a60d"
      },
      "execution_count": null,
      "outputs": [
        {
          "output_type": "stream",
          "name": "stdout",
          "text": [
            "Epoch 0: Validation loss decreased (inf --> 0.170926).  Saving model ...\n",
            "\t Train_Loss: 0.0403 Val_Loss: 0.1709  BEST VAL Loss: 0.1709\n",
            "\n",
            "Epoch 1: Validation loss decreased (0.170926 --> 0.093763).  Saving model ...\n",
            "\t Train_Loss: 0.0253 Val_Loss: 0.0938  BEST VAL Loss: 0.0938\n",
            "\n",
            "Epoch 2: Validation loss did not decrease\n",
            "\t Train_Loss: 0.0282 Val_Loss: 0.1184  BEST VAL Loss: 0.0938\n",
            "\n",
            "Epoch 3: Validation loss did not decrease\n",
            "\t Train_Loss: 0.0235 Val_Loss: 0.1429  BEST VAL Loss: 0.0938\n",
            "\n",
            "Epoch 4: Validation loss did not decrease\n",
            "\t Train_Loss: 0.0225 Val_Loss: 0.1524  BEST VAL Loss: 0.0938\n",
            "\n",
            "Epoch 5: Validation loss did not decrease\n",
            "\t Train_Loss: 0.0228 Val_Loss: 0.1462  BEST VAL Loss: 0.0938\n",
            "\n",
            "Epoch 6: Validation loss did not decrease\n",
            "\t Train_Loss: 0.0219 Val_Loss: 0.1307  BEST VAL Loss: 0.0938\n",
            "\n",
            "Epoch 7: Validation loss did not decrease\n",
            "\t Train_Loss: 0.0204 Val_Loss: 0.1086  BEST VAL Loss: 0.0938\n",
            "\n",
            "Epoch 8: Validation loss decreased (0.093763 --> 0.083814).  Saving model ...\n",
            "\t Train_Loss: 0.0189 Val_Loss: 0.0838  BEST VAL Loss: 0.0838\n",
            "\n",
            "Epoch 9: Validation loss decreased (0.083814 --> 0.064641).  Saving model ...\n",
            "\t Train_Loss: 0.0178 Val_Loss: 0.0646  BEST VAL Loss: 0.0646\n",
            "\n",
            "Epoch 10: Validation loss decreased (0.064641 --> 0.056716).  Saving model ...\n",
            "\t Train_Loss: 0.0155 Val_Loss: 0.0567  BEST VAL Loss: 0.0567\n",
            "\n",
            "Epoch 11: Validation loss decreased (0.056716 --> 0.049913).  Saving model ...\n",
            "\t Train_Loss: 0.0106 Val_Loss: 0.0499  BEST VAL Loss: 0.0499\n",
            "\n",
            "Epoch 12: Validation loss did not decrease\n",
            "\t Train_Loss: 0.0087 Val_Loss: 0.1451  BEST VAL Loss: 0.0499\n",
            "\n",
            "Epoch 13: Validation loss did not decrease\n",
            "\t Train_Loss: 0.0174 Val_Loss: 0.0528  BEST VAL Loss: 0.0499\n",
            "\n",
            "Epoch 14: Validation loss did not decrease\n",
            "\t Train_Loss: 0.0133 Val_Loss: 0.0627  BEST VAL Loss: 0.0499\n",
            "\n",
            "Epoch 15: Validation loss did not decrease\n",
            "\t Train_Loss: 0.0136 Val_Loss: 0.0561  BEST VAL Loss: 0.0499\n",
            "\n",
            "Epoch 16: Validation loss decreased (0.049913 --> 0.045163).  Saving model ...\n",
            "\t Train_Loss: 0.0089 Val_Loss: 0.0452  BEST VAL Loss: 0.0452\n",
            "\n",
            "Epoch 17: Validation loss decreased (0.045163 --> 0.037086).  Saving model ...\n",
            "\t Train_Loss: 0.0080 Val_Loss: 0.0371  BEST VAL Loss: 0.0371\n",
            "\n",
            "Epoch 18: Validation loss decreased (0.037086 --> 0.033989).  Saving model ...\n",
            "\t Train_Loss: 0.0102 Val_Loss: 0.0340  BEST VAL Loss: 0.0340\n",
            "\n",
            "Epoch 19: Validation loss did not decrease\n",
            "\t Train_Loss: 0.0119 Val_Loss: 0.0355  BEST VAL Loss: 0.0340\n",
            "\n",
            "Epoch 20: Validation loss did not decrease\n",
            "\t Train_Loss: 0.0114 Val_Loss: 0.0406  BEST VAL Loss: 0.0340\n",
            "\n",
            "Epoch 21: Validation loss did not decrease\n",
            "\t Train_Loss: 0.0097 Val_Loss: 0.0473  BEST VAL Loss: 0.0340\n",
            "\n",
            "Epoch 22: Validation loss did not decrease\n",
            "\t Train_Loss: 0.0083 Val_Loss: 0.0527  BEST VAL Loss: 0.0340\n",
            "\n",
            "Epoch 23: Validation loss did not decrease\n",
            "\t Train_Loss: 0.0078 Val_Loss: 0.0541  BEST VAL Loss: 0.0340\n",
            "\n",
            "Epoch 24: Validation loss did not decrease\n",
            "\t Train_Loss: 0.0077 Val_Loss: 0.0495  BEST VAL Loss: 0.0340\n",
            "\n",
            "Epoch 25: Validation loss did not decrease\n",
            "\t Train_Loss: 0.0072 Val_Loss: 0.0393  BEST VAL Loss: 0.0340\n",
            "\n",
            "Epoch 26: Validation loss decreased (0.033989 --> 0.027820).  Saving model ...\n",
            "\t Train_Loss: 0.0057 Val_Loss: 0.0278  BEST VAL Loss: 0.0278\n",
            "\n",
            "Epoch 27: Validation loss decreased (0.027820 --> 0.022726).  Saving model ...\n",
            "\t Train_Loss: 0.0040 Val_Loss: 0.0227  BEST VAL Loss: 0.0227\n",
            "\n",
            "Epoch 28: Validation loss did not decrease\n",
            "\t Train_Loss: 0.0041 Val_Loss: 0.0252  BEST VAL Loss: 0.0227\n",
            "\n",
            "Epoch 29: Validation loss did not decrease\n",
            "\t Train_Loss: 0.0056 Val_Loss: 0.0246  BEST VAL Loss: 0.0227\n",
            "\n",
            "Epoch 30: Validation loss decreased (0.022726 --> 0.022140).  Saving model ...\n",
            "\t Train_Loss: 0.0048 Val_Loss: 0.0221  BEST VAL Loss: 0.0221\n",
            "\n",
            "Epoch 31: Validation loss decreased (0.022140 --> 0.022073).  Saving model ...\n",
            "\t Train_Loss: 0.0044 Val_Loss: 0.0221  BEST VAL Loss: 0.0221\n",
            "\n",
            "Epoch 32: Validation loss decreased (0.022073 --> 0.022017).  Saving model ...\n",
            "\t Train_Loss: 0.0047 Val_Loss: 0.0220  BEST VAL Loss: 0.0220\n",
            "\n",
            "Epoch 33: Validation loss decreased (0.022017 --> 0.021011).  Saving model ...\n",
            "\t Train_Loss: 0.0039 Val_Loss: 0.0210  BEST VAL Loss: 0.0210\n",
            "\n",
            "Epoch 34: Validation loss decreased (0.021011 --> 0.019998).  Saving model ...\n",
            "\t Train_Loss: 0.0030 Val_Loss: 0.0200  BEST VAL Loss: 0.0200\n",
            "\n",
            "Epoch 35: Validation loss decreased (0.019998 --> 0.019717).  Saving model ...\n",
            "\t Train_Loss: 0.0032 Val_Loss: 0.0197  BEST VAL Loss: 0.0197\n",
            "\n",
            "Epoch 36: Validation loss did not decrease\n",
            "\t Train_Loss: 0.0036 Val_Loss: 0.0205  BEST VAL Loss: 0.0197\n",
            "\n",
            "Epoch 37: Validation loss did not decrease\n",
            "\t Train_Loss: 0.0034 Val_Loss: 0.0223  BEST VAL Loss: 0.0197\n",
            "\n",
            "Epoch 38: Validation loss did not decrease\n",
            "\t Train_Loss: 0.0032 Val_Loss: 0.0242  BEST VAL Loss: 0.0197\n",
            "\n",
            "Epoch 39: Validation loss did not decrease\n",
            "\t Train_Loss: 0.0031 Val_Loss: 0.0249  BEST VAL Loss: 0.0197\n",
            "\n",
            "Epoch 40: Validation loss did not decrease\n",
            "\t Train_Loss: 0.0032 Val_Loss: 0.0235  BEST VAL Loss: 0.0197\n",
            "\n",
            "Epoch 41: Validation loss did not decrease\n",
            "\t Train_Loss: 0.0030 Val_Loss: 0.0206  BEST VAL Loss: 0.0197\n",
            "\n",
            "Epoch 42: Validation loss decreased (0.019717 --> 0.017588).  Saving model ...\n",
            "\t Train_Loss: 0.0026 Val_Loss: 0.0176  BEST VAL Loss: 0.0176\n",
            "\n",
            "Epoch 43: Validation loss decreased (0.017588 --> 0.015851).  Saving model ...\n",
            "\t Train_Loss: 0.0023 Val_Loss: 0.0159  BEST VAL Loss: 0.0159\n",
            "\n",
            "Epoch 44: Validation loss decreased (0.015851 --> 0.015247).  Saving model ...\n",
            "\t Train_Loss: 0.0024 Val_Loss: 0.0152  BEST VAL Loss: 0.0152\n",
            "\n",
            "Epoch 45: Validation loss decreased (0.015247 --> 0.015023).  Saving model ...\n",
            "\t Train_Loss: 0.0024 Val_Loss: 0.0150  BEST VAL Loss: 0.0150\n",
            "\n",
            "Epoch 46: Validation loss decreased (0.015023 --> 0.014934).  Saving model ...\n",
            "\t Train_Loss: 0.0022 Val_Loss: 0.0149  BEST VAL Loss: 0.0149\n",
            "\n",
            "Epoch 47: Validation loss decreased (0.014934 --> 0.014841).  Saving model ...\n",
            "\t Train_Loss: 0.0022 Val_Loss: 0.0148  BEST VAL Loss: 0.0148\n",
            "\n",
            "Epoch 48: Validation loss decreased (0.014841 --> 0.014484).  Saving model ...\n",
            "\t Train_Loss: 0.0023 Val_Loss: 0.0145  BEST VAL Loss: 0.0145\n",
            "\n",
            "Epoch 49: Validation loss decreased (0.014484 --> 0.013944).  Saving model ...\n",
            "\t Train_Loss: 0.0022 Val_Loss: 0.0139  BEST VAL Loss: 0.0139\n",
            "\n",
            "Epoch 50: Validation loss decreased (0.013944 --> 0.013490).  Saving model ...\n",
            "\t Train_Loss: 0.0020 Val_Loss: 0.0135  BEST VAL Loss: 0.0135\n",
            "\n",
            "Epoch 51: Validation loss decreased (0.013490 --> 0.013156).  Saving model ...\n",
            "\t Train_Loss: 0.0019 Val_Loss: 0.0132  BEST VAL Loss: 0.0132\n",
            "\n",
            "Epoch 52: Validation loss decreased (0.013156 --> 0.013116).  Saving model ...\n",
            "\t Train_Loss: 0.0019 Val_Loss: 0.0131  BEST VAL Loss: 0.0131\n",
            "\n",
            "Epoch 53: Validation loss did not decrease\n",
            "\t Train_Loss: 0.0018 Val_Loss: 0.0135  BEST VAL Loss: 0.0131\n",
            "\n",
            "Epoch 54: Validation loss did not decrease\n",
            "\t Train_Loss: 0.0017 Val_Loss: 0.0141  BEST VAL Loss: 0.0131\n",
            "\n",
            "Epoch 55: Validation loss did not decrease\n",
            "\t Train_Loss: 0.0017 Val_Loss: 0.0142  BEST VAL Loss: 0.0131\n",
            "\n",
            "Epoch 56: Validation loss did not decrease\n",
            "\t Train_Loss: 0.0017 Val_Loss: 0.0135  BEST VAL Loss: 0.0131\n",
            "\n",
            "Epoch 57: Validation loss decreased (0.013116 --> 0.012562).  Saving model ...\n",
            "\t Train_Loss: 0.0016 Val_Loss: 0.0126  BEST VAL Loss: 0.0126\n",
            "\n",
            "Epoch 58: Validation loss decreased (0.012562 --> 0.011956).  Saving model ...\n",
            "\t Train_Loss: 0.0016 Val_Loss: 0.0120  BEST VAL Loss: 0.0120\n",
            "\n",
            "Epoch 59: Validation loss decreased (0.011956 --> 0.011718).  Saving model ...\n",
            "\t Train_Loss: 0.0016 Val_Loss: 0.0117  BEST VAL Loss: 0.0117\n",
            "\n",
            "Epoch 60: Validation loss decreased (0.011718 --> 0.011712).  Saving model ...\n",
            "\t Train_Loss: 0.0015 Val_Loss: 0.0117  BEST VAL Loss: 0.0117\n",
            "\n",
            "Epoch 61: Validation loss decreased (0.011712 --> 0.011649).  Saving model ...\n",
            "\t Train_Loss: 0.0014 Val_Loss: 0.0116  BEST VAL Loss: 0.0116\n",
            "\n",
            "Epoch 62: Validation loss decreased (0.011649 --> 0.011279).  Saving model ...\n",
            "\t Train_Loss: 0.0014 Val_Loss: 0.0113  BEST VAL Loss: 0.0113\n",
            "\n",
            "Epoch 63: Validation loss decreased (0.011279 --> 0.010730).  Saving model ...\n",
            "\t Train_Loss: 0.0014 Val_Loss: 0.0107  BEST VAL Loss: 0.0107\n",
            "\n",
            "Epoch 64: Validation loss decreased (0.010730 --> 0.010332).  Saving model ...\n",
            "\t Train_Loss: 0.0013 Val_Loss: 0.0103  BEST VAL Loss: 0.0103\n",
            "\n",
            "Epoch 65: Validation loss decreased (0.010332 --> 0.010135).  Saving model ...\n",
            "\t Train_Loss: 0.0013 Val_Loss: 0.0101  BEST VAL Loss: 0.0101\n",
            "\n",
            "Epoch 66: Validation loss decreased (0.010135 --> 0.010078).  Saving model ...\n",
            "\t Train_Loss: 0.0013 Val_Loss: 0.0101  BEST VAL Loss: 0.0101\n",
            "\n",
            "Epoch 67: Validation loss did not decrease\n",
            "\t Train_Loss: 0.0013 Val_Loss: 0.0102  BEST VAL Loss: 0.0101\n",
            "\n",
            "Epoch 68: Validation loss did not decrease\n",
            "\t Train_Loss: 0.0013 Val_Loss: 0.0102  BEST VAL Loss: 0.0101\n",
            "\n",
            "Epoch 69: Validation loss decreased (0.010078 --> 0.010017).  Saving model ...\n",
            "\t Train_Loss: 0.0013 Val_Loss: 0.0100  BEST VAL Loss: 0.0100\n",
            "\n",
            "Epoch 70: Validation loss decreased (0.010017 --> 0.009751).  Saving model ...\n",
            "\t Train_Loss: 0.0012 Val_Loss: 0.0098  BEST VAL Loss: 0.0098\n",
            "\n",
            "Epoch 71: Validation loss decreased (0.009751 --> 0.009637).  Saving model ...\n",
            "\t Train_Loss: 0.0012 Val_Loss: 0.0096  BEST VAL Loss: 0.0096\n",
            "\n",
            "Epoch 72: Validation loss did not decrease\n",
            "\t Train_Loss: 0.0012 Val_Loss: 0.0098  BEST VAL Loss: 0.0096\n",
            "\n",
            "Epoch 73: Validation loss did not decrease\n",
            "\t Train_Loss: 0.0012 Val_Loss: 0.0101  BEST VAL Loss: 0.0096\n",
            "\n",
            "Epoch 74: Validation loss did not decrease\n",
            "\t Train_Loss: 0.0012 Val_Loss: 0.0101  BEST VAL Loss: 0.0096\n",
            "\n",
            "Epoch 75: Validation loss did not decrease\n",
            "\t Train_Loss: 0.0012 Val_Loss: 0.0097  BEST VAL Loss: 0.0096\n",
            "\n",
            "Epoch 76: Validation loss decreased (0.009637 --> 0.009303).  Saving model ...\n",
            "\t Train_Loss: 0.0011 Val_Loss: 0.0093  BEST VAL Loss: 0.0093\n",
            "\n",
            "Epoch 77: Validation loss decreased (0.009303 --> 0.009121).  Saving model ...\n",
            "\t Train_Loss: 0.0011 Val_Loss: 0.0091  BEST VAL Loss: 0.0091\n",
            "\n",
            "Epoch 78: Validation loss did not decrease\n",
            "\t Train_Loss: 0.0011 Val_Loss: 0.0092  BEST VAL Loss: 0.0091\n",
            "\n",
            "Epoch 79: Validation loss did not decrease\n",
            "\t Train_Loss: 0.0011 Val_Loss: 0.0092  BEST VAL Loss: 0.0091\n",
            "\n",
            "Epoch 80: Validation loss decreased (0.009121 --> 0.009081).  Saving model ...\n",
            "\t Train_Loss: 0.0011 Val_Loss: 0.0091  BEST VAL Loss: 0.0091\n",
            "\n",
            "Epoch 81: Validation loss decreased (0.009081 --> 0.008832).  Saving model ...\n",
            "\t Train_Loss: 0.0011 Val_Loss: 0.0088  BEST VAL Loss: 0.0088\n",
            "\n",
            "Epoch 82: Validation loss decreased (0.008832 --> 0.008702).  Saving model ...\n",
            "\t Train_Loss: 0.0011 Val_Loss: 0.0087  BEST VAL Loss: 0.0087\n",
            "\n",
            "Epoch 83: Validation loss did not decrease\n",
            "\t Train_Loss: 0.0011 Val_Loss: 0.0088  BEST VAL Loss: 0.0087\n",
            "\n",
            "Epoch 84: Validation loss did not decrease\n",
            "\t Train_Loss: 0.0011 Val_Loss: 0.0090  BEST VAL Loss: 0.0087\n",
            "\n",
            "Epoch 85: Validation loss did not decrease\n",
            "\t Train_Loss: 0.0011 Val_Loss: 0.0091  BEST VAL Loss: 0.0087\n",
            "\n",
            "Epoch 86: Validation loss did not decrease\n",
            "\t Train_Loss: 0.0010 Val_Loss: 0.0089  BEST VAL Loss: 0.0087\n",
            "\n",
            "Epoch 87: Validation loss did not decrease\n",
            "\t Train_Loss: 0.0010 Val_Loss: 0.0088  BEST VAL Loss: 0.0087\n",
            "\n",
            "Epoch 88: Validation loss did not decrease\n",
            "\t Train_Loss: 0.0010 Val_Loss: 0.0088  BEST VAL Loss: 0.0087\n",
            "\n",
            "Epoch 89: Validation loss did not decrease\n",
            "\t Train_Loss: 0.0010 Val_Loss: 0.0089  BEST VAL Loss: 0.0087\n",
            "\n",
            "Epoch 90: Validation loss did not decrease\n",
            "\t Train_Loss: 0.0010 Val_Loss: 0.0088  BEST VAL Loss: 0.0087\n",
            "\n",
            "Epoch 91: Validation loss decreased (0.008702 --> 0.008592).  Saving model ...\n",
            "\t Train_Loss: 0.0010 Val_Loss: 0.0086  BEST VAL Loss: 0.0086\n",
            "\n",
            "Epoch 92: Validation loss decreased (0.008592 --> 0.008365).  Saving model ...\n",
            "\t Train_Loss: 0.0010 Val_Loss: 0.0084  BEST VAL Loss: 0.0084\n",
            "\n",
            "Epoch 93: Validation loss decreased (0.008365 --> 0.008295).  Saving model ...\n",
            "\t Train_Loss: 0.0010 Val_Loss: 0.0083  BEST VAL Loss: 0.0083\n",
            "\n",
            "Epoch 94: Validation loss did not decrease\n",
            "\t Train_Loss: 0.0010 Val_Loss: 0.0083  BEST VAL Loss: 0.0083\n",
            "\n",
            "Epoch 95: Validation loss decreased (0.008295 --> 0.008283).  Saving model ...\n",
            "\t Train_Loss: 0.0010 Val_Loss: 0.0083  BEST VAL Loss: 0.0083\n",
            "\n",
            "Epoch 96: Validation loss decreased (0.008283 --> 0.008137).  Saving model ...\n",
            "\t Train_Loss: 0.0010 Val_Loss: 0.0081  BEST VAL Loss: 0.0081\n",
            "\n",
            "Epoch 97: Validation loss decreased (0.008137 --> 0.008030).  Saving model ...\n",
            "\t Train_Loss: 0.0010 Val_Loss: 0.0080  BEST VAL Loss: 0.0080\n",
            "\n",
            "Epoch 98: Validation loss did not decrease\n",
            "\t Train_Loss: 0.0010 Val_Loss: 0.0081  BEST VAL Loss: 0.0080\n",
            "\n",
            "Epoch 99: Validation loss did not decrease\n",
            "\t Train_Loss: 0.0010 Val_Loss: 0.0081  BEST VAL Loss: 0.0080\n",
            "\n",
            "Epoch 100: Validation loss did not decrease\n",
            "\t Train_Loss: 0.0010 Val_Loss: 0.0081  BEST VAL Loss: 0.0080\n",
            "\n",
            "Epoch 101: Validation loss decreased (0.008030 --> 0.007998).  Saving model ...\n",
            "\t Train_Loss: 0.0010 Val_Loss: 0.0080  BEST VAL Loss: 0.0080\n",
            "\n",
            "Epoch 102: Validation loss decreased (0.007998 --> 0.007900).  Saving model ...\n",
            "\t Train_Loss: 0.0010 Val_Loss: 0.0079  BEST VAL Loss: 0.0079\n",
            "\n",
            "Epoch 103: Validation loss decreased (0.007900 --> 0.007887).  Saving model ...\n",
            "\t Train_Loss: 0.0010 Val_Loss: 0.0079  BEST VAL Loss: 0.0079\n",
            "\n",
            "Epoch 104: Validation loss decreased (0.007887 --> 0.007879).  Saving model ...\n",
            "\t Train_Loss: 0.0010 Val_Loss: 0.0079  BEST VAL Loss: 0.0079\n",
            "\n",
            "Epoch 105: Validation loss decreased (0.007879 --> 0.007782).  Saving model ...\n",
            "\t Train_Loss: 0.0010 Val_Loss: 0.0078  BEST VAL Loss: 0.0078\n",
            "\n",
            "Epoch 106: Validation loss decreased (0.007782 --> 0.007632).  Saving model ...\n",
            "\t Train_Loss: 0.0009 Val_Loss: 0.0076  BEST VAL Loss: 0.0076\n",
            "\n",
            "Epoch 107: Validation loss decreased (0.007632 --> 0.007538).  Saving model ...\n",
            "\t Train_Loss: 0.0009 Val_Loss: 0.0075  BEST VAL Loss: 0.0075\n",
            "\n",
            "Epoch 108: Validation loss decreased (0.007538 --> 0.007519).  Saving model ...\n",
            "\t Train_Loss: 0.0009 Val_Loss: 0.0075  BEST VAL Loss: 0.0075\n",
            "\n",
            "Epoch 109: Validation loss decreased (0.007519 --> 0.007498).  Saving model ...\n",
            "\t Train_Loss: 0.0009 Val_Loss: 0.0075  BEST VAL Loss: 0.0075\n",
            "\n",
            "Epoch 110: Validation loss decreased (0.007498 --> 0.007421).  Saving model ...\n",
            "\t Train_Loss: 0.0009 Val_Loss: 0.0074  BEST VAL Loss: 0.0074\n",
            "\n",
            "Epoch 111: Validation loss decreased (0.007421 --> 0.007345).  Saving model ...\n",
            "\t Train_Loss: 0.0009 Val_Loss: 0.0073  BEST VAL Loss: 0.0073\n",
            "\n",
            "Epoch 112: Validation loss decreased (0.007345 --> 0.007334).  Saving model ...\n",
            "\t Train_Loss: 0.0009 Val_Loss: 0.0073  BEST VAL Loss: 0.0073\n",
            "\n",
            "Epoch 113: Validation loss did not decrease\n",
            "\t Train_Loss: 0.0009 Val_Loss: 0.0074  BEST VAL Loss: 0.0073\n",
            "\n",
            "Epoch 114: Validation loss did not decrease\n",
            "\t Train_Loss: 0.0009 Val_Loss: 0.0073  BEST VAL Loss: 0.0073\n",
            "\n",
            "Epoch 115: Validation loss decreased (0.007334 --> 0.007279).  Saving model ...\n",
            "\t Train_Loss: 0.0009 Val_Loss: 0.0073  BEST VAL Loss: 0.0073\n",
            "\n",
            "Epoch 116: Validation loss decreased (0.007279 --> 0.007231).  Saving model ...\n",
            "\t Train_Loss: 0.0009 Val_Loss: 0.0072  BEST VAL Loss: 0.0072\n",
            "\n",
            "Epoch 117: Validation loss decreased (0.007231 --> 0.007212).  Saving model ...\n",
            "\t Train_Loss: 0.0009 Val_Loss: 0.0072  BEST VAL Loss: 0.0072\n",
            "\n",
            "Epoch 118: Validation loss decreased (0.007212 --> 0.007186).  Saving model ...\n",
            "\t Train_Loss: 0.0009 Val_Loss: 0.0072  BEST VAL Loss: 0.0072\n",
            "\n",
            "Epoch 119: Validation loss decreased (0.007186 --> 0.007098).  Saving model ...\n",
            "\t Train_Loss: 0.0009 Val_Loss: 0.0071  BEST VAL Loss: 0.0071\n",
            "\n",
            "Epoch 120: Validation loss decreased (0.007098 --> 0.007005).  Saving model ...\n",
            "\t Train_Loss: 0.0009 Val_Loss: 0.0070  BEST VAL Loss: 0.0070\n",
            "\n",
            "Epoch 121: Validation loss decreased (0.007005 --> 0.006982).  Saving model ...\n",
            "\t Train_Loss: 0.0009 Val_Loss: 0.0070  BEST VAL Loss: 0.0070\n",
            "\n",
            "Epoch 122: Validation loss decreased (0.006982 --> 0.006973).  Saving model ...\n",
            "\t Train_Loss: 0.0009 Val_Loss: 0.0070  BEST VAL Loss: 0.0070\n",
            "\n",
            "Epoch 123: Validation loss decreased (0.006973 --> 0.006922).  Saving model ...\n",
            "\t Train_Loss: 0.0009 Val_Loss: 0.0069  BEST VAL Loss: 0.0069\n",
            "\n",
            "Epoch 124: Validation loss decreased (0.006922 --> 0.006867).  Saving model ...\n",
            "\t Train_Loss: 0.0009 Val_Loss: 0.0069  BEST VAL Loss: 0.0069\n",
            "\n",
            "Epoch 125: Validation loss decreased (0.006867 --> 0.006862).  Saving model ...\n",
            "\t Train_Loss: 0.0009 Val_Loss: 0.0069  BEST VAL Loss: 0.0069\n",
            "\n",
            "Epoch 126: Validation loss did not decrease\n",
            "\t Train_Loss: 0.0009 Val_Loss: 0.0069  BEST VAL Loss: 0.0069\n",
            "\n",
            "Epoch 127: Validation loss did not decrease\n",
            "\t Train_Loss: 0.0009 Val_Loss: 0.0069  BEST VAL Loss: 0.0069\n",
            "\n",
            "Epoch 128: Validation loss decreased (0.006862 --> 0.006846).  Saving model ...\n",
            "\t Train_Loss: 0.0009 Val_Loss: 0.0068  BEST VAL Loss: 0.0068\n",
            "\n",
            "Epoch 129: Validation loss did not decrease\n",
            "\t Train_Loss: 0.0009 Val_Loss: 0.0068  BEST VAL Loss: 0.0068\n",
            "\n",
            "Epoch 130: Validation loss did not decrease\n",
            "\t Train_Loss: 0.0009 Val_Loss: 0.0069  BEST VAL Loss: 0.0068\n",
            "\n",
            "Epoch 131: Validation loss decreased (0.006846 --> 0.006844).  Saving model ...\n",
            "\t Train_Loss: 0.0009 Val_Loss: 0.0068  BEST VAL Loss: 0.0068\n",
            "\n",
            "Epoch 132: Validation loss decreased (0.006844 --> 0.006796).  Saving model ...\n",
            "\t Train_Loss: 0.0009 Val_Loss: 0.0068  BEST VAL Loss: 0.0068\n",
            "\n",
            "Epoch 133: Validation loss decreased (0.006796 --> 0.006778).  Saving model ...\n",
            "\t Train_Loss: 0.0009 Val_Loss: 0.0068  BEST VAL Loss: 0.0068\n",
            "\n",
            "Epoch 134: Validation loss decreased (0.006778 --> 0.006772).  Saving model ...\n",
            "\t Train_Loss: 0.0009 Val_Loss: 0.0068  BEST VAL Loss: 0.0068\n",
            "\n",
            "Epoch 135: Validation loss decreased (0.006772 --> 0.006735).  Saving model ...\n",
            "\t Train_Loss: 0.0009 Val_Loss: 0.0067  BEST VAL Loss: 0.0067\n",
            "\n",
            "Epoch 136: Validation loss decreased (0.006735 --> 0.006702).  Saving model ...\n",
            "\t Train_Loss: 0.0009 Val_Loss: 0.0067  BEST VAL Loss: 0.0067\n",
            "\n",
            "Epoch 137: Validation loss did not decrease\n",
            "\t Train_Loss: 0.0009 Val_Loss: 0.0067  BEST VAL Loss: 0.0067\n",
            "\n",
            "Epoch 138: Validation loss did not decrease\n",
            "\t Train_Loss: 0.0009 Val_Loss: 0.0067  BEST VAL Loss: 0.0067\n",
            "\n",
            "Epoch 139: Validation loss decreased (0.006702 --> 0.006700).  Saving model ...\n",
            "\t Train_Loss: 0.0009 Val_Loss: 0.0067  BEST VAL Loss: 0.0067\n",
            "\n",
            "Epoch 140: Validation loss did not decrease\n",
            "\t Train_Loss: 0.0009 Val_Loss: 0.0067  BEST VAL Loss: 0.0067\n",
            "\n",
            "Epoch 141: Validation loss did not decrease\n",
            "\t Train_Loss: 0.0008 Val_Loss: 0.0067  BEST VAL Loss: 0.0067\n",
            "\n",
            "Epoch 142: Validation loss did not decrease\n",
            "\t Train_Loss: 0.0008 Val_Loss: 0.0067  BEST VAL Loss: 0.0067\n",
            "\n",
            "Epoch 143: Validation loss decreased (0.006700 --> 0.006696).  Saving model ...\n",
            "\t Train_Loss: 0.0008 Val_Loss: 0.0067  BEST VAL Loss: 0.0067\n",
            "\n",
            "Epoch 144: Validation loss decreased (0.006696 --> 0.006694).  Saving model ...\n",
            "\t Train_Loss: 0.0008 Val_Loss: 0.0067  BEST VAL Loss: 0.0067\n",
            "\n",
            "Epoch 145: Validation loss decreased (0.006694 --> 0.006684).  Saving model ...\n",
            "\t Train_Loss: 0.0008 Val_Loss: 0.0067  BEST VAL Loss: 0.0067\n",
            "\n",
            "Epoch 146: Validation loss decreased (0.006684 --> 0.006642).  Saving model ...\n",
            "\t Train_Loss: 0.0008 Val_Loss: 0.0066  BEST VAL Loss: 0.0066\n",
            "\n",
            "Epoch 147: Validation loss decreased (0.006642 --> 0.006616).  Saving model ...\n",
            "\t Train_Loss: 0.0008 Val_Loss: 0.0066  BEST VAL Loss: 0.0066\n",
            "\n",
            "Epoch 148: Validation loss decreased (0.006616 --> 0.006614).  Saving model ...\n",
            "\t Train_Loss: 0.0008 Val_Loss: 0.0066  BEST VAL Loss: 0.0066\n",
            "\n",
            "Epoch 149: Validation loss decreased (0.006614 --> 0.006596).  Saving model ...\n",
            "\t Train_Loss: 0.0008 Val_Loss: 0.0066  BEST VAL Loss: 0.0066\n",
            "\n"
          ]
        }
      ]
    },
    {
      "cell_type": "markdown",
      "source": [
        "####LSTM Forecast"
      ],
      "metadata": {
        "id": "YjbMBGUxmTQ2"
      }
    },
    {
      "cell_type": "code",
      "source": [
        "# Loading the best model\n",
        "model.load_state_dict(torch.load('./state_dict.pt'))"
      ],
      "metadata": {
        "colab": {
          "base_uri": "https://localhost:8080/"
        },
        "id": "z0ZaOGJhljCn",
        "outputId": "aa6da228-2c82-4187-8d48-7c08a20f71f8"
      },
      "execution_count": null,
      "outputs": [
        {
          "output_type": "execute_result",
          "data": {
            "text/plain": [
              "<All keys matched successfully>"
            ]
          },
          "metadata": {},
          "execution_count": 156
        }
      ]
    },
    {
      "cell_type": "code",
      "source": [
        "valid_predict = model(X_valid)\n",
        "y_pred_scaled = valid_predict.data.numpy()\n",
        "y_pred = scaler.inverse_transform(y_pred_scaled)"
      ],
      "metadata": {
        "id": "EUGPoC99mck4"
      },
      "execution_count": null,
      "outputs": []
    },
    {
      "cell_type": "code",
      "source": [
        "df_cl_pred=train.iloc[-24:]\n",
        "df_cl_pred['prediction']=y_pred"
      ],
      "metadata": {
        "id": "TVODTv89mcox"
      },
      "execution_count": null,
      "outputs": []
    },
    {
      "cell_type": "code",
      "source": [
        "plt.figure(figsize=(10,5))\n",
        "plt.plot(df_cl_pred.index,df_cl_pred[\"cpo_pri\"], label=\"actual\", marker=\"o\")\n",
        "plt.plot(df_cl_pred.index,df_cl_pred[\"prediction\"], label=\"predicted\", marker=\"o\")\n",
        "plt.title(\"Monthly Crude Palm Oil Price Prediction by LSTM\", fontsize=25)\n",
        "plt.ylabel(\"Crude Palm Oil Price\")\n",
        "plt.legend(title_fontsize=14, fontsize=13, fancybox=True, shadow=True, frameon=True)\n",
        "plt.show()"
      ],
      "metadata": {
        "colab": {
          "base_uri": "https://localhost:8080/",
          "height": 501
        },
        "id": "YaUZYVZcmcv_",
        "outputId": "3ada7a93-2f93-4219-f267-8a03d159a4bb"
      },
      "execution_count": null,
      "outputs": [
        {
          "output_type": "display_data",
          "data": {
            "text/plain": [
              "<Figure size 1000x500 with 1 Axes>"
            ],
            "image/png": "[encoded data removed]"
          },
          "metadata": {}
        }
      ]
    },
    {
      "cell_type": "markdown",
      "source": [
        "####LSTM Performance Measure"
      ],
      "metadata": {
        "id": "xkL8oJRsm_1g"
      }
    },
    {
      "cell_type": "code",
      "source": [
        "mape_lstm = mape(df_cl_pred[\"cpo_pri\"], df_cl_pred[\"prediction\"])\n",
        "print(f\"MAPE OF LSTM MODEL : {mape_lstm:.2f} %\")"
      ],
      "metadata": {
        "colab": {
          "base_uri": "https://localhost:8080/"
        },
        "id": "NTEy-v80ml2O",
        "outputId": "2fc11533-7943-4b32-bb13-73be63c69e83"
      },
      "execution_count": null,
      "outputs": [
        {
          "output_type": "stream",
          "name": "stdout",
          "text": [
            "MAPE OF LSTM MODEL : 0.08 %\n"
          ]
        }
      ]
    },
    {
      "cell_type": "code",
      "source": [
        "rmse_lstm = mean_squared_error(df_cl_pred[\"cpo_pri\"], df_cl_pred[\"prediction\"], squared=False)\n",
        "print(f\"RMSE OF LSTM MODEL : {rmse_lstm:.2f}\")"
      ],
      "metadata": {
        "colab": {
          "base_uri": "https://localhost:8080/"
        },
        "id": "bIIG__3Vml8Q",
        "outputId": "27c8f32d-e76d-4d0c-fb63-a34c7a35613c"
      },
      "execution_count": null,
      "outputs": [
        {
          "output_type": "stream",
          "name": "stdout",
          "text": [
            "RMSE OF LSTM MODEL : 125.31\n"
          ]
        }
      ]
    },
    {
      "cell_type": "markdown",
      "source": [
        "LSTM Forecast"
      ],
      "metadata": {
        "id": "2UkiSd75nn-P"
      }
    },
    {
      "cell_type": "code",
      "source": [
        "test_predictions = []\n",
        "\n",
        "first_eval_batch = Variable(torch.Tensor(scaled_train[-n_input:])) # use the previous 12 samples to predict the 13th\n",
        "current_batch=first_eval_batch.reshape((1,n_input,n_features)) # reshape the data into (1,12,1)\n",
        "for i in range(len(scaled_train[-n_input:])):\n",
        "    #get the prediction value for the first batch\n",
        "    current_pred = model(current_batch)\n",
        "    #append the prediction into the array\n",
        "    test_predictions.append(current_pred)\n",
        "    \n",
        "    #use the prediction to update the batch and remove the first value\n",
        "    current_batch = torch.cat((current_batch[:,1:,:],current_pred.reshape(1,1,1)),1)"
      ],
      "metadata": {
        "id": "tPSveOufnj7H"
      },
      "execution_count": null,
      "outputs": []
    },
    {
      "cell_type": "code",
      "source": [
        "forec_vals = [val.flatten().item() for val in test_predictions]\n",
        "forec_vals = np.array(forec_vals).reshape(-1,1)\n",
        "forec_vals = scaler.inverse_transform(forec_vals)"
      ],
      "metadata": {
        "id": "I8zC0UHinkDe"
      },
      "execution_count": null,
      "outputs": []
    },
    {
      "cell_type": "code",
      "source": [
        "date_offset=12\n",
        "forecast_dates =  (train.index + pd.DateOffset(months=date_offset))[-date_offset:]\n",
        "forecast_dates"
      ],
      "metadata": {
        "colab": {
          "base_uri": "https://localhost:8080/"
        },
        "id": "OamG14oHnkJD",
        "outputId": "9c063a9a-55d6-49ba-8ee6-c2f302c68bc6"
      },
      "execution_count": null,
      "outputs": [
        {
          "output_type": "execute_result",
          "data": {
            "text/plain": [
              "DatetimeIndex(['2023-04-01', '2023-05-01', '2023-06-01', '2023-07-01',\n",
              "               '2023-08-01', '2023-09-01', '2023-10-01', '2023-11-01',\n",
              "               '2023-12-01', '2024-01-01', '2024-02-01', '2024-03-01'],\n",
              "              dtype='datetime64[ns]', name='date', freq=None)"
            ]
          },
          "metadata": {},
          "execution_count": 164
        }
      ]
    },
    {
      "cell_type": "code",
      "source": [
        "df_cl_forecast=pd.DataFrame({'date': forecast_dates})\n",
        "df_cl_forecast.set_index('date', inplace=True)\n",
        "df_cl_forecast['prediction'] = forec_vals\n",
        "df_cl_forecast.head(12)"
      ],
      "metadata": {
        "colab": {
          "base_uri": "https://localhost:8080/",
          "height": 480
        },
        "id": "9XIKUCFKnkOa",
        "outputId": "57ec65ee-cf35-4c47-af06-62f2cc3f9e10"
      },
      "execution_count": null,
      "outputs": [
        {
          "output_type": "execute_result",
          "data": {
            "text/plain": [
              "            prediction\n",
              "date                  \n",
              "2023-04-01  971.403298\n",
              "2023-05-01  972.459177\n",
              "2023-06-01  970.113360\n",
              "2023-07-01  965.504037\n",
              "2023-08-01  959.659083\n",
              "2023-09-01  953.449156\n",
              "2023-10-01  947.442110\n",
              "2023-11-01  941.993260\n",
              "2023-12-01  937.264977\n",
              "2024-01-01  933.275607\n",
              "2024-02-01  929.974109\n",
              "2024-03-01  927.267595"
            ],
            "text/html": [
              "\n",
              "  <div id=\"df-ab1e6aae-bfbe-439b-9ed8-b1fc14ad8dc5\">\n",
              "    <div class=\"colab-df-container\">\n",
              "      <div>\n",
              "<style scoped>\n",
              "    .dataframe tbody tr th:only-of-type {\n",
              "        vertical-align: middle;\n",
              "    }\n",
              "\n",
              "    .dataframe tbody tr th {\n",
              "        vertical-align: top;\n",
              "    }\n",
              "\n",
              "    .dataframe thead th {\n",
              "        text-align: right;\n",
              "    }\n",
              "</style>\n",
              "<table border=\"1\" class=\"dataframe\">\n",
              "  <thead>\n",
              "    <tr style=\"text-align: right;\">\n",
              "      <th></th>\n",
              "      <th>prediction</th>\n",
              "    </tr>\n",
              "    <tr>\n",
              "      <th>date</th>\n",
              "      <th></th>\n",
              "    </tr>\n",
              "  </thead>\n",
              "  <tbody>\n",
              "    <tr>\n",
              "      <th>2023-04-01</th>\n",
              "      <td>971.403298</td>\n",
              "    </tr>\n",
              "    <tr>\n",
              "      <th>2023-05-01</th>\n",
              "      <td>972.459177</td>\n",
              "    </tr>\n",
              "    <tr>\n",
              "      <th>2023-06-01</th>\n",
              "      <td>970.113360</td>\n",
              "    </tr>\n",
              "    <tr>\n",
              "      <th>2023-07-01</th>\n",
              "      <td>965.504037</td>\n",
              "    </tr>\n",
              "    <tr>\n",
              "      <th>2023-08-01</th>\n",
              "      <td>959.659083</td>\n",
              "    </tr>\n",
              "    <tr>\n",
              "      <th>2023-09-01</th>\n",
              "      <td>953.449156</td>\n",
              "    </tr>\n",
              "    <tr>\n",
              "      <th>2023-10-01</th>\n",
              "      <td>947.442110</td>\n",
              "    </tr>\n",
              "    <tr>\n",
              "      <th>2023-11-01</th>\n",
              "      <td>941.993260</td>\n",
              "    </tr>\n",
              "    <tr>\n",
              "      <th>2023-12-01</th>\n",
              "      <td>937.264977</td>\n",
              "    </tr>\n",
              "    <tr>\n",
              "      <th>2024-01-01</th>\n",
              "      <td>933.275607</td>\n",
              "    </tr>\n",
              "    <tr>\n",
              "      <th>2024-02-01</th>\n",
              "      <td>929.974109</td>\n",
              "    </tr>\n",
              "    <tr>\n",
              "      <th>2024-03-01</th>\n",
              "      <td>927.267595</td>\n",
              "    </tr>\n",
              "  </tbody>\n",
              "</table>\n",
              "</div>\n",
              "      <button class=\"colab-df-convert\" onclick=\"convertToInteractive('df-ab1e6aae-bfbe-439b-9ed8-b1fc14ad8dc5')\"\n",
              "              title=\"Convert this dataframe to an interactive table.\"\n",
              "              style=\"display:none;\">\n",
              "        \n",
              "  <svg xmlns=\"http://www.w3.org/2000/svg\" height=\"24px\"viewBox=\"0 0 24 24\"\n",
              "       width=\"24px\">\n",
              "    <path d=\"M0 0h24v24H0V0z\" fill=\"none\"/>\n",
              "    <path d=\"M18.56 5.44l.94 2.06.94-2.06 2.06-.94-2.06-.94-.94-2.06-.94 2.06-2.06.94zm-11 1L8.5 8.5l.94-2.06 2.06-.94-2.06-.94L8.5 2.5l-.94 2.06-2.06.94zm10 10l.94 2.06.94-2.06 2.06-.94-2.06-.94-.94-2.06-.94 2.06-2.06.94z\"/><path d=\"M17.41 7.96l-1.37-1.37c-.4-.4-.92-.59-1.43-.59-.52 0-1.04.2-1.43.59L10.3 9.45l-7.72 7.72c-.78.78-.78 2.05 0 2.83L4 21.41c.39.39.9.59 1.41.59.51 0 1.02-.2 1.41-.59l7.78-7.78 2.81-2.81c.8-.78.8-2.07 0-2.86zM5.41 20L4 18.59l7.72-7.72 1.47 1.35L5.41 20z\"/>\n",
              "  </svg>\n",
              "      </button>\n",
              "      \n",
              "  <style>\n",
              "    .colab-df-container {\n",
              "      display:flex;\n",
              "      flex-wrap:wrap;\n",
              "      gap: 12px;\n",
              "    }\n",
              "\n",
              "    .colab-df-convert {\n",
              "      background-color: #E8F0FE;\n",
              "      border: none;\n",
              "      border-radius: 50%;\n",
              "      cursor: pointer;\n",
              "      display: none;\n",
              "      fill: #1967D2;\n",
              "      height: 32px;\n",
              "      padding: 0 0 0 0;\n",
              "      width: 32px;\n",
              "    }\n",
              "\n",
              "    .colab-df-convert:hover {\n",
              "      background-color: #E2EBFA;\n",
              "      box-shadow: 0px 1px 2px rgba(60, 64, 67, 0.3), 0px 1px 3px 1px rgba(60, 64, 67, 0.15);\n",
              "      fill: #174EA6;\n",
              "    }\n",
              "\n",
              "    [theme=dark] .colab-df-convert {\n",
              "      background-color: #3B4455;\n",
              "      fill: #D2E3FC;\n",
              "    }\n",
              "\n",
              "    [theme=dark] .colab-df-convert:hover {\n",
              "      background-color: #434B5C;\n",
              "      box-shadow: 0px 1px 3px 1px rgba(0, 0, 0, 0.15);\n",
              "      filter: drop-shadow(0px 1px 2px rgba(0, 0, 0, 0.3));\n",
              "      fill: #FFFFFF;\n",
              "    }\n",
              "  </style>\n",
              "\n",
              "      <script>\n",
              "        const buttonEl =\n",
              "          document.querySelector('#df-ab1e6aae-bfbe-439b-9ed8-b1fc14ad8dc5 button.colab-df-convert');\n",
              "        buttonEl.style.display =\n",
              "          google.colab.kernel.accessAllowed ? 'block' : 'none';\n",
              "\n",
              "        async function convertToInteractive(key) {\n",
              "          const element = document.querySelector('#df-ab1e6aae-bfbe-439b-9ed8-b1fc14ad8dc5');\n",
              "          const dataTable =\n",
              "            await google.colab.kernel.invokeFunction('convertToInteractive',\n",
              "                                                     [key], {});\n",
              "          if (!dataTable) return;\n",
              "\n",
              "          const docLinkHtml = 'Like what you see? Visit the ' +\n",
              "            '<a target=\"_blank\" href=https://colab.research.google.com/notebooks/data_table.ipynb>data table notebook</a>'\n",
              "            + ' to learn more about interactive tables.';\n",
              "          element.innerHTML = '';\n",
              "          dataTable['output_type'] = 'display_data';\n",
              "          await google.colab.output.renderOutput(dataTable, element);\n",
              "          const docLink = document.createElement('div');\n",
              "          docLink.innerHTML = docLinkHtml;\n",
              "          element.appendChild(docLink);\n",
              "        }\n",
              "      </script>\n",
              "    </div>\n",
              "  </div>\n",
              "  "
            ]
          },
          "metadata": {},
          "execution_count": 165
        }
      ]
    },
    {
      "cell_type": "code",
      "source": [
        "df_cl_full=df_cl_pred.append(df_cl_forecast)"
      ],
      "metadata": {
        "id": "E9hPgdiFn6iQ"
      },
      "execution_count": null,
      "outputs": []
    },
    {
      "cell_type": "code",
      "source": [
        "plt.figure(figsize=(10,5))\n",
        "plt.plot(df_cl_full.index,df_cl_full[\"cpo_pri\"], label=\"Actual\", marker=\"o\")\n",
        "plt.plot(df_cl_full.index,df_cl_full[\"prediction\"], label=\"Predicted\", marker=\"o\", color=\"purple\")\n",
        "plt.axvline(df_cl_pred.index[-1], color=\"red\", linestyle=\"--\")\n",
        "plt.title(\"Monthly Crude Palm Oil Price Prediction by LSTM\", fontsize=25)\n",
        "plt.ylabel('Crude Palm Oil Price', fontsize=15)\n",
        "plt.legend(title_fontsize=14, fontsize=13, fancybox=True, shadow=True, frameon=True)\n",
        "plt.show()"
      ],
      "metadata": {
        "colab": {
          "base_uri": "https://localhost:8080/",
          "height": 501
        },
        "id": "XAIgFMAcn6l3",
        "outputId": "64e338dd-0512-4ab1-a2aa-79ab4fa63329"
      },
      "execution_count": null,
      "outputs": [
        {
          "output_type": "display_data",
          "data": {
            "text/plain": [
              "<Figure size 1000x500 with 1 Axes>"
            ],
            "image/png": "[encoded data removed]"
          },
          "metadata": {}
        }
      ]
    }
  ]
}