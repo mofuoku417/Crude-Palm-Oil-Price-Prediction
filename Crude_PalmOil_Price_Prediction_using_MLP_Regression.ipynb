{
  "nbformat": 4,
  "nbformat_minor": 0,
  "metadata": {
    "colab": {
      "name": "Crude PalmOil Price Prediction using MLP Regression",
      "provenance": []
    },
    "kernelspec": {
      "name": "python3",
      "display_name": "Python 3"
    },
    "language_info": {
      "name": "python"
    }
  },
  "cells": [
    {
      "cell_type": "markdown",
      "metadata": {
        "id": "iWwNhi1OVu1A"
      },
      "source": [
        "### Objective\n",
        "The objective of this python notebook is to use MLP regression to predict monthly crude palm oil prices.\n",
        "\n"
      ]
    },
    {
      "cell_type": "markdown",
      "metadata": {
        "id": "CNQWlNb6WL8U"
      },
      "source": [
        "#### Data\n",
        "The dataset is available at the following links:https://www.indexmundi.com/commodities/?commodity=palm-oil&months=300."
      ]
    },
    {
      "cell_type": "markdown",
      "metadata": {
        "id": "2GQVxw0SWoNy"
      },
      "source": [
        "#### Mount Google Drive to Google Colab Notebook"
      ]
    },
    {
      "cell_type": "code",
      "metadata": {
        "colab": {
          "base_uri": "https://localhost:8080/"
        },
        "id": "f3AoYU4GVWgZ",
        "outputId": "1a9addf7-179a-46ac-a85e-00d487e686cc"
      },
      "source": [
        "from google.colab import drive\n",
        "drive.mount('/content/gdrive')"
      ],
      "execution_count": null,
      "outputs": [
        {
          "output_type": "stream",
          "name": "stdout",
          "text": [
            "Mounted at /content/gdrive\n"
          ]
        }
      ]
    },
    {
      "cell_type": "markdown",
      "metadata": {
        "id": "81PSdWfNYigs"
      },
      "source": [
        "#### Use pip to install required packages: sklearn"
      ]
    },
    {
      "cell_type": "code",
      "metadata": {
        "colab": {
          "base_uri": "https://localhost:8080/"
        },
        "id": "MAH35QSf6eQW",
        "outputId": "129d87ea-b10d-4f4d-91a0-c7523a4165e5"
      },
      "source": [
        "!pip install sklearn"
      ],
      "execution_count": null,
      "outputs": [
        {
          "output_type": "stream",
          "name": "stdout",
          "text": [
            "Requirement already satisfied: sklearn in /usr/local/lib/python3.7/dist-packages (0.0)\n",
            "Requirement already satisfied: scikit-learn in /usr/local/lib/python3.7/dist-packages (from sklearn) (0.22.2.post1)\n",
            "Requirement already satisfied: joblib>=0.11 in /usr/local/lib/python3.7/dist-packages (from scikit-learn->sklearn) (1.0.1)\n",
            "Requirement already satisfied: scipy>=0.17.0 in /usr/local/lib/python3.7/dist-packages (from scikit-learn->sklearn) (1.4.1)\n",
            "Requirement already satisfied: numpy>=1.11.0 in /usr/local/lib/python3.7/dist-packages (from scikit-learn->sklearn) (1.19.5)\n"
          ]
        }
      ]
    },
    {
      "cell_type": "markdown",
      "metadata": {
        "id": "9mTKzynC2-XY"
      },
      "source": [
        "#### Import the required libraries"
      ]
    },
    {
      "cell_type": "code",
      "metadata": {
        "id": "h9FkOpFvjjrE"
      },
      "source": [
        "import math\n",
        "import pandas as pd\n",
        "import numpy as np\n",
        "from sklearn.model_selection import train_test_split"
      ],
      "execution_count": null,
      "outputs": []
    },
    {
      "cell_type": "markdown",
      "metadata": {
        "id": "Zq3I0tZg48xK"
      },
      "source": [
        "#### Load the dataset using the following code:"
      ]
    },
    {
      "cell_type": "code",
      "metadata": {
        "id": "DFUBsSnKjjvB"
      },
      "source": [
        "data = pd.read_csv(\"/content/gdrive/MyDrive/Univariate Crude Palm Oil Price Prediction/Data/crude_palmoil_price.csv\",usecols=[1])"
      ],
      "execution_count": null,
      "outputs": []
    },
    {
      "cell_type": "code",
      "metadata": {
        "colab": {
          "base_uri": "https://localhost:8080/",
          "height": 204
        },
        "id": "7VOPyXUKHj1k",
        "outputId": "1fdf1321-4d73-4b93-ded3-50cb1bba3bd4"
      },
      "source": [
        "data.head()"
      ],
      "execution_count": null,
      "outputs": [
        {
          "output_type": "execute_result",
          "data": {
            "text/html": [
              "<div>\n",
              "<style scoped>\n",
              "    .dataframe tbody tr th:only-of-type {\n",
              "        vertical-align: middle;\n",
              "    }\n",
              "\n",
              "    .dataframe tbody tr th {\n",
              "        vertical-align: top;\n",
              "    }\n",
              "\n",
              "    .dataframe thead th {\n",
              "        text-align: right;\n",
              "    }\n",
              "</style>\n",
              "<table border=\"1\" class=\"dataframe\">\n",
              "  <thead>\n",
              "    <tr style=\"text-align: right;\">\n",
              "      <th></th>\n",
              "      <th>cpo_pri</th>\n",
              "    </tr>\n",
              "  </thead>\n",
              "  <tbody>\n",
              "    <tr>\n",
              "      <th>0</th>\n",
              "      <td>281</td>\n",
              "    </tr>\n",
              "    <tr>\n",
              "      <th>1</th>\n",
              "      <td>272</td>\n",
              "    </tr>\n",
              "    <tr>\n",
              "      <th>2</th>\n",
              "      <td>279</td>\n",
              "    </tr>\n",
              "    <tr>\n",
              "      <th>3</th>\n",
              "      <td>291</td>\n",
              "    </tr>\n",
              "    <tr>\n",
              "      <th>4</th>\n",
              "      <td>284</td>\n",
              "    </tr>\n",
              "  </tbody>\n",
              "</table>\n",
              "</div>"
            ],
            "text/plain": [
              "   cpo_pri\n",
              "0      281\n",
              "1      272\n",
              "2      279\n",
              "3      291\n",
              "4      284"
            ]
          },
          "metadata": {},
          "execution_count": 96
        }
      ]
    },
    {
      "cell_type": "code",
      "metadata": {
        "colab": {
          "base_uri": "https://localhost:8080/",
          "height": 391
        },
        "id": "On4rzQVvTZbZ",
        "outputId": "e2d2e80c-e767-4e4f-e4dd-b845fbff3a94"
      },
      "source": [
        "import matplotlib.pyplot as plt\n",
        "plt.figure(figsize=(15, 6))\n",
        "plt.plot(data)\n",
        "plt.ylabel('cpo_pri')"
      ],
      "execution_count": null,
      "outputs": [
        {
          "output_type": "execute_result",
          "data": {
            "text/plain": [
              "Text(0, 0.5, 'cpo_pri')"
            ]
          },
          "metadata": {},
          "execution_count": 97
        },
        {
          "output_type": "display_data",
          "data": {
            "image/png": "[encoded data removed]",
            "text/plain": [
              "<Figure size 1080x432 with 1 Axes>"
            ]
          },
          "metadata": {
            "needs_background": "light"
          }
        }
      ]
    },
    {
      "cell_type": "markdown",
      "metadata": {
        "id": "2bwCFhj8SzI9"
      },
      "source": [
        "#### Split the dataset into test and train sets."
      ]
    },
    {
      "cell_type": "code",
      "metadata": {
        "id": "p0rgiIR8HqIZ"
      },
      "source": [
        "train_size = int(data.shape[0] * 0.67)\n",
        "train_df, test_df = data.iloc[:train_size, :], data.iloc[train_size:, :]"
      ],
      "execution_count": null,
      "outputs": []
    },
    {
      "cell_type": "markdown",
      "metadata": {
        "id": "fS_n8OhaS7FN"
      },
      "source": [
        "#### Convert an array of values into a dataset matrix"
      ]
    },
    {
      "cell_type": "code",
      "metadata": {
        "id": "1rUxrPWYH1Ba"
      },
      "source": [
        "def create_data(data, look_back=1):\n",
        "    m = len(data)\n",
        "    X = []\n",
        "    y = []\n",
        "    for i in range(look_back, m):\n",
        "        X.append(data[i - look_back: i, 0])\n",
        "        y.append(data[i, 0])\n",
        "    return np.array(X), np.array(y)"
      ],
      "execution_count": null,
      "outputs": []
    },
    {
      "cell_type": "code",
      "metadata": {
        "id": "bk-HCYgCILkT"
      },
      "source": [
        "look_back = 3\n",
        "X_train, y_train = create_data(train_df.values, look_back=look_back)\n",
        "X_test, y_test = create_data(test_df.values, look_back=look_back)"
      ],
      "execution_count": null,
      "outputs": []
    },
    {
      "cell_type": "code",
      "metadata": {
        "colab": {
          "base_uri": "https://localhost:8080/"
        },
        "id": "sIc_cLTzJhgR",
        "outputId": "ca8c6916-53dc-47c5-e9a9-44c52a065738"
      },
      "source": [
        "for i in range(5):\n",
        "    print(X_train[i], y_train[i])"
      ],
      "execution_count": null,
      "outputs": [
        {
          "output_type": "stream",
          "name": "stdout",
          "text": [
            "[281 272 279] 291\n",
            "[272 279 291] 284\n",
            "[279 291 284] 290\n",
            "[291 284 290] 331\n",
            "[284 290 331] 346\n"
          ]
        }
      ]
    },
    {
      "cell_type": "markdown",
      "metadata": {
        "id": "MWj7xmjdO7n7"
      },
      "source": [
        "#### Build and train the model on our train dataset:"
      ]
    },
    {
      "cell_type": "code",
      "metadata": {
        "id": "94RSkNHDJFos"
      },
      "source": [
        "from keras.models import Sequential\n",
        "from keras.layers import Dense"
      ],
      "execution_count": null,
      "outputs": []
    },
    {
      "cell_type": "markdown",
      "metadata": {
        "id": "5agjbDzjPiZN"
      },
      "source": [
        "#### Set the hyper-parameters needed to build the model"
      ]
    },
    {
      "cell_type": "code",
      "metadata": {
        "id": "76n7V9uuILvJ"
      },
      "source": [
        "model = Sequential()\n",
        "model.add(Dense(12, input_dim=look_back, activation='relu'))\n",
        "model.add(Dense(18, activation='relu'))\n",
        "model.add(Dense(1))"
      ],
      "execution_count": null,
      "outputs": []
    },
    {
      "cell_type": "markdown",
      "metadata": {
        "id": "453n-oKeQlzd"
      },
      "source": [
        "#### Build the model and build, compile, and train the model:"
      ]
    },
    {
      "cell_type": "code",
      "metadata": {
        "colab": {
          "base_uri": "https://localhost:8080/"
        },
        "id": "nkIWIN8JQm3t",
        "outputId": "3d5b1567-f300-455d-f1dd-1b7273258e53"
      },
      "source": [
        "model.compile(loss='mean_squared_error', optimizer='adam')\n",
        "model.fit(X_train, y_train, epochs=400, batch_size=2, verbose=2)"
      ],
      "execution_count": null,
      "outputs": [
        {
          "output_type": "stream",
          "name": "stdout",
          "text": [
            "Epoch 1/400\n",
            "119/119 - 0s - loss: 687213.9375\n",
            "Epoch 2/400\n",
            "119/119 - 0s - loss: 210978.3125\n",
            "Epoch 3/400\n",
            "119/119 - 0s - loss: 24001.8086\n",
            "Epoch 4/400\n",
            "119/119 - 0s - loss: 3516.0137\n",
            "Epoch 5/400\n",
            "119/119 - 0s - loss: 3147.4329\n",
            "Epoch 6/400\n",
            "119/119 - 0s - loss: 2903.4385\n",
            "Epoch 7/400\n",
            "119/119 - 0s - loss: 2999.2554\n",
            "Epoch 8/400\n",
            "119/119 - 0s - loss: 2866.4592\n",
            "Epoch 9/400\n",
            "119/119 - 0s - loss: 2790.0757\n",
            "Epoch 10/400\n",
            "119/119 - 0s - loss: 2648.5513\n",
            "Epoch 11/400\n",
            "119/119 - 0s - loss: 2514.7783\n",
            "Epoch 12/400\n",
            "119/119 - 0s - loss: 2620.7583\n",
            "Epoch 13/400\n",
            "119/119 - 0s - loss: 2596.6995\n",
            "Epoch 14/400\n",
            "119/119 - 0s - loss: 2668.5449\n",
            "Epoch 15/400\n",
            "119/119 - 0s - loss: 2543.3735\n",
            "Epoch 16/400\n",
            "119/119 - 0s - loss: 2517.8503\n",
            "Epoch 17/400\n",
            "119/119 - 0s - loss: 2481.5439\n",
            "Epoch 18/400\n",
            "119/119 - 0s - loss: 2419.8135\n",
            "Epoch 19/400\n",
            "119/119 - 0s - loss: 2289.3193\n",
            "Epoch 20/400\n",
            "119/119 - 0s - loss: 2354.8992\n",
            "Epoch 21/400\n",
            "119/119 - 0s - loss: 2486.1355\n",
            "Epoch 22/400\n",
            "119/119 - 0s - loss: 2276.9133\n",
            "Epoch 23/400\n",
            "119/119 - 0s - loss: 2278.5425\n",
            "Epoch 24/400\n",
            "119/119 - 0s - loss: 2151.9885\n",
            "Epoch 25/400\n",
            "119/119 - 0s - loss: 2151.3184\n",
            "Epoch 26/400\n",
            "119/119 - 0s - loss: 2087.6001\n",
            "Epoch 27/400\n",
            "119/119 - 0s - loss: 2110.4736\n",
            "Epoch 28/400\n",
            "119/119 - 0s - loss: 2172.2258\n",
            "Epoch 29/400\n",
            "119/119 - 0s - loss: 2356.8333\n",
            "Epoch 30/400\n",
            "119/119 - 0s - loss: 2053.5334\n",
            "Epoch 31/400\n",
            "119/119 - 0s - loss: 2111.6726\n",
            "Epoch 32/400\n",
            "119/119 - 0s - loss: 2034.3157\n",
            "Epoch 33/400\n",
            "119/119 - 0s - loss: 2086.1973\n",
            "Epoch 34/400\n",
            "119/119 - 0s - loss: 2079.1633\n",
            "Epoch 35/400\n",
            "119/119 - 0s - loss: 2106.9924\n",
            "Epoch 36/400\n",
            "119/119 - 0s - loss: 2103.4941\n",
            "Epoch 37/400\n",
            "119/119 - 0s - loss: 2076.7354\n",
            "Epoch 38/400\n",
            "119/119 - 0s - loss: 1999.3029\n",
            "Epoch 39/400\n",
            "119/119 - 0s - loss: 2005.6403\n",
            "Epoch 40/400\n",
            "119/119 - 0s - loss: 1930.7297\n",
            "Epoch 41/400\n",
            "119/119 - 0s - loss: 2033.0977\n",
            "Epoch 42/400\n",
            "119/119 - 0s - loss: 1865.7180\n",
            "Epoch 43/400\n",
            "119/119 - 0s - loss: 2020.8748\n",
            "Epoch 44/400\n",
            "119/119 - 0s - loss: 2078.1548\n",
            "Epoch 45/400\n",
            "119/119 - 0s - loss: 2037.7961\n",
            "Epoch 46/400\n",
            "119/119 - 0s - loss: 2001.4994\n",
            "Epoch 47/400\n",
            "119/119 - 0s - loss: 2076.5562\n",
            "Epoch 48/400\n",
            "119/119 - 0s - loss: 1999.5972\n",
            "Epoch 49/400\n",
            "119/119 - 0s - loss: 1936.1418\n",
            "Epoch 50/400\n",
            "119/119 - 0s - loss: 2090.3376\n",
            "Epoch 51/400\n",
            "119/119 - 0s - loss: 1898.3107\n",
            "Epoch 52/400\n",
            "119/119 - 0s - loss: 2069.0132\n",
            "Epoch 53/400\n",
            "119/119 - 0s - loss: 2045.6248\n",
            "Epoch 54/400\n",
            "119/119 - 0s - loss: 1906.1874\n",
            "Epoch 55/400\n",
            "119/119 - 0s - loss: 2190.4622\n",
            "Epoch 56/400\n",
            "119/119 - 0s - loss: 1839.2904\n",
            "Epoch 57/400\n",
            "119/119 - 0s - loss: 1936.8934\n",
            "Epoch 58/400\n",
            "119/119 - 0s - loss: 1930.2410\n",
            "Epoch 59/400\n",
            "119/119 - 0s - loss: 1947.5337\n",
            "Epoch 60/400\n",
            "119/119 - 0s - loss: 2138.8008\n",
            "Epoch 61/400\n",
            "119/119 - 0s - loss: 2226.7644\n",
            "Epoch 62/400\n",
            "119/119 - 0s - loss: 1984.2078\n",
            "Epoch 63/400\n",
            "119/119 - 0s - loss: 1863.4463\n",
            "Epoch 64/400\n",
            "119/119 - 0s - loss: 1799.9811\n",
            "Epoch 65/400\n",
            "119/119 - 0s - loss: 1902.9794\n",
            "Epoch 66/400\n",
            "119/119 - 0s - loss: 2096.4607\n",
            "Epoch 67/400\n",
            "119/119 - 0s - loss: 1890.1956\n",
            "Epoch 68/400\n",
            "119/119 - 0s - loss: 1968.8549\n",
            "Epoch 69/400\n",
            "119/119 - 0s - loss: 1925.2542\n",
            "Epoch 70/400\n",
            "119/119 - 0s - loss: 2002.8981\n",
            "Epoch 71/400\n",
            "119/119 - 0s - loss: 2121.9072\n",
            "Epoch 72/400\n",
            "119/119 - 0s - loss: 1810.0940\n",
            "Epoch 73/400\n",
            "119/119 - 0s - loss: 1865.6755\n",
            "Epoch 74/400\n",
            "119/119 - 0s - loss: 1860.8245\n",
            "Epoch 75/400\n",
            "119/119 - 0s - loss: 2004.5602\n",
            "Epoch 76/400\n",
            "119/119 - 0s - loss: 1820.9497\n",
            "Epoch 77/400\n",
            "119/119 - 0s - loss: 1959.2849\n",
            "Epoch 78/400\n",
            "119/119 - 0s - loss: 1932.6664\n",
            "Epoch 79/400\n",
            "119/119 - 0s - loss: 1871.7792\n",
            "Epoch 80/400\n",
            "119/119 - 0s - loss: 1842.7980\n",
            "Epoch 81/400\n",
            "119/119 - 0s - loss: 1976.2413\n",
            "Epoch 82/400\n",
            "119/119 - 0s - loss: 1903.0413\n",
            "Epoch 83/400\n",
            "119/119 - 0s - loss: 1778.1486\n",
            "Epoch 84/400\n",
            "119/119 - 0s - loss: 2281.1794\n",
            "Epoch 85/400\n",
            "119/119 - 0s - loss: 1897.1190\n",
            "Epoch 86/400\n",
            "119/119 - 0s - loss: 1951.9139\n",
            "Epoch 87/400\n",
            "119/119 - 0s - loss: 1764.9971\n",
            "Epoch 88/400\n",
            "119/119 - 0s - loss: 1777.9486\n",
            "Epoch 89/400\n",
            "119/119 - 0s - loss: 1982.0057\n",
            "Epoch 90/400\n",
            "119/119 - 0s - loss: 1921.8726\n",
            "Epoch 91/400\n",
            "119/119 - 0s - loss: 2009.7457\n",
            "Epoch 92/400\n",
            "119/119 - 0s - loss: 1771.5453\n",
            "Epoch 93/400\n",
            "119/119 - 0s - loss: 1883.9982\n",
            "Epoch 94/400\n",
            "119/119 - 0s - loss: 1823.5118\n",
            "Epoch 95/400\n",
            "119/119 - 0s - loss: 2047.0242\n",
            "Epoch 96/400\n",
            "119/119 - 0s - loss: 1879.0253\n",
            "Epoch 97/400\n",
            "119/119 - 0s - loss: 1894.6204\n",
            "Epoch 98/400\n",
            "119/119 - 0s - loss: 1814.0571\n",
            "Epoch 99/400\n",
            "119/119 - 0s - loss: 1868.5432\n",
            "Epoch 100/400\n",
            "119/119 - 0s - loss: 1821.5837\n",
            "Epoch 101/400\n",
            "119/119 - 0s - loss: 1802.1749\n",
            "Epoch 102/400\n",
            "119/119 - 0s - loss: 1729.7639\n",
            "Epoch 103/400\n",
            "119/119 - 0s - loss: 1775.1722\n",
            "Epoch 104/400\n",
            "119/119 - 0s - loss: 1948.3331\n",
            "Epoch 105/400\n",
            "119/119 - 0s - loss: 1841.0377\n",
            "Epoch 106/400\n",
            "119/119 - 0s - loss: 1734.2876\n",
            "Epoch 107/400\n",
            "119/119 - 0s - loss: 1804.1464\n",
            "Epoch 108/400\n",
            "119/119 - 0s - loss: 1789.5758\n",
            "Epoch 109/400\n",
            "119/119 - 0s - loss: 1704.7085\n",
            "Epoch 110/400\n",
            "119/119 - 0s - loss: 1849.9624\n",
            "Epoch 111/400\n",
            "119/119 - 0s - loss: 1766.4541\n",
            "Epoch 112/400\n",
            "119/119 - 0s - loss: 2000.7056\n",
            "Epoch 113/400\n",
            "119/119 - 0s - loss: 1806.9906\n",
            "Epoch 114/400\n",
            "119/119 - 0s - loss: 1923.3464\n",
            "Epoch 115/400\n",
            "119/119 - 0s - loss: 1704.6848\n",
            "Epoch 116/400\n",
            "119/119 - 0s - loss: 1784.4373\n",
            "Epoch 117/400\n",
            "119/119 - 0s - loss: 1761.8293\n",
            "Epoch 118/400\n",
            "119/119 - 0s - loss: 1863.8621\n",
            "Epoch 119/400\n",
            "119/119 - 0s - loss: 1829.4467\n",
            "Epoch 120/400\n",
            "119/119 - 0s - loss: 1910.5249\n",
            "Epoch 121/400\n",
            "119/119 - 0s - loss: 1802.5797\n",
            "Epoch 122/400\n",
            "119/119 - 0s - loss: 1740.0037\n",
            "Epoch 123/400\n",
            "119/119 - 0s - loss: 1728.5140\n",
            "Epoch 124/400\n",
            "119/119 - 0s - loss: 1738.8228\n",
            "Epoch 125/400\n",
            "119/119 - 0s - loss: 1787.8634\n",
            "Epoch 126/400\n",
            "119/119 - 0s - loss: 1758.3866\n",
            "Epoch 127/400\n",
            "119/119 - 0s - loss: 1906.5175\n",
            "Epoch 128/400\n",
            "119/119 - 0s - loss: 1768.0326\n",
            "Epoch 129/400\n",
            "119/119 - 0s - loss: 1760.3837\n",
            "Epoch 130/400\n",
            "119/119 - 0s - loss: 1685.6326\n",
            "Epoch 131/400\n",
            "119/119 - 0s - loss: 1828.6384\n",
            "Epoch 132/400\n",
            "119/119 - 0s - loss: 1902.0731\n",
            "Epoch 133/400\n",
            "119/119 - 0s - loss: 1840.0989\n",
            "Epoch 134/400\n",
            "119/119 - 0s - loss: 1863.6559\n",
            "Epoch 135/400\n",
            "119/119 - 0s - loss: 1688.3986\n",
            "Epoch 136/400\n",
            "119/119 - 0s - loss: 1831.2319\n",
            "Epoch 137/400\n",
            "119/119 - 0s - loss: 1963.8837\n",
            "Epoch 138/400\n",
            "119/119 - 0s - loss: 1910.6134\n",
            "Epoch 139/400\n",
            "119/119 - 0s - loss: 1910.1785\n",
            "Epoch 140/400\n",
            "119/119 - 0s - loss: 1606.9646\n",
            "Epoch 141/400\n",
            "119/119 - 0s - loss: 1907.7487\n",
            "Epoch 142/400\n",
            "119/119 - 0s - loss: 1726.3357\n",
            "Epoch 143/400\n",
            "119/119 - 0s - loss: 1833.1824\n",
            "Epoch 144/400\n",
            "119/119 - 0s - loss: 1928.3829\n",
            "Epoch 145/400\n",
            "119/119 - 0s - loss: 1678.0383\n",
            "Epoch 146/400\n",
            "119/119 - 0s - loss: 1729.8423\n",
            "Epoch 147/400\n",
            "119/119 - 0s - loss: 1657.0626\n",
            "Epoch 148/400\n",
            "119/119 - 0s - loss: 1936.5864\n",
            "Epoch 149/400\n",
            "119/119 - 0s - loss: 1616.0774\n",
            "Epoch 150/400\n",
            "119/119 - 0s - loss: 1763.3779\n",
            "Epoch 151/400\n",
            "119/119 - 0s - loss: 1761.4806\n",
            "Epoch 152/400\n",
            "119/119 - 0s - loss: 1752.3479\n",
            "Epoch 153/400\n",
            "119/119 - 0s - loss: 1610.2959\n",
            "Epoch 154/400\n",
            "119/119 - 0s - loss: 1575.9336\n",
            "Epoch 155/400\n",
            "119/119 - 0s - loss: 1961.8713\n",
            "Epoch 156/400\n",
            "119/119 - 0s - loss: 1818.3174\n",
            "Epoch 157/400\n",
            "119/119 - 0s - loss: 1720.6521\n",
            "Epoch 158/400\n",
            "119/119 - 0s - loss: 2448.4451\n",
            "Epoch 159/400\n",
            "119/119 - 0s - loss: 1720.9897\n",
            "Epoch 160/400\n",
            "119/119 - 0s - loss: 1710.6914\n",
            "Epoch 161/400\n",
            "119/119 - 0s - loss: 1822.9407\n",
            "Epoch 162/400\n",
            "119/119 - 0s - loss: 1706.8542\n",
            "Epoch 163/400\n",
            "119/119 - 0s - loss: 1736.3955\n",
            "Epoch 164/400\n",
            "119/119 - 0s - loss: 1735.8450\n",
            "Epoch 165/400\n",
            "119/119 - 0s - loss: 1741.3966\n",
            "Epoch 166/400\n",
            "119/119 - 0s - loss: 1850.7350\n",
            "Epoch 167/400\n",
            "119/119 - 0s - loss: 1743.3656\n",
            "Epoch 168/400\n",
            "119/119 - 0s - loss: 1676.8400\n",
            "Epoch 169/400\n",
            "119/119 - 0s - loss: 1642.9425\n",
            "Epoch 170/400\n",
            "119/119 - 0s - loss: 1711.0884\n",
            "Epoch 171/400\n",
            "119/119 - 0s - loss: 1763.2401\n",
            "Epoch 172/400\n",
            "119/119 - 0s - loss: 1675.1134\n",
            "Epoch 173/400\n",
            "119/119 - 0s - loss: 1759.5604\n",
            "Epoch 174/400\n",
            "119/119 - 0s - loss: 1684.8225\n",
            "Epoch 175/400\n",
            "119/119 - 0s - loss: 1649.3553\n",
            "Epoch 176/400\n",
            "119/119 - 0s - loss: 1654.0358\n",
            "Epoch 177/400\n",
            "119/119 - 0s - loss: 1641.9563\n",
            "Epoch 178/400\n",
            "119/119 - 0s - loss: 1701.3718\n",
            "Epoch 179/400\n",
            "119/119 - 0s - loss: 1629.1637\n",
            "Epoch 180/400\n",
            "119/119 - 0s - loss: 1679.6283\n",
            "Epoch 181/400\n",
            "119/119 - 0s - loss: 1611.9226\n",
            "Epoch 182/400\n",
            "119/119 - 0s - loss: 1666.4773\n",
            "Epoch 183/400\n",
            "119/119 - 0s - loss: 1599.4583\n",
            "Epoch 184/400\n",
            "119/119 - 0s - loss: 1820.8796\n",
            "Epoch 185/400\n",
            "119/119 - 0s - loss: 1664.2516\n",
            "Epoch 186/400\n",
            "119/119 - 0s - loss: 1570.6526\n",
            "Epoch 187/400\n",
            "119/119 - 0s - loss: 1819.4792\n",
            "Epoch 188/400\n",
            "119/119 - 0s - loss: 1716.4525\n",
            "Epoch 189/400\n",
            "119/119 - 0s - loss: 1553.0134\n",
            "Epoch 190/400\n",
            "119/119 - 0s - loss: 1733.8910\n",
            "Epoch 191/400\n",
            "119/119 - 0s - loss: 1747.7861\n",
            "Epoch 192/400\n",
            "119/119 - 0s - loss: 1736.7104\n",
            "Epoch 193/400\n",
            "119/119 - 0s - loss: 1560.9285\n",
            "Epoch 194/400\n",
            "119/119 - 0s - loss: 1735.2158\n",
            "Epoch 195/400\n",
            "119/119 - 0s - loss: 1667.3544\n",
            "Epoch 196/400\n",
            "119/119 - 0s - loss: 1616.6384\n",
            "Epoch 197/400\n",
            "119/119 - 0s - loss: 1858.2739\n",
            "Epoch 198/400\n",
            "119/119 - 0s - loss: 1691.7499\n",
            "Epoch 199/400\n",
            "119/119 - 0s - loss: 1948.5951\n",
            "Epoch 200/400\n",
            "119/119 - 0s - loss: 1604.9296\n",
            "Epoch 201/400\n",
            "119/119 - 0s - loss: 1665.0590\n",
            "Epoch 202/400\n",
            "119/119 - 0s - loss: 1673.2562\n",
            "Epoch 203/400\n",
            "119/119 - 0s - loss: 1724.1875\n",
            "Epoch 204/400\n",
            "119/119 - 0s - loss: 1735.8300\n",
            "Epoch 205/400\n",
            "119/119 - 0s - loss: 1656.9493\n",
            "Epoch 206/400\n",
            "119/119 - 0s - loss: 1636.9097\n",
            "Epoch 207/400\n",
            "119/119 - 0s - loss: 1802.9242\n",
            "Epoch 208/400\n",
            "119/119 - 0s - loss: 1619.8497\n",
            "Epoch 209/400\n",
            "119/119 - 0s - loss: 1588.9535\n",
            "Epoch 210/400\n",
            "119/119 - 0s - loss: 1800.9421\n",
            "Epoch 211/400\n",
            "119/119 - 0s - loss: 1664.0135\n",
            "Epoch 212/400\n",
            "119/119 - 0s - loss: 1902.9296\n",
            "Epoch 213/400\n",
            "119/119 - 0s - loss: 1713.3065\n",
            "Epoch 214/400\n",
            "119/119 - 0s - loss: 1737.7861\n",
            "Epoch 215/400\n",
            "119/119 - 0s - loss: 1661.8127\n",
            "Epoch 216/400\n",
            "119/119 - 0s - loss: 1627.3843\n",
            "Epoch 217/400\n",
            "119/119 - 0s - loss: 1664.1934\n",
            "Epoch 218/400\n",
            "119/119 - 0s - loss: 1767.1975\n",
            "Epoch 219/400\n",
            "119/119 - 0s - loss: 1623.1444\n",
            "Epoch 220/400\n",
            "119/119 - 0s - loss: 1649.5977\n",
            "Epoch 221/400\n",
            "119/119 - 0s - loss: 1688.0358\n",
            "Epoch 222/400\n",
            "119/119 - 0s - loss: 1856.9681\n",
            "Epoch 223/400\n",
            "119/119 - 0s - loss: 1749.4962\n",
            "Epoch 224/400\n",
            "119/119 - 0s - loss: 1585.5765\n",
            "Epoch 225/400\n",
            "119/119 - 0s - loss: 1747.0554\n",
            "Epoch 226/400\n",
            "119/119 - 0s - loss: 1652.6643\n",
            "Epoch 227/400\n",
            "119/119 - 0s - loss: 1634.4744\n",
            "Epoch 228/400\n",
            "119/119 - 0s - loss: 1607.0970\n",
            "Epoch 229/400\n",
            "119/119 - 0s - loss: 1841.0143\n",
            "Epoch 230/400\n",
            "119/119 - 0s - loss: 1727.2401\n",
            "Epoch 231/400\n",
            "119/119 - 0s - loss: 1555.4248\n",
            "Epoch 232/400\n",
            "119/119 - 0s - loss: 1627.0181\n",
            "Epoch 233/400\n",
            "119/119 - 0s - loss: 1722.2482\n",
            "Epoch 234/400\n",
            "119/119 - 0s - loss: 1679.7623\n",
            "Epoch 235/400\n",
            "119/119 - 0s - loss: 1665.9738\n",
            "Epoch 236/400\n",
            "119/119 - 0s - loss: 1722.2245\n",
            "Epoch 237/400\n",
            "119/119 - 0s - loss: 1582.0432\n",
            "Epoch 238/400\n",
            "119/119 - 0s - loss: 1680.6364\n",
            "Epoch 239/400\n",
            "119/119 - 0s - loss: 1931.0760\n",
            "Epoch 240/400\n",
            "119/119 - 0s - loss: 1693.2185\n",
            "Epoch 241/400\n",
            "119/119 - 0s - loss: 1615.1602\n",
            "Epoch 242/400\n",
            "119/119 - 0s - loss: 1633.9097\n",
            "Epoch 243/400\n",
            "119/119 - 0s - loss: 1633.5066\n",
            "Epoch 244/400\n",
            "119/119 - 0s - loss: 1490.1466\n",
            "Epoch 245/400\n",
            "119/119 - 0s - loss: 1679.9946\n",
            "Epoch 246/400\n",
            "119/119 - 0s - loss: 1743.5326\n",
            "Epoch 247/400\n",
            "119/119 - 0s - loss: 1655.9237\n",
            "Epoch 248/400\n",
            "119/119 - 0s - loss: 1612.4274\n",
            "Epoch 249/400\n",
            "119/119 - 0s - loss: 1536.6458\n",
            "Epoch 250/400\n",
            "119/119 - 0s - loss: 1622.0151\n",
            "Epoch 251/400\n",
            "119/119 - 0s - loss: 1623.8904\n",
            "Epoch 252/400\n",
            "119/119 - 0s - loss: 1631.2445\n",
            "Epoch 253/400\n",
            "119/119 - 0s - loss: 1638.6426\n",
            "Epoch 254/400\n",
            "119/119 - 0s - loss: 1687.1199\n",
            "Epoch 255/400\n",
            "119/119 - 0s - loss: 1843.6248\n",
            "Epoch 256/400\n",
            "119/119 - 0s - loss: 1619.5341\n",
            "Epoch 257/400\n",
            "119/119 - 0s - loss: 1604.0254\n",
            "Epoch 258/400\n",
            "119/119 - 0s - loss: 1579.3787\n",
            "Epoch 259/400\n",
            "119/119 - 0s - loss: 1687.8240\n",
            "Epoch 260/400\n",
            "119/119 - 0s - loss: 1585.3733\n",
            "Epoch 261/400\n",
            "119/119 - 0s - loss: 1684.4214\n",
            "Epoch 262/400\n",
            "119/119 - 0s - loss: 1661.5740\n",
            "Epoch 263/400\n",
            "119/119 - 0s - loss: 1549.3473\n",
            "Epoch 264/400\n",
            "119/119 - 0s - loss: 1609.9155\n",
            "Epoch 265/400\n",
            "119/119 - 0s - loss: 1550.4689\n",
            "Epoch 266/400\n",
            "119/119 - 0s - loss: 1736.7292\n",
            "Epoch 267/400\n",
            "119/119 - 0s - loss: 1541.5919\n",
            "Epoch 268/400\n",
            "119/119 - 0s - loss: 1627.4498\n",
            "Epoch 269/400\n",
            "119/119 - 0s - loss: 1515.4584\n",
            "Epoch 270/400\n",
            "119/119 - 0s - loss: 1609.2107\n",
            "Epoch 271/400\n",
            "119/119 - 0s - loss: 1514.7477\n",
            "Epoch 272/400\n",
            "119/119 - 0s - loss: 1567.4421\n",
            "Epoch 273/400\n",
            "119/119 - 0s - loss: 1572.5181\n",
            "Epoch 274/400\n",
            "119/119 - 0s - loss: 1533.2358\n",
            "Epoch 275/400\n",
            "119/119 - 0s - loss: 1520.2361\n",
            "Epoch 276/400\n",
            "119/119 - 0s - loss: 1744.2922\n",
            "Epoch 277/400\n",
            "119/119 - 0s - loss: 1608.9594\n",
            "Epoch 278/400\n",
            "119/119 - 0s - loss: 1617.2024\n",
            "Epoch 279/400\n",
            "119/119 - 0s - loss: 1493.1338\n",
            "Epoch 280/400\n",
            "119/119 - 0s - loss: 1533.3536\n",
            "Epoch 281/400\n",
            "119/119 - 0s - loss: 1720.3141\n",
            "Epoch 282/400\n",
            "119/119 - 0s - loss: 1725.3486\n",
            "Epoch 283/400\n",
            "119/119 - 0s - loss: 1585.3308\n",
            "Epoch 284/400\n",
            "119/119 - 0s - loss: 1691.6361\n",
            "Epoch 285/400\n",
            "119/119 - 0s - loss: 1491.6267\n",
            "Epoch 286/400\n",
            "119/119 - 0s - loss: 1606.2090\n",
            "Epoch 287/400\n",
            "119/119 - 0s - loss: 1552.5361\n",
            "Epoch 288/400\n",
            "119/119 - 0s - loss: 1552.4016\n",
            "Epoch 289/400\n",
            "119/119 - 0s - loss: 1678.3785\n",
            "Epoch 290/400\n",
            "119/119 - 0s - loss: 1635.2605\n",
            "Epoch 291/400\n",
            "119/119 - 0s - loss: 1671.9137\n",
            "Epoch 292/400\n",
            "119/119 - 0s - loss: 1701.1482\n",
            "Epoch 293/400\n",
            "119/119 - 0s - loss: 1562.9407\n",
            "Epoch 294/400\n",
            "119/119 - 0s - loss: 1600.5062\n",
            "Epoch 295/400\n",
            "119/119 - 0s - loss: 1581.0497\n",
            "Epoch 296/400\n",
            "119/119 - 0s - loss: 1599.7642\n",
            "Epoch 297/400\n",
            "119/119 - 0s - loss: 1669.9038\n",
            "Epoch 298/400\n",
            "119/119 - 0s - loss: 1756.2430\n",
            "Epoch 299/400\n",
            "119/119 - 0s - loss: 1586.3438\n",
            "Epoch 300/400\n",
            "119/119 - 0s - loss: 1551.3502\n",
            "Epoch 301/400\n",
            "119/119 - 0s - loss: 1675.1963\n",
            "Epoch 302/400\n",
            "119/119 - 0s - loss: 1447.6412\n",
            "Epoch 303/400\n",
            "119/119 - 0s - loss: 1689.2268\n",
            "Epoch 304/400\n",
            "119/119 - 0s - loss: 1548.0721\n",
            "Epoch 305/400\n",
            "119/119 - 0s - loss: 1709.7686\n",
            "Epoch 306/400\n",
            "119/119 - 0s - loss: 1601.4966\n",
            "Epoch 307/400\n",
            "119/119 - 0s - loss: 1752.4934\n",
            "Epoch 308/400\n",
            "119/119 - 0s - loss: 1550.0665\n",
            "Epoch 309/400\n",
            "119/119 - 0s - loss: 1685.7244\n",
            "Epoch 310/400\n",
            "119/119 - 0s - loss: 1588.7708\n",
            "Epoch 311/400\n",
            "119/119 - 0s - loss: 1719.2798\n",
            "Epoch 312/400\n",
            "119/119 - 0s - loss: 1554.4529\n",
            "Epoch 313/400\n",
            "119/119 - 0s - loss: 1570.8037\n",
            "Epoch 314/400\n",
            "119/119 - 0s - loss: 1610.5323\n",
            "Epoch 315/400\n",
            "119/119 - 0s - loss: 1558.1643\n",
            "Epoch 316/400\n",
            "119/119 - 0s - loss: 1653.4370\n",
            "Epoch 317/400\n",
            "119/119 - 0s - loss: 1575.0336\n",
            "Epoch 318/400\n",
            "119/119 - 0s - loss: 1567.2644\n",
            "Epoch 319/400\n",
            "119/119 - 0s - loss: 1657.2579\n",
            "Epoch 320/400\n",
            "119/119 - 0s - loss: 1625.9133\n",
            "Epoch 321/400\n",
            "119/119 - 0s - loss: 1679.7198\n",
            "Epoch 322/400\n",
            "119/119 - 0s - loss: 1702.2316\n",
            "Epoch 323/400\n",
            "119/119 - 0s - loss: 1489.9381\n",
            "Epoch 324/400\n",
            "119/119 - 0s - loss: 1561.5782\n",
            "Epoch 325/400\n",
            "119/119 - 0s - loss: 1555.2646\n",
            "Epoch 326/400\n",
            "119/119 - 0s - loss: 1656.8174\n",
            "Epoch 327/400\n",
            "119/119 - 0s - loss: 1533.0289\n",
            "Epoch 328/400\n",
            "119/119 - 0s - loss: 1869.2013\n",
            "Epoch 329/400\n",
            "119/119 - 0s - loss: 1736.1442\n",
            "Epoch 330/400\n",
            "119/119 - 0s - loss: 1614.7307\n",
            "Epoch 331/400\n",
            "119/119 - 0s - loss: 1640.1827\n",
            "Epoch 332/400\n",
            "119/119 - 0s - loss: 1631.5809\n",
            "Epoch 333/400\n",
            "119/119 - 0s - loss: 1589.2286\n",
            "Epoch 334/400\n",
            "119/119 - 0s - loss: 1569.5116\n",
            "Epoch 335/400\n",
            "119/119 - 0s - loss: 1633.4883\n",
            "Epoch 336/400\n",
            "119/119 - 0s - loss: 1716.2701\n",
            "Epoch 337/400\n",
            "119/119 - 0s - loss: 1603.1539\n",
            "Epoch 338/400\n",
            "119/119 - 0s - loss: 1503.8042\n",
            "Epoch 339/400\n",
            "119/119 - 0s - loss: 1666.4312\n",
            "Epoch 340/400\n",
            "119/119 - 0s - loss: 1527.8402\n",
            "Epoch 341/400\n",
            "119/119 - 0s - loss: 1485.2178\n",
            "Epoch 342/400\n",
            "119/119 - 0s - loss: 1569.2473\n",
            "Epoch 343/400\n",
            "119/119 - 0s - loss: 1515.0615\n",
            "Epoch 344/400\n",
            "119/119 - 0s - loss: 1723.2778\n",
            "Epoch 345/400\n",
            "119/119 - 0s - loss: 1525.8848\n",
            "Epoch 346/400\n",
            "119/119 - 0s - loss: 1647.5189\n",
            "Epoch 347/400\n",
            "119/119 - 0s - loss: 1747.5280\n",
            "Epoch 348/400\n",
            "119/119 - 0s - loss: 1584.0450\n",
            "Epoch 349/400\n",
            "119/119 - 0s - loss: 1546.4880\n",
            "Epoch 350/400\n",
            "119/119 - 0s - loss: 1513.9072\n",
            "Epoch 351/400\n",
            "119/119 - 0s - loss: 1531.3348\n",
            "Epoch 352/400\n",
            "119/119 - 0s - loss: 1664.1248\n",
            "Epoch 353/400\n",
            "119/119 - 0s - loss: 1550.2496\n",
            "Epoch 354/400\n",
            "119/119 - 0s - loss: 1522.3763\n",
            "Epoch 355/400\n",
            "119/119 - 0s - loss: 1516.3923\n",
            "Epoch 356/400\n",
            "119/119 - 0s - loss: 1650.9177\n",
            "Epoch 357/400\n",
            "119/119 - 0s - loss: 1700.3809\n",
            "Epoch 358/400\n",
            "119/119 - 0s - loss: 1575.8114\n",
            "Epoch 359/400\n",
            "119/119 - 0s - loss: 1508.4043\n",
            "Epoch 360/400\n",
            "119/119 - 0s - loss: 1666.3210\n",
            "Epoch 361/400\n",
            "119/119 - 0s - loss: 1626.8018\n",
            "Epoch 362/400\n",
            "119/119 - 0s - loss: 1795.2520\n",
            "Epoch 363/400\n",
            "119/119 - 0s - loss: 1788.8844\n",
            "Epoch 364/400\n",
            "119/119 - 0s - loss: 1632.9009\n",
            "Epoch 365/400\n",
            "119/119 - 0s - loss: 1500.9619\n",
            "Epoch 366/400\n",
            "119/119 - 0s - loss: 1542.4448\n",
            "Epoch 367/400\n",
            "119/119 - 0s - loss: 1488.2725\n",
            "Epoch 368/400\n",
            "119/119 - 0s - loss: 1481.5806\n",
            "Epoch 369/400\n",
            "119/119 - 0s - loss: 1611.1439\n",
            "Epoch 370/400\n",
            "119/119 - 0s - loss: 1465.5463\n",
            "Epoch 371/400\n",
            "119/119 - 0s - loss: 1495.1904\n",
            "Epoch 372/400\n",
            "119/119 - 0s - loss: 1637.9319\n",
            "Epoch 373/400\n",
            "119/119 - 0s - loss: 1608.4368\n",
            "Epoch 374/400\n",
            "119/119 - 0s - loss: 1504.5844\n",
            "Epoch 375/400\n",
            "119/119 - 0s - loss: 1506.2997\n",
            "Epoch 376/400\n",
            "119/119 - 0s - loss: 1621.9867\n",
            "Epoch 377/400\n",
            "119/119 - 0s - loss: 1555.1666\n",
            "Epoch 378/400\n",
            "119/119 - 0s - loss: 1691.7250\n",
            "Epoch 379/400\n",
            "119/119 - 0s - loss: 1574.6394\n",
            "Epoch 380/400\n",
            "119/119 - 0s - loss: 1568.6442\n",
            "Epoch 381/400\n",
            "119/119 - 0s - loss: 1663.8032\n",
            "Epoch 382/400\n",
            "119/119 - 0s - loss: 1552.0770\n",
            "Epoch 383/400\n",
            "119/119 - 0s - loss: 1446.9492\n",
            "Epoch 384/400\n",
            "119/119 - 0s - loss: 1511.6213\n",
            "Epoch 385/400\n",
            "119/119 - 0s - loss: 1605.7523\n",
            "Epoch 386/400\n",
            "119/119 - 0s - loss: 1608.7760\n",
            "Epoch 387/400\n",
            "119/119 - 0s - loss: 1556.1603\n",
            "Epoch 388/400\n",
            "119/119 - 0s - loss: 1604.4183\n",
            "Epoch 389/400\n",
            "119/119 - 0s - loss: 1487.6835\n",
            "Epoch 390/400\n",
            "119/119 - 0s - loss: 1553.9211\n",
            "Epoch 391/400\n",
            "119/119 - 0s - loss: 1567.0853\n",
            "Epoch 392/400\n",
            "119/119 - 0s - loss: 1451.9784\n",
            "Epoch 393/400\n",
            "119/119 - 0s - loss: 1552.1543\n",
            "Epoch 394/400\n",
            "119/119 - 0s - loss: 1577.4463\n",
            "Epoch 395/400\n",
            "119/119 - 0s - loss: 1579.3361\n",
            "Epoch 396/400\n",
            "119/119 - 0s - loss: 1572.9580\n",
            "Epoch 397/400\n",
            "119/119 - 0s - loss: 1587.4722\n",
            "Epoch 398/400\n",
            "119/119 - 0s - loss: 1520.8181\n",
            "Epoch 399/400\n",
            "119/119 - 0s - loss: 1563.7513\n",
            "Epoch 400/400\n",
            "119/119 - 0s - loss: 1538.5031\n"
          ]
        },
        {
          "output_type": "execute_result",
          "data": {
            "text/plain": [
              "<keras.callbacks.History at 0x7f36d75c9d10>"
            ]
          },
          "metadata": {},
          "execution_count": 104
        }
      ]
    },
    {
      "cell_type": "markdown",
      "metadata": {
        "id": "1lJg0B-iNA_E"
      },
      "source": [
        "#### Evaluate the model and print the Mean Square Error (MSE) and the Root Mean Square Error (RMSE):"
      ]
    },
    {
      "cell_type": "code",
      "metadata": {
        "colab": {
          "base_uri": "https://localhost:8080/"
        },
        "id": "LaTj1AmEL998",
        "outputId": "42fd131e-e8a1-4607-8eb9-5eec362c61e1"
      },
      "source": [
        "score = model.evaluate(X_test, y_test)\n",
        "print('\\nTest mse:', score)\n",
        "print('Test rmse:', math.sqrt(score))"
      ],
      "execution_count": null,
      "outputs": [
        {
          "output_type": "stream",
          "name": "stdout",
          "text": [
            "4/4 [==============================] - 0s 3ms/step - loss: 2382.9709\n",
            "\n",
            "Test mse: 2382.970947265625\n",
            "Test rmse: 48.81568341491928\n"
          ]
        }
      ]
    },
    {
      "cell_type": "markdown",
      "metadata": {
        "id": "nk-HsUlVOBZq"
      },
      "source": [
        "#### Predict the values using the MLP model and plot them, both for test and train datasets:"
      ]
    },
    {
      "cell_type": "code",
      "metadata": {
        "colab": {
          "base_uri": "https://localhost:8080/",
          "height": 483
        },
        "id": "OSy2zKVIIL7F",
        "outputId": "5fd7d4c9-9c42-47c5-bfb6-e142d66cd799"
      },
      "source": [
        "plt.figure(figsize=(12, 8))\n",
        "train_prediction = model.predict(X_train)\n",
        "train_stamp = np.arange(look_back, look_back + X_train.shape[0])\n",
        "test_prediction = model.predict(X_test)\n",
        "test_stamp = np.arange(2 * look_back + X_train.shape[0], len(data))\n",
        "plt.plot(data, label='true values')\n",
        "plt.plot(train_stamp, train_prediction, label='train prediction')\n",
        "plt.plot(test_stamp, test_prediction, label = 'test_prediction')\n",
        "plt.legend();"
      ],
      "execution_count": null,
      "outputs": [
        {
          "output_type": "display_data",
          "data": {
            "image/png": "[encoded data removed]",
            "text/plain": [
              "<Figure size 864x576 with 1 Axes>"
            ]
          },
          "metadata": {
            "needs_background": "light"
          }
        }
      ]
    },
    {
      "cell_type": "code",
      "metadata": {
        "id": "b4PYF2NXWOBm"
      },
      "source": [
        "Use ARIMA to predict Monthly crude palm oil prices. The data for this project were retrieved from index mundi:https://www.indexmundi.com/commodities/?commodity=palm-oil&months=300 for the periods 1984 and 2021"
      ],
      "execution_count": null,
      "outputs": []
    },
    {
      "cell_type": "code",
      "metadata": {
        "id": "Hg3ZH-lTWP1T"
      },
      "source": [
        "Crude PalmOil Price Prediction using MLP Regression"
      ],
      "execution_count": null,
      "outputs": []
    }
  ]
}